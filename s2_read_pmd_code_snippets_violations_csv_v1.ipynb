{
 "cells": [
  {
   "cell_type": "code",
   "execution_count": 1,
   "id": "5c7001dc-f497-465a-b7ce-d60d9dc88c41",
   "metadata": {},
   "outputs": [],
   "source": [
    "import time\n",
    "from datetime import timedelta\n",
    "import html\n",
    "\n",
    "import pandas as pd\n",
    "import dask\n",
    "import dask.dataframe as dd\n",
    "from dask.distributed import Client\n",
    "from dask_jobqueue import SLURMCluster"
   ]
  },
  {
   "cell_type": "markdown",
   "id": "c3a7ffcf-b1bd-41f8-932d-672077cbfcd1",
   "metadata": {
    "tags": []
   },
   "source": [
    "## Read csv files Java Answers"
   ]
  },
  {
   "cell_type": "code",
   "execution_count": 2,
   "id": "cf20def2-c0d1-4e07-86c2-09c6fb5d9674",
   "metadata": {},
   "outputs": [],
   "source": [
    "df = dd.read_csv('pmdcodesnippetsviolation_csv/pmdCodeSnippetsViolation*.csv', engine='python', error_bad_lines=False, warn_bad_lines=False, dtype=object)\n"
   ]
  },
  {
   "cell_type": "markdown",
   "id": "276306fe-ee9f-4216-93d6-295499e73bd4",
   "metadata": {},
   "source": [
    "#### Explore dataframe"
   ]
  },
  {
   "cell_type": "code",
   "execution_count": 3,
   "id": "65fcc1f5-8f10-4fba-9ce2-226ed74a4bcc",
   "metadata": {},
   "outputs": [],
   "source": [
    "## explore one patition\n",
    "#one_pat_df = df.partitions[1].compute()"
   ]
  },
  {
   "cell_type": "code",
   "execution_count": 4,
   "id": "21fdc20b-179f-4099-8a28-06ea4e19d786",
   "metadata": {},
   "outputs": [
    {
     "data": {
      "text/html": [
       "<div><strong>Dask DataFrame Structure:</strong></div>\n",
       "<div>\n",
       "<style scoped>\n",
       "    .dataframe tbody tr th:only-of-type {\n",
       "        vertical-align: middle;\n",
       "    }\n",
       "\n",
       "    .dataframe tbody tr th {\n",
       "        vertical-align: top;\n",
       "    }\n",
       "\n",
       "    .dataframe thead th {\n",
       "        text-align: right;\n",
       "    }\n",
       "</style>\n",
       "<table border=\"1\" class=\"dataframe\">\n",
       "  <thead>\n",
       "    <tr style=\"text-align: right;\">\n",
       "      <th></th>\n",
       "      <th>beginline</th>\n",
       "      <th>endline</th>\n",
       "      <th>begincolumn</th>\n",
       "      <th>endcolumn</th>\n",
       "      <th>rule</th>\n",
       "      <th>ruleset</th>\n",
       "      <th>class</th>\n",
       "      <th>externalInfoUrl</th>\n",
       "      <th>priority</th>\n",
       "      <th>msg</th>\n",
       "      <th>method</th>\n",
       "    </tr>\n",
       "    <tr>\n",
       "      <th>npartitions=577</th>\n",
       "      <th></th>\n",
       "      <th></th>\n",
       "      <th></th>\n",
       "      <th></th>\n",
       "      <th></th>\n",
       "      <th></th>\n",
       "      <th></th>\n",
       "      <th></th>\n",
       "      <th></th>\n",
       "      <th></th>\n",
       "      <th></th>\n",
       "    </tr>\n",
       "  </thead>\n",
       "  <tbody>\n",
       "    <tr>\n",
       "      <th></th>\n",
       "      <td>object</td>\n",
       "      <td>object</td>\n",
       "      <td>object</td>\n",
       "      <td>object</td>\n",
       "      <td>object</td>\n",
       "      <td>object</td>\n",
       "      <td>object</td>\n",
       "      <td>object</td>\n",
       "      <td>object</td>\n",
       "      <td>object</td>\n",
       "      <td>object</td>\n",
       "    </tr>\n",
       "    <tr>\n",
       "      <th></th>\n",
       "      <td>...</td>\n",
       "      <td>...</td>\n",
       "      <td>...</td>\n",
       "      <td>...</td>\n",
       "      <td>...</td>\n",
       "      <td>...</td>\n",
       "      <td>...</td>\n",
       "      <td>...</td>\n",
       "      <td>...</td>\n",
       "      <td>...</td>\n",
       "      <td>...</td>\n",
       "    </tr>\n",
       "    <tr>\n",
       "      <th>...</th>\n",
       "      <td>...</td>\n",
       "      <td>...</td>\n",
       "      <td>...</td>\n",
       "      <td>...</td>\n",
       "      <td>...</td>\n",
       "      <td>...</td>\n",
       "      <td>...</td>\n",
       "      <td>...</td>\n",
       "      <td>...</td>\n",
       "      <td>...</td>\n",
       "      <td>...</td>\n",
       "    </tr>\n",
       "    <tr>\n",
       "      <th></th>\n",
       "      <td>...</td>\n",
       "      <td>...</td>\n",
       "      <td>...</td>\n",
       "      <td>...</td>\n",
       "      <td>...</td>\n",
       "      <td>...</td>\n",
       "      <td>...</td>\n",
       "      <td>...</td>\n",
       "      <td>...</td>\n",
       "      <td>...</td>\n",
       "      <td>...</td>\n",
       "    </tr>\n",
       "    <tr>\n",
       "      <th></th>\n",
       "      <td>...</td>\n",
       "      <td>...</td>\n",
       "      <td>...</td>\n",
       "      <td>...</td>\n",
       "      <td>...</td>\n",
       "      <td>...</td>\n",
       "      <td>...</td>\n",
       "      <td>...</td>\n",
       "      <td>...</td>\n",
       "      <td>...</td>\n",
       "      <td>...</td>\n",
       "    </tr>\n",
       "  </tbody>\n",
       "</table>\n",
       "</div>\n",
       "<div>Dask Name: read-csv, 577 tasks</div>"
      ],
      "text/plain": [
       "Dask DataFrame Structure:\n",
       "                beginline endline begincolumn endcolumn    rule ruleset   class externalInfoUrl priority     msg  method\n",
       "npartitions=577                                                                                                         \n",
       "                   object  object      object    object  object  object  object          object   object  object  object\n",
       "                      ...     ...         ...       ...     ...     ...     ...             ...      ...     ...     ...\n",
       "...                   ...     ...         ...       ...     ...     ...     ...             ...      ...     ...     ...\n",
       "                      ...     ...         ...       ...     ...     ...     ...             ...      ...     ...     ...\n",
       "                      ...     ...         ...       ...     ...     ...     ...             ...      ...     ...     ...\n",
       "Dask Name: read-csv, 577 tasks"
      ]
     },
     "execution_count": 4,
     "metadata": {},
     "output_type": "execute_result"
    }
   ],
   "source": [
    "df"
   ]
  },
  {
   "cell_type": "markdown",
   "id": "7661c28d-b306-42b1-ab01-ec7821c8f235",
   "metadata": {
    "tags": []
   },
   "source": [
    "## Start a Dask cluster using SLURM jobs as workers"
   ]
  },
  {
   "cell_type": "code",
   "execution_count": 5,
   "id": "0216ff53-64ce-4635-923d-ba00444eed69",
   "metadata": {},
   "outputs": [
    {
     "name": "stderr",
     "output_type": "stream",
     "text": [
      "/opt/nesi/CS400_centos7_bdw/Python/3.9.5-gimkl-2020a/lib/python3.9/site-packages/distributed/node.py:151: UserWarning: Port 8787 is already in use.\n",
      "Perhaps you already have a cluster running?\n",
      "Hosting the HTTP server on port 36861 instead\n",
      "  warnings.warn(\n"
     ]
    }
   ],
   "source": [
    "#http://jobqueue.dask.org/en/latest/generated/dask_jobqueue.SLURMCluster.html\n",
    "dask.config.set(\n",
    "    {\n",
    "        \"distributed.worker.memory.target\": False,  # avoid spilling to disk\n",
    "        \"distributed.worker.memory.spill\": False,  # avoid spilling to disk\n",
    "    }\n",
    ")\n",
    "cluster = SLURMCluster(\n",
    "    cores=10, #cores=24, # we set each job to have 1 Worker, each using 10 cores (threads) and 8 GB of memory\n",
    "    processes=2,\n",
    "    memory=\"8GiB\",\n",
    "    walltime=\"0-00:30\",# walltime=\"0-00:50\",\n",
    "    log_directory=\"../dask/logs\",  # folder for SLURM logs for each worker\n",
    "    local_directory=\"../dask\",  # folder for workers data\n",
    ")"
   ]
  },
  {
   "cell_type": "markdown",
   "id": "8b7ef768-6ce6-4696-a16b-83206ffe3e41",
   "metadata": {},
   "source": [
    "Spawn between 20 to 100 workers and connect a client to be able use them."
   ]
  },
  {
   "cell_type": "code",
   "execution_count": 6,
   "id": "0ecdceec-2192-4343-ad4e-8826616caffb",
   "metadata": {},
   "outputs": [
    {
     "data": {
      "text/html": [
       "<table style=\"border: 2px solid white;\">\n",
       "<tr>\n",
       "<td style=\"vertical-align: top; border: 0px solid white\">\n",
       "<h3 style=\"text-align: left;\">Client</h3>\n",
       "<ul style=\"text-align: left; list-style: none; margin: 0; padding: 0;\">\n",
       "  <li><b>Scheduler: </b>tcp://192.168.94.156:33516</li>\n",
       "  <li><b>Dashboard: </b><a href='http://192.168.94.156:36861/status' target='_blank'>http://192.168.94.156:36861/status</a></li>\n",
       "</ul>\n",
       "</td>\n",
       "<td style=\"vertical-align: top; border: 0px solid white\">\n",
       "<h3 style=\"text-align: left;\">Cluster</h3>\n",
       "<ul style=\"text-align: left; list-style:none; margin: 0; padding: 0;\">\n",
       "  <li><b>Workers: </b>0</li>\n",
       "  <li><b>Cores: </b>0</li>\n",
       "  <li><b>Memory: </b>0 B</li>\n",
       "</ul>\n",
       "</td>\n",
       "</tr>\n",
       "</table>"
      ],
      "text/plain": [
       "<Client: 'tcp://192.168.94.156:33516' processes=0 threads=0, memory=0 B>"
      ]
     },
     "execution_count": 6,
     "metadata": {},
     "output_type": "execute_result"
    }
   ],
   "source": [
    "#cluster.scale(n=20) # ask for 20 jobs or workers\n",
    "# This also works with adaptive clusters. This automatically launches and kill workers based on load.\n",
    "# we tell our cluster to autoscale between 10 and 20 workers depending on the load\n",
    "cluster.adapt(minimum_jobs=10, maximum_jobs=200)\n",
    "#cluster.adapt(maximum_jobs=20)\n",
    "client = Client(cluster)\n",
    "client"
   ]
  },
  {
   "cell_type": "code",
   "execution_count": null,
   "id": "6ceaf977-c433-40d9-88af-672e962c04ad",
   "metadata": {},
   "outputs": [],
   "source": []
  },
  {
   "cell_type": "code",
   "execution_count": 7,
   "id": "328d170f-23e2-4ab3-a0e2-6a339505feba",
   "metadata": {},
   "outputs": [
    {
     "name": "stdout",
     "output_type": "stream",
     "text": [
      "Initial number of volations 221495\n"
     ]
    }
   ],
   "source": [
    "pmd_codeviolations_init_len = df.shape[0].compute()\n",
    "print('Initial number of volations {}'.format(pmd_codeviolations_init_len))"
   ]
  },
  {
   "cell_type": "code",
   "execution_count": 8,
   "id": "bcb21e1c-9ae1-4d73-97b4-1888ff244c48",
   "metadata": {},
   "outputs": [],
   "source": [
    "# drop empty columns\n",
    "df = df[~df['class'].isna()] # Drop rows that have NaN in the Code column"
   ]
  },
  {
   "cell_type": "code",
   "execution_count": 9,
   "id": "045d8610-5e47-41a1-8289-a5fbbb47455e",
   "metadata": {},
   "outputs": [
    {
     "name": "stdout",
     "output_type": "stream",
     "text": [
      "Number of violations after removing the nans in the class column 214049\n"
     ]
    }
   ],
   "source": [
    "pmd_codeviolations_nonan_len =df.shape[0].compute()\n",
    "print('Number of violations after removing the nans in the class column {}'.format(pmd_codeviolations_nonan_len))"
   ]
  },
  {
   "cell_type": "code",
   "execution_count": 10,
   "id": "55eb9360-6090-4b22-b261-5fa59851ee4d",
   "metadata": {},
   "outputs": [
    {
     "name": "stdout",
     "output_type": "stream",
     "text": [
      "Difference 7446\n"
     ]
    }
   ],
   "source": [
    "print('Difference {}'.format(pmd_codeviolations_init_len - pmd_codeviolations_nonan_len))"
   ]
  },
  {
   "cell_type": "code",
   "execution_count": 11,
   "id": "b13dc104-ac8a-4f23-adb4-015e098e860e",
   "metadata": {},
   "outputs": [],
   "source": [
    "# drop classes that do not have this pattern e.g., Code_10000096_9914015_1959_0\t\n",
    "df = df[df['class'].str.contains('^Code_\\d+_\\d+_\\d+_\\d+$', regex=True)]"
   ]
  },
  {
   "cell_type": "code",
   "execution_count": 12,
   "id": "36e62f17-090e-495b-9023-36941aeee6d2",
   "metadata": {},
   "outputs": [
    {
     "name": "stdout",
     "output_type": "stream",
     "text": [
      "Number of violations after removing the onces caused by unknown class e.g. inner classes 214049\n"
     ]
    }
   ],
   "source": [
    "pmd_codeviolations_unkownclass_len = df.shape[0].compute()\n",
    "print('Number of violations after removing the onces caused by unknown class e.g. inner classes {}'.format(pmd_codeviolations_nonan_len))"
   ]
  },
  {
   "cell_type": "code",
   "execution_count": 13,
   "id": "b4397c4c-c2ac-4516-b8a4-d96da752f9fa",
   "metadata": {},
   "outputs": [
    {
     "name": "stdout",
     "output_type": "stream",
     "text": [
      "Difference 23308\n"
     ]
    }
   ],
   "source": [
    "print('Difference {}'.format(pmd_codeviolations_nonan_len - pmd_codeviolations_unkownclass_len))"
   ]
  },
  {
   "cell_type": "code",
   "execution_count": null,
   "id": "cf2b0a71-9c8a-4a71-85cf-00157f274047",
   "metadata": {},
   "outputs": [],
   "source": [
    "# We did not name our classes following the naming convensions \n",
    "# hence we will remove all the records that have Our class name mentioned in the ClassNamingConensions \n",
    "# - The logic for using this is that the class may contain contain a subclass that is not following the naming convension\n",
    "pgmr_vi_df = df[\n",
    "    ~df['text'].str.contains('^Code_\\d+_\\d+_\\d+_\\d+$', regex=True) & \n",
    "    df['rule'].str.contains('ClassNamingConventions')\n",
    "]"
   ]
  },
  {
   "cell_type": "code",
   "execution_count": null,
   "id": "6b18db22-9a2a-432c-b36a-b6c5bfc65843",
   "metadata": {},
   "outputs": [],
   "source": [
    "pmd_codeviolations_pgmr_len = pgmr_vi_df.shape[0].compute()\n",
    "print('Number of violations caused by programmer {}'.format(pmd_codeviolations_pgmr_len))"
   ]
  },
  {
   "cell_type": "code",
   "execution_count": null,
   "id": "afc1d8d0-e3f3-4828-9152-36ef88d56e16",
   "metadata": {},
   "outputs": [],
   "source": [
    "print('Difference {}'.format(pmd_codeviolations_unkownclass_len - pmd_codeviolations_pgmr_len))"
   ]
  },
  {
   "cell_type": "code",
   "execution_count": null,
   "id": "15f88efc-1e6f-46a0-b3f2-5c032c69b543",
   "metadata": {},
   "outputs": [],
   "source": [
    "# Get all the dataset that does not apply to our naming convension cases\n",
    "#df = df[~(df['class'].isin(df2['class'].compute())&df['rule'].isin(df2['rule'].compute())&df['ruleset'].isin(df2['ruleset'].compute()))]\n",
    "df = df[~(\n",
    "    df['class'].isin(pgmr_vi_df['class'].compute()) & \n",
    "    df['rule'].isin(pgmr_vi_df['rule'].compute()) & \n",
    "    df['ruleset'].isin(pgmr_vi_df['ruleset'].compute())\n",
    ")]"
   ]
  },
  {
   "cell_type": "code",
   "execution_count": null,
   "id": "db896daf-ce81-444e-aa63-f1682c8806be",
   "metadata": {},
   "outputs": [],
   "source": [
    "pmd_codeviolations_len = df.shape[0].compute()\n",
    "print('Number of violations caused by programmer {}'.format(pmd_codeviolations_len))"
   ]
  },
  {
   "cell_type": "code",
   "execution_count": null,
   "id": "99e33671-d2fe-4caa-b6c5-a5264c10bad4",
   "metadata": {},
   "outputs": [],
   "source": [
    "print('Difference {}'.format(pmd_codeviolations_len- pmd_codeviolations_pgmr_len))"
   ]
  },
  {
   "cell_type": "code",
   "execution_count": null,
   "id": "3832f32a-0722-437d-84c7-2abaf265e1ce",
   "metadata": {},
   "outputs": [],
   "source": [
    "df.head()"
   ]
  },
  {
   "cell_type": "markdown",
   "id": "f8e66a9f-34d5-40bd-b9b8-4c981aec2935",
   "metadata": {},
   "source": [
    "#### Count the unique classes"
   ]
  },
  {
   "cell_type": "code",
   "execution_count": null,
   "id": "d0000de3-e1f0-4073-b1f3-6772b5f160c9",
   "metadata": {},
   "outputs": [],
   "source": [
    "#count the unique classes\n",
    "df.groupby('class').count().shape[0].compute()"
   ]
  },
  {
   "cell_type": "markdown",
   "id": "db0a0a65-f456-4d53-aa04-e98b2b8b46d3",
   "metadata": {},
   "source": [
    "#### Get the unique classes dataframe"
   ]
  },
  {
   "cell_type": "code",
   "execution_count": null,
   "id": "243cb6f3-d761-4112-a8ac-afc852a40f69",
   "metadata": {},
   "outputs": [],
   "source": [
    "# get the unique classes\n",
    "class_df = df['class'].drop_duplicates().compute()"
   ]
  },
  {
   "cell_type": "code",
   "execution_count": null,
   "id": "c7ffa1bd-ad60-4847-bb74-0a4a943e9c9b",
   "metadata": {},
   "outputs": [],
   "source": [
    "# This also counts the unique classes\n",
    "class_df.shape[0]"
   ]
  },
  {
   "cell_type": "code",
   "execution_count": null,
   "id": "88a37847-a83d-40be-b0d8-f64afa33e378",
   "metadata": {},
   "outputs": [],
   "source": [
    "#convert series to dataframe\n",
    "class_df = pd.DataFrame(class_df)"
   ]
  },
  {
   "cell_type": "code",
   "execution_count": null,
   "id": "0b6f2cb3-0ffe-4606-bca8-24753df79d85",
   "metadata": {},
   "outputs": [],
   "source": [
    "class_df.columns = ['classname']"
   ]
  },
  {
   "cell_type": "code",
   "execution_count": null,
   "id": "d5ca50ae-ddaa-4348-85b0-46be2d827c88",
   "metadata": {},
   "outputs": [],
   "source": [
    "class_df.head()"
   ]
  },
  {
   "cell_type": "code",
   "execution_count": null,
   "id": "7946e30e-f914-4ab8-8c94-a4859c22f990",
   "metadata": {},
   "outputs": [],
   "source": [
    "class_df['IdxM'] = class_df['classname'].str.extract(r'(\\d+_\\d+_\\d+_\\d+)', flags=0, expand=True)"
   ]
  },
  {
   "cell_type": "code",
   "execution_count": null,
   "id": "6604b55d-1e72-4031-b5a3-a5adfcff64fd",
   "metadata": {},
   "outputs": [],
   "source": [
    "class_df['Idx'] = class_df['classname'].str.extract(r'(\\d+_\\d+_\\d+)', flags=0, expand=True)"
   ]
  },
  {
   "cell_type": "code",
   "execution_count": null,
   "id": "08679b3e-b770-4623-81aa-bd3f11a4b603",
   "metadata": {},
   "outputs": [],
   "source": [
    "class_df['match'] = class_df['classname'].str.extract(r'(\\d+$)', flags=0, expand=True)"
   ]
  },
  {
   "cell_type": "code",
   "execution_count": null,
   "id": "5deb262b-e0b7-4eb7-b85c-a95920275253",
   "metadata": {},
   "outputs": [],
   "source": [
    "class_df.head()"
   ]
  },
  {
   "cell_type": "code",
   "execution_count": null,
   "id": "d3b08279-d40d-4f32-86b8-b3ef063b454f",
   "metadata": {},
   "outputs": [],
   "source": [
    "class_df.tail()"
   ]
  },
  {
   "cell_type": "markdown",
   "id": "952efeea-3f24-4669-9bd0-e85f6f27a238",
   "metadata": {},
   "source": [
    "## Save the unique classes into a dataframe"
   ]
  },
  {
   "cell_type": "code",
   "execution_count": null,
   "id": "2d53fb10-3e50-4272-936d-7113292020f0",
   "metadata": {},
   "outputs": [],
   "source": [
    "#save it in a csv file\n",
    "#class_df.to_csv('pmdviolationsfilenames_csv/PMDViolationsFilenames1.csv', sep=',', index=False)"
   ]
  },
  {
   "cell_type": "code",
   "execution_count": null,
   "id": "528e49d7-a7d5-4c2d-b35d-cbe38615ec44",
   "metadata": {},
   "outputs": [],
   "source": []
  },
  {
   "cell_type": "code",
   "execution_count": null,
   "id": "0cdbcc07-5517-4c7c-8178-3c5c9694cb5e",
   "metadata": {},
   "outputs": [],
   "source": []
  }
 ],
 "metadata": {
  "kernelspec": {
   "display_name": "Python 3.9.5 (gimkl-2020a)",
   "language": "python",
   "name": "python395-gimkl-2020a"
  },
  "language_info": {
   "codemirror_mode": {
    "name": "ipython",
    "version": 3
   },
   "file_extension": ".py",
   "mimetype": "text/x-python",
   "name": "python",
   "nbconvert_exporter": "python",
   "pygments_lexer": "ipython3",
   "version": "3.9.5"
  }
 },
 "nbformat": 4,
 "nbformat_minor": 5
}
