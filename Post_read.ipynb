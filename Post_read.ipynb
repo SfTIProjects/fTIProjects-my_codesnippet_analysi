{
 "cells": [
  {
   "cell_type": "code",
   "execution_count": 1,
   "id": "f7f4ccb5-1d92-4622-a471-40b735920801",
   "metadata": {},
   "outputs": [],
   "source": [
    "import pandas as pd\n",
    "import xml.etree.ElementTree as et"
   ]
  },
  {
   "cell_type": "code",
   "execution_count": 2,
   "id": "804db691-e344-47cc-965c-c46bcf0e4063",
   "metadata": {},
   "outputs": [],
   "source": [
    "# read the root document and a child\n",
    "def readXmlDoc(xml_doc, child):\n",
    "    # I want all my attributes\n",
    "    attr = xml_doc.attrib\n",
    "    \n",
    "    for xml in xml_doc.iter(child):\n",
    "        # take a copy of this elmt\n",
    "        doc_dict = attr.copy()\n",
    "        # update with my doc attributes\n",
    "        doc_dict.update(xml.attrib)\n",
    "        # get the text\n",
    "        doc_dict['data'] = xml.text\n",
    "        \n",
    "        yield doc_dict"
   ]
  },
  {
   "cell_type": "code",
   "execution_count": 3,
   "id": "2c246891-37a9-456f-a009-0635c389b50e",
   "metadata": {},
   "outputs": [],
   "source": [
    "etree = et.parse('pmd_rules_results.xml')"
   ]
  },
  {
   "cell_type": "code",
   "execution_count": 4,
   "id": "6ee7d82e-e8c2-429d-9b5a-c4718c9b7e1a",
   "metadata": {},
   "outputs": [],
   "source": [
    "df = pd.DataFrame(list(readXmlDoc(etree.getroot(), '{http://pmd.sourceforge.net/report/2.0.0}violation')))"
   ]
  },
  {
   "cell_type": "code",
   "execution_count": 5,
   "id": "bda19811-a4f7-4b95-9a5e-3ec4bacfd409",
   "metadata": {},
   "outputs": [
    {
     "data": {
      "text/html": [
       "<div>\n",
       "<style scoped>\n",
       "    .dataframe tbody tr th:only-of-type {\n",
       "        vertical-align: middle;\n",
       "    }\n",
       "\n",
       "    .dataframe tbody tr th {\n",
       "        vertical-align: top;\n",
       "    }\n",
       "\n",
       "    .dataframe thead th {\n",
       "        text-align: right;\n",
       "    }\n",
       "</style>\n",
       "<table border=\"1\" class=\"dataframe\">\n",
       "  <thead>\n",
       "    <tr style=\"text-align: right;\">\n",
       "      <th></th>\n",
       "      <th>{http://www.w3.org/2001/XMLSchema-instance}schemaLocation</th>\n",
       "      <th>version</th>\n",
       "      <th>timestamp</th>\n",
       "      <th>beginline</th>\n",
       "      <th>endline</th>\n",
       "      <th>begincolumn</th>\n",
       "      <th>endcolumn</th>\n",
       "      <th>rule</th>\n",
       "      <th>ruleset</th>\n",
       "      <th>class</th>\n",
       "      <th>externalInfoUrl</th>\n",
       "      <th>priority</th>\n",
       "      <th>data</th>\n",
       "      <th>method</th>\n",
       "      <th>variable</th>\n",
       "      <th>package</th>\n",
       "    </tr>\n",
       "  </thead>\n",
       "  <tbody>\n",
       "    <tr>\n",
       "      <th>0</th>\n",
       "      <td>http://pmd.sourceforge.net/report/2.0.0 http:/...</td>\n",
       "      <td>6.39.0</td>\n",
       "      <td>2021-11-01T11:37:35.351</td>\n",
       "      <td>1</td>\n",
       "      <td>11</td>\n",
       "      <td>43</td>\n",
       "      <td>1</td>\n",
       "      <td>UseUtilityClass</td>\n",
       "      <td>Design</td>\n",
       "      <td>Code_10000096_9914015_1959_0</td>\n",
       "      <td>https://pmd.github.io/pmd-6.39.0/pmd_rules_jav...</td>\n",
       "      <td>3</td>\n",
       "      <td>\\nAll methods are static.  Consider using a ut...</td>\n",
       "      <td>NaN</td>\n",
       "      <td>NaN</td>\n",
       "      <td>NaN</td>\n",
       "    </tr>\n",
       "    <tr>\n",
       "      <th>1</th>\n",
       "      <td>http://pmd.sourceforge.net/report/2.0.0 http:/...</td>\n",
       "      <td>6.39.0</td>\n",
       "      <td>2021-11-01T11:37:35.351</td>\n",
       "      <td>1</td>\n",
       "      <td>11</td>\n",
       "      <td>8</td>\n",
       "      <td>1</td>\n",
       "      <td>ClassNamingConventions</td>\n",
       "      <td>Code Style</td>\n",
       "      <td>Code_10000096_9914015_1959_0</td>\n",
       "      <td>https://pmd.github.io/pmd-6.39.0/pmd_rules_jav...</td>\n",
       "      <td>1</td>\n",
       "      <td>\\nThe class name 'Code_10000096_9914015_1959_0...</td>\n",
       "      <td>NaN</td>\n",
       "      <td>NaN</td>\n",
       "      <td>NaN</td>\n",
       "    </tr>\n",
       "    <tr>\n",
       "      <th>2</th>\n",
       "      <td>http://pmd.sourceforge.net/report/2.0.0 http:/...</td>\n",
       "      <td>6.39.0</td>\n",
       "      <td>2021-11-01T11:37:35.351</td>\n",
       "      <td>3</td>\n",
       "      <td>3</td>\n",
       "      <td>29</td>\n",
       "      <td>41</td>\n",
       "      <td>MethodArgumentCouldBeFinal</td>\n",
       "      <td>Code Style</td>\n",
       "      <td>Code_10000096_9914015_1959_0</td>\n",
       "      <td>https://pmd.github.io/pmd-6.39.0/pmd_rules_jav...</td>\n",
       "      <td>3</td>\n",
       "      <td>\\nParameter 'args' is not assigned and could b...</td>\n",
       "      <td>main</td>\n",
       "      <td>args</td>\n",
       "      <td>NaN</td>\n",
       "    </tr>\n",
       "    <tr>\n",
       "      <th>3</th>\n",
       "      <td>http://pmd.sourceforge.net/report/2.0.0 http:/...</td>\n",
       "      <td>6.39.0</td>\n",
       "      <td>2021-11-01T11:37:35.351</td>\n",
       "      <td>5</td>\n",
       "      <td>5</td>\n",
       "      <td>9</td>\n",
       "      <td>39</td>\n",
       "      <td>LocalVariableCouldBeFinal</td>\n",
       "      <td>Code Style</td>\n",
       "      <td>Code_10000096_9914015_1959_0</td>\n",
       "      <td>https://pmd.github.io/pmd-6.39.0/pmd_rules_jav...</td>\n",
       "      <td>3</td>\n",
       "      <td>\\nLocal variable 'client' could be declared fi...</td>\n",
       "      <td>main</td>\n",
       "      <td>VariableDeclaratorId</td>\n",
       "      <td>NaN</td>\n",
       "    </tr>\n",
       "    <tr>\n",
       "      <th>4</th>\n",
       "      <td>http://pmd.sourceforge.net/report/2.0.0 http:/...</td>\n",
       "      <td>6.39.0</td>\n",
       "      <td>2021-11-01T11:37:35.351</td>\n",
       "      <td>6</td>\n",
       "      <td>6</td>\n",
       "      <td>9</td>\n",
       "      <td>119</td>\n",
       "      <td>LocalVariableCouldBeFinal</td>\n",
       "      <td>Code Style</td>\n",
       "      <td>Code_10000096_9914015_1959_0</td>\n",
       "      <td>https://pmd.github.io/pmd-6.39.0/pmd_rules_jav...</td>\n",
       "      <td>3</td>\n",
       "      <td>\\nLocal variable 'web_resource' could be decla...</td>\n",
       "      <td>main</td>\n",
       "      <td>VariableDeclaratorId</td>\n",
       "      <td>NaN</td>\n",
       "    </tr>\n",
       "  </tbody>\n",
       "</table>\n",
       "</div>"
      ],
      "text/plain": [
       "  {http://www.w3.org/2001/XMLSchema-instance}schemaLocation version  \\\n",
       "0  http://pmd.sourceforge.net/report/2.0.0 http:/...         6.39.0   \n",
       "1  http://pmd.sourceforge.net/report/2.0.0 http:/...         6.39.0   \n",
       "2  http://pmd.sourceforge.net/report/2.0.0 http:/...         6.39.0   \n",
       "3  http://pmd.sourceforge.net/report/2.0.0 http:/...         6.39.0   \n",
       "4  http://pmd.sourceforge.net/report/2.0.0 http:/...         6.39.0   \n",
       "\n",
       "                 timestamp beginline endline begincolumn endcolumn  \\\n",
       "0  2021-11-01T11:37:35.351         1      11          43         1   \n",
       "1  2021-11-01T11:37:35.351         1      11           8         1   \n",
       "2  2021-11-01T11:37:35.351         3       3          29        41   \n",
       "3  2021-11-01T11:37:35.351         5       5           9        39   \n",
       "4  2021-11-01T11:37:35.351         6       6           9       119   \n",
       "\n",
       "                         rule     ruleset                         class  \\\n",
       "0             UseUtilityClass      Design  Code_10000096_9914015_1959_0   \n",
       "1      ClassNamingConventions  Code Style  Code_10000096_9914015_1959_0   \n",
       "2  MethodArgumentCouldBeFinal  Code Style  Code_10000096_9914015_1959_0   \n",
       "3   LocalVariableCouldBeFinal  Code Style  Code_10000096_9914015_1959_0   \n",
       "4   LocalVariableCouldBeFinal  Code Style  Code_10000096_9914015_1959_0   \n",
       "\n",
       "                                     externalInfoUrl priority  \\\n",
       "0  https://pmd.github.io/pmd-6.39.0/pmd_rules_jav...        3   \n",
       "1  https://pmd.github.io/pmd-6.39.0/pmd_rules_jav...        1   \n",
       "2  https://pmd.github.io/pmd-6.39.0/pmd_rules_jav...        3   \n",
       "3  https://pmd.github.io/pmd-6.39.0/pmd_rules_jav...        3   \n",
       "4  https://pmd.github.io/pmd-6.39.0/pmd_rules_jav...        3   \n",
       "\n",
       "                                                data method  \\\n",
       "0  \\nAll methods are static.  Consider using a ut...    NaN   \n",
       "1  \\nThe class name 'Code_10000096_9914015_1959_0...    NaN   \n",
       "2  \\nParameter 'args' is not assigned and could b...   main   \n",
       "3  \\nLocal variable 'client' could be declared fi...   main   \n",
       "4  \\nLocal variable 'web_resource' could be decla...   main   \n",
       "\n",
       "               variable package  \n",
       "0                   NaN     NaN  \n",
       "1                   NaN     NaN  \n",
       "2                  args     NaN  \n",
       "3  VariableDeclaratorId     NaN  \n",
       "4  VariableDeclaratorId     NaN  "
      ]
     },
     "execution_count": 5,
     "metadata": {},
     "output_type": "execute_result"
    }
   ],
   "source": [
    "df.head()"
   ]
  },
  {
   "cell_type": "code",
   "execution_count": 6,
   "id": "1d1becb4-58f1-40f8-a239-b4151aa31aeb",
   "metadata": {},
   "outputs": [
    {
     "data": {
      "text/plain": [
       "4896537"
      ]
     },
     "execution_count": 6,
     "metadata": {},
     "output_type": "execute_result"
    }
   ],
   "source": [
    "df.shape[0]"
   ]
  },
  {
   "cell_type": "code",
   "execution_count": 7,
   "id": "076fc4a1-90ce-44b3-97c7-bb1ed4293ed5",
   "metadata": {},
   "outputs": [],
   "source": [
    "#replace new lines with empty strings\n",
    "df = df.replace('\\n','', regex=True)"
   ]
  },
  {
   "cell_type": "code",
   "execution_count": 8,
   "id": "0df8153c-c22c-401f-b1a5-2a2375dcb3fd",
   "metadata": {},
   "outputs": [
    {
     "data": {
      "text/plain": [
       "4896537"
      ]
     },
     "execution_count": 8,
     "metadata": {},
     "output_type": "execute_result"
    }
   ],
   "source": [
    "df.shape[0]"
   ]
  },
  {
   "cell_type": "code",
   "execution_count": 9,
   "id": "939a0642-fb63-4033-952f-7d41b7ad3efc",
   "metadata": {},
   "outputs": [
    {
     "name": "stdout",
     "output_type": "stream",
     "text": [
      "index: 1000\n",
      "class: Code_10017013_10016506_1372_2\n",
      "variable: second\n",
      "index: 1001\n",
      "class: Code_10017406_10017381_5_0\n",
      "variable: nan\n",
      "index: 1002\n",
      "class: Code_10017502_10017267_1379_0\n",
      "variable: nan\n",
      "index: 1003\n",
      "class: Code_10017502_10017267_1379_0\n",
      "variable: nan\n",
      "index: 1004\n",
      "class: Code_10017502_10017267_1379_0\n",
      "variable: max\n",
      "index: 1005\n",
      "class: Code_10017502_10017267_1379_0\n",
      "variable: nan\n",
      "index: 1006\n",
      "class: Code_10017502_10017267_1379_0\n",
      "variable: nan\n",
      "index: 1007\n",
      "class: Code_10017502_10017267_1379_4\n",
      "variable: nan\n",
      "index: 1008\n",
      "class: Code_10017502_10017267_1379_4\n",
      "variable: nan\n",
      "index: 1009\n",
      "class: Code_10017502_10017267_1379_4\n",
      "variable: max\n",
      "index: 1010\n",
      "class: Code_10017502_10017267_1379_4\n",
      "variable: nan\n"
     ]
    }
   ],
   "source": [
    "# Check it out\n",
    "#for index, row in df.iterrows():\n",
    "for index, row in df.loc[1000:1010, :].iterrows():\n",
    "    print('index:', index)\n",
    "    print('class:', row['class'])\n",
    "    print('variable:', row['variable'])"
   ]
  },
  {
   "cell_type": "code",
   "execution_count": 10,
   "id": "52b293ae-b38a-42c8-b6f9-3260f10dd5f7",
   "metadata": {},
   "outputs": [],
   "source": [
    "# drop empty columns\n",
    "df = df[~df['class'].isna()] # Drop rows that have NaN in the Code column"
   ]
  },
  {
   "cell_type": "code",
   "execution_count": 11,
   "id": "2905cd03-b79b-473b-9cbf-287be3f10648",
   "metadata": {},
   "outputs": [
    {
     "data": {
      "text/plain": [
       "4887262"
      ]
     },
     "execution_count": 11,
     "metadata": {},
     "output_type": "execute_result"
    }
   ],
   "source": [
    "df.shape[0]"
   ]
  },
  {
   "cell_type": "code",
   "execution_count": 12,
   "id": "c565c935-735c-40ac-8bc3-f90f8a6eab31",
   "metadata": {},
   "outputs": [],
   "source": [
    "# drop classes that do not have this pattern\n",
    "df = df[df['class'].str.contains('^Code_\\d+_\\d+_\\d+_\\d+', regex=True)]"
   ]
  },
  {
   "cell_type": "code",
   "execution_count": 13,
   "id": "1fd503b0-5a2d-41ad-821f-55536338958f",
   "metadata": {},
   "outputs": [],
   "source": [
    "# select multiple columns\n",
    "#df1 = df[['class', 'beginline', 'endline', 'begincolumn', 'endcolumn', 'rule', 'ruleset', 'variable', 'data']]\n",
    "df = df[['class', 'rule', 'ruleset', 'variable', 'data']]"
   ]
  },
  {
   "cell_type": "code",
   "execution_count": 14,
   "id": "29d9581c-89d7-4926-b042-8676a4a3cef6",
   "metadata": {},
   "outputs": [
    {
     "data": {
      "text/plain": [
       "4689252"
      ]
     },
     "execution_count": 14,
     "metadata": {},
     "output_type": "execute_result"
    }
   ],
   "source": [
    "df.shape[0]"
   ]
  },
  {
   "cell_type": "code",
   "execution_count": 15,
   "id": "abfb1904-120f-4881-9e27-8886c1e6b890",
   "metadata": {},
   "outputs": [
    {
     "data": {
      "text/html": [
       "<div>\n",
       "<style scoped>\n",
       "    .dataframe tbody tr th:only-of-type {\n",
       "        vertical-align: middle;\n",
       "    }\n",
       "\n",
       "    .dataframe tbody tr th {\n",
       "        vertical-align: top;\n",
       "    }\n",
       "\n",
       "    .dataframe thead th {\n",
       "        text-align: right;\n",
       "    }\n",
       "</style>\n",
       "<table border=\"1\" class=\"dataframe\">\n",
       "  <thead>\n",
       "    <tr style=\"text-align: right;\">\n",
       "      <th></th>\n",
       "      <th>class</th>\n",
       "      <th>rule</th>\n",
       "      <th>ruleset</th>\n",
       "      <th>variable</th>\n",
       "      <th>data</th>\n",
       "    </tr>\n",
       "  </thead>\n",
       "  <tbody>\n",
       "    <tr>\n",
       "      <th>0</th>\n",
       "      <td>Code_10000096_9914015_1959_0</td>\n",
       "      <td>UseUtilityClass</td>\n",
       "      <td>Design</td>\n",
       "      <td>NaN</td>\n",
       "      <td>All methods are static.  Consider using a util...</td>\n",
       "    </tr>\n",
       "    <tr>\n",
       "      <th>1</th>\n",
       "      <td>Code_10000096_9914015_1959_0</td>\n",
       "      <td>ClassNamingConventions</td>\n",
       "      <td>Code Style</td>\n",
       "      <td>NaN</td>\n",
       "      <td>The class name 'Code_10000096_9914015_1959_0' ...</td>\n",
       "    </tr>\n",
       "    <tr>\n",
       "      <th>2</th>\n",
       "      <td>Code_10000096_9914015_1959_0</td>\n",
       "      <td>MethodArgumentCouldBeFinal</td>\n",
       "      <td>Code Style</td>\n",
       "      <td>args</td>\n",
       "      <td>Parameter 'args' is not assigned and could be ...</td>\n",
       "    </tr>\n",
       "    <tr>\n",
       "      <th>3</th>\n",
       "      <td>Code_10000096_9914015_1959_0</td>\n",
       "      <td>LocalVariableCouldBeFinal</td>\n",
       "      <td>Code Style</td>\n",
       "      <td>VariableDeclaratorId</td>\n",
       "      <td>Local variable 'client' could be declared final</td>\n",
       "    </tr>\n",
       "    <tr>\n",
       "      <th>4</th>\n",
       "      <td>Code_10000096_9914015_1959_0</td>\n",
       "      <td>LocalVariableCouldBeFinal</td>\n",
       "      <td>Code Style</td>\n",
       "      <td>VariableDeclaratorId</td>\n",
       "      <td>Local variable 'web_resource' could be declare...</td>\n",
       "    </tr>\n",
       "  </tbody>\n",
       "</table>\n",
       "</div>"
      ],
      "text/plain": [
       "                          class                        rule     ruleset  \\\n",
       "0  Code_10000096_9914015_1959_0             UseUtilityClass      Design   \n",
       "1  Code_10000096_9914015_1959_0      ClassNamingConventions  Code Style   \n",
       "2  Code_10000096_9914015_1959_0  MethodArgumentCouldBeFinal  Code Style   \n",
       "3  Code_10000096_9914015_1959_0   LocalVariableCouldBeFinal  Code Style   \n",
       "4  Code_10000096_9914015_1959_0   LocalVariableCouldBeFinal  Code Style   \n",
       "\n",
       "               variable                                               data  \n",
       "0                   NaN  All methods are static.  Consider using a util...  \n",
       "1                   NaN  The class name 'Code_10000096_9914015_1959_0' ...  \n",
       "2                  args  Parameter 'args' is not assigned and could be ...  \n",
       "3  VariableDeclaratorId    Local variable 'client' could be declared final  \n",
       "4  VariableDeclaratorId  Local variable 'web_resource' could be declare...  "
      ]
     },
     "execution_count": 15,
     "metadata": {},
     "output_type": "execute_result"
    }
   ],
   "source": [
    "df.head()"
   ]
  },
  {
   "cell_type": "code",
   "execution_count": 16,
   "id": "27435276-7290-4141-896d-04ecdca16259",
   "metadata": {},
   "outputs": [
    {
     "name": "stdout",
     "output_type": "stream",
     "text": [
      "The class name 'Code_10000096_9914015_1959_0' doesn't match '[A-Z][a-zA-Z0-9]*'\n"
     ]
    }
   ],
   "source": [
    "pd.set_option('display.max_colwidth', None)\n",
    "print(str(df.loc[df.index==1, 'data'].values[0]))"
   ]
  },
  {
   "cell_type": "code",
   "execution_count": 17,
   "id": "ed3b8ca3-a078-4f76-824b-00677cae3482",
   "metadata": {},
   "outputs": [],
   "source": [
    "# We did not name our classes following the naming convensions \n",
    "# hence we will remove all the records that have Our class name mentioned in the ClassNamingConensions \n",
    "# - The logic for using this is that the class may contain contain a subclass that is not following the naming convension\n",
    "df2 = df[~df['data'].str.contains('^Code_\\d+_\\d+_\\d+_\\d+', regex=True) & df['rule'].str.contains('ClassNamingConventions')]"
   ]
  },
  {
   "cell_type": "code",
   "execution_count": 18,
   "id": "6873f51b-c655-4788-b02e-90d74ddeb0fb",
   "metadata": {},
   "outputs": [
    {
     "data": {
      "text/html": [
       "<div>\n",
       "<style scoped>\n",
       "    .dataframe tbody tr th:only-of-type {\n",
       "        vertical-align: middle;\n",
       "    }\n",
       "\n",
       "    .dataframe tbody tr th {\n",
       "        vertical-align: top;\n",
       "    }\n",
       "\n",
       "    .dataframe thead th {\n",
       "        text-align: right;\n",
       "    }\n",
       "</style>\n",
       "<table border=\"1\" class=\"dataframe\">\n",
       "  <thead>\n",
       "    <tr style=\"text-align: right;\">\n",
       "      <th></th>\n",
       "      <th>class</th>\n",
       "      <th>rule</th>\n",
       "      <th>ruleset</th>\n",
       "      <th>variable</th>\n",
       "      <th>data</th>\n",
       "    </tr>\n",
       "  </thead>\n",
       "  <tbody>\n",
       "    <tr>\n",
       "      <th>1</th>\n",
       "      <td>Code_10000096_9914015_1959_0</td>\n",
       "      <td>ClassNamingConventions</td>\n",
       "      <td>Code Style</td>\n",
       "      <td>NaN</td>\n",
       "      <td>The class name 'Code_10000096_9914015_1959_0' doesn't match '[A-Z][a-zA-Z0-9]*'</td>\n",
       "    </tr>\n",
       "    <tr>\n",
       "      <th>13</th>\n",
       "      <td>Code_10000096_9914015_1959_1</td>\n",
       "      <td>ClassNamingConventions</td>\n",
       "      <td>Code Style</td>\n",
       "      <td>NaN</td>\n",
       "      <td>The class name 'Code_10000096_9914015_1959_1' doesn't match '[A-Z][a-zA-Z0-9]*'</td>\n",
       "    </tr>\n",
       "    <tr>\n",
       "      <th>17</th>\n",
       "      <td>Code_10000439_9999961_2190_4</td>\n",
       "      <td>ClassNamingConventions</td>\n",
       "      <td>Code Style</td>\n",
       "      <td>NaN</td>\n",
       "      <td>The class name 'Code_10000439_9999961_2190_4' doesn't match '[A-Z][a-zA-Z0-9]*'</td>\n",
       "    </tr>\n",
       "    <tr>\n",
       "      <th>42</th>\n",
       "      <td>Code_10000686_9997539_2792_13</td>\n",
       "      <td>ClassNamingConventions</td>\n",
       "      <td>Code Style</td>\n",
       "      <td>NaN</td>\n",
       "      <td>The class name 'Code_10000686_9997539_2792_13' doesn't match '[A-Z][a-zA-Z0-9]*'</td>\n",
       "    </tr>\n",
       "    <tr>\n",
       "      <th>47</th>\n",
       "      <td>Code_10000810_10000468_1960_0</td>\n",
       "      <td>ClassNamingConventions</td>\n",
       "      <td>Code Style</td>\n",
       "      <td>NaN</td>\n",
       "      <td>The class name 'Code_10000810_10000468_1960_0' doesn't match '[A-Z][a-zA-Z0-9]*'</td>\n",
       "    </tr>\n",
       "  </tbody>\n",
       "</table>\n",
       "</div>"
      ],
      "text/plain": [
       "                            class                    rule     ruleset  \\\n",
       "1    Code_10000096_9914015_1959_0  ClassNamingConventions  Code Style   \n",
       "13   Code_10000096_9914015_1959_1  ClassNamingConventions  Code Style   \n",
       "17   Code_10000439_9999961_2190_4  ClassNamingConventions  Code Style   \n",
       "42  Code_10000686_9997539_2792_13  ClassNamingConventions  Code Style   \n",
       "47  Code_10000810_10000468_1960_0  ClassNamingConventions  Code Style   \n",
       "\n",
       "   variable  \\\n",
       "1       NaN   \n",
       "13      NaN   \n",
       "17      NaN   \n",
       "42      NaN   \n",
       "47      NaN   \n",
       "\n",
       "                                                                                data  \n",
       "1    The class name 'Code_10000096_9914015_1959_0' doesn't match '[A-Z][a-zA-Z0-9]*'  \n",
       "13   The class name 'Code_10000096_9914015_1959_1' doesn't match '[A-Z][a-zA-Z0-9]*'  \n",
       "17   The class name 'Code_10000439_9999961_2190_4' doesn't match '[A-Z][a-zA-Z0-9]*'  \n",
       "42  The class name 'Code_10000686_9997539_2792_13' doesn't match '[A-Z][a-zA-Z0-9]*'  \n",
       "47  The class name 'Code_10000810_10000468_1960_0' doesn't match '[A-Z][a-zA-Z0-9]*'  "
      ]
     },
     "execution_count": 18,
     "metadata": {},
     "output_type": "execute_result"
    }
   ],
   "source": [
    "df2.head()"
   ]
  },
  {
   "cell_type": "code",
   "execution_count": 19,
   "id": "3c2568b9-f13c-4304-8f00-8f4f1108506c",
   "metadata": {},
   "outputs": [
    {
     "data": {
      "text/plain": [
       "731099"
      ]
     },
     "execution_count": 19,
     "metadata": {},
     "output_type": "execute_result"
    }
   ],
   "source": [
    "df2.shape[0]"
   ]
  },
  {
   "cell_type": "code",
   "execution_count": 20,
   "id": "a101242f-9596-4292-9bfa-2f7c5d68396a",
   "metadata": {},
   "outputs": [],
   "source": [
    "# Get all the dataset that does not apply to our naming convension cases cases\n",
    "#df = df[~(df['class'].isin(df2['class'].compute())&df['rule'].isin(df2['rule'].compute())&df['ruleset'].isin(df2['ruleset'].compute()))]\n",
    "df = df[~(df['class'].isin(df2['class'])&df['rule'].isin(df2['rule'])&df['ruleset'].isin(df2['ruleset']))]"
   ]
  },
  {
   "cell_type": "code",
   "execution_count": 21,
   "id": "ceefcf52-37fc-4463-8551-467a63dad8f2",
   "metadata": {},
   "outputs": [
    {
     "data": {
      "text/plain": [
       "3958153"
      ]
     },
     "execution_count": 21,
     "metadata": {},
     "output_type": "execute_result"
    }
   ],
   "source": [
    "df.shape[0]"
   ]
  },
  {
   "cell_type": "code",
   "execution_count": 22,
   "id": "ac600ba1-444e-4164-a28c-2e7ea9425b62",
   "metadata": {},
   "outputs": [],
   "source": [
    "grp_df = df.groupby(['class', 'rule'])\n",
    "#grp_df = df.groupby(['class', 'rule', 'ruleset'])"
   ]
  },
  {
   "cell_type": "code",
   "execution_count": null,
   "id": "f5a67c17-19c8-4a73-9c30-aae76e8c4070",
   "metadata": {},
   "outputs": [],
   "source": []
  },
  {
   "cell_type": "code",
   "execution_count": 23,
   "id": "5230aeae-1db4-4bc5-9780-dfcf8e4e3a42",
   "metadata": {},
   "outputs": [
    {
     "data": {
      "text/plain": [
       "<pandas.core.groupby.generic.DataFrameGroupBy object at 0x2aae0f9fe760>"
      ]
     },
     "execution_count": 23,
     "metadata": {},
     "output_type": "execute_result"
    }
   ],
   "source": [
    "grp_df"
   ]
  },
  {
   "cell_type": "code",
   "execution_count": 24,
   "id": "3e110e57-a9fe-450b-80c0-075b0aec38cb",
   "metadata": {},
   "outputs": [
    {
     "data": {
      "text/html": [
       "<div>\n",
       "<style scoped>\n",
       "    .dataframe tbody tr th:only-of-type {\n",
       "        vertical-align: middle;\n",
       "    }\n",
       "\n",
       "    .dataframe tbody tr th {\n",
       "        vertical-align: top;\n",
       "    }\n",
       "\n",
       "    .dataframe thead th {\n",
       "        text-align: right;\n",
       "    }\n",
       "</style>\n",
       "<table border=\"1\" class=\"dataframe\">\n",
       "  <thead>\n",
       "    <tr style=\"text-align: right;\">\n",
       "      <th></th>\n",
       "      <th></th>\n",
       "      <th>ruleset</th>\n",
       "      <th>variable</th>\n",
       "      <th>data</th>\n",
       "    </tr>\n",
       "    <tr>\n",
       "      <th>class</th>\n",
       "      <th>rule</th>\n",
       "      <th></th>\n",
       "      <th></th>\n",
       "      <th></th>\n",
       "    </tr>\n",
       "  </thead>\n",
       "  <tbody>\n",
       "    <tr>\n",
       "      <th rowspan=\"5\" valign=\"top\">Code_10000096_9914015_1959_0</th>\n",
       "      <th>LawOfDemeter</th>\n",
       "      <td>Design</td>\n",
       "      <td>None</td>\n",
       "      <td>Potential violation of Law of Demeter (object not created locally)</td>\n",
       "    </tr>\n",
       "    <tr>\n",
       "      <th>LocalVariableCouldBeFinal</th>\n",
       "      <td>Code Style</td>\n",
       "      <td>VariableDeclaratorId</td>\n",
       "      <td>Local variable 'client' could be declared final</td>\n",
       "    </tr>\n",
       "    <tr>\n",
       "      <th>LocalVariableNamingConventions</th>\n",
       "      <td>Code Style</td>\n",
       "      <td>web_resource</td>\n",
       "      <td>The local variable name 'web_resource' doesn't match '[a-z][a-zA-Z0-9]*'</td>\n",
       "    </tr>\n",
       "    <tr>\n",
       "      <th>MethodArgumentCouldBeFinal</th>\n",
       "      <td>Code Style</td>\n",
       "      <td>args</td>\n",
       "      <td>Parameter 'args' is not assigned and could be declared final</td>\n",
       "    </tr>\n",
       "    <tr>\n",
       "      <th>SystemPrintln</th>\n",
       "      <td>Best Practices</td>\n",
       "      <td>None</td>\n",
       "      <td>System.out.println is used</td>\n",
       "    </tr>\n",
       "    <tr>\n",
       "      <th>...</th>\n",
       "      <th>...</th>\n",
       "      <td>...</td>\n",
       "      <td>...</td>\n",
       "      <td>...</td>\n",
       "    </tr>\n",
       "    <tr>\n",
       "      <th rowspan=\"2\" valign=\"top\">Code_9999613_9999501_2943_0</th>\n",
       "      <th>SystemPrintln</th>\n",
       "      <td>Best Practices</td>\n",
       "      <td>None</td>\n",
       "      <td>System.out.println is used</td>\n",
       "    </tr>\n",
       "    <tr>\n",
       "      <th>UseUtilityClass</th>\n",
       "      <td>Design</td>\n",
       "      <td>None</td>\n",
       "      <td>All methods are static.  Consider using a utility class instead. Alternatively, you could add a private constructor or make the class abstract to silence this warning.</td>\n",
       "    </tr>\n",
       "    <tr>\n",
       "      <th rowspan=\"2\" valign=\"top\">Code_9999651_9996647_1167_0</th>\n",
       "      <th>BeanMembersShouldSerialize</th>\n",
       "      <td>Error Prone</td>\n",
       "      <td>position</td>\n",
       "      <td>Found non-transient, non-static member. Please mark as transient or provide accessors.</td>\n",
       "    </tr>\n",
       "    <tr>\n",
       "      <th>RedundantFieldInitializer</th>\n",
       "      <td>Performance</td>\n",
       "      <td>position</td>\n",
       "      <td>Avoid using redundant field initializer for 'position'</td>\n",
       "    </tr>\n",
       "    <tr>\n",
       "      <th>Code_9999771_9999731_701_2</th>\n",
       "      <th>AvoidStringBufferField</th>\n",
       "      <td>Best Practices</td>\n",
       "      <td>None</td>\n",
       "      <td>StringBuffers can grow quite a lot, and so may become a source of memory leak (if the owning class has a long life time).</td>\n",
       "    </tr>\n",
       "  </tbody>\n",
       "</table>\n",
       "<p>2012126 rows × 3 columns</p>\n",
       "</div>"
      ],
      "text/plain": [
       "                                                                    ruleset  \\\n",
       "class                        rule                                             \n",
       "Code_10000096_9914015_1959_0 LawOfDemeter                            Design   \n",
       "                             LocalVariableCouldBeFinal           Code Style   \n",
       "                             LocalVariableNamingConventions      Code Style   \n",
       "                             MethodArgumentCouldBeFinal          Code Style   \n",
       "                             SystemPrintln                   Best Practices   \n",
       "...                                                                     ...   \n",
       "Code_9999613_9999501_2943_0  SystemPrintln                   Best Practices   \n",
       "                             UseUtilityClass                         Design   \n",
       "Code_9999651_9996647_1167_0  BeanMembersShouldSerialize         Error Prone   \n",
       "                             RedundantFieldInitializer          Performance   \n",
       "Code_9999771_9999731_701_2   AvoidStringBufferField          Best Practices   \n",
       "\n",
       "                                                                         variable  \\\n",
       "class                        rule                                                   \n",
       "Code_10000096_9914015_1959_0 LawOfDemeter                                    None   \n",
       "                             LocalVariableCouldBeFinal       VariableDeclaratorId   \n",
       "                             LocalVariableNamingConventions          web_resource   \n",
       "                             MethodArgumentCouldBeFinal                      args   \n",
       "                             SystemPrintln                                   None   \n",
       "...                                                                           ...   \n",
       "Code_9999613_9999501_2943_0  SystemPrintln                                   None   \n",
       "                             UseUtilityClass                                 None   \n",
       "Code_9999651_9996647_1167_0  BeanMembersShouldSerialize                  position   \n",
       "                             RedundantFieldInitializer                   position   \n",
       "Code_9999771_9999731_701_2   AvoidStringBufferField                          None   \n",
       "\n",
       "                                                                                                                                                                                                                                data  \n",
       "class                        rule                                                                                                                                                                                                     \n",
       "Code_10000096_9914015_1959_0 LawOfDemeter                                                                                                                         Potential violation of Law of Demeter (object not created locally)  \n",
       "                             LocalVariableCouldBeFinal                                                                                                                               Local variable 'client' could be declared final  \n",
       "                             LocalVariableNamingConventions                                                                                                 The local variable name 'web_resource' doesn't match '[a-z][a-zA-Z0-9]*'  \n",
       "                             MethodArgumentCouldBeFinal                                                                                                                 Parameter 'args' is not assigned and could be declared final  \n",
       "                             SystemPrintln                                                                                                                                                                System.out.println is used  \n",
       "...                                                                                                                                                                                                                              ...  \n",
       "Code_9999613_9999501_2943_0  SystemPrintln                                                                                                                                                                System.out.println is used  \n",
       "                             UseUtilityClass                 All methods are static.  Consider using a utility class instead. Alternatively, you could add a private constructor or make the class abstract to silence this warning.  \n",
       "Code_9999651_9996647_1167_0  BeanMembersShouldSerialize                                                                                       Found non-transient, non-static member. Please mark as transient or provide accessors.  \n",
       "                             RedundantFieldInitializer                                                                                                                        Avoid using redundant field initializer for 'position'  \n",
       "Code_9999771_9999731_701_2   AvoidStringBufferField                                                        StringBuffers can grow quite a lot, and so may become a source of memory leak (if the owning class has a long life time).  \n",
       "\n",
       "[2012126 rows x 3 columns]"
      ]
     },
     "execution_count": 24,
     "metadata": {},
     "output_type": "execute_result"
    }
   ],
   "source": [
    "# Let's print the first entries\n",
    "# in all the groups formed.\n",
    "grp_df.first()"
   ]
  },
  {
   "cell_type": "raw",
   "id": "7b30904e-a196-4f98-b34d-e4c495be765a",
   "metadata": {},
   "source": [
    "# List all the group keys\n",
    "list(grp_df.groups.keys())"
   ]
  },
  {
   "cell_type": "code",
   "execution_count": null,
   "id": "09cc5bdd-ea7a-4eeb-9cb0-bc107d2e7d23",
   "metadata": {},
   "outputs": [],
   "source": []
  },
  {
   "cell_type": "code",
   "execution_count": 25,
   "id": "dcc8902a-ef6c-4959-b89e-144dcf2df8ab",
   "metadata": {},
   "outputs": [],
   "source": [
    "df3 = df[['rule']] "
   ]
  },
  {
   "cell_type": "code",
   "execution_count": 26,
   "id": "e1d2c68c-4790-4e53-b7fe-0b5168291f76",
   "metadata": {},
   "outputs": [
    {
     "data": {
      "text/html": [
       "<div>\n",
       "<style scoped>\n",
       "    .dataframe tbody tr th:only-of-type {\n",
       "        vertical-align: middle;\n",
       "    }\n",
       "\n",
       "    .dataframe tbody tr th {\n",
       "        vertical-align: top;\n",
       "    }\n",
       "\n",
       "    .dataframe thead th {\n",
       "        text-align: right;\n",
       "    }\n",
       "</style>\n",
       "<table border=\"1\" class=\"dataframe\">\n",
       "  <thead>\n",
       "    <tr style=\"text-align: right;\">\n",
       "      <th></th>\n",
       "      <th>rule</th>\n",
       "    </tr>\n",
       "  </thead>\n",
       "  <tbody>\n",
       "    <tr>\n",
       "      <th>0</th>\n",
       "      <td>UseUtilityClass</td>\n",
       "    </tr>\n",
       "    <tr>\n",
       "      <th>2</th>\n",
       "      <td>MethodArgumentCouldBeFinal</td>\n",
       "    </tr>\n",
       "    <tr>\n",
       "      <th>3</th>\n",
       "      <td>LocalVariableCouldBeFinal</td>\n",
       "    </tr>\n",
       "    <tr>\n",
       "      <th>4</th>\n",
       "      <td>LocalVariableCouldBeFinal</td>\n",
       "    </tr>\n",
       "    <tr>\n",
       "      <th>5</th>\n",
       "      <td>LawOfDemeter</td>\n",
       "    </tr>\n",
       "  </tbody>\n",
       "</table>\n",
       "</div>"
      ],
      "text/plain": [
       "                         rule\n",
       "0             UseUtilityClass\n",
       "2  MethodArgumentCouldBeFinal\n",
       "3   LocalVariableCouldBeFinal\n",
       "4   LocalVariableCouldBeFinal\n",
       "5                LawOfDemeter"
      ]
     },
     "execution_count": 26,
     "metadata": {},
     "output_type": "execute_result"
    }
   ],
   "source": [
    "df3.head()"
   ]
  },
  {
   "cell_type": "code",
   "execution_count": 27,
   "id": "0324dad9-4aab-4b3c-a3e5-5e9d2e900fa1",
   "metadata": {},
   "outputs": [
    {
     "data": {
      "text/plain": [
       "<AxesSubplot:xlabel='rule'>"
      ]
     },
     "execution_count": 27,
     "metadata": {},
     "output_type": "execute_result"
    },
    {
     "data": {
      "image/png": "[encoded data removed]",
      "text/plain": [
       "<Figure size 432x288 with 1 Axes>"
      ]
     },
     "metadata": {
      "needs_background": "light"
     },
     "output_type": "display_data"
    }
   ],
   "source": [
    "# count top 10\n",
    "df3.groupby('rule')['rule'].agg(['count']).head(10).plot(kind='bar')"
   ]
  },
  {
   "cell_type": "code",
   "execution_count": 28,
   "id": "af543b6e-2425-4af4-b5ec-8e64c88904c9",
   "metadata": {},
   "outputs": [
    {
     "data": {
      "text/html": [
       "<div>\n",
       "<style scoped>\n",
       "    .dataframe tbody tr th:only-of-type {\n",
       "        vertical-align: middle;\n",
       "    }\n",
       "\n",
       "    .dataframe tbody tr th {\n",
       "        vertical-align: top;\n",
       "    }\n",
       "\n",
       "    .dataframe thead th {\n",
       "        text-align: right;\n",
       "    }\n",
       "</style>\n",
       "<table border=\"1\" class=\"dataframe\">\n",
       "  <thead>\n",
       "    <tr style=\"text-align: right;\">\n",
       "      <th></th>\n",
       "      <th>rule</th>\n",
       "    </tr>\n",
       "  </thead>\n",
       "  <tbody>\n",
       "    <tr>\n",
       "      <th>0</th>\n",
       "      <td>UseUtilityClass</td>\n",
       "    </tr>\n",
       "    <tr>\n",
       "      <th>2</th>\n",
       "      <td>MethodArgumentCouldBeFinal</td>\n",
       "    </tr>\n",
       "    <tr>\n",
       "      <th>3</th>\n",
       "      <td>LocalVariableCouldBeFinal</td>\n",
       "    </tr>\n",
       "    <tr>\n",
       "      <th>4</th>\n",
       "      <td>LocalVariableCouldBeFinal</td>\n",
       "    </tr>\n",
       "    <tr>\n",
       "      <th>5</th>\n",
       "      <td>LawOfDemeter</td>\n",
       "    </tr>\n",
       "  </tbody>\n",
       "</table>\n",
       "</div>"
      ],
      "text/plain": [
       "                         rule\n",
       "0             UseUtilityClass\n",
       "2  MethodArgumentCouldBeFinal\n",
       "3   LocalVariableCouldBeFinal\n",
       "4   LocalVariableCouldBeFinal\n",
       "5                LawOfDemeter"
      ]
     },
     "execution_count": 28,
     "metadata": {},
     "output_type": "execute_result"
    }
   ],
   "source": [
    "df3.head()"
   ]
  },
  {
   "cell_type": "code",
   "execution_count": null,
   "id": "98b29a2f-4c08-41d4-a38f-112f27f52c49",
   "metadata": {},
   "outputs": [
    {
     "data": {
      "text/plain": [
       "<AxesSubplot:xlabel='rule'>"
      ]
     },
     "execution_count": 29,
     "metadata": {},
     "output_type": "execute_result"
    }
   ],
   "source": [
    "df3.groupby('rule', sort=True)['rule'].agg(['count']).head(10).plot(kind='bar')"
   ]
  },
  {
   "cell_type": "code",
   "execution_count": 8,
   "id": "8a60f599-1191-44cf-a145-6655995eeb61",
   "metadata": {},
   "outputs": [],
   "source": []
  },
  {
   "cell_type": "code",
   "execution_count": 12,
   "id": "8edc6927-fca8-4df3-8c3d-6599b0dd1077",
   "metadata": {},
   "outputs": [],
   "source": []
  },
  {
   "cell_type": "code",
   "execution_count": 13,
   "id": "edb832f4-0d3d-4fc2-96a6-a80e94ddb71e",
   "metadata": {},
   "outputs": [],
   "source": []
  },
  {
   "cell_type": "code",
   "execution_count": 14,
   "id": "69ff4c9c-3c3a-4006-a990-64ea6b8e5864",
   "metadata": {},
   "outputs": [
    {
     "name": "stdout",
     "output_type": "stream",
     "text": [
      "['codesnippets_java/codesnippets1900000-1953970.zip']\n"
     ]
    }
   ],
   "source": [
    "\n"
   ]
  },
  {
   "cell_type": "code",
   "execution_count": null,
   "id": "2d34768e-f5bd-45d7-b233-f4cb87e82b8e",
   "metadata": {},
   "outputs": [],
   "source": []
  }
 ],
 "metadata": {
  "kernelspec": {
   "display_name": "Python 3.9.5 (gimkl-2020a)",
   "language": "python",
   "name": "python395-gimkl-2020a"
  },
  "language_info": {
   "codemirror_mode": {
    "name": "ipython",
    "version": 3
   },
   "file_extension": ".py",
   "mimetype": "text/x-python",
   "name": "python",
   "nbconvert_exporter": "python",
   "pygments_lexer": "ipython3",
   "version": "3.9.5"
  }
 },
 "nbformat": 4,
 "nbformat_minor": 5
}
