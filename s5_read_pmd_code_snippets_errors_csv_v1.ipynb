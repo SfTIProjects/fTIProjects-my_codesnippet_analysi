{
 "cells": [
  {
   "cell_type": "code",
   "execution_count": 1,
   "id": "5c7001dc-f497-465a-b7ce-d60d9dc88c41",
   "metadata": {},
   "outputs": [],
   "source": [
    "import time\n",
    "from datetime import timedelta\n",
    "import html\n",
    "\n",
    "import pandas as pd\n",
    "import dask\n",
    "import dask.dataframe as dd\n",
    "from dask.distributed import Client\n",
    "from dask_jobqueue import SLURMCluster"
   ]
  },
  {
   "cell_type": "markdown",
   "id": "c3a7ffcf-b1bd-41f8-932d-672077cbfcd1",
   "metadata": {
    "tags": []
   },
   "source": [
    "## Read csv error files"
   ]
  },
  {
   "cell_type": "code",
   "execution_count": 2,
   "id": "cf20def2-c0d1-4e07-86c2-09c6fb5d9674",
   "metadata": {},
   "outputs": [],
   "source": [
    "df = dd.read_csv('pmdcodesnippetserrors_csv/PMDJavaCodeSnippetsErrors*.csv', engine='python', error_bad_lines=False, warn_bad_lines=False, dtype=object)\n"
   ]
  },
  {
   "cell_type": "markdown",
   "id": "5342c789-280a-4a4c-b901-682a44553ddf",
   "metadata": {},
   "source": [
    "#### Explore dataframe"
   ]
  },
  {
   "cell_type": "code",
   "execution_count": 3,
   "id": "49bd373b-bd7b-4278-9f39-712f35cbcbf9",
   "metadata": {},
   "outputs": [],
   "source": [
    "## explore one patition\n",
    "#one_pat_df = df.partitions[1].compute()"
   ]
  },
  {
   "cell_type": "code",
   "execution_count": 4,
   "id": "2d11e2e7-c6b2-4347-8457-a92dfae4ed06",
   "metadata": {},
   "outputs": [
    {
     "data": {
      "text/html": [
       "<div><strong>Dask DataFrame Structure:</strong></div>\n",
       "<div>\n",
       "<style scoped>\n",
       "    .dataframe tbody tr th:only-of-type {\n",
       "        vertical-align: middle;\n",
       "    }\n",
       "\n",
       "    .dataframe tbody tr th {\n",
       "        vertical-align: top;\n",
       "    }\n",
       "\n",
       "    .dataframe thead th {\n",
       "        text-align: right;\n",
       "    }\n",
       "</style>\n",
       "<table border=\"1\" class=\"dataframe\">\n",
       "  <thead>\n",
       "    <tr style=\"text-align: right;\">\n",
       "      <th></th>\n",
       "      <th>filename</th>\n",
       "      <th>msg</th>\n",
       "      <th>error_text</th>\n",
       "    </tr>\n",
       "    <tr>\n",
       "      <th>npartitions=356</th>\n",
       "      <th></th>\n",
       "      <th></th>\n",
       "      <th></th>\n",
       "    </tr>\n",
       "  </thead>\n",
       "  <tbody>\n",
       "    <tr>\n",
       "      <th></th>\n",
       "      <td>object</td>\n",
       "      <td>object</td>\n",
       "      <td>object</td>\n",
       "    </tr>\n",
       "    <tr>\n",
       "      <th></th>\n",
       "      <td>...</td>\n",
       "      <td>...</td>\n",
       "      <td>...</td>\n",
       "    </tr>\n",
       "    <tr>\n",
       "      <th>...</th>\n",
       "      <td>...</td>\n",
       "      <td>...</td>\n",
       "      <td>...</td>\n",
       "    </tr>\n",
       "    <tr>\n",
       "      <th></th>\n",
       "      <td>...</td>\n",
       "      <td>...</td>\n",
       "      <td>...</td>\n",
       "    </tr>\n",
       "    <tr>\n",
       "      <th></th>\n",
       "      <td>...</td>\n",
       "      <td>...</td>\n",
       "      <td>...</td>\n",
       "    </tr>\n",
       "  </tbody>\n",
       "</table>\n",
       "</div>\n",
       "<div>Dask Name: read-csv, 356 tasks</div>"
      ],
      "text/plain": [
       "Dask DataFrame Structure:\n",
       "                filename     msg error_text\n",
       "npartitions=356                            \n",
       "                  object  object     object\n",
       "                     ...     ...        ...\n",
       "...                  ...     ...        ...\n",
       "                     ...     ...        ...\n",
       "                     ...     ...        ...\n",
       "Dask Name: read-csv, 356 tasks"
      ]
     },
     "execution_count": 4,
     "metadata": {},
     "output_type": "execute_result"
    }
   ],
   "source": [
    "# see dataframe structure\n",
    "df"
   ]
  },
  {
   "cell_type": "code",
   "execution_count": 5,
   "id": "d6813d4e-2b13-4931-9d2d-db38edb69eef",
   "metadata": {},
   "outputs": [
    {
     "data": {
      "text/plain": [
       "Index(['filename', 'msg', 'error_text'], dtype='object')"
      ]
     },
     "execution_count": 5,
     "metadata": {},
     "output_type": "execute_result"
    }
   ],
   "source": [
    "# see columns\n",
    "df.columns"
   ]
  },
  {
   "cell_type": "code",
   "execution_count": 6,
   "id": "9a78bab3-0c1c-458e-9e63-26d7b58a79d3",
   "metadata": {},
   "outputs": [],
   "source": [
    "# rename columns\n",
    "df.columns = ['filepath', 'error_msg', 'error_txt'] "
   ]
  },
  {
   "cell_type": "code",
   "execution_count": 7,
   "id": "96ea8a59-cd16-41e5-8c0d-64b060168b59",
   "metadata": {},
   "outputs": [
    {
     "data": {
      "text/plain": [
       "Index(['filepath', 'error_msg', 'error_txt'], dtype='object')"
      ]
     },
     "execution_count": 7,
     "metadata": {},
     "output_type": "execute_result"
    }
   ],
   "source": [
    "# see columns\n",
    "df.columns"
   ]
  },
  {
   "cell_type": "code",
   "execution_count": 8,
   "id": "09d7c146-2f7f-4132-8035-fe1050a0516a",
   "metadata": {},
   "outputs": [],
   "source": [
    "#df.head()"
   ]
  },
  {
   "cell_type": "code",
   "execution_count": 9,
   "id": "742a9f5d-f7a0-441e-a7c2-aa4fb53c6508",
   "metadata": {},
   "outputs": [],
   "source": [
    "#df.tail()"
   ]
  },
  {
   "cell_type": "markdown",
   "id": "7661c28d-b306-42b1-ab01-ec7821c8f235",
   "metadata": {},
   "source": [
    "## Start a Dask cluster using SLURM jobs as workers"
   ]
  },
  {
   "cell_type": "code",
   "execution_count": 10,
   "id": "0216ff53-64ce-4635-923d-ba00444eed69",
   "metadata": {},
   "outputs": [
    {
     "name": "stderr",
     "output_type": "stream",
     "text": [
      "/opt/nesi/CS400_centos7_bdw/Python/3.9.5-gimkl-2020a/lib/python3.9/site-packages/distributed/node.py:151: UserWarning: Port 8787 is already in use.\n",
      "Perhaps you already have a cluster running?\n",
      "Hosting the HTTP server on port 40877 instead\n",
      "  warnings.warn(\n"
     ]
    }
   ],
   "source": [
    "#http://jobqueue.dask.org/en/latest/generated/dask_jobqueue.SLURMCluster.html\n",
    "dask.config.set(\n",
    "    {\n",
    "        \"distributed.worker.memory.target\": False,  # avoid spilling to disk\n",
    "        \"distributed.worker.memory.spill\": False,  # avoid spilling to disk\n",
    "    }\n",
    ")\n",
    "cluster = SLURMCluster(\n",
    "    cores=10, #cores=24, # we set each job to have 1 Worker, each using 10 cores (threads) and 8 GB of memory\n",
    "    processes=2,\n",
    "    memory=\"8GiB\",\n",
    "    walltime=\"0-00:30\",# walltime=\"0-00:50\",\n",
    "    log_directory=\"../dask/logs\",  # folder for SLURM logs for each worker\n",
    "    local_directory=\"../dask\",  # folder for workers data\n",
    ")"
   ]
  },
  {
   "cell_type": "markdown",
   "id": "8b7ef768-6ce6-4696-a16b-83206ffe3e41",
   "metadata": {},
   "source": [
    "Spawn between 20 to 100 workers and connect a client to be able use them."
   ]
  },
  {
   "cell_type": "code",
   "execution_count": 11,
   "id": "0ecdceec-2192-4343-ad4e-8826616caffb",
   "metadata": {},
   "outputs": [
    {
     "data": {
      "text/html": [
       "<table style=\"border: 2px solid white;\">\n",
       "<tr>\n",
       "<td style=\"vertical-align: top; border: 0px solid white\">\n",
       "<h3 style=\"text-align: left;\">Client</h3>\n",
       "<ul style=\"text-align: left; list-style: none; margin: 0; padding: 0;\">\n",
       "  <li><b>Scheduler: </b>tcp://192.168.94.166:45566</li>\n",
       "  <li><b>Dashboard: </b><a href='http://192.168.94.166:40877/status' target='_blank'>http://192.168.94.166:40877/status</a></li>\n",
       "</ul>\n",
       "</td>\n",
       "<td style=\"vertical-align: top; border: 0px solid white\">\n",
       "<h3 style=\"text-align: left;\">Cluster</h3>\n",
       "<ul style=\"text-align: left; list-style:none; margin: 0; padding: 0;\">\n",
       "  <li><b>Workers: </b>0</li>\n",
       "  <li><b>Cores: </b>0</li>\n",
       "  <li><b>Memory: </b>0 B</li>\n",
       "</ul>\n",
       "</td>\n",
       "</tr>\n",
       "</table>"
      ],
      "text/plain": [
       "<Client: 'tcp://192.168.94.166:45566' processes=0 threads=0, memory=0 B>"
      ]
     },
     "execution_count": 11,
     "metadata": {},
     "output_type": "execute_result"
    }
   ],
   "source": [
    "#cluster.scale(n=20) # ask for 20 jobs or workers\n",
    "# This also works with adaptive clusters. This automatically launches and kill workers based on load.\n",
    "# we tell our cluster to autoscale between 10 and 20 workers depending on the load\n",
    "cluster.adapt(minimum_jobs=5, maximum_jobs=10)\n",
    "#cluster.adapt(maximum_jobs=20)\n",
    "client = Client(cluster)\n",
    "client"
   ]
  },
  {
   "cell_type": "code",
   "execution_count": 12,
   "id": "f66a2c17-1d70-40b5-8143-dd84d2436181",
   "metadata": {},
   "outputs": [
    {
     "name": "stdout",
     "output_type": "stream",
     "text": [
      "Initial number of errors 1217373\n"
     ]
    }
   ],
   "source": [
    "pmd_codeerror_init_len = df.shape[0].compute()\n",
    "print('Initial number of errors {}'.format(pmd_codeerror_init_len))"
   ]
  },
  {
   "cell_type": "code",
   "execution_count": 13,
   "id": "6973e790-77fe-4289-9c2c-a0ecfb327ed4",
   "metadata": {},
   "outputs": [],
   "source": [
    "# drop empty columns\n",
    "df = df[~df['filepath'].isna()] # Drop rows that have NaN in the Code column"
   ]
  },
  {
   "cell_type": "code",
   "execution_count": 14,
   "id": "0f5fe545-c3bc-4bea-9ee5-40472157fcb2",
   "metadata": {},
   "outputs": [
    {
     "name": "stdout",
     "output_type": "stream",
     "text": [
      "Number of errors after removing the nans in the class column 1217373\n"
     ]
    }
   ],
   "source": [
    "pmd_codeviolations_nonan_len =df.shape[0].compute()\n",
    "print('Number of errors after removing the nans in the class column {}'.format(pmd_codeerror_init_len))"
   ]
  },
  {
   "cell_type": "markdown",
   "id": "1e05561c-0c37-4f10-af79-d4ccba2a8ca6",
   "metadata": {
    "tags": []
   },
   "source": [
    "## Extract just the file names into a new column"
   ]
  },
  {
   "cell_type": "code",
   "execution_count": 15,
   "id": "6ad5e1ec-c7d6-4ff6-bcc5-731797a4430d",
   "metadata": {},
   "outputs": [],
   "source": [
    "# regex to extract filename from file path\n",
    "#https://stackoverflow.com/questions/58181729/how-to-extract-the-filename-from-a-string-using-regular-expression\n",
    "#df['filename'] = df.filepath.str.extract(r'([^\\/]+(?=\\.))', flags=0, expand=True).compute()\n",
    "#df['filename'] = df.filepath.str.extract(r'(([^\\/]+)\\.)', flags=0, expand=True).compute()\n",
    "df2 = df.filepath.str.extract(r'(([^\\/]+)\\.)', flags=0, expand=True).compute()"
   ]
  },
  {
   "cell_type": "code",
   "execution_count": 16,
   "id": "a22a6b93-207c-489a-b8c9-58af1301bffb",
   "metadata": {},
   "outputs": [
    {
     "data": {
      "text/html": [
       "<div>\n",
       "<style scoped>\n",
       "    .dataframe tbody tr th:only-of-type {\n",
       "        vertical-align: middle;\n",
       "    }\n",
       "\n",
       "    .dataframe tbody tr th {\n",
       "        vertical-align: top;\n",
       "    }\n",
       "\n",
       "    .dataframe thead th {\n",
       "        text-align: right;\n",
       "    }\n",
       "</style>\n",
       "<table border=\"1\" class=\"dataframe\">\n",
       "  <thead>\n",
       "    <tr style=\"text-align: right;\">\n",
       "      <th></th>\n",
       "      <th>0</th>\n",
       "      <th>1</th>\n",
       "    </tr>\n",
       "  </thead>\n",
       "  <tbody>\n",
       "    <tr>\n",
       "      <th>0</th>\n",
       "      <td>Code_10000052_9999270_706_1.</td>\n",
       "      <td>Code_10000052_9999270_706_1</td>\n",
       "    </tr>\n",
       "    <tr>\n",
       "      <th>0</th>\n",
       "      <td>Code_10000056_9999581_707_0.</td>\n",
       "      <td>Code_10000056_9999581_707_0</td>\n",
       "    </tr>\n",
       "    <tr>\n",
       "      <th>1</th>\n",
       "      <td>Code_10000056_9999581_707_1.</td>\n",
       "      <td>Code_10000056_9999581_707_1</td>\n",
       "    </tr>\n",
       "    <tr>\n",
       "      <th>2</th>\n",
       "      <td>Code_10000227_10000008_264_2.</td>\n",
       "      <td>Code_10000227_10000008_264_2</td>\n",
       "    </tr>\n",
       "    <tr>\n",
       "      <th>3</th>\n",
       "      <td>Code_10000284_9996647_708_0.</td>\n",
       "      <td>Code_10000284_9996647_708_0</td>\n",
       "    </tr>\n",
       "  </tbody>\n",
       "</table>\n",
       "</div>"
      ],
      "text/plain": [
       "                               0                             1\n",
       "0   Code_10000052_9999270_706_1.   Code_10000052_9999270_706_1\n",
       "0   Code_10000056_9999581_707_0.   Code_10000056_9999581_707_0\n",
       "1   Code_10000056_9999581_707_1.   Code_10000056_9999581_707_1\n",
       "2  Code_10000227_10000008_264_2.  Code_10000227_10000008_264_2\n",
       "3   Code_10000284_9996647_708_0.   Code_10000284_9996647_708_0"
      ]
     },
     "execution_count": 16,
     "metadata": {},
     "output_type": "execute_result"
    }
   ],
   "source": [
    "df2.head()"
   ]
  },
  {
   "cell_type": "code",
   "execution_count": 17,
   "id": "0a06e8f1-e391-4184-83e8-8329ebf40487",
   "metadata": {},
   "outputs": [],
   "source": [
    "df2 = df2[[1]]"
   ]
  },
  {
   "cell_type": "code",
   "execution_count": 18,
   "id": "c25c0881-85f6-4e00-8110-0f85646729c5",
   "metadata": {},
   "outputs": [
    {
     "data": {
      "text/html": [
       "<div>\n",
       "<style scoped>\n",
       "    .dataframe tbody tr th:only-of-type {\n",
       "        vertical-align: middle;\n",
       "    }\n",
       "\n",
       "    .dataframe tbody tr th {\n",
       "        vertical-align: top;\n",
       "    }\n",
       "\n",
       "    .dataframe thead th {\n",
       "        text-align: right;\n",
       "    }\n",
       "</style>\n",
       "<table border=\"1\" class=\"dataframe\">\n",
       "  <thead>\n",
       "    <tr style=\"text-align: right;\">\n",
       "      <th></th>\n",
       "      <th>1</th>\n",
       "    </tr>\n",
       "  </thead>\n",
       "  <tbody>\n",
       "    <tr>\n",
       "      <th>0</th>\n",
       "      <td>Code_10000052_9999270_706_1</td>\n",
       "    </tr>\n",
       "    <tr>\n",
       "      <th>0</th>\n",
       "      <td>Code_10000056_9999581_707_0</td>\n",
       "    </tr>\n",
       "    <tr>\n",
       "      <th>1</th>\n",
       "      <td>Code_10000056_9999581_707_1</td>\n",
       "    </tr>\n",
       "    <tr>\n",
       "      <th>2</th>\n",
       "      <td>Code_10000227_10000008_264_2</td>\n",
       "    </tr>\n",
       "    <tr>\n",
       "      <th>3</th>\n",
       "      <td>Code_10000284_9996647_708_0</td>\n",
       "    </tr>\n",
       "  </tbody>\n",
       "</table>\n",
       "</div>"
      ],
      "text/plain": [
       "                              1\n",
       "0   Code_10000052_9999270_706_1\n",
       "0   Code_10000056_9999581_707_0\n",
       "1   Code_10000056_9999581_707_1\n",
       "2  Code_10000227_10000008_264_2\n",
       "3   Code_10000284_9996647_708_0"
      ]
     },
     "execution_count": 18,
     "metadata": {},
     "output_type": "execute_result"
    }
   ],
   "source": [
    "df2.head()"
   ]
  },
  {
   "cell_type": "code",
   "execution_count": 19,
   "id": "ba07b2c8-ba05-43b8-9215-bd8c7cf17936",
   "metadata": {},
   "outputs": [],
   "source": [
    "df2.columns = ['classname']"
   ]
  },
  {
   "cell_type": "code",
   "execution_count": 20,
   "id": "63c9309e-35c0-4a30-af4c-d13e893328b9",
   "metadata": {},
   "outputs": [],
   "source": [
    "df2['IdxM'] = df2['classname'].str.extract(r'(\\d+_\\d+_\\d+_\\d+)', flags=0, expand=True)"
   ]
  },
  {
   "cell_type": "code",
   "execution_count": 21,
   "id": "8f6fc63b-3bbd-463a-985d-1d8a4413bf3c",
   "metadata": {},
   "outputs": [],
   "source": [
    "df2['Idx'] = df2['classname'].str.extract(r'(\\d+_\\d+_\\d+)', flags=0, expand=True)"
   ]
  },
  {
   "cell_type": "code",
   "execution_count": 22,
   "id": "58ab61f5-a4e1-43bf-a087-ad4b8b39ee9f",
   "metadata": {},
   "outputs": [],
   "source": [
    "df2['match'] = df2['classname'].str.extract(r'(\\d+$)', flags=0, expand=True)"
   ]
  },
  {
   "cell_type": "code",
   "execution_count": 23,
   "id": "ca7f3127-7d5a-4634-9bc9-f0ec485a4940",
   "metadata": {},
   "outputs": [
    {
     "data": {
      "text/html": [
       "<div>\n",
       "<style scoped>\n",
       "    .dataframe tbody tr th:only-of-type {\n",
       "        vertical-align: middle;\n",
       "    }\n",
       "\n",
       "    .dataframe tbody tr th {\n",
       "        vertical-align: top;\n",
       "    }\n",
       "\n",
       "    .dataframe thead th {\n",
       "        text-align: right;\n",
       "    }\n",
       "</style>\n",
       "<table border=\"1\" class=\"dataframe\">\n",
       "  <thead>\n",
       "    <tr style=\"text-align: right;\">\n",
       "      <th></th>\n",
       "      <th>classname</th>\n",
       "      <th>IdxM</th>\n",
       "      <th>Idx</th>\n",
       "      <th>match</th>\n",
       "    </tr>\n",
       "  </thead>\n",
       "  <tbody>\n",
       "    <tr>\n",
       "      <th>0</th>\n",
       "      <td>Code_10000052_9999270_706_1</td>\n",
       "      <td>10000052_9999270_706_1</td>\n",
       "      <td>10000052_9999270_706</td>\n",
       "      <td>1</td>\n",
       "    </tr>\n",
       "    <tr>\n",
       "      <th>0</th>\n",
       "      <td>Code_10000056_9999581_707_0</td>\n",
       "      <td>10000056_9999581_707_0</td>\n",
       "      <td>10000056_9999581_707</td>\n",
       "      <td>0</td>\n",
       "    </tr>\n",
       "    <tr>\n",
       "      <th>1</th>\n",
       "      <td>Code_10000056_9999581_707_1</td>\n",
       "      <td>10000056_9999581_707_1</td>\n",
       "      <td>10000056_9999581_707</td>\n",
       "      <td>1</td>\n",
       "    </tr>\n",
       "    <tr>\n",
       "      <th>2</th>\n",
       "      <td>Code_10000227_10000008_264_2</td>\n",
       "      <td>10000227_10000008_264_2</td>\n",
       "      <td>10000227_10000008_264</td>\n",
       "      <td>2</td>\n",
       "    </tr>\n",
       "    <tr>\n",
       "      <th>3</th>\n",
       "      <td>Code_10000284_9996647_708_0</td>\n",
       "      <td>10000284_9996647_708_0</td>\n",
       "      <td>10000284_9996647_708</td>\n",
       "      <td>0</td>\n",
       "    </tr>\n",
       "  </tbody>\n",
       "</table>\n",
       "</div>"
      ],
      "text/plain": [
       "                      classname                     IdxM  \\\n",
       "0   Code_10000052_9999270_706_1   10000052_9999270_706_1   \n",
       "0   Code_10000056_9999581_707_0   10000056_9999581_707_0   \n",
       "1   Code_10000056_9999581_707_1   10000056_9999581_707_1   \n",
       "2  Code_10000227_10000008_264_2  10000227_10000008_264_2   \n",
       "3   Code_10000284_9996647_708_0   10000284_9996647_708_0   \n",
       "\n",
       "                     Idx match  \n",
       "0   10000052_9999270_706     1  \n",
       "0   10000056_9999581_707     0  \n",
       "1   10000056_9999581_707     1  \n",
       "2  10000227_10000008_264     2  \n",
       "3   10000284_9996647_708     0  "
      ]
     },
     "execution_count": 23,
     "metadata": {},
     "output_type": "execute_result"
    }
   ],
   "source": [
    "df2.head()"
   ]
  },
  {
   "cell_type": "code",
   "execution_count": 24,
   "id": "4ba538f4-f0c3-4e75-b807-b5d0f7cf8b86",
   "metadata": {},
   "outputs": [
    {
     "data": {
      "text/html": [
       "<div>\n",
       "<style scoped>\n",
       "    .dataframe tbody tr th:only-of-type {\n",
       "        vertical-align: middle;\n",
       "    }\n",
       "\n",
       "    .dataframe tbody tr th {\n",
       "        vertical-align: top;\n",
       "    }\n",
       "\n",
       "    .dataframe thead th {\n",
       "        text-align: right;\n",
       "    }\n",
       "</style>\n",
       "<table border=\"1\" class=\"dataframe\">\n",
       "  <thead>\n",
       "    <tr style=\"text-align: right;\">\n",
       "      <th></th>\n",
       "      <th>classname</th>\n",
       "      <th>IdxM</th>\n",
       "      <th>Idx</th>\n",
       "      <th>match</th>\n",
       "    </tr>\n",
       "  </thead>\n",
       "  <tbody>\n",
       "    <tr>\n",
       "      <th>3346</th>\n",
       "      <td>Code_9999698_9981080_1096_0</td>\n",
       "      <td>9999698_9981080_1096_0</td>\n",
       "      <td>9999698_9981080_1096</td>\n",
       "      <td>0</td>\n",
       "    </tr>\n",
       "    <tr>\n",
       "      <th>3347</th>\n",
       "      <td>Code_9999779_9999743_75_0</td>\n",
       "      <td>9999779_9999743_75_0</td>\n",
       "      <td>9999779_9999743_75</td>\n",
       "      <td>0</td>\n",
       "    </tr>\n",
       "    <tr>\n",
       "      <th>3348</th>\n",
       "      <td>Code_9999843_9999539_1366_0</td>\n",
       "      <td>9999843_9999539_1366_0</td>\n",
       "      <td>9999843_9999539_1366</td>\n",
       "      <td>0</td>\n",
       "    </tr>\n",
       "    <tr>\n",
       "      <th>3349</th>\n",
       "      <td>Code_9999951_9999782_703_4</td>\n",
       "      <td>9999951_9999782_703_4</td>\n",
       "      <td>9999951_9999782_703</td>\n",
       "      <td>4</td>\n",
       "    </tr>\n",
       "    <tr>\n",
       "      <th>3350</th>\n",
       "      <td>Code_9999966_9999642_704_0</td>\n",
       "      <td>9999966_9999642_704_0</td>\n",
       "      <td>9999966_9999642_704</td>\n",
       "      <td>0</td>\n",
       "    </tr>\n",
       "  </tbody>\n",
       "</table>\n",
       "</div>"
      ],
      "text/plain": [
       "                        classname                    IdxM  \\\n",
       "3346  Code_9999698_9981080_1096_0  9999698_9981080_1096_0   \n",
       "3347    Code_9999779_9999743_75_0    9999779_9999743_75_0   \n",
       "3348  Code_9999843_9999539_1366_0  9999843_9999539_1366_0   \n",
       "3349   Code_9999951_9999782_703_4   9999951_9999782_703_4   \n",
       "3350   Code_9999966_9999642_704_0   9999966_9999642_704_0   \n",
       "\n",
       "                       Idx match  \n",
       "3346  9999698_9981080_1096     0  \n",
       "3347    9999779_9999743_75     0  \n",
       "3348  9999843_9999539_1366     0  \n",
       "3349   9999951_9999782_703     4  \n",
       "3350   9999966_9999642_704     0  "
      ]
     },
     "execution_count": 24,
     "metadata": {},
     "output_type": "execute_result"
    }
   ],
   "source": [
    "df2.tail()"
   ]
  },
  {
   "cell_type": "code",
   "execution_count": 25,
   "id": "5589d5e7-1887-4b2a-9a40-a9982e440532",
   "metadata": {},
   "outputs": [
    {
     "name": "stdout",
     "output_type": "stream",
     "text": [
      "Number of errors after removing the nans in the class column 1217373\n"
     ]
    }
   ],
   "source": [
    "pmd_codeerror_len =df2.shape[0]\n",
    "print('Number of errors after removing the nans in the class column {}'.format(pmd_codeerror_len))"
   ]
  },
  {
   "cell_type": "code",
   "execution_count": 26,
   "id": "1f60eb32-8daa-4859-86d1-4c8735a3a7d5",
   "metadata": {},
   "outputs": [],
   "source": [
    "# drop classes that do not have this pattern e.g., Code_10000096_9914015_1959_0\t\n",
    "df2 = df2[df2['classname'].str.contains('^Code_\\d+_\\d+_\\d+_\\d+$', regex=True)]"
   ]
  },
  {
   "cell_type": "code",
   "execution_count": 27,
   "id": "ac32c93c-c8c4-4cfe-a4e3-322cd51791a4",
   "metadata": {},
   "outputs": [
    {
     "data": {
      "text/plain": [
       "1217373"
      ]
     },
     "execution_count": 27,
     "metadata": {},
     "output_type": "execute_result"
    }
   ],
   "source": [
    "df2.shape[0]"
   ]
  },
  {
   "cell_type": "code",
   "execution_count": 28,
   "id": "b969ff87-9e62-4326-98e3-b9347659a114",
   "metadata": {},
   "outputs": [
    {
     "data": {
      "text/plain": [
       "1217373"
      ]
     },
     "execution_count": 28,
     "metadata": {},
     "output_type": "execute_result"
    }
   ],
   "source": [
    "df2.shape[0]"
   ]
  },
  {
   "cell_type": "markdown",
   "id": "abc9d80a-89df-4b3f-a3d7-bc7b89aaaf42",
   "metadata": {},
   "source": [
    "#### Get the unique classes dataframe"
   ]
  },
  {
   "cell_type": "code",
   "execution_count": 29,
   "id": "a7379349-147f-46eb-bec3-be370a5cd290",
   "metadata": {},
   "outputs": [],
   "source": [
    "# get the unique classes\n",
    "#df2 = df2['classname'].drop_duplicates()\n",
    "df2 = df2.drop_duplicates()"
   ]
  },
  {
   "cell_type": "code",
   "execution_count": 30,
   "id": "82a9526a-421b-4003-9759-a0442355165c",
   "metadata": {},
   "outputs": [
    {
     "data": {
      "text/plain": [
       "1217373"
      ]
     },
     "execution_count": 30,
     "metadata": {},
     "output_type": "execute_result"
    }
   ],
   "source": [
    "df2.shape[0]"
   ]
  },
  {
   "cell_type": "code",
   "execution_count": 31,
   "id": "2d53fb10-3e50-4272-936d-7113292020f0",
   "metadata": {},
   "outputs": [],
   "source": [
    "#save it in a csv file\n",
    "df2.to_csv('pmderrorsfilenames_csv/PMDErrorsFilenames1.csv', sep=',', index=False)"
   ]
  },
  {
   "cell_type": "code",
   "execution_count": null,
   "id": "3fdd7e3c-4019-46b5-9cd8-a3f1e7c2d7da",
   "metadata": {},
   "outputs": [],
   "source": []
  }
 ],
 "metadata": {
  "kernelspec": {
   "display_name": "Python 3.9.5 (gimkl-2020a)",
   "language": "python",
   "name": "python395-gimkl-2020a"
  },
  "language_info": {
   "codemirror_mode": {
    "name": "ipython",
    "version": 3
   },
   "file_extension": ".py",
   "mimetype": "text/x-python",
   "name": "python",
   "nbconvert_exporter": "python",
   "pygments_lexer": "ipython3",
   "version": "3.9.5"
  }
 },
 "nbformat": 4,
 "nbformat_minor": 5
}
