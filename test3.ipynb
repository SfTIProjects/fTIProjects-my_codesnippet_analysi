{
 "cells": [
  {
   "cell_type": "code",
   "execution_count": 1,
   "id": "33c8b54b-973b-402a-b54e-f656b8eba1c1",
   "metadata": {},
   "outputs": [],
   "source": [
    "import time\n",
    "from datetime import timedelta\n",
    "import html\n",
    "\n",
    "import pandas as pd\n",
    "import dask\n",
    "import dask.dataframe as dd\n",
    "from dask.distributed import Client\n",
    "from dask_jobqueue import SLURMCluster"
   ]
  },
  {
   "cell_type": "markdown",
   "id": "5f7c663e-ba81-4bb4-8f0a-3f7e2421c3fd",
   "metadata": {
    "tags": []
   },
   "source": [
    "## Read complete codesnippets csv files"
   ]
  },
  {
   "cell_type": "code",
   "execution_count": 2,
   "id": "f3e75e32-6993-447b-aab5-3b29be803c5f",
   "metadata": {},
   "outputs": [],
   "source": [
    "cs_df = dd.read_csv('codesnippets_csv/JavaCodeSnippets*.csv', engine='python', error_bad_lines=False, warn_bad_lines=False, dtype=object)\n"
   ]
  },
  {
   "cell_type": "code",
   "execution_count": 3,
   "id": "8e02f4da-df81-481b-9f0a-2d200e1e1132",
   "metadata": {},
   "outputs": [],
   "source": [
    "er_df = dd.read_csv('pmderrorsfilenames_csv/PMDErrorsFilenames*.csv', engine='python', error_bad_lines=False, warn_bad_lines=False, dtype=object)\n"
   ]
  },
  {
   "cell_type": "code",
   "execution_count": 4,
   "id": "071a642a-12c5-441d-bdb5-cfdd7ac17e39",
   "metadata": {},
   "outputs": [],
   "source": [
    "#vo_df = dd.read_csv('pmdviolationsfilenames_csv/PMDViolationsFilenames*.csv', engine='python', error_bad_lines=False, warn_bad_lines=False, dtype=object)\n"
   ]
  },
  {
   "cell_type": "code",
   "execution_count": 5,
   "id": "a26f3336-03cc-497c-b77b-cdcd66075a86",
   "metadata": {},
   "outputs": [
    {
     "data": {
      "text/html": [
       "<div><strong>Dask DataFrame Structure:</strong></div>\n",
       "<div>\n",
       "<style scoped>\n",
       "    .dataframe tbody tr th:only-of-type {\n",
       "        vertical-align: middle;\n",
       "    }\n",
       "\n",
       "    .dataframe tbody tr th {\n",
       "        vertical-align: top;\n",
       "    }\n",
       "\n",
       "    .dataframe thead th {\n",
       "        text-align: right;\n",
       "    }\n",
       "</style>\n",
       "<table border=\"1\" class=\"dataframe\">\n",
       "  <thead>\n",
       "    <tr style=\"text-align: right;\">\n",
       "      <th></th>\n",
       "      <th>Idx</th>\n",
       "      <th>match</th>\n",
       "      <th>Code</th>\n",
       "    </tr>\n",
       "    <tr>\n",
       "      <th>npartitions=2530</th>\n",
       "      <th></th>\n",
       "      <th></th>\n",
       "      <th></th>\n",
       "    </tr>\n",
       "  </thead>\n",
       "  <tbody>\n",
       "    <tr>\n",
       "      <th></th>\n",
       "      <td>object</td>\n",
       "      <td>object</td>\n",
       "      <td>object</td>\n",
       "    </tr>\n",
       "    <tr>\n",
       "      <th></th>\n",
       "      <td>...</td>\n",
       "      <td>...</td>\n",
       "      <td>...</td>\n",
       "    </tr>\n",
       "    <tr>\n",
       "      <th>...</th>\n",
       "      <td>...</td>\n",
       "      <td>...</td>\n",
       "      <td>...</td>\n",
       "    </tr>\n",
       "    <tr>\n",
       "      <th></th>\n",
       "      <td>...</td>\n",
       "      <td>...</td>\n",
       "      <td>...</td>\n",
       "    </tr>\n",
       "    <tr>\n",
       "      <th></th>\n",
       "      <td>...</td>\n",
       "      <td>...</td>\n",
       "      <td>...</td>\n",
       "    </tr>\n",
       "  </tbody>\n",
       "</table>\n",
       "</div>\n",
       "<div>Dask Name: read-csv, 2530 tasks</div>"
      ],
      "text/plain": [
       "Dask DataFrame Structure:\n",
       "                     Idx   match    Code\n",
       "npartitions=2530                        \n",
       "                  object  object  object\n",
       "                     ...     ...     ...\n",
       "...                  ...     ...     ...\n",
       "                     ...     ...     ...\n",
       "                     ...     ...     ...\n",
       "Dask Name: read-csv, 2530 tasks"
      ]
     },
     "execution_count": 5,
     "metadata": {},
     "output_type": "execute_result"
    }
   ],
   "source": [
    "cs_df"
   ]
  },
  {
   "cell_type": "code",
   "execution_count": 6,
   "id": "875afc4a-b7dc-45dc-943a-6d2a0a3ca5e1",
   "metadata": {},
   "outputs": [
    {
     "data": {
      "text/html": [
       "<div><strong>Dask DataFrame Structure:</strong></div>\n",
       "<div>\n",
       "<style scoped>\n",
       "    .dataframe tbody tr th:only-of-type {\n",
       "        vertical-align: middle;\n",
       "    }\n",
       "\n",
       "    .dataframe tbody tr th {\n",
       "        vertical-align: top;\n",
       "    }\n",
       "\n",
       "    .dataframe thead th {\n",
       "        text-align: right;\n",
       "    }\n",
       "</style>\n",
       "<table border=\"1\" class=\"dataframe\">\n",
       "  <thead>\n",
       "    <tr style=\"text-align: right;\">\n",
       "      <th></th>\n",
       "      <th>classname</th>\n",
       "      <th>IdxM</th>\n",
       "      <th>Idx</th>\n",
       "      <th>match</th>\n",
       "    </tr>\n",
       "    <tr>\n",
       "      <th>npartitions=2</th>\n",
       "      <th></th>\n",
       "      <th></th>\n",
       "      <th></th>\n",
       "      <th></th>\n",
       "    </tr>\n",
       "  </thead>\n",
       "  <tbody>\n",
       "    <tr>\n",
       "      <th></th>\n",
       "      <td>object</td>\n",
       "      <td>object</td>\n",
       "      <td>object</td>\n",
       "      <td>object</td>\n",
       "    </tr>\n",
       "    <tr>\n",
       "      <th></th>\n",
       "      <td>...</td>\n",
       "      <td>...</td>\n",
       "      <td>...</td>\n",
       "      <td>...</td>\n",
       "    </tr>\n",
       "    <tr>\n",
       "      <th></th>\n",
       "      <td>...</td>\n",
       "      <td>...</td>\n",
       "      <td>...</td>\n",
       "      <td>...</td>\n",
       "    </tr>\n",
       "  </tbody>\n",
       "</table>\n",
       "</div>\n",
       "<div>Dask Name: read-csv, 2 tasks</div>"
      ],
      "text/plain": [
       "Dask DataFrame Structure:\n",
       "              classname    IdxM     Idx   match\n",
       "npartitions=2                                  \n",
       "                 object  object  object  object\n",
       "                    ...     ...     ...     ...\n",
       "                    ...     ...     ...     ...\n",
       "Dask Name: read-csv, 2 tasks"
      ]
     },
     "execution_count": 6,
     "metadata": {},
     "output_type": "execute_result"
    }
   ],
   "source": [
    "er_df"
   ]
  },
  {
   "cell_type": "code",
   "execution_count": 7,
   "id": "f6c040b3-b7b4-4059-bbdc-96e223c74727",
   "metadata": {},
   "outputs": [
    {
     "data": {
      "text/plain": [
       "Index(['Idx', 'match', 'Code'], dtype='object')"
      ]
     },
     "execution_count": 7,
     "metadata": {},
     "output_type": "execute_result"
    }
   ],
   "source": [
    "cs_df.columns"
   ]
  },
  {
   "cell_type": "code",
   "execution_count": 8,
   "id": "5703cd39-dc71-44fa-a2d7-344d4949b03d",
   "metadata": {},
   "outputs": [
    {
     "data": {
      "text/plain": [
       "Index(['classname', 'IdxM', 'Idx', 'match'], dtype='object')"
      ]
     },
     "execution_count": 8,
     "metadata": {},
     "output_type": "execute_result"
    }
   ],
   "source": [
    "er_df.columns"
   ]
  },
  {
   "cell_type": "code",
   "execution_count": 9,
   "id": "b20f4a93-35b2-4d2e-898b-211e4b27a73d",
   "metadata": {},
   "outputs": [
    {
     "data": {
      "text/plain": [
       "Idx      object\n",
       "match    object\n",
       "Code     object\n",
       "dtype: object"
      ]
     },
     "execution_count": 9,
     "metadata": {},
     "output_type": "execute_result"
    }
   ],
   "source": [
    "cs_df.dtypes"
   ]
  },
  {
   "cell_type": "code",
   "execution_count": 10,
   "id": "adac9704-6386-404f-9192-36b96ad18dd0",
   "metadata": {},
   "outputs": [
    {
     "data": {
      "text/plain": [
       "classname    object\n",
       "IdxM         object\n",
       "Idx          object\n",
       "match        object\n",
       "dtype: object"
      ]
     },
     "execution_count": 10,
     "metadata": {},
     "output_type": "execute_result"
    }
   ],
   "source": [
    "er_df.dtypes"
   ]
  },
  {
   "cell_type": "code",
   "execution_count": null,
   "id": "12d787aa-1857-461a-9f31-202e42c6c52e",
   "metadata": {},
   "outputs": [],
   "source": []
  },
  {
   "cell_type": "code",
   "execution_count": null,
   "id": "ca05c262-a3aa-4934-9a3d-b56de00f0d6b",
   "metadata": {},
   "outputs": [],
   "source": []
  },
  {
   "cell_type": "markdown",
   "id": "99447113-7284-46c1-881e-b40e40a700ce",
   "metadata": {
    "tags": []
   },
   "source": [
    "## Start a Dask cluster using SLURM jobs as workers"
   ]
  },
  {
   "cell_type": "code",
   "execution_count": 11,
   "id": "c8d273e7-458c-4afa-8941-b7c2e8d3c459",
   "metadata": {},
   "outputs": [],
   "source": [
    "#http://jobqueue.dask.org/en/latest/generated/dask_jobqueue.SLURMCluster.html\n",
    "dask.config.set(\n",
    "    {\n",
    "        \"distributed.worker.memory.target\": False,  # avoid spilling to disk\n",
    "        \"distributed.worker.memory.spill\": False,  # avoid spilling to disk\n",
    "    }\n",
    ")\n",
    "cluster = SLURMCluster(\n",
    "    cores=10, #cores=24, # we set each job to have 1 Worker, each using 10 cores (threads) and 8 GB of memory\n",
    "    processes=2,\n",
    "    memory=\"8GiB\",\n",
    "    walltime=\"0-00:30\",# walltime=\"0-00:50\",\n",
    "    log_directory=\"../dask/logs\",  # folder for SLURM logs for each worker\n",
    "    local_directory=\"../dask\",  # folder for workers data\n",
    ")"
   ]
  },
  {
   "cell_type": "markdown",
   "id": "08e960dc-3f86-4ba2-b0d8-2c9170a9fc11",
   "metadata": {},
   "source": [
    "Spawn between 20 to 100 workers and connect a client to be able use them."
   ]
  },
  {
   "cell_type": "code",
   "execution_count": 12,
   "id": "57ca24de-2ca5-4940-a953-1d606048bf1c",
   "metadata": {},
   "outputs": [
    {
     "data": {
      "text/html": [
       "<table style=\"border: 2px solid white;\">\n",
       "<tr>\n",
       "<td style=\"vertical-align: top; border: 0px solid white\">\n",
       "<h3 style=\"text-align: left;\">Client</h3>\n",
       "<ul style=\"text-align: left; list-style: none; margin: 0; padding: 0;\">\n",
       "  <li><b>Scheduler: </b>tcp://192.168.94.166:34236</li>\n",
       "  <li><b>Dashboard: </b><a href='http://192.168.94.166:8787/status' target='_blank'>http://192.168.94.166:8787/status</a></li>\n",
       "</ul>\n",
       "</td>\n",
       "<td style=\"vertical-align: top; border: 0px solid white\">\n",
       "<h3 style=\"text-align: left;\">Cluster</h3>\n",
       "<ul style=\"text-align: left; list-style:none; margin: 0; padding: 0;\">\n",
       "  <li><b>Workers: </b>0</li>\n",
       "  <li><b>Cores: </b>0</li>\n",
       "  <li><b>Memory: </b>0 B</li>\n",
       "</ul>\n",
       "</td>\n",
       "</tr>\n",
       "</table>"
      ],
      "text/plain": [
       "<Client: 'tcp://192.168.94.166:34236' processes=0 threads=0, memory=0 B>"
      ]
     },
     "execution_count": 12,
     "metadata": {},
     "output_type": "execute_result"
    }
   ],
   "source": [
    "#cluster.scale(n=20) # ask for 20 jobs or workers\n",
    "# This also works with adaptive clusters. This automatically launches and kill workers based on load.\n",
    "# we tell our cluster to autoscale between 10 and 20 workers depending on the load\n",
    "cluster.adapt(minimum_jobs=20, maximum_jobs=200)\n",
    "#cluster.adapt(maximum_jobs=20)\n",
    "client = Client(cluster)\n",
    "client"
   ]
  },
  {
   "cell_type": "code",
   "execution_count": 13,
   "id": "9c734516-78f4-4a0e-92f9-4f2a4b5ac6ad",
   "metadata": {},
   "outputs": [],
   "source": [
    "one_pat_df = cs_df.partitions[600].compute()"
   ]
  },
  {
   "cell_type": "code",
   "execution_count": 14,
   "id": "5d96d418-c44f-4e9b-a764-b5e25be3a1ec",
   "metadata": {},
   "outputs": [
    {
     "data": {
      "text/html": [
       "<div>\n",
       "<style scoped>\n",
       "    .dataframe tbody tr th:only-of-type {\n",
       "        vertical-align: middle;\n",
       "    }\n",
       "\n",
       "    .dataframe tbody tr th {\n",
       "        vertical-align: top;\n",
       "    }\n",
       "\n",
       "    .dataframe thead th {\n",
       "        text-align: right;\n",
       "    }\n",
       "</style>\n",
       "<table border=\"1\" class=\"dataframe\">\n",
       "  <thead>\n",
       "    <tr style=\"text-align: right;\">\n",
       "      <th></th>\n",
       "      <th>Idx</th>\n",
       "      <th>match</th>\n",
       "      <th>Code</th>\n",
       "    </tr>\n",
       "  </thead>\n",
       "  <tbody>\n",
       "    <tr>\n",
       "      <th>0</th>\n",
       "      <td>34451727_34434556_1812</td>\n",
       "      <td>0</td>\n",
       "      <td>import java.util.regex.Matcher;\\nimport java.u...</td>\n",
       "    </tr>\n",
       "    <tr>\n",
       "      <th>1</th>\n",
       "      <td>34452152_33726321_1824</td>\n",
       "      <td>0</td>\n",
       "      <td>import java.io.ByteArrayInputStream;\\nimport j...</td>\n",
       "    </tr>\n",
       "    <tr>\n",
       "      <th>2</th>\n",
       "      <td>34452362_34452207_1231</td>\n",
       "      <td>7</td>\n",
       "      <td>public class Code_34452362_34452207_1231_7 {\\n...</td>\n",
       "    </tr>\n",
       "    <tr>\n",
       "      <th>3</th>\n",
       "      <td>34452718_34452678_1233</td>\n",
       "      <td>0</td>\n",
       "      <td>class Code_34452718_34452678_1233_0 {\\n    dou...</td>\n",
       "    </tr>\n",
       "    <tr>\n",
       "      <th>4</th>\n",
       "      <td>34452813_13750010_282</td>\n",
       "      <td>0</td>\n",
       "      <td>package com.rest.jersey.jerseyclient;\\nimport ...</td>\n",
       "    </tr>\n",
       "  </tbody>\n",
       "</table>\n",
       "</div>"
      ],
      "text/plain": [
       "                      Idx match  \\\n",
       "0  34451727_34434556_1812     0   \n",
       "1  34452152_33726321_1824     0   \n",
       "2  34452362_34452207_1231     7   \n",
       "3  34452718_34452678_1233     0   \n",
       "4   34452813_13750010_282     0   \n",
       "\n",
       "                                                Code  \n",
       "0  import java.util.regex.Matcher;\\nimport java.u...  \n",
       "1  import java.io.ByteArrayInputStream;\\nimport j...  \n",
       "2  public class Code_34452362_34452207_1231_7 {\\n...  \n",
       "3  class Code_34452718_34452678_1233_0 {\\n    dou...  \n",
       "4  package com.rest.jersey.jerseyclient;\\nimport ...  "
      ]
     },
     "execution_count": 14,
     "metadata": {},
     "output_type": "execute_result"
    }
   ],
   "source": [
    "one_pat_df.head()"
   ]
  },
  {
   "cell_type": "code",
   "execution_count": 15,
   "id": "131491c4-586e-474f-a9d7-4044f7e76035",
   "metadata": {},
   "outputs": [
    {
     "data": {
      "text/html": [
       "<div>\n",
       "<style scoped>\n",
       "    .dataframe tbody tr th:only-of-type {\n",
       "        vertical-align: middle;\n",
       "    }\n",
       "\n",
       "    .dataframe tbody tr th {\n",
       "        vertical-align: top;\n",
       "    }\n",
       "\n",
       "    .dataframe thead th {\n",
       "        text-align: right;\n",
       "    }\n",
       "</style>\n",
       "<table border=\"1\" class=\"dataframe\">\n",
       "  <thead>\n",
       "    <tr style=\"text-align: right;\">\n",
       "      <th></th>\n",
       "      <th>Idx</th>\n",
       "      <th>match</th>\n",
       "      <th>Code</th>\n",
       "    </tr>\n",
       "  </thead>\n",
       "  <tbody>\n",
       "    <tr>\n",
       "      <th>258</th>\n",
       "      <td>34487718_34328874_746</td>\n",
       "      <td>1</td>\n",
       "      <td>public class Code_34487718_34328874_746_1 exte...</td>\n",
       "    </tr>\n",
       "    <tr>\n",
       "      <th>259</th>\n",
       "      <td>3448776_3448030_3068</td>\n",
       "      <td>3</td>\n",
       "      <td>import java.awt.*;\\nimport java.awt.event.*;\\n...</td>\n",
       "    </tr>\n",
       "    <tr>\n",
       "      <th>260</th>\n",
       "      <td>34487791_34464728_397</td>\n",
       "      <td>1</td>\n",
       "      <td>public class Code_34487791_34464728_397_1 {\\n ...</td>\n",
       "    </tr>\n",
       "    <tr>\n",
       "      <th>261</th>\n",
       "      <td>3448807_3445353_835</td>\n",
       "      <td>1</td>\n",
       "      <td>import java.util.ArrayList;\\n\\nclass Code_3448...</td>\n",
       "    </tr>\n",
       "    <tr>\n",
       "      <th>262</th>\n",
       "      <td>34488536_34487494_1323</td>\n",
       "      <td>3</td>\n",
       "      <td>public class Code_34488536_34487494_1323_3\\n{\\...</td>\n",
       "    </tr>\n",
       "  </tbody>\n",
       "</table>\n",
       "</div>"
      ],
      "text/plain": [
       "                        Idx match  \\\n",
       "258   34487718_34328874_746     1   \n",
       "259    3448776_3448030_3068     3   \n",
       "260   34487791_34464728_397     1   \n",
       "261     3448807_3445353_835     1   \n",
       "262  34488536_34487494_1323     3   \n",
       "\n",
       "                                                  Code  \n",
       "258  public class Code_34487718_34328874_746_1 exte...  \n",
       "259  import java.awt.*;\\nimport java.awt.event.*;\\n...  \n",
       "260  public class Code_34487791_34464728_397_1 {\\n ...  \n",
       "261  import java.util.ArrayList;\\n\\nclass Code_3448...  \n",
       "262  public class Code_34488536_34487494_1323_3\\n{\\...  "
      ]
     },
     "execution_count": 15,
     "metadata": {},
     "output_type": "execute_result"
    }
   ],
   "source": [
    "one_pat_df.tail()"
   ]
  },
  {
   "cell_type": "code",
   "execution_count": 16,
   "id": "77d9c645-8c87-4dbe-a541-80be4792326b",
   "metadata": {},
   "outputs": [],
   "source": [
    "one_pat_df['IdxM'] = one_pat_df['Idx'].str.cat(one_pat_df['match'].astype(str),sep=\"_\")"
   ]
  },
  {
   "cell_type": "code",
   "execution_count": 17,
   "id": "5992d3a1-d8dc-4726-a281-6b5ef630dcc6",
   "metadata": {},
   "outputs": [
    {
     "data": {
      "text/html": [
       "<div>\n",
       "<style scoped>\n",
       "    .dataframe tbody tr th:only-of-type {\n",
       "        vertical-align: middle;\n",
       "    }\n",
       "\n",
       "    .dataframe tbody tr th {\n",
       "        vertical-align: top;\n",
       "    }\n",
       "\n",
       "    .dataframe thead th {\n",
       "        text-align: right;\n",
       "    }\n",
       "</style>\n",
       "<table border=\"1\" class=\"dataframe\">\n",
       "  <thead>\n",
       "    <tr style=\"text-align: right;\">\n",
       "      <th></th>\n",
       "      <th>Idx</th>\n",
       "      <th>match</th>\n",
       "      <th>Code</th>\n",
       "      <th>IdxM</th>\n",
       "    </tr>\n",
       "  </thead>\n",
       "  <tbody>\n",
       "    <tr>\n",
       "      <th>0</th>\n",
       "      <td>34451727_34434556_1812</td>\n",
       "      <td>0</td>\n",
       "      <td>import java.util.regex.Matcher;\\nimport java.u...</td>\n",
       "      <td>34451727_34434556_1812_0</td>\n",
       "    </tr>\n",
       "    <tr>\n",
       "      <th>1</th>\n",
       "      <td>34452152_33726321_1824</td>\n",
       "      <td>0</td>\n",
       "      <td>import java.io.ByteArrayInputStream;\\nimport j...</td>\n",
       "      <td>34452152_33726321_1824_0</td>\n",
       "    </tr>\n",
       "    <tr>\n",
       "      <th>2</th>\n",
       "      <td>34452362_34452207_1231</td>\n",
       "      <td>7</td>\n",
       "      <td>public class Code_34452362_34452207_1231_7 {\\n...</td>\n",
       "      <td>34452362_34452207_1231_7</td>\n",
       "    </tr>\n",
       "    <tr>\n",
       "      <th>3</th>\n",
       "      <td>34452718_34452678_1233</td>\n",
       "      <td>0</td>\n",
       "      <td>class Code_34452718_34452678_1233_0 {\\n    dou...</td>\n",
       "      <td>34452718_34452678_1233_0</td>\n",
       "    </tr>\n",
       "    <tr>\n",
       "      <th>4</th>\n",
       "      <td>34452813_13750010_282</td>\n",
       "      <td>0</td>\n",
       "      <td>package com.rest.jersey.jerseyclient;\\nimport ...</td>\n",
       "      <td>34452813_13750010_282_0</td>\n",
       "    </tr>\n",
       "  </tbody>\n",
       "</table>\n",
       "</div>"
      ],
      "text/plain": [
       "                      Idx match  \\\n",
       "0  34451727_34434556_1812     0   \n",
       "1  34452152_33726321_1824     0   \n",
       "2  34452362_34452207_1231     7   \n",
       "3  34452718_34452678_1233     0   \n",
       "4   34452813_13750010_282     0   \n",
       "\n",
       "                                                Code                      IdxM  \n",
       "0  import java.util.regex.Matcher;\\nimport java.u...  34451727_34434556_1812_0  \n",
       "1  import java.io.ByteArrayInputStream;\\nimport j...  34452152_33726321_1824_0  \n",
       "2  public class Code_34452362_34452207_1231_7 {\\n...  34452362_34452207_1231_7  \n",
       "3  class Code_34452718_34452678_1233_0 {\\n    dou...  34452718_34452678_1233_0  \n",
       "4  package com.rest.jersey.jerseyclient;\\nimport ...   34452813_13750010_282_0  "
      ]
     },
     "execution_count": 17,
     "metadata": {},
     "output_type": "execute_result"
    }
   ],
   "source": [
    "one_pat_df.head()"
   ]
  },
  {
   "cell_type": "markdown",
   "id": "5612e1b8-9207-4ef9-808f-8d64d0f1e37e",
   "metadata": {},
   "source": [
    "### Generate the IdxM unique column\n",
    "- A combination of the Idx and the match\n",
    "- which also makes up the class name"
   ]
  },
  {
   "cell_type": "code",
   "execution_count": 18,
   "id": "9f90eea5-8281-4f1f-9af0-0ab39698dd35",
   "metadata": {},
   "outputs": [],
   "source": [
    "cs_df['IdxM'] = cs_df['Idx'].str.cat(cs_df['match'].astype(str),sep=\"_\")"
   ]
  },
  {
   "cell_type": "code",
   "execution_count": 19,
   "id": "9ed3d7ee-c901-48ce-b3e0-8c1f485b4200",
   "metadata": {},
   "outputs": [
    {
     "data": {
      "text/html": [
       "<div>\n",
       "<style scoped>\n",
       "    .dataframe tbody tr th:only-of-type {\n",
       "        vertical-align: middle;\n",
       "    }\n",
       "\n",
       "    .dataframe tbody tr th {\n",
       "        vertical-align: top;\n",
       "    }\n",
       "\n",
       "    .dataframe thead th {\n",
       "        text-align: right;\n",
       "    }\n",
       "</style>\n",
       "<table border=\"1\" class=\"dataframe\">\n",
       "  <thead>\n",
       "    <tr style=\"text-align: right;\">\n",
       "      <th></th>\n",
       "      <th>classname</th>\n",
       "      <th>IdxM</th>\n",
       "      <th>Idx</th>\n",
       "      <th>match</th>\n",
       "    </tr>\n",
       "  </thead>\n",
       "  <tbody>\n",
       "    <tr>\n",
       "      <th>0</th>\n",
       "      <td>Code_10000052_9999270_706_1</td>\n",
       "      <td>10000052_9999270_706_1</td>\n",
       "      <td>10000052_9999270_706</td>\n",
       "      <td>1</td>\n",
       "    </tr>\n",
       "    <tr>\n",
       "      <th>1</th>\n",
       "      <td>Code_10000056_9999581_707_0</td>\n",
       "      <td>10000056_9999581_707_0</td>\n",
       "      <td>10000056_9999581_707</td>\n",
       "      <td>0</td>\n",
       "    </tr>\n",
       "    <tr>\n",
       "      <th>2</th>\n",
       "      <td>Code_10000056_9999581_707_1</td>\n",
       "      <td>10000056_9999581_707_1</td>\n",
       "      <td>10000056_9999581_707</td>\n",
       "      <td>1</td>\n",
       "    </tr>\n",
       "    <tr>\n",
       "      <th>3</th>\n",
       "      <td>Code_10000227_10000008_264_2</td>\n",
       "      <td>10000227_10000008_264_2</td>\n",
       "      <td>10000227_10000008_264</td>\n",
       "      <td>2</td>\n",
       "    </tr>\n",
       "    <tr>\n",
       "      <th>4</th>\n",
       "      <td>Code_10000284_9996647_708_0</td>\n",
       "      <td>10000284_9996647_708_0</td>\n",
       "      <td>10000284_9996647_708</td>\n",
       "      <td>0</td>\n",
       "    </tr>\n",
       "  </tbody>\n",
       "</table>\n",
       "</div>"
      ],
      "text/plain": [
       "                      classname                     IdxM  \\\n",
       "0   Code_10000052_9999270_706_1   10000052_9999270_706_1   \n",
       "1   Code_10000056_9999581_707_0   10000056_9999581_707_0   \n",
       "2   Code_10000056_9999581_707_1   10000056_9999581_707_1   \n",
       "3  Code_10000227_10000008_264_2  10000227_10000008_264_2   \n",
       "4   Code_10000284_9996647_708_0   10000284_9996647_708_0   \n",
       "\n",
       "                     Idx match  \n",
       "0   10000052_9999270_706     1  \n",
       "1   10000056_9999581_707     0  \n",
       "2   10000056_9999581_707     1  \n",
       "3  10000227_10000008_264     2  \n",
       "4   10000284_9996647_708     0  "
      ]
     },
     "execution_count": 19,
     "metadata": {},
     "output_type": "execute_result"
    }
   ],
   "source": [
    "er_df.head()"
   ]
  },
  {
   "cell_type": "code",
   "execution_count": 20,
   "id": "12cd0255-898d-4910-baac-f3ff3c8588d0",
   "metadata": {},
   "outputs": [
    {
     "data": {
      "text/plain": [
       "1953970"
      ]
     },
     "execution_count": 20,
     "metadata": {},
     "output_type": "execute_result"
    }
   ],
   "source": [
    "cs_df.shape[0].compute()"
   ]
  },
  {
   "cell_type": "code",
   "execution_count": 21,
   "id": "08bd4aa1-fa1f-471f-8e35-859f43d4ba00",
   "metadata": {},
   "outputs": [
    {
     "data": {
      "text/plain": [
       "1217373"
      ]
     },
     "execution_count": 21,
     "metadata": {},
     "output_type": "execute_result"
    }
   ],
   "source": [
    "er_df.shape[0].compute()"
   ]
  },
  {
   "cell_type": "code",
   "execution_count": 22,
   "id": "95d69d92-545c-4f85-b879-41163c53a0f0",
   "metadata": {},
   "outputs": [],
   "source": [
    "# Get the dataframe that contains one line of java code\n",
    "df = cs_df.loc[~cs_df.IdxM.isin(er_df.IdxM.compute())]"
   ]
  },
  {
   "cell_type": "code",
   "execution_count": 23,
   "id": "4a1bfb19-3049-4c5d-92b0-5fab18619eb5",
   "metadata": {},
   "outputs": [
    {
     "data": {
      "text/plain": [
       "736597"
      ]
     },
     "execution_count": 23,
     "metadata": {},
     "output_type": "execute_result"
    }
   ],
   "source": [
    "df.shape[0].compute()"
   ]
  },
  {
   "cell_type": "code",
   "execution_count": 24,
   "id": "edd61195-c6df-417e-a112-3d515eec2181",
   "metadata": {},
   "outputs": [
    {
     "data": {
      "text/plain": [
       "736597"
      ]
     },
     "execution_count": 24,
     "metadata": {},
     "output_type": "execute_result"
    }
   ],
   "source": [
    "1953970 - 1217373"
   ]
  },
  {
   "cell_type": "code",
   "execution_count": 25,
   "id": "0cbe2562-b26b-452b-8296-8bc9cd22e291",
   "metadata": {},
   "outputs": [
    {
     "data": {
      "text/html": [
       "<div>\n",
       "<style scoped>\n",
       "    .dataframe tbody tr th:only-of-type {\n",
       "        vertical-align: middle;\n",
       "    }\n",
       "\n",
       "    .dataframe tbody tr th {\n",
       "        vertical-align: top;\n",
       "    }\n",
       "\n",
       "    .dataframe thead th {\n",
       "        text-align: right;\n",
       "    }\n",
       "</style>\n",
       "<table border=\"1\" class=\"dataframe\">\n",
       "  <thead>\n",
       "    <tr style=\"text-align: right;\">\n",
       "      <th></th>\n",
       "      <th>Idx</th>\n",
       "      <th>match</th>\n",
       "      <th>Code</th>\n",
       "      <th>IdxM</th>\n",
       "    </tr>\n",
       "  </thead>\n",
       "  <tbody>\n",
       "    <tr>\n",
       "      <th>0</th>\n",
       "      <td>10000096_9914015_1959</td>\n",
       "      <td>0</td>\n",
       "      <td>public class Code_10000096_9914015_1959_0 {\\n\\...</td>\n",
       "      <td>10000096_9914015_1959_0</td>\n",
       "    </tr>\n",
       "    <tr>\n",
       "      <th>1</th>\n",
       "      <td>10000096_9914015_1959</td>\n",
       "      <td>1</td>\n",
       "      <td>@XmlRootElement\\npublic class Code_10000096_99...</td>\n",
       "      <td>10000096_9914015_1959_1</td>\n",
       "    </tr>\n",
       "    <tr>\n",
       "      <th>2</th>\n",
       "      <td>10000160_9999942_263</td>\n",
       "      <td>2</td>\n",
       "      <td>import SomeClassName;\\n</td>\n",
       "      <td>10000160_9999942_263_2</td>\n",
       "    </tr>\n",
       "    <tr>\n",
       "      <th>3</th>\n",
       "      <td>10000439_9999961_2190</td>\n",
       "      <td>4</td>\n",
       "      <td>public class Code_10000439_9999961_2190_4\\n{\\n...</td>\n",
       "      <td>10000439_9999961_2190_4</td>\n",
       "    </tr>\n",
       "    <tr>\n",
       "      <th>4</th>\n",
       "      <td>10001108_10000983_1098</td>\n",
       "      <td>0</td>\n",
       "      <td>class Code_10001108_10000983_1098_0\\n{\\n    pr...</td>\n",
       "      <td>10001108_10000983_1098_0</td>\n",
       "    </tr>\n",
       "  </tbody>\n",
       "</table>\n",
       "</div>"
      ],
      "text/plain": [
       "                      Idx match  \\\n",
       "0   10000096_9914015_1959     0   \n",
       "1   10000096_9914015_1959     1   \n",
       "2    10000160_9999942_263     2   \n",
       "3   10000439_9999961_2190     4   \n",
       "4  10001108_10000983_1098     0   \n",
       "\n",
       "                                                Code                      IdxM  \n",
       "0  public class Code_10000096_9914015_1959_0 {\\n\\...   10000096_9914015_1959_0  \n",
       "1  @XmlRootElement\\npublic class Code_10000096_99...   10000096_9914015_1959_1  \n",
       "2                            import SomeClassName;\\n    10000160_9999942_263_2  \n",
       "3  public class Code_10000439_9999961_2190_4\\n{\\n...   10000439_9999961_2190_4  \n",
       "4  class Code_10001108_10000983_1098_0\\n{\\n    pr...  10001108_10000983_1098_0  "
      ]
     },
     "execution_count": 25,
     "metadata": {},
     "output_type": "execute_result"
    }
   ],
   "source": [
    "df.head()"
   ]
  },
  {
   "cell_type": "code",
   "execution_count": 26,
   "id": "c17569ed-49e1-42a2-a6b7-a9ee99a961d6",
   "metadata": {},
   "outputs": [],
   "source": [
    "#tt = df[df.IdxM=='17170546_17166918_4765_1'].compute()"
   ]
  },
  {
   "cell_type": "code",
   "execution_count": 27,
   "id": "d8cc90eb-0d43-428c-966a-7f07408422e8",
   "metadata": {},
   "outputs": [],
   "source": [
    "#tt"
   ]
  },
  {
   "cell_type": "code",
   "execution_count": 28,
   "id": "f6fd9678-e1d1-410a-931e-f461cbae2512",
   "metadata": {},
   "outputs": [],
   "source": [
    "#tt['Code']"
   ]
  },
  {
   "cell_type": "raw",
   "id": "fbbf689f-e1fd-488b-990e-07e44fe5c12c",
   "metadata": {},
   "source": [
    "# Check out the one lines\n",
    "for index, row in tt.iterrows():\n",
    "    print('<<<@@@@@@@@@@@ ID:{} @@@@@@@@@@@>>>'.format(index))\n",
    "    print(row['Code'])"
   ]
  },
  {
   "cell_type": "markdown",
   "id": "847450c9-84cf-4ed0-a4b7-76a25524118f",
   "metadata": {},
   "source": [
    "## Save all the codes from the posts into a CSV file"
   ]
  },
  {
   "cell_type": "code",
   "execution_count": 29,
   "id": "f437239d-6e40-4b1c-89c3-de332dd368eb",
   "metadata": {},
   "outputs": [],
   "source": [
    "## Save all the codes from the posts into a CSV file\n",
    "\n",
    "# Save to a CSV file\n",
    "_ = df.to_csv('pmdpasscodesnippets_csv/JavaCodeSnippets*.csv', sep=',', index=False)"
   ]
  },
  {
   "cell_type": "markdown",
   "id": "0e2f4a46-742a-4406-8378-16fc7a64dae1",
   "metadata": {},
   "source": [
    "##  Write each record as a .java File into the pmdpasscodesnippets_java directory\n",
    "- We write an MPI process to perform this task better\n",
    "    - write_java_files_MPI.py"
   ]
  },
  {
   "cell_type": "raw",
   "id": "49273cba-ecf0-4557-bddd-3039b82cdb17",
   "metadata": {},
   "source": [
    "# write the Java code Answers into saparate files\n",
    "for index, row in df.iterrows():\n",
    "    #open('javaclasses/Code'+str(index)+'_'+str(row['Idx'])+'_'+str(row['match'])+'.java', 'w').write(row['Code'])\n",
    "    open('pmdpasscodesnippets_java/Code'+'_'+str(row['Idx'])+'_'+str(row['match'])+'.java', 'w').write(row['Code'])\n",
    "   \n",
    "   "
   ]
  },
  {
   "cell_type": "raw",
   "id": "a34cceaf-63ce-4afa-9753-d8e38abac50e",
   "metadata": {},
   "source": [
    "def crate_javafile(row):\n",
    "    open('pmdpasscodesnippets_java/Code_{}_{}.java'.format(row['Idx'], row['match']), 'w').write(row['Code'])"
   ]
  },
  {
   "cell_type": "raw",
   "id": "2e8ba252-c0a6-48a4-918a-9344bde97026",
   "metadata": {},
   "source": [
    "df.apply(crate_javafile, axis=1)"
   ]
  },
  {
   "cell_type": "code",
   "execution_count": null,
   "id": "4bdddb6f-fa0e-4f27-b7fe-eff86f5a0c5d",
   "metadata": {},
   "outputs": [],
   "source": []
  }
 ],
 "metadata": {
  "kernelspec": {
   "display_name": "Python 3.9.5 (gimkl-2020a)",
   "language": "python",
   "name": "python395-gimkl-2020a"
  },
  "language_info": {
   "codemirror_mode": {
    "name": "ipython",
    "version": 3
   },
   "file_extension": ".py",
   "mimetype": "text/x-python",
   "name": "python",
   "nbconvert_exporter": "python",
   "pygments_lexer": "ipython3",
   "version": "3.9.5"
  }
 },
 "nbformat": 4,
 "nbformat_minor": 5
}
