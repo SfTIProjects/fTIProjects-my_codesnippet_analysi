{
 "cells": [
  {
   "cell_type": "code",
   "execution_count": 1,
   "id": "5c7001dc-f497-465a-b7ce-d60d9dc88c41",
   "metadata": {},
   "outputs": [],
   "source": [
    "import time\n",
    "from datetime import timedelta\n",
    "import html\n",
    "\n",
    "import pandas as pd\n",
    "import dask\n",
    "import dask.dataframe as dd\n",
    "from dask.distributed import Client\n",
    "from dask_jobqueue import SLURMCluster"
   ]
  },
  {
   "cell_type": "markdown",
   "id": "c3a7ffcf-b1bd-41f8-932d-672077cbfcd1",
   "metadata": {
    "tags": []
   },
   "source": [
    "## Read csv error files"
   ]
  },
  {
   "cell_type": "code",
   "execution_count": 2,
   "id": "cf20def2-c0d1-4e07-86c2-09c6fb5d9674",
   "metadata": {},
   "outputs": [],
   "source": [
    "pmd_codeerrors_df = dd.read_csv('pmdcodesnippetserrors_csv/PMDJavaCodeSnippetsErrors*.csv', engine='python', error_bad_lines=False, warn_bad_lines=False, dtype=object)\n"
   ]
  },
  {
   "cell_type": "code",
   "execution_count": 3,
   "id": "21fdc20b-179f-4099-8a28-06ea4e19d786",
   "metadata": {},
   "outputs": [
    {
     "data": {
      "text/html": [
       "<div><strong>Dask DataFrame Structure:</strong></div>\n",
       "<div>\n",
       "<style scoped>\n",
       "    .dataframe tbody tr th:only-of-type {\n",
       "        vertical-align: middle;\n",
       "    }\n",
       "\n",
       "    .dataframe tbody tr th {\n",
       "        vertical-align: top;\n",
       "    }\n",
       "\n",
       "    .dataframe thead th {\n",
       "        text-align: right;\n",
       "    }\n",
       "</style>\n",
       "<table border=\"1\" class=\"dataframe\">\n",
       "  <thead>\n",
       "    <tr style=\"text-align: right;\">\n",
       "      <th></th>\n",
       "      <th>filename</th>\n",
       "      <th>msg</th>\n",
       "      <th>error_text</th>\n",
       "    </tr>\n",
       "    <tr>\n",
       "      <th>npartitions=356</th>\n",
       "      <th></th>\n",
       "      <th></th>\n",
       "      <th></th>\n",
       "    </tr>\n",
       "  </thead>\n",
       "  <tbody>\n",
       "    <tr>\n",
       "      <th></th>\n",
       "      <td>object</td>\n",
       "      <td>object</td>\n",
       "      <td>object</td>\n",
       "    </tr>\n",
       "    <tr>\n",
       "      <th></th>\n",
       "      <td>...</td>\n",
       "      <td>...</td>\n",
       "      <td>...</td>\n",
       "    </tr>\n",
       "    <tr>\n",
       "      <th>...</th>\n",
       "      <td>...</td>\n",
       "      <td>...</td>\n",
       "      <td>...</td>\n",
       "    </tr>\n",
       "    <tr>\n",
       "      <th></th>\n",
       "      <td>...</td>\n",
       "      <td>...</td>\n",
       "      <td>...</td>\n",
       "    </tr>\n",
       "    <tr>\n",
       "      <th></th>\n",
       "      <td>...</td>\n",
       "      <td>...</td>\n",
       "      <td>...</td>\n",
       "    </tr>\n",
       "  </tbody>\n",
       "</table>\n",
       "</div>\n",
       "<div>Dask Name: read-csv, 356 tasks</div>"
      ],
      "text/plain": [
       "Dask DataFrame Structure:\n",
       "                filename     msg error_text\n",
       "npartitions=356                            \n",
       "                  object  object     object\n",
       "                     ...     ...        ...\n",
       "...                  ...     ...        ...\n",
       "                     ...     ...        ...\n",
       "                     ...     ...        ...\n",
       "Dask Name: read-csv, 356 tasks"
      ]
     },
     "execution_count": 3,
     "metadata": {},
     "output_type": "execute_result"
    }
   ],
   "source": [
    "pmd_codeerrors_df"
   ]
  },
  {
   "cell_type": "markdown",
   "id": "5342c789-280a-4a4c-b901-682a44553ddf",
   "metadata": {},
   "source": [
    "## Explore one partition"
   ]
  },
  {
   "cell_type": "code",
   "execution_count": 4,
   "id": "49bd373b-bd7b-4278-9f39-712f35cbcbf9",
   "metadata": {},
   "outputs": [],
   "source": [
    "one_pat_df = pmd_codeerrors_df.partitions[1].compute()"
   ]
  },
  {
   "cell_type": "code",
   "execution_count": 5,
   "id": "d6813d4e-2b13-4931-9d2d-db38edb69eef",
   "metadata": {},
   "outputs": [
    {
     "data": {
      "text/plain": [
       "Index(['filename', 'msg', 'error_text'], dtype='object')"
      ]
     },
     "execution_count": 5,
     "metadata": {},
     "output_type": "execute_result"
    }
   ],
   "source": [
    "# see columns\n",
    "one_pat_df.columns"
   ]
  },
  {
   "cell_type": "code",
   "execution_count": 6,
   "id": "9a78bab3-0c1c-458e-9e63-26d7b58a79d3",
   "metadata": {},
   "outputs": [],
   "source": [
    "# rename columns\n",
    "one_pat_df.columns = ['filepath', 'error_msg', 'error_txt'] "
   ]
  },
  {
   "cell_type": "code",
   "execution_count": 7,
   "id": "96ea8a59-cd16-41e5-8c0d-64b060168b59",
   "metadata": {},
   "outputs": [
    {
     "data": {
      "text/plain": [
       "Index(['filepath', 'error_msg', 'error_txt'], dtype='object')"
      ]
     },
     "execution_count": 7,
     "metadata": {},
     "output_type": "execute_result"
    }
   ],
   "source": [
    "# see columns\n",
    "one_pat_df.columns"
   ]
  },
  {
   "cell_type": "code",
   "execution_count": 8,
   "id": "09d7c146-2f7f-4132-8035-fe1050a0516a",
   "metadata": {},
   "outputs": [
    {
     "data": {
      "text/html": [
       "<div>\n",
       "<style scoped>\n",
       "    .dataframe tbody tr th:only-of-type {\n",
       "        vertical-align: middle;\n",
       "    }\n",
       "\n",
       "    .dataframe tbody tr th {\n",
       "        vertical-align: top;\n",
       "    }\n",
       "\n",
       "    .dataframe thead th {\n",
       "        text-align: right;\n",
       "    }\n",
       "</style>\n",
       "<table border=\"1\" class=\"dataframe\">\n",
       "  <thead>\n",
       "    <tr style=\"text-align: right;\">\n",
       "      <th></th>\n",
       "      <th>filepath</th>\n",
       "      <th>error_msg</th>\n",
       "      <th>error_txt</th>\n",
       "    </tr>\n",
       "  </thead>\n",
       "  <tbody>\n",
       "    <tr>\n",
       "      <th>0</th>\n",
       "      <td>/scale_wlg_nobackup/filesets/nobackup/uoo03396...</td>\n",
       "      <td>PMDException: Error while parsing /scale_wlg_n...</td>\n",
       "      <td>net.sourceforge.pmd.PMDException: Error while ...</td>\n",
       "    </tr>\n",
       "    <tr>\n",
       "      <th>1</th>\n",
       "      <td>/scale_wlg_nobackup/filesets/nobackup/uoo03396...</td>\n",
       "      <td>PMDException: Error while parsing /scale_wlg_n...</td>\n",
       "      <td>net.sourceforge.pmd.PMDException: Error while ...</td>\n",
       "    </tr>\n",
       "    <tr>\n",
       "      <th>2</th>\n",
       "      <td>/scale_wlg_nobackup/filesets/nobackup/uoo03396...</td>\n",
       "      <td>PMDException: Error while parsing /scale_wlg_n...</td>\n",
       "      <td>net.sourceforge.pmd.PMDException: Error while ...</td>\n",
       "    </tr>\n",
       "    <tr>\n",
       "      <th>3</th>\n",
       "      <td>/scale_wlg_nobackup/filesets/nobackup/uoo03396...</td>\n",
       "      <td>PMDException: Error while parsing /scale_wlg_n...</td>\n",
       "      <td>net.sourceforge.pmd.PMDException: Error while ...</td>\n",
       "    </tr>\n",
       "    <tr>\n",
       "      <th>4</th>\n",
       "      <td>/scale_wlg_nobackup/filesets/nobackup/uoo03396...</td>\n",
       "      <td>PMDException: Error while parsing /scale_wlg_n...</td>\n",
       "      <td>net.sourceforge.pmd.PMDException: Error while ...</td>\n",
       "    </tr>\n",
       "  </tbody>\n",
       "</table>\n",
       "</div>"
      ],
      "text/plain": [
       "                                            filepath  \\\n",
       "0  /scale_wlg_nobackup/filesets/nobackup/uoo03396...   \n",
       "1  /scale_wlg_nobackup/filesets/nobackup/uoo03396...   \n",
       "2  /scale_wlg_nobackup/filesets/nobackup/uoo03396...   \n",
       "3  /scale_wlg_nobackup/filesets/nobackup/uoo03396...   \n",
       "4  /scale_wlg_nobackup/filesets/nobackup/uoo03396...   \n",
       "\n",
       "                                           error_msg  \\\n",
       "0  PMDException: Error while parsing /scale_wlg_n...   \n",
       "1  PMDException: Error while parsing /scale_wlg_n...   \n",
       "2  PMDException: Error while parsing /scale_wlg_n...   \n",
       "3  PMDException: Error while parsing /scale_wlg_n...   \n",
       "4  PMDException: Error while parsing /scale_wlg_n...   \n",
       "\n",
       "                                           error_txt  \n",
       "0  net.sourceforge.pmd.PMDException: Error while ...  \n",
       "1  net.sourceforge.pmd.PMDException: Error while ...  \n",
       "2  net.sourceforge.pmd.PMDException: Error while ...  \n",
       "3  net.sourceforge.pmd.PMDException: Error while ...  \n",
       "4  net.sourceforge.pmd.PMDException: Error while ...  "
      ]
     },
     "execution_count": 8,
     "metadata": {},
     "output_type": "execute_result"
    }
   ],
   "source": [
    "one_pat_df.head()"
   ]
  },
  {
   "cell_type": "code",
   "execution_count": 9,
   "id": "742a9f5d-f7a0-441e-a7c2-aa4fb53c6508",
   "metadata": {},
   "outputs": [
    {
     "data": {
      "text/html": [
       "<div>\n",
       "<style scoped>\n",
       "    .dataframe tbody tr th:only-of-type {\n",
       "        vertical-align: middle;\n",
       "    }\n",
       "\n",
       "    .dataframe tbody tr th {\n",
       "        vertical-align: top;\n",
       "    }\n",
       "\n",
       "    .dataframe thead th {\n",
       "        text-align: right;\n",
       "    }\n",
       "</style>\n",
       "<table border=\"1\" class=\"dataframe\">\n",
       "  <thead>\n",
       "    <tr style=\"text-align: right;\">\n",
       "      <th></th>\n",
       "      <th>filepath</th>\n",
       "      <th>error_msg</th>\n",
       "      <th>error_txt</th>\n",
       "    </tr>\n",
       "  </thead>\n",
       "  <tbody>\n",
       "    <tr>\n",
       "      <th>2255</th>\n",
       "      <td>/scale_wlg_nobackup/filesets/nobackup/uoo03396...</td>\n",
       "      <td>PMDException: Error while parsing /scale_wlg_n...</td>\n",
       "      <td>net.sourceforge.pmd.PMDException: Error while ...</td>\n",
       "    </tr>\n",
       "    <tr>\n",
       "      <th>2256</th>\n",
       "      <td>/scale_wlg_nobackup/filesets/nobackup/uoo03396...</td>\n",
       "      <td>PMDException: Error while parsing /scale_wlg_n...</td>\n",
       "      <td>net.sourceforge.pmd.PMDException: Error while ...</td>\n",
       "    </tr>\n",
       "    <tr>\n",
       "      <th>2257</th>\n",
       "      <td>/scale_wlg_nobackup/filesets/nobackup/uoo03396...</td>\n",
       "      <td>PMDException: Error while parsing /scale_wlg_n...</td>\n",
       "      <td>net.sourceforge.pmd.PMDException: Error while ...</td>\n",
       "    </tr>\n",
       "    <tr>\n",
       "      <th>2258</th>\n",
       "      <td>/scale_wlg_nobackup/filesets/nobackup/uoo03396...</td>\n",
       "      <td>PMDException: Error while parsing /scale_wlg_n...</td>\n",
       "      <td>net.sourceforge.pmd.PMDException: Error while ...</td>\n",
       "    </tr>\n",
       "    <tr>\n",
       "      <th>2259</th>\n",
       "      <td>/scale_wlg_nobackup/filesets/nobackup/uoo03396...</td>\n",
       "      <td>PMDException: Error while parsing /scale_wlg_n...</td>\n",
       "      <td>net.sourceforge.pmd.PMDException: Error while ...</td>\n",
       "    </tr>\n",
       "  </tbody>\n",
       "</table>\n",
       "</div>"
      ],
      "text/plain": [
       "                                               filepath  \\\n",
       "2255  /scale_wlg_nobackup/filesets/nobackup/uoo03396...   \n",
       "2256  /scale_wlg_nobackup/filesets/nobackup/uoo03396...   \n",
       "2257  /scale_wlg_nobackup/filesets/nobackup/uoo03396...   \n",
       "2258  /scale_wlg_nobackup/filesets/nobackup/uoo03396...   \n",
       "2259  /scale_wlg_nobackup/filesets/nobackup/uoo03396...   \n",
       "\n",
       "                                              error_msg  \\\n",
       "2255  PMDException: Error while parsing /scale_wlg_n...   \n",
       "2256  PMDException: Error while parsing /scale_wlg_n...   \n",
       "2257  PMDException: Error while parsing /scale_wlg_n...   \n",
       "2258  PMDException: Error while parsing /scale_wlg_n...   \n",
       "2259  PMDException: Error while parsing /scale_wlg_n...   \n",
       "\n",
       "                                              error_txt  \n",
       "2255  net.sourceforge.pmd.PMDException: Error while ...  \n",
       "2256  net.sourceforge.pmd.PMDException: Error while ...  \n",
       "2257  net.sourceforge.pmd.PMDException: Error while ...  \n",
       "2258  net.sourceforge.pmd.PMDException: Error while ...  \n",
       "2259  net.sourceforge.pmd.PMDException: Error while ...  "
      ]
     },
     "execution_count": 9,
     "metadata": {},
     "output_type": "execute_result"
    }
   ],
   "source": [
    "one_pat_df.tail()"
   ]
  },
  {
   "cell_type": "code",
   "execution_count": 12,
   "id": "22c54eb0-f899-40c9-907e-d8eae4df475f",
   "metadata": {},
   "outputs": [
    {
     "data": {
      "text/plain": [
       "'PMDException: Error while parsing /scale_wlg_nobackup/filesets/nobackup/uoo03396/SfTI_project_nobackup/SfTI_Projects/StackOverflow_project/my_codesnippet_analysis/codesnippets_java/Code_10000056_9999581_707_0.java'"
      ]
     },
     "execution_count": 12,
     "metadata": {},
     "output_type": "execute_result"
    }
   ],
   "source": [
    "one_pat_df.loc[0, 'error_msg']"
   ]
  },
  {
   "cell_type": "code",
   "execution_count": 11,
   "id": "7d327cb5-65be-4313-a615-5bbd779160f5",
   "metadata": {},
   "outputs": [
    {
     "data": {
      "text/plain": [
       "'net.sourceforge.pmd.PMDException: Error while parsing /scale_wlg_nobackup/filesets/nobackup/uoo03396/SfTI_project_nobackup/SfTI_Projects/StackOverflow_project/my_codesnippet_analysis/codesnippets_java/Code_10000056_9999581_707_0.java\\n\\tat net.sourceforge.pmd.SourceCodeProcessor.processSourceCodeWithoutCache(SourceCodeProcessor.java:124)\\n\\tat net.sourceforge.pmd.SourceCodeProcessor.processSourceCode(SourceCodeProcessor.java:100)\\n\\tat net.sourceforge.pmd.SourceCodeProcessor.processSourceCode(SourceCodeProcessor.java:62)\\n\\tat net.sourceforge.pmd.processor.PmdRunnable.call(PmdRunnable.java:85)\\n\\tat net.sourceforge.pmd.processor.PmdRunnable.call(PmdRunnable.java:29)\\n\\tat java.util.concurrent.FutureTask.run(FutureTask.java:266)\\n\\tat java.util.concurrent.Executors$RunnableAdapter.call(Executors.java:511)\\n\\tat java.util.concurrent.FutureTask.run(FutureTask.java:266)\\n\\tat java.util.concurrent.ThreadPoolExecutor.runWorker(ThreadPoolExecutor.java:1149)\\n\\tat java.util.concurrent.ThreadPoolExecutor$Worker.run(ThreadPoolExecutor.java:624)\\n\\tat java.lang.Thread.run(Thread.java:748)\\nCaused by: net.sourceforge.pmd.lang.java.ast.ParseException: Encountered \" \"(\" \"( \"\" at line 2, column 19.\\nWas expecting one of:\\n    <IDENTIFIER> ...\\n    \"@\" ...\\n    \"@\" ...\\n    \"@\" ...\\n    \"@\" ...\\n    <IDENTIFIER> ...\\n    \\n\\tat net.sourceforge.pmd.lang.java.ast.JavaParser.generateParseException(JavaParser.java:13532)\\n\\tat net.sourceforge.pmd.lang.java.ast.JavaParser.jj_consume_token(JavaParser.java:13416)\\n\\tat net.sourceforge.pmd.lang.java.ast.JavaParser.MethodDeclarator(JavaParser.java:2169)\\n\\tat net.sourceforge.pmd.lang.java.ast.JavaParser.MethodDeclaration(JavaParser.java:2118)\\n\\tat net.sourceforge.pmd.lang.java.ast.JavaParser.ClassOrInterfaceBodyDeclaration(JavaParser.java:1811)\\n\\tat net.sourceforge.pmd.lang.java.ast.JavaParser.ClassOrInterfaceBody(JavaParser.java:1764)\\n\\tat net.sourceforge.pmd.lang.java.ast.JavaParser.ClassOrInterfaceDeclaration(JavaParser.java:905)\\n\\tat net.sourceforge.pmd.lang.java.ast.JavaParser.TypeDeclaration(JavaParser.java:807)\\n\\tat net.sourceforge.pmd.lang.java.ast.JavaParser.CompilationUnit(JavaParser.java:527)\\n\\tat net.sourceforge.pmd.lang.java.AbstractJavaParser.parse(AbstractJavaParser.java:62)\\n\\tat net.sourceforge.pmd.lang.AbstractParser.doParse(AbstractParser.java:44)\\n\\tat net.sourceforge.pmd.SourceCodeProcessor.parse(SourceCodeProcessor.java:136)\\n\\tat net.sourceforge.pmd.SourceCodeProcessor.processSource(SourceCodeProcessor.java:200)\\n\\tat net.sourceforge.pmd.SourceCodeProcessor.processSourceCodeWithoutCache(SourceCodeProcessor.java:118)\\n\\t... 10 more'"
      ]
     },
     "execution_count": 11,
     "metadata": {},
     "output_type": "execute_result"
    }
   ],
   "source": [
    "one_pat_df.loc[0, 'error_txt']"
   ]
  },
  {
   "cell_type": "code",
   "execution_count": 15,
   "id": "fb8bbc70-7a00-44d2-b23f-4077eee9b5ae",
   "metadata": {},
   "outputs": [
    {
     "data": {
      "text/plain": [
       "'net.sourceforge.pmd.PMDException: Error while parsing /scale_wlg_nobackup/filesets/nobackup/uoo03396/SfTI_project_nobackup/SfTI_Projects/StackOverflow_project/my_codesnippet_analysis/codesnippets_java/Code_10105301_10103998_3090_0.java\\n\\tat net.sourceforge.pmd.SourceCodeProcessor.processSourceCodeWithoutCache(SourceCodeProcessor.java:124)\\n\\tat net.sourceforge.pmd.SourceCodeProcessor.processSourceCode(SourceCodeProcessor.java:100)\\n\\tat net.sourceforge.pmd.SourceCodeProcessor.processSourceCode(SourceCodeProcessor.java:62)\\n\\tat net.sourceforge.pmd.processor.PmdRunnable.call(PmdRunnable.java:85)\\n\\tat net.sourceforge.pmd.processor.PmdRunnable.call(PmdRunnable.java:29)\\n\\tat java.util.concurrent.FutureTask.run(FutureTask.java:266)\\n\\tat java.util.concurrent.Executors$RunnableAdapter.call(Executors.java:511)\\n\\tat java.util.concurrent.FutureTask.run(FutureTask.java:266)\\n\\tat java.util.concurrent.ThreadPoolExecutor.runWorker(ThreadPoolExecutor.java:1149)\\n\\tat java.util.concurrent.ThreadPoolExecutor$Worker.run(ThreadPoolExecutor.java:624)\\n\\tat java.lang.Thread.run(Thread.java:748)\\nCaused by: net.sourceforge.pmd.lang.java.ast.ParseException: Encountered \" \"(\" \"( \"\" at line 6, column 20.\\nWas expecting one of:\\n    <IDENTIFIER> ...\\n    \"@\" ...\\n    \"@\" ...\\n    \"@\" ...\\n    \"@\" ...\\n    <IDENTIFIER> ...\\n    \\n\\tat net.sourceforge.pmd.lang.java.ast.JavaParser.generateParseException(JavaParser.java:13532)\\n\\tat net.sourceforge.pmd.lang.java.ast.JavaParser.jj_consume_token(JavaParser.java:13416)\\n\\tat net.sourceforge.pmd.lang.java.ast.JavaParser.MethodDeclarator(JavaParser.java:2169)\\n\\tat net.sourceforge.pmd.lang.java.ast.JavaParser.MethodDeclaration(JavaParser.java:2118)\\n\\tat net.sourceforge.pmd.lang.java.ast.JavaParser.ClassOrInterfaceBodyDeclaration(JavaParser.java:1811)\\n\\tat net.sourceforge.pmd.lang.java.ast.JavaParser.ClassOrInterfaceBody(JavaParser.java:1764)\\n\\tat net.sourceforge.pmd.lang.java.ast.JavaParser.ClassOrInterfaceDeclaration(JavaParser.java:905)\\n\\tat net.sourceforge.pmd.lang.java.ast.JavaParser.TypeDeclaration(JavaParser.java:807)\\n\\tat net.sourceforge.pmd.lang.java.ast.JavaParser.CompilationUnit(JavaParser.java:527)\\n\\tat net.sourceforge.pmd.lang.java.AbstractJavaParser.parse(AbstractJavaParser.java:62)\\n\\tat net.sourceforge.pmd.lang.AbstractParser.doParse(AbstractParser.java:44)\\n\\tat net.sourceforge.pmd.SourceCodeProcessor.parse(SourceCodeProcessor.java:136)\\n\\tat net.sourceforge.pmd.SourceCodeProcessor.processSource(SourceCodeProcessor.java:200)\\n\\tat net.sourceforge.pmd.SourceCodeProcessor.processSourceCodeWithoutCache(SourceCodeProcessor.java:118)\\n\\t... 10 more'"
      ]
     },
     "execution_count": 15,
     "metadata": {},
     "output_type": "execute_result"
    }
   ],
   "source": [
    "one_pat_df.loc[2257, 'error_txt']"
   ]
  },
  {
   "cell_type": "code",
   "execution_count": null,
   "id": "7d6bddd2-af30-40a8-9369-44913b22f62c",
   "metadata": {},
   "outputs": [],
   "source": []
  },
  {
   "cell_type": "code",
   "execution_count": null,
   "id": "506a0aef-4c03-4dee-b340-60db38fb811e",
   "metadata": {},
   "outputs": [],
   "source": []
  },
  {
   "cell_type": "code",
   "execution_count": null,
   "id": "22e05276-c16b-4fc0-a125-6dc7971b0915",
   "metadata": {},
   "outputs": [],
   "source": []
  },
  {
   "cell_type": "code",
   "execution_count": null,
   "id": "f550c9ec-9231-4f93-988d-35f44e6f0c26",
   "metadata": {},
   "outputs": [],
   "source": []
  },
  {
   "cell_type": "markdown",
   "id": "1e05561c-0c37-4f10-af79-d4ccba2a8ca6",
   "metadata": {},
   "source": [
    "## Extract just the file names into a new column"
   ]
  },
  {
   "cell_type": "code",
   "execution_count": 50,
   "id": "6ad5e1ec-c7d6-4ff6-bcc5-731797a4430d",
   "metadata": {},
   "outputs": [],
   "source": [
    "# regex to extract filename from file path\n",
    "#https://stackoverflow.com/questions/58181729/how-to-extract-the-filename-from-a-string-using-regular-expression\n",
    "one_pat_df['filename'] = one_pat_df.filepath.str.extract(r'([^\\/]+(?=\\.))', flags=0, expand=True)"
   ]
  },
  {
   "cell_type": "code",
   "execution_count": 52,
   "id": "1f60eb32-8daa-4859-86d1-4c8735a3a7d5",
   "metadata": {},
   "outputs": [
    {
     "data": {
      "text/html": [
       "<div>\n",
       "<style scoped>\n",
       "    .dataframe tbody tr th:only-of-type {\n",
       "        vertical-align: middle;\n",
       "    }\n",
       "\n",
       "    .dataframe tbody tr th {\n",
       "        vertical-align: top;\n",
       "    }\n",
       "\n",
       "    .dataframe thead th {\n",
       "        text-align: right;\n",
       "    }\n",
       "</style>\n",
       "<table border=\"1\" class=\"dataframe\">\n",
       "  <thead>\n",
       "    <tr style=\"text-align: right;\">\n",
       "      <th></th>\n",
       "      <th>filepath</th>\n",
       "      <th>error_msg</th>\n",
       "      <th>error_txt</th>\n",
       "      <th>filename</th>\n",
       "    </tr>\n",
       "  </thead>\n",
       "  <tbody>\n",
       "    <tr>\n",
       "      <th>0</th>\n",
       "      <td>/scale_wlg_nobackup/filesets/nobackup/uoo03396...</td>\n",
       "      <td>PMDException: Error while parsing /scale_wlg_n...</td>\n",
       "      <td>net.sourceforge.pmd.PMDException: Error while ...</td>\n",
       "      <td>Code_10000056_9999581_707_0</td>\n",
       "    </tr>\n",
       "    <tr>\n",
       "      <th>1</th>\n",
       "      <td>/scale_wlg_nobackup/filesets/nobackup/uoo03396...</td>\n",
       "      <td>PMDException: Error while parsing /scale_wlg_n...</td>\n",
       "      <td>net.sourceforge.pmd.PMDException: Error while ...</td>\n",
       "      <td>Code_10000056_9999581_707_1</td>\n",
       "    </tr>\n",
       "    <tr>\n",
       "      <th>2</th>\n",
       "      <td>/scale_wlg_nobackup/filesets/nobackup/uoo03396...</td>\n",
       "      <td>PMDException: Error while parsing /scale_wlg_n...</td>\n",
       "      <td>net.sourceforge.pmd.PMDException: Error while ...</td>\n",
       "      <td>Code_10000227_10000008_264_2</td>\n",
       "    </tr>\n",
       "    <tr>\n",
       "      <th>3</th>\n",
       "      <td>/scale_wlg_nobackup/filesets/nobackup/uoo03396...</td>\n",
       "      <td>PMDException: Error while parsing /scale_wlg_n...</td>\n",
       "      <td>net.sourceforge.pmd.PMDException: Error while ...</td>\n",
       "      <td>Code_10000284_9996647_708_0</td>\n",
       "    </tr>\n",
       "    <tr>\n",
       "      <th>4</th>\n",
       "      <td>/scale_wlg_nobackup/filesets/nobackup/uoo03396...</td>\n",
       "      <td>PMDException: Error while parsing /scale_wlg_n...</td>\n",
       "      <td>net.sourceforge.pmd.PMDException: Error while ...</td>\n",
       "      <td>Code_10000497_10000468_1606_0</td>\n",
       "    </tr>\n",
       "  </tbody>\n",
       "</table>\n",
       "</div>"
      ],
      "text/plain": [
       "                                            filepath  \\\n",
       "0  /scale_wlg_nobackup/filesets/nobackup/uoo03396...   \n",
       "1  /scale_wlg_nobackup/filesets/nobackup/uoo03396...   \n",
       "2  /scale_wlg_nobackup/filesets/nobackup/uoo03396...   \n",
       "3  /scale_wlg_nobackup/filesets/nobackup/uoo03396...   \n",
       "4  /scale_wlg_nobackup/filesets/nobackup/uoo03396...   \n",
       "\n",
       "                                           error_msg  \\\n",
       "0  PMDException: Error while parsing /scale_wlg_n...   \n",
       "1  PMDException: Error while parsing /scale_wlg_n...   \n",
       "2  PMDException: Error while parsing /scale_wlg_n...   \n",
       "3  PMDException: Error while parsing /scale_wlg_n...   \n",
       "4  PMDException: Error while parsing /scale_wlg_n...   \n",
       "\n",
       "                                           error_txt  \\\n",
       "0  net.sourceforge.pmd.PMDException: Error while ...   \n",
       "1  net.sourceforge.pmd.PMDException: Error while ...   \n",
       "2  net.sourceforge.pmd.PMDException: Error while ...   \n",
       "3  net.sourceforge.pmd.PMDException: Error while ...   \n",
       "4  net.sourceforge.pmd.PMDException: Error while ...   \n",
       "\n",
       "                        filename  \n",
       "0    Code_10000056_9999581_707_0  \n",
       "1    Code_10000056_9999581_707_1  \n",
       "2   Code_10000227_10000008_264_2  \n",
       "3    Code_10000284_9996647_708_0  \n",
       "4  Code_10000497_10000468_1606_0  "
      ]
     },
     "execution_count": 52,
     "metadata": {},
     "output_type": "execute_result"
    }
   ],
   "source": [
    "one_pat_df.head()"
   ]
  },
  {
   "cell_type": "code",
   "execution_count": 53,
   "id": "ac32c93c-c8c4-4cfe-a4e3-322cd51791a4",
   "metadata": {},
   "outputs": [
    {
     "data": {
      "text/plain": [
       "2260"
      ]
     },
     "execution_count": 53,
     "metadata": {},
     "output_type": "execute_result"
    }
   ],
   "source": [
    "one_pat_df.shape[0]"
   ]
  },
  {
   "cell_type": "markdown",
   "id": "abc9d80a-89df-4b3f-a3d7-bc7b89aaaf42",
   "metadata": {},
   "source": [
    "#### Get the unique classes dataframe"
   ]
  },
  {
   "cell_type": "code",
   "execution_count": null,
   "id": "a7379349-147f-46eb-bec3-be370a5cd290",
   "metadata": {},
   "outputs": [],
   "source": [
    "# get the unique error messages\n",
    "class_one_pat_df_df = pmd_codeviolations_df['class'].drop_duplicates()"
   ]
  },
  {
   "cell_type": "code",
   "execution_count": null,
   "id": "82a9526a-421b-4003-9759-a0442355165c",
   "metadata": {},
   "outputs": [],
   "source": []
  },
  {
   "cell_type": "code",
   "execution_count": null,
   "id": "36667e02-a803-487b-b77b-96636342810b",
   "metadata": {},
   "outputs": [],
   "source": []
  },
  {
   "cell_type": "code",
   "execution_count": null,
   "id": "df31f437-9e74-48e2-91ae-ad4fbac3f1dd",
   "metadata": {},
   "outputs": [],
   "source": [
    "nn"
   ]
  },
  {
   "cell_type": "markdown",
   "id": "7661c28d-b306-42b1-ab01-ec7821c8f235",
   "metadata": {
    "tags": []
   },
   "source": [
    "## Start a Dask cluster using SLURM jobs as workers"
   ]
  },
  {
   "cell_type": "code",
   "execution_count": null,
   "id": "0216ff53-64ce-4635-923d-ba00444eed69",
   "metadata": {},
   "outputs": [],
   "source": [
    "#http://jobqueue.dask.org/en/latest/generated/dask_jobqueue.SLURMCluster.html\n",
    "dask.config.set(\n",
    "    {\n",
    "        \"distributed.worker.memory.target\": False,  # avoid spilling to disk\n",
    "        \"distributed.worker.memory.spill\": False,  # avoid spilling to disk\n",
    "    }\n",
    ")\n",
    "cluster = SLURMCluster(\n",
    "    cores=10, #cores=24, # we set each job to have 1 Worker, each using 10 cores (threads) and 8 GB of memory\n",
    "    processes=2,\n",
    "    memory=\"8GiB\",\n",
    "    walltime=\"0-00:30\",# walltime=\"0-00:50\",\n",
    "    log_directory=\"../dask/logs\",  # folder for SLURM logs for each worker\n",
    "    local_directory=\"../dask\",  # folder for workers data\n",
    ")"
   ]
  },
  {
   "cell_type": "markdown",
   "id": "8b7ef768-6ce6-4696-a16b-83206ffe3e41",
   "metadata": {},
   "source": [
    "Spawn between 20 to 100 workers and connect a client to be able use them."
   ]
  },
  {
   "cell_type": "code",
   "execution_count": null,
   "id": "0ecdceec-2192-4343-ad4e-8826616caffb",
   "metadata": {},
   "outputs": [],
   "source": [
    "#cluster.scale(n=20) # ask for 20 jobs or workers\n",
    "# This also works with adaptive clusters. This automatically launches and kill workers based on load.\n",
    "# we tell our cluster to autoscale between 10 and 20 workers depending on the load\n",
    "cluster.adapt(minimum_jobs=10, maximum_jobs=200)\n",
    "#cluster.adapt(maximum_jobs=20)\n",
    "client = Client(cluster)\n",
    "client"
   ]
  },
  {
   "cell_type": "code",
   "execution_count": null,
   "id": "74edb33c-be44-4c8d-ae56-9978c923447c",
   "metadata": {},
   "outputs": [],
   "source": []
  },
  {
   "cell_type": "code",
   "execution_count": null,
   "id": "328d170f-23e2-4ab3-a0e2-6a339505feba",
   "metadata": {},
   "outputs": [],
   "source": [
    "pmd_codeviolations_init_len = pmd_codeerrors_df.shape[0].compute()\n",
    "print('Initial number of errors {}'.format(pmd_codeviolations_init_len))"
   ]
  },
  {
   "cell_type": "code",
   "execution_count": null,
   "id": "045d8610-5e47-41a1-8289-a5fbbb47455e",
   "metadata": {},
   "outputs": [],
   "source": [
    "pmd_codeviolations_nonan_len =pmd_codeviolations_df.shape[0].compute()\n",
    "print('Number of violations after removing the nans in the class column {}'.format(pmd_codeviolations_nonan_len))"
   ]
  },
  {
   "cell_type": "code",
   "execution_count": null,
   "id": "55eb9360-6090-4b22-b261-5fa59851ee4d",
   "metadata": {},
   "outputs": [],
   "source": [
    "print('Difference {}'.format(pmd_codeviolations_init_len - pmd_codeviolations_nonan_len))"
   ]
  },
  {
   "cell_type": "code",
   "execution_count": null,
   "id": "b13dc104-ac8a-4f23-adb4-015e098e860e",
   "metadata": {},
   "outputs": [],
   "source": [
    "# drop classes that do not have this pattern e.g., Code_10000096_9914015_1959_0\t\n",
    "pmd_codeviolations_df = pmd_codeviolations_df[pmd_codeviolations_df['class'].str.contains('^Code_\\d+_\\d+_\\d+_\\d+', regex=True)]"
   ]
  },
  {
   "cell_type": "code",
   "execution_count": null,
   "id": "36e62f17-090e-495b-9023-36941aeee6d2",
   "metadata": {},
   "outputs": [],
   "source": [
    "pmd_codeviolations_unkownclass_len = pmd_codeviolations_df.shape[0].compute()\n",
    "print('Number of violations after removing the onces caused by unknown class e.g. inner classes {}'.format(pmd_codeviolations_nonan_len))"
   ]
  },
  {
   "cell_type": "code",
   "execution_count": null,
   "id": "b4397c4c-c2ac-4516-b8a4-d96da752f9fa",
   "metadata": {},
   "outputs": [],
   "source": [
    "print('Difference {}'.format(pmd_codeviolations_nonan_len - pmd_codeviolations_unkownclass_len))"
   ]
  },
  {
   "cell_type": "code",
   "execution_count": null,
   "id": "5a5e21fa-367c-44ce-9bbd-45b72bcca9bc",
   "metadata": {},
   "outputs": [],
   "source": [
    "# We did not name our classes following the naming convensions \n",
    "# hence we will remove all the records that have Our class name mentioned in the ClassNamingConensions \n",
    "# - The logic for using this is that the class may contain contain a subclass that is not following the naming convension\n",
    "pmd_codeviolations_pgmr_df = pmd_codeviolations_df[\n",
    "    ~pmd_codeviolations_df['text'].str.contains('^Code_\\d+_\\d+_\\d+_\\d+', regex=True) & \n",
    "    pmd_codeviolations_df['rule'].str.contains('ClassNamingConventions')\n",
    "]"
   ]
  },
  {
   "cell_type": "code",
   "execution_count": null,
   "id": "6b18db22-9a2a-432c-b36a-b6c5bfc65843",
   "metadata": {},
   "outputs": [],
   "source": [
    "pmd_codeviolations_pgmr_len = pmd_codeviolations_pgmr_df.shape[0].compute()\n",
    "print('Number of violations caused by programmer {}'.format(pmd_codeviolations_pgmr_len))"
   ]
  },
  {
   "cell_type": "code",
   "execution_count": null,
   "id": "afc1d8d0-e3f3-4828-9152-36ef88d56e16",
   "metadata": {},
   "outputs": [],
   "source": [
    "print('Difference {}'.format(pmd_codeviolations_unkownclass_len - pmd_codeviolations_pgmr_len))"
   ]
  },
  {
   "cell_type": "code",
   "execution_count": null,
   "id": "15f88efc-1e6f-46a0-b3f2-5c032c69b543",
   "metadata": {},
   "outputs": [],
   "source": [
    "# Get all the dataset that does not apply to our naming convension cases\n",
    "#df = df[~(df['class'].isin(df2['class'].compute())&df['rule'].isin(df2['rule'].compute())&df['ruleset'].isin(df2['ruleset'].compute()))]\n",
    "pmd_codeviolations_df = pmd_codeviolations_df[~(\n",
    "    pmd_codeviolations_df['class'].isin(pmd_codeviolations_pgmr_df['class'].compute()) & \n",
    "    pmd_codeviolations_df['rule'].isin(pmd_codeviolations_pgmr_df['rule'].compute()) & \n",
    "    pmd_codeviolations_df['ruleset'].isin(pmd_codeviolations_pgmr_df['ruleset'].compute())\n",
    ")]"
   ]
  },
  {
   "cell_type": "code",
   "execution_count": null,
   "id": "db896daf-ce81-444e-aa63-f1682c8806be",
   "metadata": {},
   "outputs": [],
   "source": [
    "pmd_codeviolations_len = pmd_codeviolations_df.shape[0].compute()\n",
    "print('Number of violations caused by programmer {}'.format(pmd_codeviolations_len))"
   ]
  },
  {
   "cell_type": "code",
   "execution_count": null,
   "id": "99e33671-d2fe-4caa-b6c5-a5264c10bad4",
   "metadata": {},
   "outputs": [],
   "source": [
    "print('Difference {}'.format(pmd_codeviolations_len- pmd_codeviolations_pgmr_len))"
   ]
  },
  {
   "cell_type": "code",
   "execution_count": null,
   "id": "d0000de3-e1f0-4073-b1f3-6772b5f160c9",
   "metadata": {},
   "outputs": [],
   "source": [
    "#count the unique classes\n",
    "pmd_codeviolations_df.groupby('class').count().shape[0].compute()"
   ]
  },
  {
   "cell_type": "code",
   "execution_count": null,
   "id": "243cb6f3-d761-4112-a8ac-afc852a40f69",
   "metadata": {},
   "outputs": [],
   "source": [
    "class_df = pmd_codeviolations_df['class'].drop_duplicates().compute()"
   ]
  },
  {
   "cell_type": "code",
   "execution_count": null,
   "id": "c7ffa1bd-ad60-4847-bb74-0a4a943e9c9b",
   "metadata": {},
   "outputs": [],
   "source": [
    "class_df.shape[0]"
   ]
  },
  {
   "cell_type": "code",
   "execution_count": null,
   "id": "7cb61bea-ea89-4c2a-ad26-f8bcaca62738",
   "metadata": {},
   "outputs": [],
   "source": []
  },
  {
   "cell_type": "code",
   "execution_count": null,
   "id": "2d53fb10-3e50-4272-936d-7113292020f0",
   "metadata": {},
   "outputs": [],
   "source": [
    "#save it in a csv file\n",
    "class_df.to_csv('pmdviolationsclassnames_csv/PMDViolationsClassNames*.csv', sep=',', index=False)"
   ]
  },
  {
   "cell_type": "code",
   "execution_count": null,
   "id": "e71e5a00-aa04-4c01-b66c-f5c5786b0235",
   "metadata": {},
   "outputs": [],
   "source": [
    "grp_df = pmd_codeviolations_df.groupby(['class', 'rule', ])"
   ]
  },
  {
   "cell_type": "code",
   "execution_count": null,
   "id": "1a09b94c-166c-4ae3-899e-0e06d16d9272",
   "metadata": {},
   "outputs": [],
   "source": [
    "grp_df.first()"
   ]
  },
  {
   "cell_type": "code",
   "execution_count": null,
   "id": "8ad09c88-cb64-4b6a-a8d7-ac168b8d24fd",
   "metadata": {},
   "outputs": [],
   "source": [
    "grp_df.first().compute()"
   ]
  },
  {
   "cell_type": "raw",
   "id": "0b5483f4-76c4-4ae5-a169-e0326239298b",
   "metadata": {},
   "source": []
  },
  {
   "cell_type": "code",
   "execution_count": null,
   "id": "0cdbcc07-5517-4c7c-8178-3c5c9694cb5e",
   "metadata": {},
   "outputs": [],
   "source": []
  }
 ],
 "metadata": {
  "kernelspec": {
   "display_name": "Python 3.9.5 (gimkl-2020a)",
   "language": "python",
   "name": "python395-gimkl-2020a"
  },
  "language_info": {
   "codemirror_mode": {
    "name": "ipython",
    "version": 3
   },
   "file_extension": ".py",
   "mimetype": "text/x-python",
   "name": "python",
   "nbconvert_exporter": "python",
   "pygments_lexer": "ipython3",
   "version": "3.9.5"
  }
 },
 "nbformat": 4,
 "nbformat_minor": 5
}
