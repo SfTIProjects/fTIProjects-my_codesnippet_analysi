{
 "cells": [
  {
   "cell_type": "code",
   "execution_count": 1,
   "id": "f7f4ccb5-1d92-4622-a471-40b735920801",
   "metadata": {},
   "outputs": [],
   "source": [
    "import time\n",
    "from datetime import timedelta\n",
    "\n",
    "import html\n",
    "import re\n",
    "\n",
    "import numpy as np\n",
    "import pandas as pd\n",
    "import xml.etree.ElementTree as et\n",
    "\n",
    "import dask\n",
    "import dask.dataframe as dd\n",
    "import dask.bag as bd\n",
    "from dask.distributed import Client\n",
    "from dask_jobqueue import SLURMCluster"
   ]
  },
  {
   "cell_type": "code",
   "execution_count": 2,
   "id": "804db691-e344-47cc-965c-c46bcf0e4063",
   "metadata": {},
   "outputs": [],
   "source": [
    "##########################################################\n",
    "#Step 1. Format 'pmd_rules_results.xml' from Linux terminal#\n",
    "##########################################################\n",
    "# -'pmd_rules_results.xml' is not properly formated\n",
    "# -We used linux format command to format 'pmd_rules_results.xml' to save it in 'pmd_rules_results_fmt.xml'\n",
    "# $  xmllint --format pmd_rules_results.xml > pmd_rules_results_fmt.xml\n",
    "##############################################################################\n",
    "#Step 2. Remove some lines in 'test_flaws_rem_sm_tags_fmt' from Linux terminal#\n",
    "##############################################################################\n",
    "# remove lines 1 to 2 and the last line of the 'pmd_rules_results_fmt.xml'\n",
    "# MacOS $  sed -i '' '1,2d;$d' pmd_rules_results_fmt.xml \n",
    "# Linux  $  ZA               \n",
    "# blocksize breaks it into partitions\n",
    "#pmd_rules_result_bd = bd.read_text('pmd_rules_results_fmt.xml', blocksize='10MB')\n",
    "#Use '</violation>\\n' as linedelimiter\n",
    "pmd_rules_result_bd = bd.read_text('pmd_rules_results_fmt.xml', blocksize='5MB', linedelimiter='</violation>\\n')\n",
    "#pmd_rules_result_bd = bd.read_text('pmd_rules_results_fmt.xml', blocksize=1e8, linedelimiter='</violation>\\n')\n",
    "#pmd_rules_result_bd = bd.read_text('pmd_rules_results_fmt.xml', blocksize=None, linedelimiter='</violation>\\n')\n",
    "#pmd_rules_result_bd = bd.read_text('pmd_rules_results.xml', linedelimiter='</violation>\\n')"
   ]
  },
  {
   "cell_type": "code",
   "execution_count": 3,
   "id": "9330c6f5-4a21-4c1a-95f8-53fe7d16ee5c",
   "metadata": {},
   "outputs": [
    {
     "data": {
      "text/plain": [
       "dask.bag<bag-from-delayed, npartitions=1116>"
      ]
     },
     "execution_count": 3,
     "metadata": {},
     "output_type": "execute_result"
    }
   ],
   "source": [
    "# check to see number of partitions\n",
    "# find the number of partitions\n",
    "#pmd_rules_result_bg.npartitions # or\n",
    "pmd_rules_result_bd"
   ]
  },
  {
   "cell_type": "code",
   "execution_count": 4,
   "id": "0c5ba361-3aea-4a07-9659-55c83c4e72e5",
   "metadata": {},
   "outputs": [
    {
     "data": {
      "text/plain": [
       "('  <file name=\"/scale_wlg_nobackup/filesets/nobackup/uoo03396/SfTI_project_nobackup/SfTI_Projects/StackOverflow_project/my_codesnippet_analysis/codesnippets_java/Code_10000096_9914015_1959_0.java\">\\n    <violation beginline=\"1\" endline=\"11\" begincolumn=\"43\" endcolumn=\"1\" rule=\"UseUtilityClass\" ruleset=\"Design\" class=\"Code_10000096_9914015_1959_0\" externalInfoUrl=\"https://pmd.github.io/pmd-6.39.0/pmd_rules_java_design.html#useutilityclass\" priority=\"3\">\\nAll methods are static.  Consider using a utility class instead. Alternatively, you could add a private constructor or make the class abstract to silence this warning.\\n</violation>\\n',)"
      ]
     },
     "execution_count": 4,
     "metadata": {},
     "output_type": "execute_result"
    }
   ],
   "source": [
    "# look at the first row\n",
    "pmd_rules_result_bd.take(1)"
   ]
  },
  {
   "cell_type": "code",
   "execution_count": 5,
   "id": "a17e79ca-8519-425b-8f6c-08c3ba2100bd",
   "metadata": {},
   "outputs": [],
   "source": [
    "# look at the first 50 row\n",
    "#pmd_rules_result_bd.take(50)"
   ]
  },
  {
   "cell_type": "code",
   "execution_count": null,
   "id": "0b41df39-ad76-493b-9aed-94f4999bcae1",
   "metadata": {},
   "outputs": [],
   "source": []
  },
  {
   "cell_type": "markdown",
   "id": "e2cf1da3-e1bd-46a8-8f76-290a39334d4a",
   "metadata": {},
   "source": [
    "### We are intrested in getting the 'violation'\n",
    "- so we can get rid of the files\n",
    "- then filter"
   ]
  },
  {
   "cell_type": "code",
   "execution_count": 6,
   "id": "ecf8ce3f-2087-49f5-add5-c0d0028fa2aa",
   "metadata": {},
   "outputs": [],
   "source": [
    "# replace all the '<file>' with '</file>' so that we can access it using xml.etree.ElementTree\n",
    "violations_rows_bd = pmd_rules_result_bd.map(lambda line: re.sub(r'\\s*<\\s*file.*>|.*/file>', '', line))"
   ]
  },
  {
   "cell_type": "code",
   "execution_count": 7,
   "id": "fed49c3a-8d87-4b3b-953b-fcbb7f662eaa",
   "metadata": {},
   "outputs": [
    {
     "data": {
      "text/plain": [
       "('\\n    <violation beginline=\"1\" endline=\"11\" begincolumn=\"43\" endcolumn=\"1\" rule=\"UseUtilityClass\" ruleset=\"Design\" class=\"Code_10000096_9914015_1959_0\" externalInfoUrl=\"https://pmd.github.io/pmd-6.39.0/pmd_rules_java_design.html#useutilityclass\" priority=\"3\">\\nAll methods are static.  Consider using a utility class instead. Alternatively, you could add a private constructor or make the class abstract to silence this warning.\\n</violation>\\n',)"
      ]
     },
     "execution_count": 7,
     "metadata": {},
     "output_type": "execute_result"
    }
   ],
   "source": [
    "# look at the first row\n",
    "violations_rows_bd.take(1)"
   ]
  },
  {
   "cell_type": "code",
   "execution_count": 8,
   "id": "b197e97d-8ce5-4163-a2dd-5a8c2e85e868",
   "metadata": {},
   "outputs": [],
   "source": [
    "# look at the first 50 row\n",
    "#violations_rows_bd.take(50)"
   ]
  },
  {
   "cell_type": "code",
   "execution_count": 9,
   "id": "369f4523-dd10-4c0f-8c24-4212d6a7f838",
   "metadata": {},
   "outputs": [],
   "source": [
    "#filter only <violation ...\n",
    "# Regex can also be applied here\n",
    "#violations_rows_top_bd = violations_rows_bd.filter(lambda line: re.findall(r'\\s*<violation', line))\n",
    "violations_rows_bd = violations_rows_bd.filter(lambda line: line.find('<violation' or '< violation') >= 0)"
   ]
  },
  {
   "cell_type": "code",
   "execution_count": 10,
   "id": "425edfb4-7c1a-481b-9552-caa582786486",
   "metadata": {},
   "outputs": [
    {
     "data": {
      "text/plain": [
       "('\\n    <violation beginline=\"1\" endline=\"11\" begincolumn=\"43\" endcolumn=\"1\" rule=\"UseUtilityClass\" ruleset=\"Design\" class=\"Code_10000096_9914015_1959_0\" externalInfoUrl=\"https://pmd.github.io/pmd-6.39.0/pmd_rules_java_design.html#useutilityclass\" priority=\"3\">\\nAll methods are static.  Consider using a utility class instead. Alternatively, you could add a private constructor or make the class abstract to silence this warning.\\n</violation>\\n',)"
      ]
     },
     "execution_count": 10,
     "metadata": {},
     "output_type": "execute_result"
    }
   ],
   "source": [
    "# look at the first row\n",
    "violations_rows_bd.take(1)"
   ]
  },
  {
   "cell_type": "code",
   "execution_count": 11,
   "id": "c18b6058-6cf3-4ae4-a168-52747d96e512",
   "metadata": {},
   "outputs": [],
   "source": [
    "# look at the first 50 row\n",
    "#violations_rows_bd.take(50)"
   ]
  },
  {
   "cell_type": "markdown",
   "id": "98428e26-bbef-476a-a50d-af623b6c9166",
   "metadata": {},
   "source": [
    "### Use ElementTree to get all the attrbutes and text in xmlor html tags"
   ]
  },
  {
   "cell_type": "code",
   "execution_count": 12,
   "id": "7dd3ac45-f243-435c-8d99-9a5630f9a157",
   "metadata": {},
   "outputs": [],
   "source": [
    "# This will give us just the attributes in the violation tag: <violation ...>\n",
    "#violations_rows_bd = violations_rows_bd.map(lambda row: et.fromstring(row).attrib)"
   ]
  },
  {
   "cell_type": "code",
   "execution_count": 13,
   "id": "74224427-6a18-4d10-84a6-e1322091ae6b",
   "metadata": {},
   "outputs": [],
   "source": [
    "# This will give us just the text enclosed in the violation tag: <violation ...>\n",
    "#violations_rows_bd = violations_rows_bd.map(lambda row: {'text':et.fromstring(row).text})"
   ]
  },
  {
   "cell_type": "markdown",
   "id": "7496dc7c-16e0-4682-8864-67d35a9945f8",
   "metadata": {},
   "source": [
    "- To get both the the attrbutes and text in the violation tag \n",
    "    - We use add_text_to_dict_attrb() to achieve that"
   ]
  },
  {
   "cell_type": "code",
   "execution_count": 14,
   "id": "532f450e-1ef3-4f96-8618-7af4b383a851",
   "metadata": {},
   "outputs": [],
   "source": [
    "def add_text_to_dict_attrb(dictionary, txt):\n",
    "    txt = txt.strip('\\n')\n",
    "    dictionary['text'] = txt\n",
    "    return dictionary"
   ]
  },
  {
   "cell_type": "raw",
   "id": "f69dbddd-d5ad-4464-8169-d5fb15db4d2f",
   "metadata": {},
   "source": [
    "def add_text_to_dict_attrb(dictionary, txt):\n",
    "    #change some key names class to classname and method to classmethod\n",
    "    #dictionary['classname'] = dictionary.pop('class')\n",
    "    #dictionary['classmethod'] = dictionary.pop('method')\n",
    "    #remove the method since it is problematic\n",
    "    dictionary.pop('method', None)\n",
    "    dictionary.pop('externalInfoUrl', None)\n",
    "    # remove the \\n in string\n",
    "    txt = txt.strip('\\n')\n",
    "    #add 'text' as a key in the dict holding the actual text\n",
    "    dictionary['text'] = txt\n",
    "    return dictionary"
   ]
  },
  {
   "cell_type": "code",
   "execution_count": 15,
   "id": "8c1a880e-a523-4100-b93d-d32539e73927",
   "metadata": {},
   "outputs": [],
   "source": [
    "# This will give us both the attributes in the violation tag and the text enclosed in the violation tag:\n",
    "# <violation ...> ... </violation>\n",
    "violations_rows_bd = violations_rows_bd.map(lambda row:  add_text_to_dict_attrb(et.fromstring(row).attrib, et.fromstring(row).text))\n"
   ]
  },
  {
   "cell_type": "code",
   "execution_count": 16,
   "id": "c7c72275-e695-4bdf-a5ce-ebda42237eec",
   "metadata": {},
   "outputs": [
    {
     "data": {
      "text/plain": [
       "({'beginline': '1',\n",
       "  'endline': '11',\n",
       "  'begincolumn': '43',\n",
       "  'endcolumn': '1',\n",
       "  'rule': 'UseUtilityClass',\n",
       "  'ruleset': 'Design',\n",
       "  'class': 'Code_10000096_9914015_1959_0',\n",
       "  'externalInfoUrl': 'https://pmd.github.io/pmd-6.39.0/pmd_rules_java_design.html#useutilityclass',\n",
       "  'priority': '3',\n",
       "  'text': 'All methods are static.  Consider using a utility class instead. Alternatively, you could add a private constructor or make the class abstract to silence this warning.'},)"
      ]
     },
     "execution_count": 16,
     "metadata": {},
     "output_type": "execute_result"
    }
   ],
   "source": [
    "# look at the first row\n",
    "violations_rows_bd.take(1)"
   ]
  },
  {
   "cell_type": "code",
   "execution_count": 17,
   "id": "1fd753c5-ab67-4845-ac28-e8a10343e437",
   "metadata": {},
   "outputs": [],
   "source": [
    "# look at the first 50 row\n",
    "#violations_rows_bd.take(50)"
   ]
  },
  {
   "cell_type": "code",
   "execution_count": 18,
   "id": "b441ce97-1d18-4799-8bfe-bb4324ea1267",
   "metadata": {},
   "outputs": [],
   "source": [
    "# further processing can be done to each item\n",
    "# e.g. to remove 'beginline' that do not have anything in them\n",
    "#violations_rows_bd = violations_rows_bd.filter(lambda x: x['beginline'] != '')"
   ]
  },
  {
   "cell_type": "code",
   "execution_count": 19,
   "id": "31ed26c4-1baa-4d39-aa74-c944dcdfd208",
   "metadata": {},
   "outputs": [
    {
     "data": {
      "text/plain": [
       "dask.bag<lambda, npartitions=1116>"
      ]
     },
     "execution_count": 19,
     "metadata": {},
     "output_type": "execute_result"
    }
   ],
   "source": [
    "violations_rows_bd"
   ]
  },
  {
   "cell_type": "markdown",
   "id": "b73c4cb7-54db-413c-b511-d902aa644306",
   "metadata": {
    "tags": []
   },
   "source": [
    "## Start a Dask cluster using SLURM jobs as workers.\n",
    "\n",
    "There are a couple of things we need to configure here:\n",
    "\n",
    "disabling the mechanism to write on disk when workers run out of memory,\n",
    "memory, CPUs, maximum time and number of workers per SLURM job,\n",
    "dask folders for log files and workers data.\n",
    "We recommend putting the log folder and workers data folders in your /nesi/nobackup/<project_code> folder, most indicated for temporary files (see NeSI File Systems and Quotas).\n",
    "\n",
    "All of these options can be set in configuration files, see Dask configuration and Dask jobqueue configuration for more information."
   ]
  },
  {
   "cell_type": "code",
   "execution_count": 20,
   "id": "32556ed6-625e-4f8d-b12d-248fa49a49d0",
   "metadata": {},
   "outputs": [
    {
     "name": "stderr",
     "output_type": "stream",
     "text": [
      "/opt/nesi/CS400_centos7_bdw/Python/3.9.5-gimkl-2020a/lib/python3.9/site-packages/distributed/node.py:151: UserWarning: Port 8787 is already in use.\n",
      "Perhaps you already have a cluster running?\n",
      "Hosting the HTTP server on port 32897 instead\n",
      "  warnings.warn(\n"
     ]
    }
   ],
   "source": [
    "#http://jobqueue.dask.org/en/latest/generated/dask_jobqueue.SLURMCluster.html\n",
    "dask.config.set(\n",
    "    {\n",
    "        \"distributed.worker.memory.target\": False,  # avoid spilling to disk\n",
    "        \"distributed.worker.memory.spill\": False,  # avoid spilling to disk\n",
    "    }\n",
    ")\n",
    "cluster = SLURMCluster(\n",
    "    cores=10, #cores=24, # we set each job to have 1 Worker, each using 10 cores (threads) and 8 GB of memory\n",
    "    processes=2,\n",
    "    memory=\"8GiB\",\n",
    "    walltime=\"0-30:30\",# walltime=\"0-00:30\",\n",
    "    log_directory=\"../dask/logs\",  # folder for SLURM logs for each worker\n",
    "    local_directory=\"../dask\",  # folder for workers data\n",
    ")"
   ]
  },
  {
   "cell_type": "code",
   "execution_count": 21,
   "id": "e29f24fb-1cd3-47c5-8b39-37591d172a6f",
   "metadata": {},
   "outputs": [
    {
     "data": {
      "text/html": [
       "<table style=\"border: 2px solid white;\">\n",
       "<tr>\n",
       "<td style=\"vertical-align: top; border: 0px solid white\">\n",
       "<h3 style=\"text-align: left;\">Client</h3>\n",
       "<ul style=\"text-align: left; list-style: none; margin: 0; padding: 0;\">\n",
       "  <li><b>Scheduler: </b>tcp://192.168.94.163:41773</li>\n",
       "  <li><b>Dashboard: </b><a href='http://192.168.94.163:32897/status' target='_blank'>http://192.168.94.163:32897/status</a></li>\n",
       "</ul>\n",
       "</td>\n",
       "<td style=\"vertical-align: top; border: 0px solid white\">\n",
       "<h3 style=\"text-align: left;\">Cluster</h3>\n",
       "<ul style=\"text-align: left; list-style:none; margin: 0; padding: 0;\">\n",
       "  <li><b>Workers: </b>0</li>\n",
       "  <li><b>Cores: </b>0</li>\n",
       "  <li><b>Memory: </b>0 B</li>\n",
       "</ul>\n",
       "</td>\n",
       "</tr>\n",
       "</table>"
      ],
      "text/plain": [
       "<Client: 'tcp://192.168.94.163:41773' processes=0 threads=0, memory=0 B>"
      ]
     },
     "execution_count": 21,
     "metadata": {},
     "output_type": "execute_result"
    }
   ],
   "source": [
    "#cluster.adapt(minimum_jobs=20, maximum_jobs=200)\n",
    "cluster.adapt(minimum_jobs=10, maximum_jobs=200)\n",
    "client = Client(cluster)\n",
    "client"
   ]
  },
  {
   "cell_type": "markdown",
   "id": "d0727365-5039-472a-807b-0d70f7a13530",
   "metadata": {},
   "source": [
    "## Removing Empty partitions from the dataframe\n",
    "- Challenge is that Some empty partitions are created from the Bags\n",
    "    - This may be as a result of some of the preprocessing stapes carried out in the Bag\n",
    "    - e.g filtering\n",
    "    - hence the workers freezes at some point because it can not handle empty pattitions\n",
    "    - One way I tried to solve his is to reade the partitions one by one and write to csv file thoes partitions that are not empty\n",
    "        - See s1_read_pmdruleresultxml_get_violations_v2\n",
    "    - Also Try this solution here\n",
    "  https://stackoverflow.com/questions/47812785/remove-empty-partitions-in-dask \n",
    "  - Also checkout: https://stackoverflow.com/questions/61670990/dask-dataframe-filter-and-repartition-gives-some-empty-partitions?rq=1"
   ]
  },
  {
   "cell_type": "code",
   "execution_count": 22,
   "id": "f6dd176e-d854-44f1-8419-eb4d26ddbf42",
   "metadata": {},
   "outputs": [],
   "source": [
    "# Gets Rid of the empty partitions in Bags\n",
    "def cull_empty_partitions(bag):\n",
    "    \"\"\"\n",
    "    When bags are created by filtering or grouping from a different bag,\n",
    "    it retains the original bag's partition count, even if a lot of the\n",
    "    partitions become empty.\n",
    "    Those extra partitions add overhead, so it's nice to discard them.\n",
    "    This function drops the empty partitions.\n",
    "    \"\"\"\n",
    "    bag = bag.persist()\n",
    "    def get_len(partition):\n",
    "        # If the bag is the result of bag.filter(),\n",
    "        # then each partition is actually a 'filter' object,\n",
    "        # which has no __len__.\n",
    "        # In that case, we must convert it to a list first.\n",
    "        if hasattr(partition, '__len__'):\n",
    "            return len(partition)\n",
    "        return len(list(partition))\n",
    "    partition_lengths = bag.map_partitions(get_len).compute()\n",
    "\n",
    "    # Convert bag partitions into a list of 'delayed' objects\n",
    "    lengths_and_partitions = zip(partition_lengths, bag.to_delayed())\n",
    "\n",
    "    # Drop the ones with empty partitions\n",
    "    partitions = (p for l,p in lengths_and_partitions if l > 0)\n",
    "\n",
    "    # Convert from list of delayed objects back into a Bag.\n",
    "    return dask.bag.from_delayed(partitions)"
   ]
  },
  {
   "cell_type": "code",
   "execution_count": 23,
   "id": "d1f79b0b-31ed-4c22-9180-24b9aa66ae62",
   "metadata": {},
   "outputs": [
    {
     "ename": "KilledWorker",
     "evalue": "(\"('bag-from-delayed-decode-filter-lambda-read-block-lambda-5eda3f47f3cdec7f1cfb2b0ff274e7c3', 406)\", <Worker 'tcp://10.65.4.49:32853', name: 55-1, memory: 0, processing: 1>)",
     "output_type": "error",
     "traceback": [
      "\u001b[0;31m---------------------------------------------------------------------------\u001b[0m",
      "\u001b[0;31mKilledWorker\u001b[0m                              Traceback (most recent call last)",
      "\u001b[0;32m<ipython-input-23-41051291fd11>\u001b[0m in \u001b[0;36m<module>\u001b[0;34m\u001b[0m\n\u001b[0;32m----> 1\u001b[0;31m \u001b[0mviolations_rows_bd\u001b[0m \u001b[0;34m=\u001b[0m \u001b[0mcull_empty_partitions\u001b[0m\u001b[0;34m(\u001b[0m\u001b[0mviolations_rows_bd\u001b[0m\u001b[0;34m)\u001b[0m\u001b[0;34m\u001b[0m\u001b[0;34m\u001b[0m\u001b[0m\n\u001b[0m",
      "\u001b[0;32m<ipython-input-22-5ad06e488b2f>\u001b[0m in \u001b[0;36mcull_empty_partitions\u001b[0;34m(bag)\u001b[0m\n\u001b[1;32m     17\u001b[0m             \u001b[0;32mreturn\u001b[0m \u001b[0mlen\u001b[0m\u001b[0;34m(\u001b[0m\u001b[0mpartition\u001b[0m\u001b[0;34m)\u001b[0m\u001b[0;34m\u001b[0m\u001b[0;34m\u001b[0m\u001b[0m\n\u001b[1;32m     18\u001b[0m         \u001b[0;32mreturn\u001b[0m \u001b[0mlen\u001b[0m\u001b[0;34m(\u001b[0m\u001b[0mlist\u001b[0m\u001b[0;34m(\u001b[0m\u001b[0mpartition\u001b[0m\u001b[0;34m)\u001b[0m\u001b[0;34m)\u001b[0m\u001b[0;34m\u001b[0m\u001b[0;34m\u001b[0m\u001b[0m\n\u001b[0;32m---> 19\u001b[0;31m     \u001b[0mpartition_lengths\u001b[0m \u001b[0;34m=\u001b[0m \u001b[0mbag\u001b[0m\u001b[0;34m.\u001b[0m\u001b[0mmap_partitions\u001b[0m\u001b[0;34m(\u001b[0m\u001b[0mget_len\u001b[0m\u001b[0;34m)\u001b[0m\u001b[0;34m.\u001b[0m\u001b[0mcompute\u001b[0m\u001b[0;34m(\u001b[0m\u001b[0;34m)\u001b[0m\u001b[0;34m\u001b[0m\u001b[0;34m\u001b[0m\u001b[0m\n\u001b[0m\u001b[1;32m     20\u001b[0m \u001b[0;34m\u001b[0m\u001b[0m\n\u001b[1;32m     21\u001b[0m     \u001b[0;31m# Convert bag partitions into a list of 'delayed' objects\u001b[0m\u001b[0;34m\u001b[0m\u001b[0;34m\u001b[0m\u001b[0;34m\u001b[0m\u001b[0m\n",
      "\u001b[0;32m/opt/nesi/CS400_centos7_bdw/Python/3.9.5-gimkl-2020a/lib/python3.9/site-packages/dask/base.py\u001b[0m in \u001b[0;36mcompute\u001b[0;34m(self, **kwargs)\u001b[0m\n\u001b[1;32m    283\u001b[0m         \u001b[0mdask\u001b[0m\u001b[0;34m.\u001b[0m\u001b[0mbase\u001b[0m\u001b[0;34m.\u001b[0m\u001b[0mcompute\u001b[0m\u001b[0;34m\u001b[0m\u001b[0;34m\u001b[0m\u001b[0m\n\u001b[1;32m    284\u001b[0m         \"\"\"\n\u001b[0;32m--> 285\u001b[0;31m         \u001b[0;34m(\u001b[0m\u001b[0mresult\u001b[0m\u001b[0;34m,\u001b[0m\u001b[0;34m)\u001b[0m \u001b[0;34m=\u001b[0m \u001b[0mcompute\u001b[0m\u001b[0;34m(\u001b[0m\u001b[0mself\u001b[0m\u001b[0;34m,\u001b[0m \u001b[0mtraverse\u001b[0m\u001b[0;34m=\u001b[0m\u001b[0;32mFalse\u001b[0m\u001b[0;34m,\u001b[0m \u001b[0;34m**\u001b[0m\u001b[0mkwargs\u001b[0m\u001b[0;34m)\u001b[0m\u001b[0;34m\u001b[0m\u001b[0;34m\u001b[0m\u001b[0m\n\u001b[0m\u001b[1;32m    286\u001b[0m         \u001b[0;32mreturn\u001b[0m \u001b[0mresult\u001b[0m\u001b[0;34m\u001b[0m\u001b[0;34m\u001b[0m\u001b[0m\n\u001b[1;32m    287\u001b[0m \u001b[0;34m\u001b[0m\u001b[0m\n",
      "\u001b[0;32m/opt/nesi/CS400_centos7_bdw/Python/3.9.5-gimkl-2020a/lib/python3.9/site-packages/dask/base.py\u001b[0m in \u001b[0;36mcompute\u001b[0;34m(*args, **kwargs)\u001b[0m\n\u001b[1;32m    565\u001b[0m         \u001b[0mpostcomputes\u001b[0m\u001b[0;34m.\u001b[0m\u001b[0mappend\u001b[0m\u001b[0;34m(\u001b[0m\u001b[0mx\u001b[0m\u001b[0;34m.\u001b[0m\u001b[0m__dask_postcompute__\u001b[0m\u001b[0;34m(\u001b[0m\u001b[0;34m)\u001b[0m\u001b[0;34m)\u001b[0m\u001b[0;34m\u001b[0m\u001b[0;34m\u001b[0m\u001b[0m\n\u001b[1;32m    566\u001b[0m \u001b[0;34m\u001b[0m\u001b[0m\n\u001b[0;32m--> 567\u001b[0;31m     \u001b[0mresults\u001b[0m \u001b[0;34m=\u001b[0m \u001b[0mschedule\u001b[0m\u001b[0;34m(\u001b[0m\u001b[0mdsk\u001b[0m\u001b[0;34m,\u001b[0m \u001b[0mkeys\u001b[0m\u001b[0;34m,\u001b[0m \u001b[0;34m**\u001b[0m\u001b[0mkwargs\u001b[0m\u001b[0;34m)\u001b[0m\u001b[0;34m\u001b[0m\u001b[0;34m\u001b[0m\u001b[0m\n\u001b[0m\u001b[1;32m    568\u001b[0m     \u001b[0;32mreturn\u001b[0m \u001b[0mrepack\u001b[0m\u001b[0;34m(\u001b[0m\u001b[0;34m[\u001b[0m\u001b[0mf\u001b[0m\u001b[0;34m(\u001b[0m\u001b[0mr\u001b[0m\u001b[0;34m,\u001b[0m \u001b[0;34m*\u001b[0m\u001b[0ma\u001b[0m\u001b[0;34m)\u001b[0m \u001b[0;32mfor\u001b[0m \u001b[0mr\u001b[0m\u001b[0;34m,\u001b[0m \u001b[0;34m(\u001b[0m\u001b[0mf\u001b[0m\u001b[0;34m,\u001b[0m \u001b[0ma\u001b[0m\u001b[0;34m)\u001b[0m \u001b[0;32min\u001b[0m \u001b[0mzip\u001b[0m\u001b[0;34m(\u001b[0m\u001b[0mresults\u001b[0m\u001b[0;34m,\u001b[0m \u001b[0mpostcomputes\u001b[0m\u001b[0;34m)\u001b[0m\u001b[0;34m]\u001b[0m\u001b[0;34m)\u001b[0m\u001b[0;34m\u001b[0m\u001b[0;34m\u001b[0m\u001b[0m\n\u001b[1;32m    569\u001b[0m \u001b[0;34m\u001b[0m\u001b[0m\n",
      "\u001b[0;32m/opt/nesi/CS400_centos7_bdw/Python/3.9.5-gimkl-2020a/lib/python3.9/site-packages/distributed/client.py\u001b[0m in \u001b[0;36mget\u001b[0;34m(self, dsk, keys, workers, allow_other_workers, resources, sync, asynchronous, direct, retries, priority, fifo_timeout, actors, **kwargs)\u001b[0m\n\u001b[1;32m   2664\u001b[0m                     \u001b[0mshould_rejoin\u001b[0m \u001b[0;34m=\u001b[0m \u001b[0;32mFalse\u001b[0m\u001b[0;34m\u001b[0m\u001b[0;34m\u001b[0m\u001b[0m\n\u001b[1;32m   2665\u001b[0m             \u001b[0;32mtry\u001b[0m\u001b[0;34m:\u001b[0m\u001b[0;34m\u001b[0m\u001b[0;34m\u001b[0m\u001b[0m\n\u001b[0;32m-> 2666\u001b[0;31m                 \u001b[0mresults\u001b[0m \u001b[0;34m=\u001b[0m \u001b[0mself\u001b[0m\u001b[0;34m.\u001b[0m\u001b[0mgather\u001b[0m\u001b[0;34m(\u001b[0m\u001b[0mpacked\u001b[0m\u001b[0;34m,\u001b[0m \u001b[0masynchronous\u001b[0m\u001b[0;34m=\u001b[0m\u001b[0masynchronous\u001b[0m\u001b[0;34m,\u001b[0m \u001b[0mdirect\u001b[0m\u001b[0;34m=\u001b[0m\u001b[0mdirect\u001b[0m\u001b[0;34m)\u001b[0m\u001b[0;34m\u001b[0m\u001b[0;34m\u001b[0m\u001b[0m\n\u001b[0m\u001b[1;32m   2667\u001b[0m             \u001b[0;32mfinally\u001b[0m\u001b[0;34m:\u001b[0m\u001b[0;34m\u001b[0m\u001b[0;34m\u001b[0m\u001b[0m\n\u001b[1;32m   2668\u001b[0m                 \u001b[0;32mfor\u001b[0m \u001b[0mf\u001b[0m \u001b[0;32min\u001b[0m \u001b[0mfutures\u001b[0m\u001b[0;34m.\u001b[0m\u001b[0mvalues\u001b[0m\u001b[0;34m(\u001b[0m\u001b[0;34m)\u001b[0m\u001b[0;34m:\u001b[0m\u001b[0;34m\u001b[0m\u001b[0;34m\u001b[0m\u001b[0m\n",
      "\u001b[0;32m/opt/nesi/CS400_centos7_bdw/Python/3.9.5-gimkl-2020a/lib/python3.9/site-packages/distributed/client.py\u001b[0m in \u001b[0;36mgather\u001b[0;34m(self, futures, errors, direct, asynchronous)\u001b[0m\n\u001b[1;32m   1973\u001b[0m             \u001b[0;32melse\u001b[0m\u001b[0;34m:\u001b[0m\u001b[0;34m\u001b[0m\u001b[0;34m\u001b[0m\u001b[0m\n\u001b[1;32m   1974\u001b[0m                 \u001b[0mlocal_worker\u001b[0m \u001b[0;34m=\u001b[0m \u001b[0;32mNone\u001b[0m\u001b[0;34m\u001b[0m\u001b[0;34m\u001b[0m\u001b[0m\n\u001b[0;32m-> 1975\u001b[0;31m             return self.sync(\n\u001b[0m\u001b[1;32m   1976\u001b[0m                 \u001b[0mself\u001b[0m\u001b[0;34m.\u001b[0m\u001b[0m_gather\u001b[0m\u001b[0;34m,\u001b[0m\u001b[0;34m\u001b[0m\u001b[0;34m\u001b[0m\u001b[0m\n\u001b[1;32m   1977\u001b[0m                 \u001b[0mfutures\u001b[0m\u001b[0;34m,\u001b[0m\u001b[0;34m\u001b[0m\u001b[0;34m\u001b[0m\u001b[0m\n",
      "\u001b[0;32m/opt/nesi/CS400_centos7_bdw/Python/3.9.5-gimkl-2020a/lib/python3.9/site-packages/distributed/client.py\u001b[0m in \u001b[0;36msync\u001b[0;34m(self, func, asynchronous, callback_timeout, *args, **kwargs)\u001b[0m\n\u001b[1;32m    841\u001b[0m             \u001b[0;32mreturn\u001b[0m \u001b[0mfuture\u001b[0m\u001b[0;34m\u001b[0m\u001b[0;34m\u001b[0m\u001b[0m\n\u001b[1;32m    842\u001b[0m         \u001b[0;32melse\u001b[0m\u001b[0;34m:\u001b[0m\u001b[0;34m\u001b[0m\u001b[0;34m\u001b[0m\u001b[0m\n\u001b[0;32m--> 843\u001b[0;31m             return sync(\n\u001b[0m\u001b[1;32m    844\u001b[0m                 \u001b[0mself\u001b[0m\u001b[0;34m.\u001b[0m\u001b[0mloop\u001b[0m\u001b[0;34m,\u001b[0m \u001b[0mfunc\u001b[0m\u001b[0;34m,\u001b[0m \u001b[0;34m*\u001b[0m\u001b[0margs\u001b[0m\u001b[0;34m,\u001b[0m \u001b[0mcallback_timeout\u001b[0m\u001b[0;34m=\u001b[0m\u001b[0mcallback_timeout\u001b[0m\u001b[0;34m,\u001b[0m \u001b[0;34m**\u001b[0m\u001b[0mkwargs\u001b[0m\u001b[0;34m\u001b[0m\u001b[0;34m\u001b[0m\u001b[0m\n\u001b[1;32m    845\u001b[0m             )\n",
      "\u001b[0;32m/opt/nesi/CS400_centos7_bdw/Python/3.9.5-gimkl-2020a/lib/python3.9/site-packages/distributed/utils.py\u001b[0m in \u001b[0;36msync\u001b[0;34m(loop, func, callback_timeout, *args, **kwargs)\u001b[0m\n\u001b[1;32m    351\u001b[0m     \u001b[0;32mif\u001b[0m \u001b[0merror\u001b[0m\u001b[0;34m[\u001b[0m\u001b[0;36m0\u001b[0m\u001b[0;34m]\u001b[0m\u001b[0;34m:\u001b[0m\u001b[0;34m\u001b[0m\u001b[0;34m\u001b[0m\u001b[0m\n\u001b[1;32m    352\u001b[0m         \u001b[0mtyp\u001b[0m\u001b[0;34m,\u001b[0m \u001b[0mexc\u001b[0m\u001b[0;34m,\u001b[0m \u001b[0mtb\u001b[0m \u001b[0;34m=\u001b[0m \u001b[0merror\u001b[0m\u001b[0;34m[\u001b[0m\u001b[0;36m0\u001b[0m\u001b[0;34m]\u001b[0m\u001b[0;34m\u001b[0m\u001b[0;34m\u001b[0m\u001b[0m\n\u001b[0;32m--> 353\u001b[0;31m         \u001b[0;32mraise\u001b[0m \u001b[0mexc\u001b[0m\u001b[0;34m.\u001b[0m\u001b[0mwith_traceback\u001b[0m\u001b[0;34m(\u001b[0m\u001b[0mtb\u001b[0m\u001b[0;34m)\u001b[0m\u001b[0;34m\u001b[0m\u001b[0;34m\u001b[0m\u001b[0m\n\u001b[0m\u001b[1;32m    354\u001b[0m     \u001b[0;32melse\u001b[0m\u001b[0;34m:\u001b[0m\u001b[0;34m\u001b[0m\u001b[0;34m\u001b[0m\u001b[0m\n\u001b[1;32m    355\u001b[0m         \u001b[0;32mreturn\u001b[0m \u001b[0mresult\u001b[0m\u001b[0;34m[\u001b[0m\u001b[0;36m0\u001b[0m\u001b[0;34m]\u001b[0m\u001b[0;34m\u001b[0m\u001b[0;34m\u001b[0m\u001b[0m\n",
      "\u001b[0;32m/opt/nesi/CS400_centos7_bdw/Python/3.9.5-gimkl-2020a/lib/python3.9/site-packages/distributed/utils.py\u001b[0m in \u001b[0;36mf\u001b[0;34m()\u001b[0m\n\u001b[1;32m    334\u001b[0m             \u001b[0;32mif\u001b[0m \u001b[0mcallback_timeout\u001b[0m \u001b[0;32mis\u001b[0m \u001b[0;32mnot\u001b[0m \u001b[0;32mNone\u001b[0m\u001b[0;34m:\u001b[0m\u001b[0;34m\u001b[0m\u001b[0;34m\u001b[0m\u001b[0m\n\u001b[1;32m    335\u001b[0m                 \u001b[0mfuture\u001b[0m \u001b[0;34m=\u001b[0m \u001b[0masyncio\u001b[0m\u001b[0;34m.\u001b[0m\u001b[0mwait_for\u001b[0m\u001b[0;34m(\u001b[0m\u001b[0mfuture\u001b[0m\u001b[0;34m,\u001b[0m \u001b[0mcallback_timeout\u001b[0m\u001b[0;34m)\u001b[0m\u001b[0;34m\u001b[0m\u001b[0;34m\u001b[0m\u001b[0m\n\u001b[0;32m--> 336\u001b[0;31m             \u001b[0mresult\u001b[0m\u001b[0;34m[\u001b[0m\u001b[0;36m0\u001b[0m\u001b[0;34m]\u001b[0m \u001b[0;34m=\u001b[0m \u001b[0;32myield\u001b[0m \u001b[0mfuture\u001b[0m\u001b[0;34m\u001b[0m\u001b[0;34m\u001b[0m\u001b[0m\n\u001b[0m\u001b[1;32m    337\u001b[0m         \u001b[0;32mexcept\u001b[0m \u001b[0mException\u001b[0m \u001b[0;32mas\u001b[0m \u001b[0mexc\u001b[0m\u001b[0;34m:\u001b[0m\u001b[0;34m\u001b[0m\u001b[0;34m\u001b[0m\u001b[0m\n\u001b[1;32m    338\u001b[0m             \u001b[0merror\u001b[0m\u001b[0;34m[\u001b[0m\u001b[0;36m0\u001b[0m\u001b[0;34m]\u001b[0m \u001b[0;34m=\u001b[0m \u001b[0msys\u001b[0m\u001b[0;34m.\u001b[0m\u001b[0mexc_info\u001b[0m\u001b[0;34m(\u001b[0m\u001b[0;34m)\u001b[0m\u001b[0;34m\u001b[0m\u001b[0;34m\u001b[0m\u001b[0m\n",
      "\u001b[0;32m/opt/nesi/CS400_centos7_bdw/Python/3.9.5-gimkl-2020a/lib/python3.9/site-packages/tornado/gen.py\u001b[0m in \u001b[0;36mrun\u001b[0;34m(self)\u001b[0m\n\u001b[1;32m    760\u001b[0m \u001b[0;34m\u001b[0m\u001b[0m\n\u001b[1;32m    761\u001b[0m                     \u001b[0;32mtry\u001b[0m\u001b[0;34m:\u001b[0m\u001b[0;34m\u001b[0m\u001b[0;34m\u001b[0m\u001b[0m\n\u001b[0;32m--> 762\u001b[0;31m                         \u001b[0mvalue\u001b[0m \u001b[0;34m=\u001b[0m \u001b[0mfuture\u001b[0m\u001b[0;34m.\u001b[0m\u001b[0mresult\u001b[0m\u001b[0;34m(\u001b[0m\u001b[0;34m)\u001b[0m\u001b[0;34m\u001b[0m\u001b[0;34m\u001b[0m\u001b[0m\n\u001b[0m\u001b[1;32m    763\u001b[0m                     \u001b[0;32mexcept\u001b[0m \u001b[0mException\u001b[0m\u001b[0;34m:\u001b[0m\u001b[0;34m\u001b[0m\u001b[0;34m\u001b[0m\u001b[0m\n\u001b[1;32m    764\u001b[0m                         \u001b[0mexc_info\u001b[0m \u001b[0;34m=\u001b[0m \u001b[0msys\u001b[0m\u001b[0;34m.\u001b[0m\u001b[0mexc_info\u001b[0m\u001b[0;34m(\u001b[0m\u001b[0;34m)\u001b[0m\u001b[0;34m\u001b[0m\u001b[0;34m\u001b[0m\u001b[0m\n",
      "\u001b[0;32m/opt/nesi/CS400_centos7_bdw/Python/3.9.5-gimkl-2020a/lib/python3.9/site-packages/distributed/client.py\u001b[0m in \u001b[0;36m_gather\u001b[0;34m(self, futures, errors, direct, local_worker)\u001b[0m\n\u001b[1;32m   1838\u001b[0m                             \u001b[0mexc\u001b[0m \u001b[0;34m=\u001b[0m \u001b[0mCancelledError\u001b[0m\u001b[0;34m(\u001b[0m\u001b[0mkey\u001b[0m\u001b[0;34m)\u001b[0m\u001b[0;34m\u001b[0m\u001b[0;34m\u001b[0m\u001b[0m\n\u001b[1;32m   1839\u001b[0m                         \u001b[0;32melse\u001b[0m\u001b[0;34m:\u001b[0m\u001b[0;34m\u001b[0m\u001b[0;34m\u001b[0m\u001b[0m\n\u001b[0;32m-> 1840\u001b[0;31m                             \u001b[0;32mraise\u001b[0m \u001b[0mexception\u001b[0m\u001b[0;34m.\u001b[0m\u001b[0mwith_traceback\u001b[0m\u001b[0;34m(\u001b[0m\u001b[0mtraceback\u001b[0m\u001b[0;34m)\u001b[0m\u001b[0;34m\u001b[0m\u001b[0;34m\u001b[0m\u001b[0m\n\u001b[0m\u001b[1;32m   1841\u001b[0m                         \u001b[0;32mraise\u001b[0m \u001b[0mexc\u001b[0m\u001b[0;34m\u001b[0m\u001b[0;34m\u001b[0m\u001b[0m\n\u001b[1;32m   1842\u001b[0m                     \u001b[0;32mif\u001b[0m \u001b[0merrors\u001b[0m \u001b[0;34m==\u001b[0m \u001b[0;34m\"skip\"\u001b[0m\u001b[0;34m:\u001b[0m\u001b[0;34m\u001b[0m\u001b[0;34m\u001b[0m\u001b[0m\n",
      "\u001b[0;31mKilledWorker\u001b[0m: (\"('bag-from-delayed-decode-filter-lambda-read-block-lambda-5eda3f47f3cdec7f1cfb2b0ff274e7c3', 406)\", <Worker 'tcp://10.65.4.49:32853', name: 55-1, memory: 0, processing: 1>)"
     ]
    }
   ],
   "source": [
    "violations_rows_bd = cull_empty_partitions(violations_rows_bd)"
   ]
  },
  {
   "cell_type": "code",
   "execution_count": null,
   "id": "a6820a9b-4526-41e8-ad22-ecade587c2cb",
   "metadata": {},
   "outputs": [],
   "source": [
    "violations_rows_bd"
   ]
  },
  {
   "cell_type": "markdown",
   "id": "b7681a08-eebf-4093-ba16-0fa94ae8f572",
   "metadata": {},
   "source": [
    "## Convert Bags to Dataframes"
   ]
  },
  {
   "cell_type": "code",
   "execution_count": null,
   "id": "56448e2f-603d-41a3-b566-6215090b90cb",
   "metadata": {},
   "outputs": [],
   "source": [
    "#df = violations_rows_bd.to_dataframe()\n",
    "df = violations_rows_bd.to_dataframe(meta={'beginline':'int', 'endline':'int', 'begincolumn':'int', \n",
    "                                               'endcolumn':'int', 'rule':'str', 'ruleset':'str',\n",
    "                                               'class':'str', 'externalInfoUrl':'str', 'priority':'int', 'text':'str'})"
   ]
  },
  {
   "cell_type": "code",
   "execution_count": null,
   "id": "d2e866fd-99a4-4ace-8de2-8b88c5b5392b",
   "metadata": {},
   "outputs": [],
   "source": [
    "# View Stucture\n",
    "df"
   ]
  },
  {
   "cell_type": "code",
   "execution_count": null,
   "id": "12252bff-93ac-4eac-a0fc-180dca1a6db2",
   "metadata": {},
   "outputs": [],
   "source": [
    "#df.partitions[1].compute()"
   ]
  },
  {
   "cell_type": "code",
   "execution_count": null,
   "id": "e0cd2641-173d-42b9-9db3-0c0c346a287d",
   "metadata": {},
   "outputs": [],
   "source": [
    "df.columns"
   ]
  },
  {
   "cell_type": "code",
   "execution_count": null,
   "id": "4a7f35d8-3bae-48fb-9d5b-41fe0f4a9e24",
   "metadata": {},
   "outputs": [],
   "source": [
    "#Index will not be particularly meaningful. Use reindex afterwards if necessary.\n",
    "df.index"
   ]
  },
  {
   "cell_type": "code",
   "execution_count": null,
   "id": "594ace34-e8d1-466f-b1c7-c210f1effba4",
   "metadata": {},
   "outputs": [],
   "source": [
    "df.dtypes"
   ]
  },
  {
   "cell_type": "code",
   "execution_count": null,
   "id": "8e5f4caf-f516-43e0-babb-01b4a9575546",
   "metadata": {},
   "outputs": [],
   "source": [
    "df.npartitions"
   ]
  },
  {
   "cell_type": "markdown",
   "id": "85e97470-b287-4a5b-a2f9-7810f996d244",
   "metadata": {
    "tags": []
   },
   "source": [
    "## Removing Empty partitions from the dataframe"
   ]
  },
  {
   "cell_type": "raw",
   "id": "db15adb2-a622-448a-a1bc-6c9b5c622b6e",
   "metadata": {},
   "source": [
    "# to remove empty partitions from Dataframes\n",
    "def cull_empty_partitions(df):\n",
    "    ll = list(df.map_partitions(len).compute())\n",
    "    df_delayed = df.to_delayed()\n",
    "    df_delayed_new = list()\n",
    "    pempty = None\n",
    "    for ix, n in enumerate(ll):\n",
    "        if 0 == n:\n",
    "            pempty = df.get_partition(ix)\n",
    "        else:\n",
    "            df_delayed_new.append(df_delayed[ix])\n",
    "    if pempty is not None:\n",
    "        df = dd.from_delayed(df_delayed_new, meta=pempty)\n",
    "    return df"
   ]
  },
  {
   "cell_type": "code",
   "execution_count": null,
   "id": "82755cb6-5b03-42b6-ad99-52f80fb515a3",
   "metadata": {},
   "outputs": [],
   "source": [
    "# Repartition\n",
    "def _rebalance_ddf(ddf):\n",
    "    \"\"\"Repartition dask dataframe to ensure that partitions are roughly equal size.\n",
    "\n",
    "    Assumes `ddf.index` is already sorted.\n",
    "    \"\"\"\n",
    "    if not ddf.known_divisions:  # e.g. for read_parquet(..., infer_divisions=False)\n",
    "        ddf = ddf.reset_index().set_index(ddf.index.name, sorted=True)\n",
    "    index_counts = ddf.map_partitions(lambda _df: _df.index.value_counts().sort_index()).compute()\n",
    "    index = np.repeat(index_counts.index, index_counts.values)\n",
    "    divisions, _ = dd.io.io.sorted_division_locations(index, npartitions=ddf.npartitions)\n",
    "    return ddf.repartition(divisions=divisions)"
   ]
  },
  {
   "cell_type": "code",
   "execution_count": null,
   "id": "7a689ffa-7963-4337-abbe-7ee204374fad",
   "metadata": {},
   "outputs": [],
   "source": [
    "# remove empty partitions \n",
    "#df = cull_empty_partitions(df) # remove empties"
   ]
  },
  {
   "cell_type": "code",
   "execution_count": null,
   "id": "e3126322-2d4f-49f6-8604-3a41916d7de2",
   "metadata": {},
   "outputs": [],
   "source": [
    "df = _rebalance_ddf(df)       # re-size"
   ]
  },
  {
   "cell_type": "code",
   "execution_count": null,
   "id": "035d6e11-2424-4ba3-a2a9-42c1194e54ba",
   "metadata": {},
   "outputs": [],
   "source": [
    "df"
   ]
  },
  {
   "cell_type": "code",
   "execution_count": null,
   "id": "fb59804c-f261-4b4c-a481-a99d254477a5",
   "metadata": {},
   "outputs": [],
   "source": [
    "#if not df.empty:\n",
    "df.shape[0].compute()"
   ]
  },
  {
   "cell_type": "code",
   "execution_count": null,
   "id": "076fc4a1-90ce-44b3-97c7-bb1ed4293ed5",
   "metadata": {},
   "outputs": [],
   "source": [
    "#replace new lines with empty strings\n",
    "#df = df.replace('\\\\n','', regex=True)"
   ]
  },
  {
   "cell_type": "code",
   "execution_count": null,
   "id": "7775486c-242c-441f-8c5f-6e7891340416",
   "metadata": {},
   "outputs": [],
   "source": [
    "#df.shape[0].compute()"
   ]
  },
  {
   "cell_type": "raw",
   "id": "82cbdf70-1554-4867-bf33-7efa6e1c47c0",
   "metadata": {},
   "source": [
    "# Check it out\n",
    "#for index, row in df.iterrows():\n",
    "for index, row in df.loc[1000:1010, :].iterrows():\n",
    "    print('index:', index)\n",
    "    print('class:', row['class'])\n",
    "    print('variable:', row['variable'])"
   ]
  },
  {
   "cell_type": "code",
   "execution_count": null,
   "id": "52b293ae-b38a-42c8-b6f9-3260f10dd5f7",
   "metadata": {},
   "outputs": [],
   "source": [
    "# drop empty columns\n",
    "#df = df[~df['class'].isna()] # Drop rows that have NaN in the Code column"
   ]
  },
  {
   "cell_type": "code",
   "execution_count": null,
   "id": "0630b56e-e656-4ae1-8397-bc8635eb8943",
   "metadata": {},
   "outputs": [],
   "source": [
    "#df.shape[0].compute()"
   ]
  },
  {
   "cell_type": "code",
   "execution_count": null,
   "id": "c565c935-735c-40ac-8bc3-f90f8a6eab31",
   "metadata": {},
   "outputs": [],
   "source": [
    "# drop classes that do not have this pattern\n",
    "#df = df[df['class'].str.contains('^Code_\\d+_\\d+_\\d+_\\d+', regex=True)]"
   ]
  },
  {
   "cell_type": "code",
   "execution_count": null,
   "id": "1fd503b0-5a2d-41ad-821f-55536338958f",
   "metadata": {},
   "outputs": [],
   "source": [
    "# select multiple columns\n",
    "#df1 = df[['beginline', 'endline', 'begincolumn', 'endcolumn', 'rule', 'ruleset','class', 'externalInfoUrl', 'priority', 'text']]\n",
    "#df = df[['class', 'rule', 'ruleset', 'text']]"
   ]
  },
  {
   "cell_type": "code",
   "execution_count": null,
   "id": "c04939e9-240a-41e9-baf8-d141c6067614",
   "metadata": {},
   "outputs": [],
   "source": [
    "#df.shape[0].compute()"
   ]
  },
  {
   "cell_type": "code",
   "execution_count": null,
   "id": "af063c77-4766-46b0-8bff-a6e77479c01e",
   "metadata": {},
   "outputs": [],
   "source": [
    "#grp_df = df.groupby(['class', 'rule', ])"
   ]
  },
  {
   "cell_type": "code",
   "execution_count": null,
   "id": "ecfce13a-65c2-4183-b5d0-234849aafe1f",
   "metadata": {},
   "outputs": [],
   "source": [
    "#grp_df"
   ]
  },
  {
   "cell_type": "code",
   "execution_count": null,
   "id": "26e8bf0a-e33a-4f19-aa70-fc6c238a80f1",
   "metadata": {},
   "outputs": [],
   "source": [
    "# Let's print the first entries\n",
    "# in all the groups formed.\n",
    "#grp_df.first().compute()"
   ]
  },
  {
   "cell_type": "code",
   "execution_count": null,
   "id": "d3a51290-0111-423b-a5dc-6e6ab399ebab",
   "metadata": {},
   "outputs": [],
   "source": [
    "# List all the group keys\n",
    "#list(grp_df.groups.keys())"
   ]
  },
  {
   "cell_type": "raw",
   "id": "e3234470-5b1e-43c3-af74-6911f779253d",
   "metadata": {},
   "source": [
    "# drop all rows with any NaN and NaT values\n",
    "#df = df.dropna().compute()"
   ]
  },
  {
   "cell_type": "markdown",
   "id": "3dab0e3e-f779-4d50-b3a8-03db32c41c26",
   "metadata": {},
   "source": [
    "## Save all the codes from the posts into a CSV file"
   ]
  },
  {
   "cell_type": "code",
   "execution_count": null,
   "id": "7ae0a682-f649-4059-a42e-37609ca31aa7",
   "metadata": {},
   "outputs": [
    {
     "name": "stderr",
     "output_type": "stream",
     "text": [
      "distributed.utils - ERROR - Timed out trying to connect to tcp://10.65.4.49:32853 after 10 s\n",
      "Traceback (most recent call last):\n",
      "  File \"/opt/nesi/CS400_centos7_bdw/Python/3.9.5-gimkl-2020a/lib/python3.9/site-packages/distributed/comm/tcp.py\", line 379, in connect\n",
      "    stream = await self.client.connect(\n",
      "  File \"/opt/nesi/CS400_centos7_bdw/Python/3.9.5-gimkl-2020a/lib/python3.9/site-packages/tornado/tcpclient.py\", line 275, in connect\n",
      "    af, addr, stream = await connector.start(connect_timeout=timeout)\n",
      "asyncio.exceptions.CancelledError\n",
      "\n",
      "During handling of the above exception, another exception occurred:\n",
      "\n",
      "Traceback (most recent call last):\n",
      "  File \"/opt/nesi/CS400_centos7_bdw/Python/3.9.5-gimkl-2020a/lib/python3.9/asyncio/tasks.py\", line 492, in wait_for\n",
      "    fut.result()\n",
      "asyncio.exceptions.CancelledError\n",
      "\n",
      "The above exception was the direct cause of the following exception:\n",
      "\n",
      "Traceback (most recent call last):\n",
      "  File \"/opt/nesi/CS400_centos7_bdw/Python/3.9.5-gimkl-2020a/lib/python3.9/site-packages/distributed/comm/core.py\", line 285, in connect\n",
      "    comm = await asyncio.wait_for(\n",
      "  File \"/opt/nesi/CS400_centos7_bdw/Python/3.9.5-gimkl-2020a/lib/python3.9/asyncio/tasks.py\", line 494, in wait_for\n",
      "    raise exceptions.TimeoutError() from exc\n",
      "asyncio.exceptions.TimeoutError\n",
      "\n",
      "The above exception was the direct cause of the following exception:\n",
      "\n",
      "Traceback (most recent call last):\n",
      "  File \"/opt/nesi/CS400_centos7_bdw/Python/3.9.5-gimkl-2020a/lib/python3.9/site-packages/distributed/utils.py\", line 668, in log_errors\n",
      "    yield\n",
      "  File \"/opt/nesi/CS400_centos7_bdw/Python/3.9.5-gimkl-2020a/lib/python3.9/site-packages/distributed/scheduler.py\", line 5943, in retire_workers\n",
      "    await self.replicate(\n",
      "  File \"/opt/nesi/CS400_centos7_bdw/Python/3.9.5-gimkl-2020a/lib/python3.9/site-packages/distributed/scheduler.py\", line 5697, in replicate\n",
      "    results = await asyncio.gather(\n",
      "  File \"/opt/nesi/CS400_centos7_bdw/Python/3.9.5-gimkl-2020a/lib/python3.9/site-packages/distributed/utils_comm.py\", line 385, in retry_operation\n",
      "    return await retry(\n",
      "  File \"/opt/nesi/CS400_centos7_bdw/Python/3.9.5-gimkl-2020a/lib/python3.9/site-packages/distributed/utils_comm.py\", line 370, in retry\n",
      "    return await coro()\n",
      "  File \"/opt/nesi/CS400_centos7_bdw/Python/3.9.5-gimkl-2020a/lib/python3.9/site-packages/distributed/core.py\", line 859, in send_recv_from_rpc\n",
      "    comm = await self.pool.connect(self.addr)\n",
      "  File \"/opt/nesi/CS400_centos7_bdw/Python/3.9.5-gimkl-2020a/lib/python3.9/site-packages/distributed/core.py\", line 1010, in connect\n",
      "    comm = await connect(\n",
      "  File \"/opt/nesi/CS400_centos7_bdw/Python/3.9.5-gimkl-2020a/lib/python3.9/site-packages/distributed/comm/core.py\", line 307, in connect\n",
      "    raise IOError(\n",
      "OSError: Timed out trying to connect to tcp://10.65.4.49:32853 after 10 s\n",
      "distributed.core - ERROR - Exception while handling op retire_workers\n",
      "Traceback (most recent call last):\n",
      "  File \"/opt/nesi/CS400_centos7_bdw/Python/3.9.5-gimkl-2020a/lib/python3.9/site-packages/distributed/comm/tcp.py\", line 379, in connect\n",
      "    stream = await self.client.connect(\n",
      "  File \"/opt/nesi/CS400_centos7_bdw/Python/3.9.5-gimkl-2020a/lib/python3.9/site-packages/tornado/tcpclient.py\", line 275, in connect\n",
      "    af, addr, stream = await connector.start(connect_timeout=timeout)\n",
      "asyncio.exceptions.CancelledError\n",
      "\n",
      "During handling of the above exception, another exception occurred:\n",
      "\n",
      "Traceback (most recent call last):\n",
      "  File \"/opt/nesi/CS400_centos7_bdw/Python/3.9.5-gimkl-2020a/lib/python3.9/asyncio/tasks.py\", line 492, in wait_for\n",
      "    fut.result()\n",
      "asyncio.exceptions.CancelledError\n",
      "\n",
      "The above exception was the direct cause of the following exception:\n",
      "\n",
      "Traceback (most recent call last):\n",
      "  File \"/opt/nesi/CS400_centos7_bdw/Python/3.9.5-gimkl-2020a/lib/python3.9/site-packages/distributed/comm/core.py\", line 285, in connect\n",
      "    comm = await asyncio.wait_for(\n",
      "  File \"/opt/nesi/CS400_centos7_bdw/Python/3.9.5-gimkl-2020a/lib/python3.9/asyncio/tasks.py\", line 494, in wait_for\n",
      "    raise exceptions.TimeoutError() from exc\n",
      "asyncio.exceptions.TimeoutError\n",
      "\n",
      "The above exception was the direct cause of the following exception:\n",
      "\n",
      "Traceback (most recent call last):\n",
      "  File \"/opt/nesi/CS400_centos7_bdw/Python/3.9.5-gimkl-2020a/lib/python3.9/site-packages/distributed/core.py\", line 501, in handle_comm\n",
      "    result = await result\n",
      "  File \"/opt/nesi/CS400_centos7_bdw/Python/3.9.5-gimkl-2020a/lib/python3.9/site-packages/distributed/scheduler.py\", line 5943, in retire_workers\n",
      "    await self.replicate(\n",
      "  File \"/opt/nesi/CS400_centos7_bdw/Python/3.9.5-gimkl-2020a/lib/python3.9/site-packages/distributed/scheduler.py\", line 5697, in replicate\n",
      "    results = await asyncio.gather(\n",
      "  File \"/opt/nesi/CS400_centos7_bdw/Python/3.9.5-gimkl-2020a/lib/python3.9/site-packages/distributed/utils_comm.py\", line 385, in retry_operation\n",
      "    return await retry(\n",
      "  File \"/opt/nesi/CS400_centos7_bdw/Python/3.9.5-gimkl-2020a/lib/python3.9/site-packages/distributed/utils_comm.py\", line 370, in retry\n",
      "    return await coro()\n",
      "  File \"/opt/nesi/CS400_centos7_bdw/Python/3.9.5-gimkl-2020a/lib/python3.9/site-packages/distributed/core.py\", line 859, in send_recv_from_rpc\n",
      "    comm = await self.pool.connect(self.addr)\n",
      "  File \"/opt/nesi/CS400_centos7_bdw/Python/3.9.5-gimkl-2020a/lib/python3.9/site-packages/distributed/core.py\", line 1010, in connect\n",
      "    comm = await connect(\n",
      "  File \"/opt/nesi/CS400_centos7_bdw/Python/3.9.5-gimkl-2020a/lib/python3.9/site-packages/distributed/comm/core.py\", line 307, in connect\n",
      "    raise IOError(\n",
      "OSError: Timed out trying to connect to tcp://10.65.4.49:32853 after 10 s\n",
      "distributed.utils - ERROR - Timed out trying to connect to tcp://10.65.4.49:32853 after 10 s\n",
      "Traceback (most recent call last):\n",
      "  File \"/opt/nesi/CS400_centos7_bdw/Python/3.9.5-gimkl-2020a/lib/python3.9/asyncio/tasks.py\", line 492, in wait_for\n",
      "    fut.result()\n",
      "asyncio.exceptions.CancelledError\n",
      "\n",
      "The above exception was the direct cause of the following exception:\n",
      "\n",
      "Traceback (most recent call last):\n",
      "  File \"/opt/nesi/CS400_centos7_bdw/Python/3.9.5-gimkl-2020a/lib/python3.9/site-packages/distributed/comm/core.py\", line 285, in connect\n",
      "    comm = await asyncio.wait_for(\n",
      "  File \"/opt/nesi/CS400_centos7_bdw/Python/3.9.5-gimkl-2020a/lib/python3.9/asyncio/tasks.py\", line 494, in wait_for\n",
      "    raise exceptions.TimeoutError() from exc\n",
      "asyncio.exceptions.TimeoutError\n",
      "\n",
      "The above exception was the direct cause of the following exception:\n",
      "\n",
      "Traceback (most recent call last):\n",
      "  File \"/opt/nesi/CS400_centos7_bdw/Python/3.9.5-gimkl-2020a/lib/python3.9/site-packages/distributed/utils.py\", line 668, in log_errors\n",
      "    yield\n",
      "  File \"/opt/nesi/CS400_centos7_bdw/Python/3.9.5-gimkl-2020a/lib/python3.9/site-packages/distributed/deploy/adaptive.py\", line 188, in scale_down\n",
      "    await self.scheduler.retire_workers(\n",
      "  File \"/opt/nesi/CS400_centos7_bdw/Python/3.9.5-gimkl-2020a/lib/python3.9/site-packages/distributed/core.py\", line 791, in send_recv_from_rpc\n",
      "    result = await send_recv(comm=comm, op=key, **kwargs)\n",
      "  File \"/opt/nesi/CS400_centos7_bdw/Python/3.9.5-gimkl-2020a/lib/python3.9/site-packages/distributed/core.py\", line 661, in send_recv\n",
      "    raise exc.with_traceback(tb)\n",
      "  File \"/opt/nesi/CS400_centos7_bdw/Python/3.9.5-gimkl-2020a/lib/python3.9/site-packages/distributed/core.py\", line 501, in handle_comm\n",
      "    result = await result\n",
      "  File \"/opt/nesi/CS400_centos7_bdw/Python/3.9.5-gimkl-2020a/lib/python3.9/site-packages/distributed/scheduler.py\", line 5943, in retire_workers\n",
      "    await self.replicate(\n",
      "  File \"/opt/nesi/CS400_centos7_bdw/Python/3.9.5-gimkl-2020a/lib/python3.9/site-packages/distributed/scheduler.py\", line 5697, in replicate\n",
      "    results = await asyncio.gather(\n",
      "  File \"/opt/nesi/CS400_centos7_bdw/Python/3.9.5-gimkl-2020a/lib/python3.9/site-packages/distributed/utils_comm.py\", line 385, in retry_operation\n",
      "    return await retry(\n",
      "  File \"/opt/nesi/CS400_centos7_bdw/Python/3.9.5-gimkl-2020a/lib/python3.9/site-packages/distributed/utils_comm.py\", line 370, in retry\n",
      "    return await coro()\n",
      "  File \"/opt/nesi/CS400_centos7_bdw/Python/3.9.5-gimkl-2020a/lib/python3.9/site-packages/distributed/core.py\", line 859, in send_recv_from_rpc\n",
      "    comm = await self.pool.connect(self.addr)\n",
      "  File \"/opt/nesi/CS400_centos7_bdw/Python/3.9.5-gimkl-2020a/lib/python3.9/site-packages/distributed/core.py\", line 1010, in connect\n",
      "    comm = await connect(\n",
      "  File \"/opt/nesi/CS400_centos7_bdw/Python/3.9.5-gimkl-2020a/lib/python3.9/site-packages/distributed/comm/core.py\", line 307, in connect\n",
      "    raise IOError(\n",
      "OSError: Timed out trying to connect to tcp://10.65.4.49:32853 after 10 s\n"
     ]
    }
   ],
   "source": [
    "## Save all the codes from the posts into a JSON file\n",
    "#violations_rows_bd.to_textfiles('pmdcodesnippets_json/PMDJavaCodeSnippets*.json.gz', , encoding='utf-8')\n",
    "#violations_rows_bd.to_textfiles('pmdcodesnippets_json/PMDJavaCodeSnippets*.json', encoding='utf-8')\n",
    "## Save all the codes from the posts into a CSV file\n",
    "# Save to a CSV file\n",
    "#df.to_csv('pmdcodesnippetsviolation_csv/PMDJavaCodeSnippetsViolation*.csv', sep=',', index=False)"
   ]
  },
  {
   "cell_type": "code",
   "execution_count": null,
   "id": "b4e14017-f76b-4bf2-9379-499f5b56e25c",
   "metadata": {},
   "outputs": [],
   "source": []
  }
 ],
 "metadata": {
  "kernelspec": {
   "display_name": "Python 3.9.5 (gimkl-2020a)",
   "language": "python",
   "name": "python395-gimkl-2020a"
  },
  "language_info": {
   "codemirror_mode": {
    "name": "ipython",
    "version": 3
   },
   "file_extension": ".py",
   "mimetype": "text/x-python",
   "name": "python",
   "nbconvert_exporter": "python",
   "pygments_lexer": "ipython3",
   "version": "3.9.5"
  }
 },
 "nbformat": 4,
 "nbformat_minor": 5
}
