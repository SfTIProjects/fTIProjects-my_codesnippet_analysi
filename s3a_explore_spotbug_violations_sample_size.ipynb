{
 "cells": [
  {
   "cell_type": "code",
   "execution_count": 1,
   "id": "5c7001dc-f497-465a-b7ce-d60d9dc88c41",
   "metadata": {},
   "outputs": [],
   "source": [
    "import time\n",
    "from datetime import timedelta\n",
    "import html\n",
    "\n",
    "import pandas as pd\n",
    "import dask\n",
    "import dask.dataframe as dd\n",
    "from dask.distributed import Client\n",
    "from dask_jobqueue import SLURMCluster"
   ]
  },
  {
   "cell_type": "markdown",
   "id": "c3a7ffcf-b1bd-41f8-932d-672077cbfcd1",
   "metadata": {
    "tags": []
   },
   "source": [
    "## Read csv files Java Answers"
   ]
  },
  {
   "cell_type": "code",
   "execution_count": 2,
   "id": "cf20def2-c0d1-4e07-86c2-09c6fb5d9674",
   "metadata": {},
   "outputs": [],
   "source": [
    "df = dd.read_csv('spotbugxmlreports_csv/spotbugReport*.csv', engine='python', error_bad_lines=False, warn_bad_lines=False, dtype=object)"
   ]
  },
  {
   "cell_type": "markdown",
   "id": "276306fe-ee9f-4216-93d6-295499e73bd4",
   "metadata": {},
   "source": [
    "#### Explore dataframe"
   ]
  },
  {
   "cell_type": "code",
   "execution_count": 3,
   "id": "65fcc1f5-8f10-4fba-9ce2-226ed74a4bcc",
   "metadata": {},
   "outputs": [],
   "source": [
    "## explore one patition\n",
    "#one_pat_df = df.partitions[1].compute()"
   ]
  },
  {
   "cell_type": "code",
   "execution_count": 4,
   "id": "21fdc20b-179f-4099-8a28-06ea4e19d786",
   "metadata": {},
   "outputs": [
    {
     "data": {
      "text/html": [
       "<div><strong>Dask DataFrame Structure:</strong></div>\n",
       "<div>\n",
       "<style scoped>\n",
       "    .dataframe tbody tr th:only-of-type {\n",
       "        vertical-align: middle;\n",
       "    }\n",
       "\n",
       "    .dataframe tbody tr th {\n",
       "        vertical-align: top;\n",
       "    }\n",
       "\n",
       "    .dataframe thead th {\n",
       "        text-align: right;\n",
       "    }\n",
       "</style>\n",
       "<table border=\"1\" class=\"dataframe\">\n",
       "  <thead>\n",
       "    <tr style=\"text-align: right;\">\n",
       "      <th></th>\n",
       "      <th>instanceOccurrenceNum</th>\n",
       "      <th>instanceHash</th>\n",
       "      <th>rank</th>\n",
       "      <th>abbrev</th>\n",
       "      <th>category</th>\n",
       "      <th>priority</th>\n",
       "      <th>type</th>\n",
       "      <th>instanceOccurrenceMax</th>\n",
       "      <th>classname</th>\n",
       "      <th>end</th>\n",
       "      <th>endBytecode</th>\n",
       "      <th>isStatic</th>\n",
       "      <th>longMsg</th>\n",
       "      <th>msg</th>\n",
       "      <th>name</th>\n",
       "      <th>primary</th>\n",
       "      <th>signature</th>\n",
       "      <th>shortMsg</th>\n",
       "      <th>sourcepath</th>\n",
       "      <th>sourcefile</th>\n",
       "      <th>start</th>\n",
       "      <th>startBytecode</th>\n",
       "      <th>role</th>\n",
       "    </tr>\n",
       "    <tr>\n",
       "      <th>npartitions=577</th>\n",
       "      <th></th>\n",
       "      <th></th>\n",
       "      <th></th>\n",
       "      <th></th>\n",
       "      <th></th>\n",
       "      <th></th>\n",
       "      <th></th>\n",
       "      <th></th>\n",
       "      <th></th>\n",
       "      <th></th>\n",
       "      <th></th>\n",
       "      <th></th>\n",
       "      <th></th>\n",
       "      <th></th>\n",
       "      <th></th>\n",
       "      <th></th>\n",
       "      <th></th>\n",
       "      <th></th>\n",
       "      <th></th>\n",
       "      <th></th>\n",
       "      <th></th>\n",
       "      <th></th>\n",
       "      <th></th>\n",
       "    </tr>\n",
       "  </thead>\n",
       "  <tbody>\n",
       "    <tr>\n",
       "      <th></th>\n",
       "      <td>object</td>\n",
       "      <td>object</td>\n",
       "      <td>object</td>\n",
       "      <td>object</td>\n",
       "      <td>object</td>\n",
       "      <td>object</td>\n",
       "      <td>object</td>\n",
       "      <td>object</td>\n",
       "      <td>object</td>\n",
       "      <td>object</td>\n",
       "      <td>object</td>\n",
       "      <td>object</td>\n",
       "      <td>object</td>\n",
       "      <td>object</td>\n",
       "      <td>object</td>\n",
       "      <td>object</td>\n",
       "      <td>object</td>\n",
       "      <td>object</td>\n",
       "      <td>object</td>\n",
       "      <td>object</td>\n",
       "      <td>object</td>\n",
       "      <td>object</td>\n",
       "      <td>object</td>\n",
       "    </tr>\n",
       "    <tr>\n",
       "      <th></th>\n",
       "      <td>...</td>\n",
       "      <td>...</td>\n",
       "      <td>...</td>\n",
       "      <td>...</td>\n",
       "      <td>...</td>\n",
       "      <td>...</td>\n",
       "      <td>...</td>\n",
       "      <td>...</td>\n",
       "      <td>...</td>\n",
       "      <td>...</td>\n",
       "      <td>...</td>\n",
       "      <td>...</td>\n",
       "      <td>...</td>\n",
       "      <td>...</td>\n",
       "      <td>...</td>\n",
       "      <td>...</td>\n",
       "      <td>...</td>\n",
       "      <td>...</td>\n",
       "      <td>...</td>\n",
       "      <td>...</td>\n",
       "      <td>...</td>\n",
       "      <td>...</td>\n",
       "      <td>...</td>\n",
       "    </tr>\n",
       "    <tr>\n",
       "      <th>...</th>\n",
       "      <td>...</td>\n",
       "      <td>...</td>\n",
       "      <td>...</td>\n",
       "      <td>...</td>\n",
       "      <td>...</td>\n",
       "      <td>...</td>\n",
       "      <td>...</td>\n",
       "      <td>...</td>\n",
       "      <td>...</td>\n",
       "      <td>...</td>\n",
       "      <td>...</td>\n",
       "      <td>...</td>\n",
       "      <td>...</td>\n",
       "      <td>...</td>\n",
       "      <td>...</td>\n",
       "      <td>...</td>\n",
       "      <td>...</td>\n",
       "      <td>...</td>\n",
       "      <td>...</td>\n",
       "      <td>...</td>\n",
       "      <td>...</td>\n",
       "      <td>...</td>\n",
       "      <td>...</td>\n",
       "    </tr>\n",
       "    <tr>\n",
       "      <th></th>\n",
       "      <td>...</td>\n",
       "      <td>...</td>\n",
       "      <td>...</td>\n",
       "      <td>...</td>\n",
       "      <td>...</td>\n",
       "      <td>...</td>\n",
       "      <td>...</td>\n",
       "      <td>...</td>\n",
       "      <td>...</td>\n",
       "      <td>...</td>\n",
       "      <td>...</td>\n",
       "      <td>...</td>\n",
       "      <td>...</td>\n",
       "      <td>...</td>\n",
       "      <td>...</td>\n",
       "      <td>...</td>\n",
       "      <td>...</td>\n",
       "      <td>...</td>\n",
       "      <td>...</td>\n",
       "      <td>...</td>\n",
       "      <td>...</td>\n",
       "      <td>...</td>\n",
       "      <td>...</td>\n",
       "    </tr>\n",
       "    <tr>\n",
       "      <th></th>\n",
       "      <td>...</td>\n",
       "      <td>...</td>\n",
       "      <td>...</td>\n",
       "      <td>...</td>\n",
       "      <td>...</td>\n",
       "      <td>...</td>\n",
       "      <td>...</td>\n",
       "      <td>...</td>\n",
       "      <td>...</td>\n",
       "      <td>...</td>\n",
       "      <td>...</td>\n",
       "      <td>...</td>\n",
       "      <td>...</td>\n",
       "      <td>...</td>\n",
       "      <td>...</td>\n",
       "      <td>...</td>\n",
       "      <td>...</td>\n",
       "      <td>...</td>\n",
       "      <td>...</td>\n",
       "      <td>...</td>\n",
       "      <td>...</td>\n",
       "      <td>...</td>\n",
       "      <td>...</td>\n",
       "    </tr>\n",
       "  </tbody>\n",
       "</table>\n",
       "</div>\n",
       "<div>Dask Name: read-csv, 577 tasks</div>"
      ],
      "text/plain": [
       "Dask DataFrame Structure:\n",
       "                instanceOccurrenceNum instanceHash    rank  abbrev category priority    type instanceOccurrenceMax classname     end endBytecode isStatic longMsg     msg    name primary signature shortMsg sourcepath sourcefile   start startBytecode    role\n",
       "npartitions=577                                                                                                                                                                                                                                                 \n",
       "                               object       object  object  object   object   object  object                object    object  object      object   object  object  object  object  object    object   object     object     object  object        object  object\n",
       "                                  ...          ...     ...     ...      ...      ...     ...                   ...       ...     ...         ...      ...     ...     ...     ...     ...       ...      ...        ...        ...     ...           ...     ...\n",
       "...                               ...          ...     ...     ...      ...      ...     ...                   ...       ...     ...         ...      ...     ...     ...     ...     ...       ...      ...        ...        ...     ...           ...     ...\n",
       "                                  ...          ...     ...     ...      ...      ...     ...                   ...       ...     ...         ...      ...     ...     ...     ...     ...       ...      ...        ...        ...     ...           ...     ...\n",
       "                                  ...          ...     ...     ...      ...      ...     ...                   ...       ...     ...         ...      ...     ...     ...     ...     ...       ...      ...        ...        ...     ...           ...     ...\n",
       "Dask Name: read-csv, 577 tasks"
      ]
     },
     "execution_count": 4,
     "metadata": {},
     "output_type": "execute_result"
    }
   ],
   "source": [
    "df"
   ]
  },
  {
   "cell_type": "markdown",
   "id": "7661c28d-b306-42b1-ab01-ec7821c8f235",
   "metadata": {
    "tags": []
   },
   "source": [
    "## Start a Dask cluster using SLURM jobs as workers"
   ]
  },
  {
   "cell_type": "code",
   "execution_count": 5,
   "id": "0216ff53-64ce-4635-923d-ba00444eed69",
   "metadata": {},
   "outputs": [],
   "source": [
    "#http://jobqueue.dask.org/en/latest/generated/dask_jobqueue.SLURMCluster.html\n",
    "dask.config.set(\n",
    "    {\n",
    "        \"distributed.worker.memory.target\" : False,  # avoid spilling to disk\n",
    "        \"distributed.worker.memory.spill\" : False,  # avoid spilling to disk\n",
    "    }\n",
    ")\n",
    "cluster = SLURMCluster(\n",
    "    cores=10, #cores=24, # we set each job to have 1 Worker, each using 10 cores (threads) and 8 GB of memory\n",
    "    processes=2,\n",
    "    memory=\"8GiB\",\n",
    "    walltime=\"0-00:30\",# walltime=\"0-00:50\",\n",
    "    log_directory=\"../dask/logs\",  # folder for SLURM logs for each worker\n",
    "    local_directory=\"../dask\",  # folder for workers data\n",
    ")"
   ]
  },
  {
   "cell_type": "markdown",
   "id": "8b7ef768-6ce6-4696-a16b-83206ffe3e41",
   "metadata": {},
   "source": [
    "Spawn between 20 to 100 workers and connect a client to be able use them."
   ]
  },
  {
   "cell_type": "code",
   "execution_count": 6,
   "id": "0ecdceec-2192-4343-ad4e-8826616caffb",
   "metadata": {},
   "outputs": [
    {
     "data": {
      "text/html": [
       "<table style=\"border: 2px solid white;\">\n",
       "<tr>\n",
       "<td style=\"vertical-align: top; border: 0px solid white\">\n",
       "<h3 style=\"text-align: left;\">Client</h3>\n",
       "<ul style=\"text-align: left; list-style: none; margin: 0; padding: 0;\">\n",
       "  <li><b>Scheduler: </b>tcp://192.168.94.154:43906</li>\n",
       "  <li><b>Dashboard: </b><a href='http://192.168.94.154:8787/status' target='_blank'>http://192.168.94.154:8787/status</a></li>\n",
       "</ul>\n",
       "</td>\n",
       "<td style=\"vertical-align: top; border: 0px solid white\">\n",
       "<h3 style=\"text-align: left;\">Cluster</h3>\n",
       "<ul style=\"text-align: left; list-style:none; margin: 0; padding: 0;\">\n",
       "  <li><b>Workers: </b>0</li>\n",
       "  <li><b>Cores: </b>0</li>\n",
       "  <li><b>Memory: </b>0 B</li>\n",
       "</ul>\n",
       "</td>\n",
       "</tr>\n",
       "</table>"
      ],
      "text/plain": [
       "<Client: 'tcp://192.168.94.154:43906' processes=0 threads=0, memory=0 B>"
      ]
     },
     "execution_count": 6,
     "metadata": {},
     "output_type": "execute_result"
    }
   ],
   "source": [
    "#cluster.scale(n=20) # ask for 20 jobs or workers\n",
    "# This also works with adaptive clusters. This automatically launches and kill workers based on load.\n",
    "# we tell our cluster to autoscale between 10 and 20 workers depending on the load\n",
    "cluster.adapt(minimum_jobs=10, maximum_jobs=200)\n",
    "#cluster.adapt(maximum_jobs=20)\n",
    "client = Client(cluster)\n",
    "client"
   ]
  },
  {
   "cell_type": "code",
   "execution_count": 7,
   "id": "328d170f-23e2-4ab3-a0e2-6a339505feba",
   "metadata": {},
   "outputs": [
    {
     "name": "stdout",
     "output_type": "stream",
     "text": [
      "Initial number of volations 534978\n"
     ]
    }
   ],
   "source": [
    "df_init_len = df.shape[0].compute()\n",
    "print('Initial number of volations {}'.format(df_init_len))"
   ]
  },
  {
   "cell_type": "code",
   "execution_count": 8,
   "id": "227f8bba-3a1b-4c33-964c-ea01e8576eb3",
   "metadata": {},
   "outputs": [
    {
     "data": {
      "text/html": [
       "<div>\n",
       "<style scoped>\n",
       "    .dataframe tbody tr th:only-of-type {\n",
       "        vertical-align: middle;\n",
       "    }\n",
       "\n",
       "    .dataframe tbody tr th {\n",
       "        vertical-align: top;\n",
       "    }\n",
       "\n",
       "    .dataframe thead th {\n",
       "        text-align: right;\n",
       "    }\n",
       "</style>\n",
       "<table border=\"1\" class=\"dataframe\">\n",
       "  <thead>\n",
       "    <tr style=\"text-align: right;\">\n",
       "      <th></th>\n",
       "      <th>instanceOccurrenceNum</th>\n",
       "      <th>instanceHash</th>\n",
       "      <th>rank</th>\n",
       "      <th>abbrev</th>\n",
       "      <th>category</th>\n",
       "      <th>priority</th>\n",
       "      <th>type</th>\n",
       "      <th>instanceOccurrenceMax</th>\n",
       "      <th>classname</th>\n",
       "      <th>end</th>\n",
       "      <th>...</th>\n",
       "      <th>msg</th>\n",
       "      <th>name</th>\n",
       "      <th>primary</th>\n",
       "      <th>signature</th>\n",
       "      <th>shortMsg</th>\n",
       "      <th>sourcepath</th>\n",
       "      <th>sourcefile</th>\n",
       "      <th>start</th>\n",
       "      <th>startBytecode</th>\n",
       "      <th>role</th>\n",
       "    </tr>\n",
       "  </thead>\n",
       "  <tbody>\n",
       "    <tr>\n",
       "      <th>0</th>\n",
       "      <td>0</td>\n",
       "      <td>ce90bd5e82bd4d0d11cd96245d7fcadf</td>\n",
       "      <td>18</td>\n",
       "      <td>UrF</td>\n",
       "      <td>PERFORMANCE</td>\n",
       "      <td>2</td>\n",
       "      <td>URF_UNREAD_FIELD</td>\n",
       "      <td>0</td>\n",
       "      <td>NaN</td>\n",
       "      <td>NaN</td>\n",
       "      <td>...</td>\n",
       "      <td>NaN</td>\n",
       "      <td>NaN</td>\n",
       "      <td>NaN</td>\n",
       "      <td>NaN</td>\n",
       "      <td>NaN</td>\n",
       "      <td>NaN</td>\n",
       "      <td>NaN</td>\n",
       "      <td>NaN</td>\n",
       "      <td>NaN</td>\n",
       "      <td>NaN</td>\n",
       "    </tr>\n",
       "    <tr>\n",
       "      <th>1</th>\n",
       "      <td>NaN</td>\n",
       "      <td>NaN</td>\n",
       "      <td>NaN</td>\n",
       "      <td>NaN</td>\n",
       "      <td>NaN</td>\n",
       "      <td>NaN</td>\n",
       "      <td>NaN</td>\n",
       "      <td>NaN</td>\n",
       "      <td>NaN</td>\n",
       "      <td>NaN</td>\n",
       "      <td>...</td>\n",
       "      <td>NaN</td>\n",
       "      <td>NaN</td>\n",
       "      <td>NaN</td>\n",
       "      <td>NaN</td>\n",
       "      <td>Unread field</td>\n",
       "      <td>NaN</td>\n",
       "      <td>NaN</td>\n",
       "      <td>NaN</td>\n",
       "      <td>NaN</td>\n",
       "      <td>NaN</td>\n",
       "    </tr>\n",
       "    <tr>\n",
       "      <th>2</th>\n",
       "      <td>NaN</td>\n",
       "      <td>NaN</td>\n",
       "      <td>NaN</td>\n",
       "      <td>NaN</td>\n",
       "      <td>NaN</td>\n",
       "      <td>NaN</td>\n",
       "      <td>NaN</td>\n",
       "      <td>NaN</td>\n",
       "      <td>NaN</td>\n",
       "      <td>NaN</td>\n",
       "      <td>...</td>\n",
       "      <td>NaN</td>\n",
       "      <td>NaN</td>\n",
       "      <td>NaN</td>\n",
       "      <td>NaN</td>\n",
       "      <td>NaN</td>\n",
       "      <td>NaN</td>\n",
       "      <td>NaN</td>\n",
       "      <td>NaN</td>\n",
       "      <td>NaN</td>\n",
       "      <td>NaN</td>\n",
       "    </tr>\n",
       "    <tr>\n",
       "      <th>3</th>\n",
       "      <td>NaN</td>\n",
       "      <td>NaN</td>\n",
       "      <td>NaN</td>\n",
       "      <td>NaN</td>\n",
       "      <td>NaN</td>\n",
       "      <td>NaN</td>\n",
       "      <td>NaN</td>\n",
       "      <td>NaN</td>\n",
       "      <td>Code_10203353_10202514_4576_2</td>\n",
       "      <td>NaN</td>\n",
       "      <td>...</td>\n",
       "      <td>NaN</td>\n",
       "      <td>NaN</td>\n",
       "      <td>true</td>\n",
       "      <td>NaN</td>\n",
       "      <td>NaN</td>\n",
       "      <td>NaN</td>\n",
       "      <td>NaN</td>\n",
       "      <td>NaN</td>\n",
       "      <td>NaN</td>\n",
       "      <td>NaN</td>\n",
       "    </tr>\n",
       "    <tr>\n",
       "      <th>4</th>\n",
       "      <td>NaN</td>\n",
       "      <td>NaN</td>\n",
       "      <td>NaN</td>\n",
       "      <td>NaN</td>\n",
       "      <td>NaN</td>\n",
       "      <td>NaN</td>\n",
       "      <td>NaN</td>\n",
       "      <td>NaN</td>\n",
       "      <td>Code_10203353_10202514_4576_2</td>\n",
       "      <td>2</td>\n",
       "      <td>...</td>\n",
       "      <td>NaN</td>\n",
       "      <td>NaN</td>\n",
       "      <td>NaN</td>\n",
       "      <td>NaN</td>\n",
       "      <td>NaN</td>\n",
       "      <td>Code_10203353_10202514_4576_2.java</td>\n",
       "      <td>Code_10203353_10202514_4576_2.java</td>\n",
       "      <td>1</td>\n",
       "      <td>NaN</td>\n",
       "      <td>NaN</td>\n",
       "    </tr>\n",
       "  </tbody>\n",
       "</table>\n",
       "<p>5 rows × 23 columns</p>\n",
       "</div>"
      ],
      "text/plain": [
       "  instanceOccurrenceNum                      instanceHash rank abbrev  \\\n",
       "0                     0  ce90bd5e82bd4d0d11cd96245d7fcadf   18    UrF   \n",
       "1                   NaN                               NaN  NaN    NaN   \n",
       "2                   NaN                               NaN  NaN    NaN   \n",
       "3                   NaN                               NaN  NaN    NaN   \n",
       "4                   NaN                               NaN  NaN    NaN   \n",
       "\n",
       "      category priority              type instanceOccurrenceMax  \\\n",
       "0  PERFORMANCE        2  URF_UNREAD_FIELD                     0   \n",
       "1          NaN      NaN               NaN                   NaN   \n",
       "2          NaN      NaN               NaN                   NaN   \n",
       "3          NaN      NaN               NaN                   NaN   \n",
       "4          NaN      NaN               NaN                   NaN   \n",
       "\n",
       "                       classname  end  ...  msg name primary signature  \\\n",
       "0                            NaN  NaN  ...  NaN  NaN     NaN       NaN   \n",
       "1                            NaN  NaN  ...  NaN  NaN     NaN       NaN   \n",
       "2                            NaN  NaN  ...  NaN  NaN     NaN       NaN   \n",
       "3  Code_10203353_10202514_4576_2  NaN  ...  NaN  NaN    true       NaN   \n",
       "4  Code_10203353_10202514_4576_2    2  ...  NaN  NaN     NaN       NaN   \n",
       "\n",
       "       shortMsg                          sourcepath  \\\n",
       "0           NaN                                 NaN   \n",
       "1  Unread field                                 NaN   \n",
       "2           NaN                                 NaN   \n",
       "3           NaN                                 NaN   \n",
       "4           NaN  Code_10203353_10202514_4576_2.java   \n",
       "\n",
       "                           sourcefile start startBytecode role  \n",
       "0                                 NaN   NaN           NaN  NaN  \n",
       "1                                 NaN   NaN           NaN  NaN  \n",
       "2                                 NaN   NaN           NaN  NaN  \n",
       "3                                 NaN   NaN           NaN  NaN  \n",
       "4  Code_10203353_10202514_4576_2.java     1           NaN  NaN  \n",
       "\n",
       "[5 rows x 23 columns]"
      ]
     },
     "execution_count": 8,
     "metadata": {},
     "output_type": "execute_result"
    }
   ],
   "source": [
    "df.head()"
   ]
  },
  {
   "cell_type": "code",
   "execution_count": 9,
   "id": "758c6982-f284-4290-8720-e8f8239ea4a4",
   "metadata": {},
   "outputs": [],
   "source": [
    "#df.tail()"
   ]
  },
  {
   "cell_type": "raw",
   "id": "eab62e70-1f44-431e-8922-3d04195948ff",
   "metadata": {},
   "source": [
    "## Init\n",
    "s_cat_type = 0 #1   0 + 13 + 13 + ...\n",
    "s_shortmsg = 1 #2   1 + 13 + 13 + ...\n",
    "s_source_start_end = 4 #5  4 + 13 + 13 + ...\n",
    "\n",
    "def handle_row_select(row):\n",
    "    # do something with row\n",
    "    #result = row.loc[s_cat_type, ['category', 'type']]\n",
    "    #result = row.loc[['category', 'type']]\n",
    "    return result\n",
    "\n",
    "def handle_partition(part):\n",
    "    # add partition level setup code here\n",
    "    result = part.apply(lambda row: handle_row_select(row), axis=1)\n",
    "    # add partition level teardown code here\n",
    "    return result\n",
    "   \n",
    "#df.apply(comp_smpl_no)\n",
    "\n",
    "results = df.map_partitions(lambda part: handle_partition(part))\n",
    "#results.compute()\n",
    "results"
   ]
  },
  {
   "cell_type": "code",
   "execution_count": 10,
   "id": "f7bd19b1-1325-44b8-b7ed-273f3f0e38b8",
   "metadata": {},
   "outputs": [],
   "source": [
    "# get the headers\n",
    "df = df[['category', 'type', 'sourcefile', 'msg', 'shortMsg']]"
   ]
  },
  {
   "cell_type": "code",
   "execution_count": 11,
   "id": "7b3a0415-abd6-4410-a0fc-1b06974f0d56",
   "metadata": {},
   "outputs": [
    {
     "data": {
      "text/plain": [
       "534978"
      ]
     },
     "execution_count": 11,
     "metadata": {},
     "output_type": "execute_result"
    }
   ],
   "source": [
    "df.index.shape[0].compute()"
   ]
  },
  {
   "cell_type": "code",
   "execution_count": 12,
   "id": "3ba068d7-139f-4b5e-a443-5b1891a1dca1",
   "metadata": {},
   "outputs": [],
   "source": [
    "# Fill NaN cells with previous row values\n",
    "#https://stackoverflow.com/questions/41212273/pandaspython-fill-empty-cells-with-with-previous-row-value\n",
    "df = df.fillna(method='ffill')"
   ]
  },
  {
   "cell_type": "code",
   "execution_count": 13,
   "id": "5252e97f-0d7a-4fe4-9b54-5bcc47ec694e",
   "metadata": {},
   "outputs": [],
   "source": [
    "# get specific needed columns \n",
    "df = df[['category', 'type', 'sourcefile', 'msg', 'shortMsg']]"
   ]
  },
  {
   "cell_type": "code",
   "execution_count": 14,
   "id": "fc43edec-83bf-43e8-8053-e76e8fc5295c",
   "metadata": {},
   "outputs": [],
   "source": [
    "# remove the records with null values \n",
    "df = df.dropna()"
   ]
  },
  {
   "cell_type": "raw",
   "id": "ed96da6b-471e-4405-b992-6a114fe54313",
   "metadata": {},
   "source": [
    "# remove duplicate rows\n",
    "df = df.drop_duplicates()"
   ]
  },
  {
   "cell_type": "code",
   "execution_count": 15,
   "id": "35252ffa-0d87-429f-89c3-b1d155dc50f5",
   "metadata": {},
   "outputs": [
    {
     "data": {
      "text/plain": [
       "534973"
      ]
     },
     "execution_count": 15,
     "metadata": {},
     "output_type": "execute_result"
    }
   ],
   "source": [
    "df.index.shape[0].compute()"
   ]
  },
  {
   "cell_type": "code",
   "execution_count": 19,
   "id": "ee2b6aed-1632-4238-b48a-80a07f023e66",
   "metadata": {},
   "outputs": [
    {
     "data": {
      "text/html": [
       "<div>\n",
       "<style scoped>\n",
       "    .dataframe tbody tr th:only-of-type {\n",
       "        vertical-align: middle;\n",
       "    }\n",
       "\n",
       "    .dataframe tbody tr th {\n",
       "        vertical-align: top;\n",
       "    }\n",
       "\n",
       "    .dataframe thead th {\n",
       "        text-align: right;\n",
       "    }\n",
       "</style>\n",
       "<table border=\"1\" class=\"dataframe\">\n",
       "  <thead>\n",
       "    <tr style=\"text-align: right;\">\n",
       "      <th></th>\n",
       "      <th>category</th>\n",
       "      <th>type</th>\n",
       "      <th>sourcefile</th>\n",
       "      <th>msg</th>\n",
       "      <th>shortMsg</th>\n",
       "    </tr>\n",
       "  </thead>\n",
       "  <tbody>\n",
       "    <tr>\n",
       "      <th>5</th>\n",
       "      <td>PERFORMANCE</td>\n",
       "      <td>URF_UNREAD_FIELD</td>\n",
       "      <td>Code_10203353_10202514_4576_2.java</td>\n",
       "      <td>At Code_10203353_10202514_4576_2.java:[lines 1-2]</td>\n",
       "      <td>Unread field</td>\n",
       "    </tr>\n",
       "    <tr>\n",
       "      <th>6</th>\n",
       "      <td>PERFORMANCE</td>\n",
       "      <td>URF_UNREAD_FIELD</td>\n",
       "      <td>Code_10203353_10202514_4576_2.java</td>\n",
       "      <td>In class Code_10203353_10202514_4576_2</td>\n",
       "      <td>Unread field</td>\n",
       "    </tr>\n",
       "    <tr>\n",
       "      <th>7</th>\n",
       "      <td>PERFORMANCE</td>\n",
       "      <td>URF_UNREAD_FIELD</td>\n",
       "      <td>Code_10203353_10202514_4576_2.java</td>\n",
       "      <td>In class Code_10203353_10202514_4576_2</td>\n",
       "      <td>Unread field</td>\n",
       "    </tr>\n",
       "    <tr>\n",
       "      <th>8</th>\n",
       "      <td>PERFORMANCE</td>\n",
       "      <td>URF_UNREAD_FIELD</td>\n",
       "      <td>Code_10203353_10202514_4576_2.java</td>\n",
       "      <td>In class Code_10203353_10202514_4576_2</td>\n",
       "      <td>Unread field</td>\n",
       "    </tr>\n",
       "    <tr>\n",
       "      <th>9</th>\n",
       "      <td>PERFORMANCE</td>\n",
       "      <td>URF_UNREAD_FIELD</td>\n",
       "      <td>Code_10203353_10202514_4576_2.java</td>\n",
       "      <td>In Code_10203353_10202514_4576_2.java</td>\n",
       "      <td>Unread field</td>\n",
       "    </tr>\n",
       "  </tbody>\n",
       "</table>\n",
       "</div>"
      ],
      "text/plain": [
       "      category              type                          sourcefile  \\\n",
       "5  PERFORMANCE  URF_UNREAD_FIELD  Code_10203353_10202514_4576_2.java   \n",
       "6  PERFORMANCE  URF_UNREAD_FIELD  Code_10203353_10202514_4576_2.java   \n",
       "7  PERFORMANCE  URF_UNREAD_FIELD  Code_10203353_10202514_4576_2.java   \n",
       "8  PERFORMANCE  URF_UNREAD_FIELD  Code_10203353_10202514_4576_2.java   \n",
       "9  PERFORMANCE  URF_UNREAD_FIELD  Code_10203353_10202514_4576_2.java   \n",
       "\n",
       "                                                 msg      shortMsg  \n",
       "5  At Code_10203353_10202514_4576_2.java:[lines 1-2]  Unread field  \n",
       "6             In class Code_10203353_10202514_4576_2  Unread field  \n",
       "7             In class Code_10203353_10202514_4576_2  Unread field  \n",
       "8             In class Code_10203353_10202514_4576_2  Unread field  \n",
       "9              In Code_10203353_10202514_4576_2.java  Unread field  "
      ]
     },
     "execution_count": 19,
     "metadata": {},
     "output_type": "execute_result"
    }
   ],
   "source": [
    "df.head()"
   ]
  },
  {
   "cell_type": "code",
   "execution_count": 20,
   "id": "f6dae64d-41b5-4448-9d8a-e5eeb1f32f3f",
   "metadata": {},
   "outputs": [
    {
     "data": {
      "text/html": [
       "<div>\n",
       "<style scoped>\n",
       "    .dataframe tbody tr th:only-of-type {\n",
       "        vertical-align: middle;\n",
       "    }\n",
       "\n",
       "    .dataframe tbody tr th {\n",
       "        vertical-align: top;\n",
       "    }\n",
       "\n",
       "    .dataframe thead th {\n",
       "        text-align: right;\n",
       "    }\n",
       "</style>\n",
       "<table border=\"1\" class=\"dataframe\">\n",
       "  <thead>\n",
       "    <tr style=\"text-align: right;\">\n",
       "      <th></th>\n",
       "      <th>category</th>\n",
       "      <th>type</th>\n",
       "      <th>sourcefile</th>\n",
       "      <th>msg</th>\n",
       "      <th>shortMsg</th>\n",
       "    </tr>\n",
       "  </thead>\n",
       "  <tbody>\n",
       "    <tr>\n",
       "      <th>800</th>\n",
       "      <td>PERFORMANCE</td>\n",
       "      <td>URF_UNREAD_FIELD</td>\n",
       "      <td>Code_997269_332079_2894_1.java</td>\n",
       "      <td>In class Code_997269_332079_2894_1</td>\n",
       "      <td>Unread field</td>\n",
       "    </tr>\n",
       "    <tr>\n",
       "      <th>801</th>\n",
       "      <td>PERFORMANCE</td>\n",
       "      <td>URF_UNREAD_FIELD</td>\n",
       "      <td>Code_997269_332079_2894_1.java</td>\n",
       "      <td>In Code_997269_332079_2894_1.java</td>\n",
       "      <td>Unread field</td>\n",
       "    </tr>\n",
       "    <tr>\n",
       "      <th>802</th>\n",
       "      <td>PERFORMANCE</td>\n",
       "      <td>URF_UNREAD_FIELD</td>\n",
       "      <td>Code_997269_332079_2894_1.java</td>\n",
       "      <td>Field Code_997269_332079_2894_1.hexArray</td>\n",
       "      <td>Unread field</td>\n",
       "    </tr>\n",
       "    <tr>\n",
       "      <th>803</th>\n",
       "      <td>PERFORMANCE</td>\n",
       "      <td>URF_UNREAD_FIELD</td>\n",
       "      <td>Code_997269_332079_2894_1.java</td>\n",
       "      <td>Field Code_997269_332079_2894_1.hexArray</td>\n",
       "      <td>Unread field</td>\n",
       "    </tr>\n",
       "    <tr>\n",
       "      <th>804</th>\n",
       "      <td>PERFORMANCE</td>\n",
       "      <td>URF_UNREAD_FIELD</td>\n",
       "      <td>Code_997269_332079_2894_1.java</td>\n",
       "      <td>At Code_997269_332079_2894_1.java:[line 2]</td>\n",
       "      <td>Unread field</td>\n",
       "    </tr>\n",
       "  </tbody>\n",
       "</table>\n",
       "</div>"
      ],
      "text/plain": [
       "        category              type                      sourcefile  \\\n",
       "800  PERFORMANCE  URF_UNREAD_FIELD  Code_997269_332079_2894_1.java   \n",
       "801  PERFORMANCE  URF_UNREAD_FIELD  Code_997269_332079_2894_1.java   \n",
       "802  PERFORMANCE  URF_UNREAD_FIELD  Code_997269_332079_2894_1.java   \n",
       "803  PERFORMANCE  URF_UNREAD_FIELD  Code_997269_332079_2894_1.java   \n",
       "804  PERFORMANCE  URF_UNREAD_FIELD  Code_997269_332079_2894_1.java   \n",
       "\n",
       "                                            msg      shortMsg  \n",
       "800          In class Code_997269_332079_2894_1  Unread field  \n",
       "801           In Code_997269_332079_2894_1.java  Unread field  \n",
       "802    Field Code_997269_332079_2894_1.hexArray  Unread field  \n",
       "803    Field Code_997269_332079_2894_1.hexArray  Unread field  \n",
       "804  At Code_997269_332079_2894_1.java:[line 2]  Unread field  "
      ]
     },
     "execution_count": 20,
     "metadata": {},
     "output_type": "execute_result"
    }
   ],
   "source": [
    "df.tail()"
   ]
  },
  {
   "cell_type": "code",
   "execution_count": 16,
   "id": "e5426e28-4786-4ccb-974d-b9ec72538b55",
   "metadata": {},
   "outputs": [],
   "source": [
    "#df['lines'] = df['msg'].str.extract(r'line|s', expand=False)"
   ]
  },
  {
   "cell_type": "code",
   "execution_count": null,
   "id": "9f5c0786-931a-48de-9117-b24b8376198a",
   "metadata": {},
   "outputs": [],
   "source": []
  },
  {
   "cell_type": "code",
   "execution_count": null,
   "id": "bd95cfa2-6fb6-4492-938f-bef751d2ded6",
   "metadata": {},
   "outputs": [],
   "source": []
  },
  {
   "cell_type": "code",
   "execution_count": null,
   "id": "95d6c826-52d5-4759-8499-13ac5a6baeb3",
   "metadata": {},
   "outputs": [],
   "source": []
  },
  {
   "cell_type": "code",
   "execution_count": 17,
   "id": "43effe3e-0a51-44bb-a960-0f21c3106b9b",
   "metadata": {},
   "outputs": [
    {
     "ename": "NameError",
     "evalue": "name 'nnn' is not defined",
     "output_type": "error",
     "traceback": [
      "\u001b[0;31m---------------------------------------------------------------------------\u001b[0m",
      "\u001b[0;31mNameError\u001b[0m                                 Traceback (most recent call last)",
      "\u001b[0;32m<ipython-input-17-e51fd6fe29dd>\u001b[0m in \u001b[0;36m<module>\u001b[0;34m\u001b[0m\n\u001b[0;32m----> 1\u001b[0;31m \u001b[0mnnn\u001b[0m\u001b[0;34m\u001b[0m\u001b[0;34m\u001b[0m\u001b[0m\n\u001b[0m",
      "\u001b[0;31mNameError\u001b[0m: name 'nnn' is not defined"
     ]
    }
   ],
   "source": [
    "nnn"
   ]
  },
  {
   "cell_type": "markdown",
   "id": "4eeb0e69-c220-47f7-b353-768c4cb8c3a8",
   "metadata": {},
   "source": [
    "### Test"
   ]
  },
  {
   "cell_type": "code",
   "execution_count": null,
   "id": "fbbf428b-2635-4127-87d2-df1d8cea5457",
   "metadata": {},
   "outputs": [],
   "source": [
    "import numpy as np\n",
    "import pandas as pd\n",
    "\n",
    "import subprocess as sp"
   ]
  },
  {
   "cell_type": "code",
   "execution_count": null,
   "id": "a20ac8b3-cccb-4f0b-8792-aea32c3406d0",
   "metadata": {},
   "outputs": [],
   "source": [
    "csv_path = 'spotbugxmlreports_csv'"
   ]
  },
  {
   "cell_type": "code",
   "execution_count": null,
   "id": "93da0ad6-f5dd-4077-9a14-ccbf0ad9ff5d",
   "metadata": {},
   "outputs": [],
   "source": [
    "folder = 'spotbugreports_wt_idx_csv'\n",
    "mkdir_cmd = 'mkdir {}'.format(folder)\n",
    "cmd = sp.run(\n",
    "    mkdir_cmd, # command\n",
    "    capture_output=True,\n",
    "    text=True,\n",
    "    shell=True\n",
    ")"
   ]
  },
  {
   "cell_type": "code",
   "execution_count": null,
   "id": "9aad7f39-35db-4be7-8470-d520cbf1dd86",
   "metadata": {},
   "outputs": [],
   "source": [
    "# str.zfill(x) adds zeros in front of a number\n",
    "array_id = '0'\n",
    "file = 'spotbugReport{}'.format(array_id.zfill(3))\n",
    "print(file)"
   ]
  },
  {
   "cell_type": "code",
   "execution_count": null,
   "id": "23e6cb53-812c-4dad-aa00-38f16410630a",
   "metadata": {},
   "outputs": [],
   "source": [
    "df = pd.read_csv('{}/{}.csv'.format(csv_path, file))"
   ]
  },
  {
   "cell_type": "code",
   "execution_count": null,
   "id": "2b0b0d4d-60d7-4226-ab40-770f0b27a2a1",
   "metadata": {},
   "outputs": [],
   "source": [
    "df.columns"
   ]
  },
  {
   "cell_type": "code",
   "execution_count": null,
   "id": "a316e2f8-9d1d-465e-bb9d-ed52b7a88f0d",
   "metadata": {},
   "outputs": [],
   "source": [
    "df.index.shape[0]"
   ]
  },
  {
   "cell_type": "code",
   "execution_count": null,
   "id": "05fb021a-f2dd-4e9f-b447-f73162dfc7a5",
   "metadata": {},
   "outputs": [],
   "source": [
    "# Fill NaN cells with previous row values\n",
    "#https://stackoverflow.com/questions/41212273/pandaspython-fill-empty-cells-with-with-previous-row-value\n",
    "df.fillna(method='ffill', inplace=True)"
   ]
  },
  {
   "cell_type": "code",
   "execution_count": null,
   "id": "f2829947-b733-41be-a5c7-1ae2830ed6f3",
   "metadata": {},
   "outputs": [],
   "source": [
    "# get the headers\n",
    "df = df[['category', 'type', 'sourcefile', 'msg', 'shortMsg']]"
   ]
  },
  {
   "cell_type": "code",
   "execution_count": null,
   "id": "93e49079-f8fb-4763-b593-efe46fb5e55d",
   "metadata": {},
   "outputs": [],
   "source": [
    "df.head()"
   ]
  },
  {
   "cell_type": "code",
   "execution_count": null,
   "id": "eeda1cf3-cfd9-4eb8-82bb-5eeaa8ecd47b",
   "metadata": {},
   "outputs": [],
   "source": [
    "df.dropna(inplace=True)"
   ]
  },
  {
   "cell_type": "code",
   "execution_count": null,
   "id": "32f40e38-5752-4e02-a8b1-81e6ed76603a",
   "metadata": {},
   "outputs": [],
   "source": [
    "df.index.shape[0]"
   ]
  },
  {
   "cell_type": "code",
   "execution_count": null,
   "id": "d3089ac3-2f7b-4b2c-9a83-86b71bdce493",
   "metadata": {},
   "outputs": [],
   "source": [
    "#drop duplicate rows\n",
    "df.drop_duplicates(inplace=True)"
   ]
  },
  {
   "cell_type": "code",
   "execution_count": null,
   "id": "4cb340ef-4c0c-493b-95a5-8eb3f9d6721c",
   "metadata": {},
   "outputs": [],
   "source": [
    "df.index.shape[0]"
   ]
  },
  {
   "cell_type": "code",
   "execution_count": null,
   "id": "4d09ddd5-1bb7-4ce8-8368-d3b00725c8de",
   "metadata": {},
   "outputs": [],
   "source": [
    "# use regex to extract lines where the errors occured in the msg\n",
    "df[['bugline', 'bugline2']] = df['msg'].str.extract('((line|lines)\\s+\\d+\\-?\\d*)', expand=True)"
   ]
  },
  {
   "cell_type": "code",
   "execution_count": null,
   "id": "8c1d5018-8076-4a69-81d6-3e5155b4d2d7",
   "metadata": {},
   "outputs": [],
   "source": [
    "df.head()"
   ]
  },
  {
   "cell_type": "code",
   "execution_count": null,
   "id": "f978a18c-afd4-4cd1-9c34-2b0fceaefa9a",
   "metadata": {},
   "outputs": [],
   "source": [
    "df = df[['category', 'type', 'sourcefile', 'shortMsg', 'bugline']]"
   ]
  },
  {
   "cell_type": "code",
   "execution_count": null,
   "id": "3d9de4ec-ed46-4707-9576-a14d80d34258",
   "metadata": {},
   "outputs": [],
   "source": [
    "df = df.fillna('unident')"
   ]
  },
  {
   "cell_type": "code",
   "execution_count": null,
   "id": "23bf7b25-0395-491b-8fc2-b369720494e9",
   "metadata": {},
   "outputs": [],
   "source": [
    "df.head()"
   ]
  },
  {
   "cell_type": "code",
   "execution_count": null,
   "id": "09fd3ba6-bc0c-4d4b-ba0a-c1cbde02c374",
   "metadata": {},
   "outputs": [],
   "source": []
  },
  {
   "cell_type": "code",
   "execution_count": null,
   "id": "3695e3ea-e98a-4f03-82e4-5d11947c5d7d",
   "metadata": {},
   "outputs": [],
   "source": [
    "# Rename\n",
    "#df.rename(columns = {'index':'idx'}, inplace = True)\n",
    "#df.to_csv('{}/{}.csv'.format(folder, file), index=False)"
   ]
  },
  {
   "cell_type": "code",
   "execution_count": null,
   "id": "f85a856f-60db-4ea0-b017-cc798118c971",
   "metadata": {},
   "outputs": [],
   "source": []
  },
  {
   "cell_type": "code",
   "execution_count": null,
   "id": "a31714c6-3b91-4981-91af-5f6c7b494be1",
   "metadata": {},
   "outputs": [],
   "source": []
  }
 ],
 "metadata": {
  "kernelspec": {
   "display_name": "Python 3.9.5 (gimkl-2020a)",
   "language": "python",
   "name": "python395-gimkl-2020a"
  },
  "language_info": {
   "codemirror_mode": {
    "name": "ipython",
    "version": 3
   },
   "file_extension": ".py",
   "mimetype": "text/x-python",
   "name": "python",
   "nbconvert_exporter": "python",
   "pygments_lexer": "ipython3",
   "version": "3.9.5"
  }
 },
 "nbformat": 4,
 "nbformat_minor": 5
}
