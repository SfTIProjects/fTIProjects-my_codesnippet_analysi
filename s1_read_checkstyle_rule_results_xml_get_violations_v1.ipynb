{
 "cells": [
  {
   "cell_type": "code",
   "execution_count": 1,
   "id": "f7f4ccb5-1d92-4622-a471-40b735920801",
   "metadata": {},
   "outputs": [],
   "source": [
    "import time\n",
    "from datetime import timedelta\n",
    "\n",
    "import html\n",
    "import re\n",
    "\n",
    "import numpy as np\n",
    "import pandas as pd\n",
    "import xml.etree.ElementTree as et\n",
    "\n",
    "import dask\n",
    "import dask.dataframe as dd\n",
    "import dask.bag as bd\n",
    "from dask.distributed import Client\n",
    "from dask_jobqueue import SLURMCluster"
   ]
  },
  {
   "cell_type": "markdown",
   "id": "61e409ec-5a5c-465c-a4bc-1dcbd452585a",
   "metadata": {},
   "source": [
    "### Note\n",
    "- Some of the files were not complete use the s1_find_incomp_chekstyle_xml.ipnb to find them and remove them\n",
    "- and the empty ones as well"
   ]
  },
  {
   "cell_type": "code",
   "execution_count": 2,
   "id": "804db691-e344-47cc-965c-c46bcf0e4063",
   "metadata": {},
   "outputs": [],
   "source": [
    "##########################################################\n",
    "#Step 1. Format 'pmd_rules_results.xml' from Linux terminal#\n",
    "##########################################################\n",
    "# -'pmd_rules_results.xml' is not properly formated\n",
    "# -We used linux format command to format 'pmd_rules_results.xml' to save it in 'pmd_rules_results_fmt.xml'\n",
    "# $  xmllint --format checkstyle-result0.xml > checkstyle-result_fmt0.xml\n",
    "##############################################################################\n",
    "#Step 2. Remove some lines in 'checkstyle-result_fmt0.xml' from Linux terminal#\n",
    "##############################################################################\n",
    "# remove lines 1 to 2 and the last line of the 'checkstyle-result_fmt0.xml'\n",
    "# MacOS $  sed -i '' '1,2d;$d' checkstyle-result_fmt0.xml \n",
    "# Linux  $   sed -i '1,2d;$d' checkstyle-result_fmt0.xml            \n",
    "# blocksize breaks it into partitions\n",
    "# Use '</file>\\n' as linedelimiter\n",
    "chk_rules_result_bd = bd.read_text('checkstylexmlreports_xml/checkstyle-result*.xml', linedelimiter='</file>')\n",
    "#chk_rules_result_bd = bd.read_text('checkstylexmlreports_xml/checkstyle-result0.xml', linedelimiter='</file>\\n')\n",
    "#chk_rules_result_bd = bd.read_text('checkstylexmlreports_xml/checkstyle-result71.xml', linedelimiter='</file>')"
   ]
  },
  {
   "cell_type": "code",
   "execution_count": 3,
   "id": "9330c6f5-4a21-4c1a-95f8-53fe7d16ee5c",
   "metadata": {},
   "outputs": [
    {
     "data": {
      "text/plain": [
       "dask.bag<bag-from-delayed, npartitions=577>"
      ]
     },
     "execution_count": 3,
     "metadata": {},
     "output_type": "execute_result"
    }
   ],
   "source": [
    "# check to see number of partitions\n",
    "# find the number of partitions\n",
    "#pmd_rules_result_bg.npartitions # or\n",
    "chk_rules_result_bd"
   ]
  },
  {
   "cell_type": "code",
   "execution_count": 4,
   "id": "0c5ba361-3aea-4a07-9659-55c83c4e72e5",
   "metadata": {},
   "outputs": [
    {
     "data": {
      "text/plain": [
       "('<?xml version=\"1.0\" encoding=\"UTF-8\"?>\\n<checkstyle version=\"9.1\">\\n<file name=\"/scale_wlg_nobackup/filesets/nobackup/uoo03396/SfTI_project_nobackup/SfTI_Projects/StackOverflow_project/my_codesnippet_analysis/CheckStyle1/mvn_apps/my-javacodeanalysis-app0/src/main/java/myjavacodeanalysis/Code_30381834_6434168_4179_3.java\">\\n<error line=\"1\" severity=\"error\" message=\"File does not end with a newline.\" source=\"com.puppycrawl.tools.checkstyle.checks.NewlineAtEndOfFileCheck\"/>\\n<error line=\"1\" severity=\"error\" message=\"Missing package-info.java file.\" source=\"com.puppycrawl.tools.checkstyle.checks.javadoc.JavadocPackageCheck\"/>\\n<error line=\"1\" column=\"1\" severity=\"error\" message=\"Utility classes should not have a public or default constructor.\" source=\"com.puppycrawl.tools.checkstyle.checks.design.HideUtilityClassConstructorCheck\"/>\\n<error line=\"1\" column=\"14\" severity=\"error\" message=\"Name &apos;Code_30381834_6434168_4179_3&apos; must match pattern &apos;^[A-Z][a-zA-Z0-9]*$&apos;.\" source=\"com.puppycrawl.tools.checkstyle.checks.naming.TypeNameCheck\"/>\\n<error line=\"2\" column=\"1\" severity=\"error\" message=\"Missing a Javadoc comment.\" source=\"com.puppycrawl.tools.checkstyle.checks.javadoc.MissingJavadocMethodCheck\"/>\\n<error line=\"2\" column=\"25\" severity=\"error\" message=\"Parameter args should be final.\" source=\"com.puppycrawl.tools.checkstyle.checks.FinalParametersCheck\"/>\\n<error line=\"2\" column=\"36\" severity=\"error\" message=\"Array brackets at illegal position.\" source=\"com.puppycrawl.tools.checkstyle.checks.ArrayTypeStyleCheck\"/>\\n<error line=\"4\" column=\"1\" severity=\"error\" message=\"&apos;{&apos; at column 1 should be on the previous line.\" source=\"com.puppycrawl.tools.checkstyle.checks.blocks.LeftCurlyCheck\"/>\\n<error line=\"8\" column=\"8\" severity=\"error\" message=\"&apos;;&apos; is not followed by whitespace.\" source=\"com.puppycrawl.tools.checkstyle.checks.whitespace.WhitespaceAfterCheck\"/>\\n</file>',)"
      ]
     },
     "execution_count": 4,
     "metadata": {},
     "output_type": "execute_result"
    }
   ],
   "source": [
    "# look at the first row\n",
    "chk_rules_result_bd.take(1)"
   ]
  },
  {
   "cell_type": "code",
   "execution_count": 5,
   "id": "a17e79ca-8519-425b-8f6c-08c3ba2100bd",
   "metadata": {},
   "outputs": [],
   "source": [
    "# look at the first 50 row\n",
    "#chk_rules_result_bd.take(50)"
   ]
  },
  {
   "cell_type": "markdown",
   "id": "e2cf1da3-e1bd-46a8-8f76-290a39334d4a",
   "metadata": {},
   "source": [
    "### We are intrested in getting the 'file'\n",
    "- so we can get rid of the files\n",
    "- then filter"
   ]
  },
  {
   "cell_type": "code",
   "execution_count": 6,
   "id": "9bbada28-238b-4f3c-bc4d-1f1676e26085",
   "metadata": {},
   "outputs": [],
   "source": [
    "#@@#\n",
    "# replace all the '<xml ...>' header with an empty string so that we can access it using xml.etree.ElementTree\n",
    "chk_rules_result_bd = chk_rules_result_bd.map(lambda line: re.sub(r'\\s*<\\s*\\?xml.*\\?>', '', line))"
   ]
  },
  {
   "cell_type": "code",
   "execution_count": 7,
   "id": "3565a171-7a83-43f6-b380-24218f6e09a9",
   "metadata": {},
   "outputs": [
    {
     "data": {
      "text/plain": [
       "('\\n<checkstyle version=\"9.1\">\\n<file name=\"/scale_wlg_nobackup/filesets/nobackup/uoo03396/SfTI_project_nobackup/SfTI_Projects/StackOverflow_project/my_codesnippet_analysis/CheckStyle1/mvn_apps/my-javacodeanalysis-app0/src/main/java/myjavacodeanalysis/Code_30381834_6434168_4179_3.java\">\\n<error line=\"1\" severity=\"error\" message=\"File does not end with a newline.\" source=\"com.puppycrawl.tools.checkstyle.checks.NewlineAtEndOfFileCheck\"/>\\n<error line=\"1\" severity=\"error\" message=\"Missing package-info.java file.\" source=\"com.puppycrawl.tools.checkstyle.checks.javadoc.JavadocPackageCheck\"/>\\n<error line=\"1\" column=\"1\" severity=\"error\" message=\"Utility classes should not have a public or default constructor.\" source=\"com.puppycrawl.tools.checkstyle.checks.design.HideUtilityClassConstructorCheck\"/>\\n<error line=\"1\" column=\"14\" severity=\"error\" message=\"Name &apos;Code_30381834_6434168_4179_3&apos; must match pattern &apos;^[A-Z][a-zA-Z0-9]*$&apos;.\" source=\"com.puppycrawl.tools.checkstyle.checks.naming.TypeNameCheck\"/>\\n<error line=\"2\" column=\"1\" severity=\"error\" message=\"Missing a Javadoc comment.\" source=\"com.puppycrawl.tools.checkstyle.checks.javadoc.MissingJavadocMethodCheck\"/>\\n<error line=\"2\" column=\"25\" severity=\"error\" message=\"Parameter args should be final.\" source=\"com.puppycrawl.tools.checkstyle.checks.FinalParametersCheck\"/>\\n<error line=\"2\" column=\"36\" severity=\"error\" message=\"Array brackets at illegal position.\" source=\"com.puppycrawl.tools.checkstyle.checks.ArrayTypeStyleCheck\"/>\\n<error line=\"4\" column=\"1\" severity=\"error\" message=\"&apos;{&apos; at column 1 should be on the previous line.\" source=\"com.puppycrawl.tools.checkstyle.checks.blocks.LeftCurlyCheck\"/>\\n<error line=\"8\" column=\"8\" severity=\"error\" message=\"&apos;;&apos; is not followed by whitespace.\" source=\"com.puppycrawl.tools.checkstyle.checks.whitespace.WhitespaceAfterCheck\"/>\\n</file>',)"
      ]
     },
     "execution_count": 7,
     "metadata": {},
     "output_type": "execute_result"
    }
   ],
   "source": [
    "#@@#\n",
    "# look at the first row\n",
    "chk_rules_result_bd.take(1)"
   ]
  },
  {
   "cell_type": "code",
   "execution_count": 8,
   "id": "7b8c4ace-7ad0-40eb-a6c6-3ab05bf31587",
   "metadata": {},
   "outputs": [],
   "source": [
    "#@@#\n",
    "# replace all the '<checkstyle>' and '</checkstyle>' with empty string so that we can access it using xml.etree.ElementTree\n",
    "#chk_rules_result_bd = chk_rules_result_bd.map(lambda line: re.sub(r'\\n*\\s*<\\s*checkstyle.*>|.*/checkstyle>\\n*', '', line))\n",
    "chk_rules_result_bd = chk_rules_result_bd.map(lambda line: re.sub(r'\\s*<\\s*checkstyle.*>|.*/checkstyle>', '', line))"
   ]
  },
  {
   "cell_type": "code",
   "execution_count": 9,
   "id": "0a83c7cd-463a-4ea5-bff6-94d3a1a81ae0",
   "metadata": {},
   "outputs": [
    {
     "data": {
      "text/plain": [
       "('\\n<file name=\"/scale_wlg_nobackup/filesets/nobackup/uoo03396/SfTI_project_nobackup/SfTI_Projects/StackOverflow_project/my_codesnippet_analysis/CheckStyle1/mvn_apps/my-javacodeanalysis-app0/src/main/java/myjavacodeanalysis/Code_30381834_6434168_4179_3.java\">\\n<error line=\"1\" severity=\"error\" message=\"File does not end with a newline.\" source=\"com.puppycrawl.tools.checkstyle.checks.NewlineAtEndOfFileCheck\"/>\\n<error line=\"1\" severity=\"error\" message=\"Missing package-info.java file.\" source=\"com.puppycrawl.tools.checkstyle.checks.javadoc.JavadocPackageCheck\"/>\\n<error line=\"1\" column=\"1\" severity=\"error\" message=\"Utility classes should not have a public or default constructor.\" source=\"com.puppycrawl.tools.checkstyle.checks.design.HideUtilityClassConstructorCheck\"/>\\n<error line=\"1\" column=\"14\" severity=\"error\" message=\"Name &apos;Code_30381834_6434168_4179_3&apos; must match pattern &apos;^[A-Z][a-zA-Z0-9]*$&apos;.\" source=\"com.puppycrawl.tools.checkstyle.checks.naming.TypeNameCheck\"/>\\n<error line=\"2\" column=\"1\" severity=\"error\" message=\"Missing a Javadoc comment.\" source=\"com.puppycrawl.tools.checkstyle.checks.javadoc.MissingJavadocMethodCheck\"/>\\n<error line=\"2\" column=\"25\" severity=\"error\" message=\"Parameter args should be final.\" source=\"com.puppycrawl.tools.checkstyle.checks.FinalParametersCheck\"/>\\n<error line=\"2\" column=\"36\" severity=\"error\" message=\"Array brackets at illegal position.\" source=\"com.puppycrawl.tools.checkstyle.checks.ArrayTypeStyleCheck\"/>\\n<error line=\"4\" column=\"1\" severity=\"error\" message=\"&apos;{&apos; at column 1 should be on the previous line.\" source=\"com.puppycrawl.tools.checkstyle.checks.blocks.LeftCurlyCheck\"/>\\n<error line=\"8\" column=\"8\" severity=\"error\" message=\"&apos;;&apos; is not followed by whitespace.\" source=\"com.puppycrawl.tools.checkstyle.checks.whitespace.WhitespaceAfterCheck\"/>\\n</file>',)"
      ]
     },
     "execution_count": 9,
     "metadata": {},
     "output_type": "execute_result"
    }
   ],
   "source": [
    "#@@#\n",
    "# look at the first row\n",
    "chk_rules_result_bd.take(1)"
   ]
  },
  {
   "cell_type": "code",
   "execution_count": 10,
   "id": "4013918c-8af9-450e-b20f-c26b2056b623",
   "metadata": {},
   "outputs": [],
   "source": [
    "# Gets Rid of the empty partitions in Bags\n",
    "def cull_empty_partitions(bag):\n",
    "    \"\"\"\n",
    "    When bags are created by filtering or grouping from a different bag,\n",
    "    it retains the original bag's partition count, even if a lot of the\n",
    "    partitions become empty.\n",
    "    Those extra partitions add overhead, so it's nice to discard them.\n",
    "    This function drops the empty partitions.\n",
    "    \"\"\"\n",
    "    bag = bag.persist()\n",
    "    def get_len(partition):\n",
    "        # If the bag is the result of bag.filter(),\n",
    "        # then each partition is actually a 'filter' object,\n",
    "        # which has no __len__.\n",
    "        # In that case, we must convert it to a list first.\n",
    "        if hasattr(partition, '__len__'):\n",
    "            return len(partition)\n",
    "        return len(list(partition))\n",
    "    partition_lengths = bag.map_partitions(get_len).compute()\n",
    "\n",
    "    # Convert bag partitions into a list of 'delayed' objects\n",
    "    lengths_and_partitions = zip(partition_lengths, bag.to_delayed())\n",
    "\n",
    "    # Drop the ones with empty partitions\n",
    "    partitions = (p for l,p in lengths_and_partitions if l > 0)\n",
    "\n",
    "    # Convert from list of delayed objects back into a Bag.\n",
    "    return dask.bag.from_delayed(partitions)"
   ]
  },
  {
   "cell_type": "code",
   "execution_count": 11,
   "id": "6713bcec-8f5e-4423-9360-3f34b5b0fbab",
   "metadata": {},
   "outputs": [],
   "source": [
    "chk_rules_result_bd = cull_empty_partitions(chk_rules_result_bd)"
   ]
  },
  {
   "cell_type": "code",
   "execution_count": 12,
   "id": "6ba31a87-3608-4539-8b8f-b5c6104b5ca3",
   "metadata": {},
   "outputs": [],
   "source": [
    "# replace all the '\\n' with empty string so that we can access it using xml.etree.ElementTree\n",
    "chk_rules_result_bd = chk_rules_result_bd.map(lambda line: re.sub(r'(\\n$)', '@@anyi@@', line))\n",
    "#chk_rules_result_bd = chk_rules_result_bd.map(lambda line: re.sub(r'(\\r\\n$)', \"\\n<file name=''>\\n<error line='' severity='',message='' source=''/>\\n</file>\", line))"
   ]
  },
  {
   "cell_type": "markdown",
   "id": "739f1bdc-37e5-44bd-bb56-ed4813a9f80a",
   "metadata": {
    "tags": []
   },
   "source": [
    "## Start a Dask cluster using SLURM jobs as workers.\n",
    "\n",
    "There are a couple of things we need to configure here:\n",
    "\n",
    "disabling the mechanism to write on disk when workers run out of memory,\n",
    "memory, CPUs, maximum time and number of workers per SLURM job,\n",
    "dask folders for log files and workers data.\n",
    "We recommend putting the log folder and workers data folders in your /nesi/nobackup/<project_code> folder, most indicated for temporary files (see NeSI File Systems and Quotas).\n",
    "\n",
    "All of these options can be set in configuration files, see Dask configuration and Dask jobqueue configuration for more information."
   ]
  },
  {
   "cell_type": "code",
   "execution_count": 13,
   "id": "b77b02cc-4b10-4595-b2d4-2412aa5adda3",
   "metadata": {},
   "outputs": [],
   "source": [
    "#http://jobqueue.dask.org/en/latest/generated/dask_jobqueue.SLURMCluster.html\n",
    "dask.config.set(\n",
    "    {\n",
    "        \"distributed.worker.memory.target\": False,  # avoid spilling to disk\n",
    "        \"distributed.worker.memory.spill\": False,  # avoid spilling to disk\n",
    "    }\n",
    ")\n",
    "cluster = SLURMCluster(\n",
    "    cores=10, #cores=24, # we set each job to have 1 Worker, each using 10 cores (threads) and 8 GB of memory\n",
    "    processes=2,\n",
    "    memory=\"8GiB\",\n",
    "    walltime=\"0-30:30\",# walltime=\"0-00:30\",\n",
    "    log_directory=\"../dask/logs\",  # folder for SLURM logs for each worker\n",
    "    local_directory=\"../dask\",  # folder for workers data\n",
    ")"
   ]
  },
  {
   "cell_type": "code",
   "execution_count": 14,
   "id": "519a19d9-faaa-4577-a56d-a7b6203bc775",
   "metadata": {},
   "outputs": [
    {
     "data": {
      "text/html": [
       "<table style=\"border: 2px solid white;\">\n",
       "<tr>\n",
       "<td style=\"vertical-align: top; border: 0px solid white\">\n",
       "<h3 style=\"text-align: left;\">Client</h3>\n",
       "<ul style=\"text-align: left; list-style: none; margin: 0; padding: 0;\">\n",
       "  <li><b>Scheduler: </b>tcp://192.168.94.166:41803</li>\n",
       "  <li><b>Dashboard: </b><a href='http://192.168.94.166:8787/status' target='_blank'>http://192.168.94.166:8787/status</a></li>\n",
       "</ul>\n",
       "</td>\n",
       "<td style=\"vertical-align: top; border: 0px solid white\">\n",
       "<h3 style=\"text-align: left;\">Cluster</h3>\n",
       "<ul style=\"text-align: left; list-style:none; margin: 0; padding: 0;\">\n",
       "  <li><b>Workers: </b>0</li>\n",
       "  <li><b>Cores: </b>0</li>\n",
       "  <li><b>Memory: </b>0 B</li>\n",
       "</ul>\n",
       "</td>\n",
       "</tr>\n",
       "</table>"
      ],
      "text/plain": [
       "<Client: 'tcp://192.168.94.166:41803' processes=0 threads=0, memory=0 B>"
      ]
     },
     "execution_count": 14,
     "metadata": {},
     "output_type": "execute_result"
    }
   ],
   "source": [
    "#cluster.adapt(minimum_jobs=20, maximum_jobs=200)\n",
    "cluster.adapt(minimum_jobs=10, maximum_jobs=200)\n",
    "client = Client(cluster)\n",
    "client"
   ]
  },
  {
   "cell_type": "code",
   "execution_count": 15,
   "id": "e274fe82-38f7-4502-bc04-e7b4ead2bd49",
   "metadata": {},
   "outputs": [],
   "source": [
    "######START######"
   ]
  },
  {
   "cell_type": "code",
   "execution_count": 16,
   "id": "6e3fc73a-1d80-4745-87e1-623da6d80628",
   "metadata": {},
   "outputs": [],
   "source": [
    "#convert from bags to dataframe\n",
    "df = chk_rules_result_bd.to_dataframe()"
   ]
  },
  {
   "cell_type": "code",
   "execution_count": 17,
   "id": "913ccdd3-4dac-4624-b473-936e114a1f03",
   "metadata": {},
   "outputs": [
    {
     "data": {
      "text/html": [
       "<div>\n",
       "<style scoped>\n",
       "    .dataframe tbody tr th:only-of-type {\n",
       "        vertical-align: middle;\n",
       "    }\n",
       "\n",
       "    .dataframe tbody tr th {\n",
       "        vertical-align: top;\n",
       "    }\n",
       "\n",
       "    .dataframe thead th {\n",
       "        text-align: right;\n",
       "    }\n",
       "</style>\n",
       "<table border=\"1\" class=\"dataframe\">\n",
       "  <thead>\n",
       "    <tr style=\"text-align: right;\">\n",
       "      <th></th>\n",
       "      <th>0</th>\n",
       "    </tr>\n",
       "  </thead>\n",
       "  <tbody>\n",
       "    <tr>\n",
       "      <th>0</th>\n",
       "      <td>\\n&lt;file name=\"/scale_wlg_nobackup/filesets/nob...</td>\n",
       "    </tr>\n",
       "    <tr>\n",
       "      <th>1</th>\n",
       "      <td>\\n&lt;file name=\"/scale_wlg_nobackup/filesets/nob...</td>\n",
       "    </tr>\n",
       "    <tr>\n",
       "      <th>2</th>\n",
       "      <td>\\n&lt;file name=\"/scale_wlg_nobackup/filesets/nob...</td>\n",
       "    </tr>\n",
       "    <tr>\n",
       "      <th>3</th>\n",
       "      <td>\\n&lt;file name=\"/scale_wlg_nobackup/filesets/nob...</td>\n",
       "    </tr>\n",
       "    <tr>\n",
       "      <th>4</th>\n",
       "      <td>\\n&lt;file name=\"/scale_wlg_nobackup/filesets/nob...</td>\n",
       "    </tr>\n",
       "  </tbody>\n",
       "</table>\n",
       "</div>"
      ],
      "text/plain": [
       "                                                   0\n",
       "0  \\n<file name=\"/scale_wlg_nobackup/filesets/nob...\n",
       "1  \\n<file name=\"/scale_wlg_nobackup/filesets/nob...\n",
       "2  \\n<file name=\"/scale_wlg_nobackup/filesets/nob...\n",
       "3  \\n<file name=\"/scale_wlg_nobackup/filesets/nob...\n",
       "4  \\n<file name=\"/scale_wlg_nobackup/filesets/nob..."
      ]
     },
     "execution_count": 17,
     "metadata": {},
     "output_type": "execute_result"
    }
   ],
   "source": [
    "df.head()"
   ]
  },
  {
   "cell_type": "code",
   "execution_count": 18,
   "id": "ac639dc1-7d6f-4cbd-ac85-22843753e7a2",
   "metadata": {},
   "outputs": [
    {
     "data": {
      "text/html": [
       "<div>\n",
       "<style scoped>\n",
       "    .dataframe tbody tr th:only-of-type {\n",
       "        vertical-align: middle;\n",
       "    }\n",
       "\n",
       "    .dataframe tbody tr th {\n",
       "        vertical-align: top;\n",
       "    }\n",
       "\n",
       "    .dataframe thead th {\n",
       "        text-align: right;\n",
       "    }\n",
       "</style>\n",
       "<table border=\"1\" class=\"dataframe\">\n",
       "  <thead>\n",
       "    <tr style=\"text-align: right;\">\n",
       "      <th></th>\n",
       "      <th>0</th>\n",
       "    </tr>\n",
       "  </thead>\n",
       "  <tbody>\n",
       "    <tr>\n",
       "      <th>1260</th>\n",
       "      <td>\\n&lt;file name=\"/scale_wlg_nobackup/filesets/nob...</td>\n",
       "    </tr>\n",
       "    <tr>\n",
       "      <th>1261</th>\n",
       "      <td>\\n&lt;file name=\"/scale_wlg_nobackup/filesets/nob...</td>\n",
       "    </tr>\n",
       "    <tr>\n",
       "      <th>1262</th>\n",
       "      <td>\\n&lt;file name=\"/scale_wlg_nobackup/filesets/nob...</td>\n",
       "    </tr>\n",
       "    <tr>\n",
       "      <th>1263</th>\n",
       "      <td>\\n&lt;file name=\"/scale_wlg_nobackup/filesets/nob...</td>\n",
       "    </tr>\n",
       "    <tr>\n",
       "      <th>1264</th>\n",
       "      <td>@@anyi@@@@anyi@@</td>\n",
       "    </tr>\n",
       "  </tbody>\n",
       "</table>\n",
       "</div>"
      ],
      "text/plain": [
       "                                                      0\n",
       "1260  \\n<file name=\"/scale_wlg_nobackup/filesets/nob...\n",
       "1261  \\n<file name=\"/scale_wlg_nobackup/filesets/nob...\n",
       "1262  \\n<file name=\"/scale_wlg_nobackup/filesets/nob...\n",
       "1263  \\n<file name=\"/scale_wlg_nobackup/filesets/nob...\n",
       "1264                                   @@anyi@@@@anyi@@"
      ]
     },
     "execution_count": 18,
     "metadata": {},
     "output_type": "execute_result"
    }
   ],
   "source": [
    "df.tail()"
   ]
  },
  {
   "cell_type": "code",
   "execution_count": 19,
   "id": "4ec513aa-678f-43ba-8d96-f97f36931c17",
   "metadata": {},
   "outputs": [],
   "source": [
    "# Remove lines that contains only new line\n",
    "#df = df[df[0]!= '@@anyi@@']\n",
    "df = df[~df[0].str.contains('@@anyi@@')]"
   ]
  },
  {
   "cell_type": "code",
   "execution_count": 20,
   "id": "587f57b2-59e0-43b1-8ea5-23dc61d91660",
   "metadata": {},
   "outputs": [
    {
     "data": {
      "text/html": [
       "<div>\n",
       "<style scoped>\n",
       "    .dataframe tbody tr th:only-of-type {\n",
       "        vertical-align: middle;\n",
       "    }\n",
       "\n",
       "    .dataframe tbody tr th {\n",
       "        vertical-align: top;\n",
       "    }\n",
       "\n",
       "    .dataframe thead th {\n",
       "        text-align: right;\n",
       "    }\n",
       "</style>\n",
       "<table border=\"1\" class=\"dataframe\">\n",
       "  <thead>\n",
       "    <tr style=\"text-align: right;\">\n",
       "      <th></th>\n",
       "      <th>0</th>\n",
       "    </tr>\n",
       "  </thead>\n",
       "  <tbody>\n",
       "    <tr>\n",
       "      <th>0</th>\n",
       "      <td>\\n&lt;file name=\"/scale_wlg_nobackup/filesets/nob...</td>\n",
       "    </tr>\n",
       "    <tr>\n",
       "      <th>1</th>\n",
       "      <td>\\n&lt;file name=\"/scale_wlg_nobackup/filesets/nob...</td>\n",
       "    </tr>\n",
       "    <tr>\n",
       "      <th>2</th>\n",
       "      <td>\\n&lt;file name=\"/scale_wlg_nobackup/filesets/nob...</td>\n",
       "    </tr>\n",
       "    <tr>\n",
       "      <th>3</th>\n",
       "      <td>\\n&lt;file name=\"/scale_wlg_nobackup/filesets/nob...</td>\n",
       "    </tr>\n",
       "    <tr>\n",
       "      <th>4</th>\n",
       "      <td>\\n&lt;file name=\"/scale_wlg_nobackup/filesets/nob...</td>\n",
       "    </tr>\n",
       "  </tbody>\n",
       "</table>\n",
       "</div>"
      ],
      "text/plain": [
       "                                                   0\n",
       "0  \\n<file name=\"/scale_wlg_nobackup/filesets/nob...\n",
       "1  \\n<file name=\"/scale_wlg_nobackup/filesets/nob...\n",
       "2  \\n<file name=\"/scale_wlg_nobackup/filesets/nob...\n",
       "3  \\n<file name=\"/scale_wlg_nobackup/filesets/nob...\n",
       "4  \\n<file name=\"/scale_wlg_nobackup/filesets/nob..."
      ]
     },
     "execution_count": 20,
     "metadata": {},
     "output_type": "execute_result"
    }
   ],
   "source": [
    "df.head()"
   ]
  },
  {
   "cell_type": "code",
   "execution_count": 21,
   "id": "cbeb8b63-a2fd-4298-b241-390cea29ab6f",
   "metadata": {},
   "outputs": [
    {
     "data": {
      "text/html": [
       "<div>\n",
       "<style scoped>\n",
       "    .dataframe tbody tr th:only-of-type {\n",
       "        vertical-align: middle;\n",
       "    }\n",
       "\n",
       "    .dataframe tbody tr th {\n",
       "        vertical-align: top;\n",
       "    }\n",
       "\n",
       "    .dataframe thead th {\n",
       "        text-align: right;\n",
       "    }\n",
       "</style>\n",
       "<table border=\"1\" class=\"dataframe\">\n",
       "  <thead>\n",
       "    <tr style=\"text-align: right;\">\n",
       "      <th></th>\n",
       "      <th>0</th>\n",
       "    </tr>\n",
       "  </thead>\n",
       "  <tbody>\n",
       "    <tr>\n",
       "      <th>1259</th>\n",
       "      <td>\\n&lt;file name=\"/scale_wlg_nobackup/filesets/nob...</td>\n",
       "    </tr>\n",
       "    <tr>\n",
       "      <th>1260</th>\n",
       "      <td>\\n&lt;file name=\"/scale_wlg_nobackup/filesets/nob...</td>\n",
       "    </tr>\n",
       "    <tr>\n",
       "      <th>1261</th>\n",
       "      <td>\\n&lt;file name=\"/scale_wlg_nobackup/filesets/nob...</td>\n",
       "    </tr>\n",
       "    <tr>\n",
       "      <th>1262</th>\n",
       "      <td>\\n&lt;file name=\"/scale_wlg_nobackup/filesets/nob...</td>\n",
       "    </tr>\n",
       "    <tr>\n",
       "      <th>1263</th>\n",
       "      <td>\\n&lt;file name=\"/scale_wlg_nobackup/filesets/nob...</td>\n",
       "    </tr>\n",
       "  </tbody>\n",
       "</table>\n",
       "</div>"
      ],
      "text/plain": [
       "                                                      0\n",
       "1259  \\n<file name=\"/scale_wlg_nobackup/filesets/nob...\n",
       "1260  \\n<file name=\"/scale_wlg_nobackup/filesets/nob...\n",
       "1261  \\n<file name=\"/scale_wlg_nobackup/filesets/nob...\n",
       "1262  \\n<file name=\"/scale_wlg_nobackup/filesets/nob...\n",
       "1263  \\n<file name=\"/scale_wlg_nobackup/filesets/nob..."
      ]
     },
     "execution_count": 21,
     "metadata": {},
     "output_type": "execute_result"
    }
   ],
   "source": [
    "df.tail()"
   ]
  },
  {
   "cell_type": "code",
   "execution_count": 22,
   "id": "f59683ab-6ce4-4298-b827-0822fac46b1b",
   "metadata": {},
   "outputs": [],
   "source": [
    "# convert back to dask bags\n",
    "chk_rules_result_bd = bd.from_sequence(df.squeeze())"
   ]
  },
  {
   "cell_type": "code",
   "execution_count": 23,
   "id": "81989ade-916e-42f2-ba2a-1793acb4fbbe",
   "metadata": {},
   "outputs": [
    {
     "data": {
      "text/plain": [
       "('\\n<file name=\"/scale_wlg_nobackup/filesets/nobackup/uoo03396/SfTI_project_nobackup/SfTI_Projects/StackOverflow_project/my_codesnippet_analysis/CheckStyle1/mvn_apps/my-javacodeanalysis-app0/src/main/java/myjavacodeanalysis/Code_30381834_6434168_4179_3.java\">\\n<error line=\"1\" severity=\"error\" message=\"File does not end with a newline.\" source=\"com.puppycrawl.tools.checkstyle.checks.NewlineAtEndOfFileCheck\"/>\\n<error line=\"1\" severity=\"error\" message=\"Missing package-info.java file.\" source=\"com.puppycrawl.tools.checkstyle.checks.javadoc.JavadocPackageCheck\"/>\\n<error line=\"1\" column=\"1\" severity=\"error\" message=\"Utility classes should not have a public or default constructor.\" source=\"com.puppycrawl.tools.checkstyle.checks.design.HideUtilityClassConstructorCheck\"/>\\n<error line=\"1\" column=\"14\" severity=\"error\" message=\"Name &apos;Code_30381834_6434168_4179_3&apos; must match pattern &apos;^[A-Z][a-zA-Z0-9]*$&apos;.\" source=\"com.puppycrawl.tools.checkstyle.checks.naming.TypeNameCheck\"/>\\n<error line=\"2\" column=\"1\" severity=\"error\" message=\"Missing a Javadoc comment.\" source=\"com.puppycrawl.tools.checkstyle.checks.javadoc.MissingJavadocMethodCheck\"/>\\n<error line=\"2\" column=\"25\" severity=\"error\" message=\"Parameter args should be final.\" source=\"com.puppycrawl.tools.checkstyle.checks.FinalParametersCheck\"/>\\n<error line=\"2\" column=\"36\" severity=\"error\" message=\"Array brackets at illegal position.\" source=\"com.puppycrawl.tools.checkstyle.checks.ArrayTypeStyleCheck\"/>\\n<error line=\"4\" column=\"1\" severity=\"error\" message=\"&apos;{&apos; at column 1 should be on the previous line.\" source=\"com.puppycrawl.tools.checkstyle.checks.blocks.LeftCurlyCheck\"/>\\n<error line=\"8\" column=\"8\" severity=\"error\" message=\"&apos;;&apos; is not followed by whitespace.\" source=\"com.puppycrawl.tools.checkstyle.checks.whitespace.WhitespaceAfterCheck\"/>\\n</file>',)"
      ]
     },
     "execution_count": 23,
     "metadata": {},
     "output_type": "execute_result"
    }
   ],
   "source": [
    "chk_rules_result_bd.take(1)"
   ]
  },
  {
   "cell_type": "code",
   "execution_count": 24,
   "id": "326793d1-7dc3-4f4b-a024-ec62010cace2",
   "metadata": {},
   "outputs": [],
   "source": [
    "######STOP######"
   ]
  },
  {
   "cell_type": "code",
   "execution_count": 25,
   "id": "f463f450-0d86-438a-8658-359668a92777",
   "metadata": {},
   "outputs": [],
   "source": [
    "# This will give us just the attributes in the file tag: <file ...>\n",
    "#chk_rules_result_bd = chk_rules_result_bd.map(lambda row: html.unescape(row))"
   ]
  },
  {
   "cell_type": "raw",
   "id": "03e91988-254b-4ca8-a777-ad900041aa1f",
   "metadata": {},
   "source": [
    "# look at the first row\n",
    "chk_rules_result_bd.take(1)"
   ]
  },
  {
   "cell_type": "code",
   "execution_count": 26,
   "id": "10706228-c9da-4fbc-9439-d83c2b61ccf3",
   "metadata": {},
   "outputs": [],
   "source": [
    "#replace new lines with empty strings\n",
    "#df = df.replace(r'\\n','', regex=True)"
   ]
  },
  {
   "cell_type": "markdown",
   "id": "98428e26-bbef-476a-a50d-af623b6c9166",
   "metadata": {},
   "source": [
    "### Use ElementTree to get all the attrbutes and text in xmlor html tags"
   ]
  },
  {
   "cell_type": "code",
   "execution_count": 27,
   "id": "a48cbc9f-cc49-412b-95aa-b94475ab128f",
   "metadata": {},
   "outputs": [],
   "source": [
    "# This will give us just the attributes in the file tag: <file ...>\n",
    "files_rows_bd_test1 = chk_rules_result_bd.map(lambda row: et.fromstring(row).attrib)"
   ]
  },
  {
   "cell_type": "code",
   "execution_count": 28,
   "id": "05740da1-7411-411e-8853-034159131708",
   "metadata": {},
   "outputs": [
    {
     "data": {
      "text/plain": [
       "({'name': '/scale_wlg_nobackup/filesets/nobackup/uoo03396/SfTI_project_nobackup/SfTI_Projects/StackOverflow_project/my_codesnippet_analysis/CheckStyle1/mvn_apps/my-javacodeanalysis-app0/src/main/java/myjavacodeanalysis/Code_30381834_6434168_4179_3.java'},)"
      ]
     },
     "execution_count": 28,
     "metadata": {},
     "output_type": "execute_result"
    }
   ],
   "source": [
    "files_rows_bd_test1.take(1)"
   ]
  },
  {
   "cell_type": "code",
   "execution_count": 29,
   "id": "b3cfc118-bd7d-4f7d-b0c2-e6b244a470af",
   "metadata": {},
   "outputs": [],
   "source": [
    "import ntpath"
   ]
  },
  {
   "cell_type": "code",
   "execution_count": 30,
   "id": "921109a7-ccc4-444b-968f-2674584dff98",
   "metadata": {},
   "outputs": [],
   "source": [
    "def path_leaf(path):\n",
    "    head, tail = ntpath.split(path)\n",
    "    return tail or ntpath.basename(head)"
   ]
  },
  {
   "cell_type": "code",
   "execution_count": 31,
   "id": "e7cbfb58-9cd0-43bf-8add-8c154fe41f9b",
   "metadata": {},
   "outputs": [],
   "source": [
    "def get_dict(dictionary):\n",
    "    new_value = path_leaf(dictionary.get('name'))\n",
    "    dictionary['name'] = new_value\n",
    "    return dictionary"
   ]
  },
  {
   "cell_type": "code",
   "execution_count": 32,
   "id": "00fef929-b5b1-4ac6-9e57-6569be1566c3",
   "metadata": {},
   "outputs": [],
   "source": [
    "#@@#\n",
    "# This will give us just the attributes in the file tag: <file ...> and extract the file name without the path\n",
    "files_rows_bd_test2 = chk_rules_result_bd.map(lambda row: get_dict(et.fromstring(row).attrib))"
   ]
  },
  {
   "cell_type": "code",
   "execution_count": 33,
   "id": "dfc80f99-f4f8-44fc-8838-a300f3d44155",
   "metadata": {},
   "outputs": [
    {
     "data": {
      "text/plain": [
       "({'name': 'Code_30381834_6434168_4179_3.java'},)"
      ]
     },
     "execution_count": 33,
     "metadata": {},
     "output_type": "execute_result"
    }
   ],
   "source": [
    "#@@#\n",
    "files_rows_bd_test2.take(1)"
   ]
  },
  {
   "cell_type": "markdown",
   "id": "ffb92709-207a-49e8-937e-2f4018f3a630",
   "metadata": {},
   "source": [
    "def content(root):\n",
    "    #return root.attrib\n",
    "    #return root.tag\n",
    "    for child in root:\n",
    "        return child.tag, child.attrib\n"
   ]
  },
  {
   "cell_type": "raw",
   "id": "529813b2-1bd1-4e78-a3c2-482ae87fc625",
   "metadata": {},
   "source": [
    "def content(root):\n",
    "    holder_dict = []\n",
    "    for child in root:\n",
    "        # return child.tag : child.attrib\n",
    "        holder_dict.append(child.attrib)\n",
    "    return get_dict(root.attrib), holder_dict"
   ]
  },
  {
   "cell_type": "code",
   "execution_count": 34,
   "id": "4f2ad964-4836-4eef-adc6-b065b8d5ac3e",
   "metadata": {},
   "outputs": [],
   "source": [
    "#@@#\n",
    "def content(root):\n",
    "    \n",
    "    \n",
    "        \n",
    "   \n",
    "    all_array =[]\n",
    "    try:\n",
    "        holder_dict = get_dict(root.attrib)\n",
    "        for child in root:\n",
    "            # return child.tag : child.attrib\n",
    "            #holder_dict.append(child.attrib)\n",
    "            all_array.append(holder_dict|child.attrib)\n",
    "    except ParseError:\n",
    "         all_array.append({\n",
    "             'name': '',\n",
    "             'line': '',\n",
    "             'severity': '',\n",
    "             'message': '',\n",
    "             'source': ''\n",
    "         })\n",
    "        \n",
    "    return all_array"
   ]
  },
  {
   "cell_type": "code",
   "execution_count": 35,
   "id": "3b0da92f-e826-4992-8ba6-2debfec77892",
   "metadata": {},
   "outputs": [],
   "source": [
    "#@@#\n",
    "# This will give us just the attributes in the file tag: <file ...> and extract the file name without the path\n",
    "files_rows_bd = chk_rules_result_bd.map(lambda row: content(et.fromstring(row)))"
   ]
  },
  {
   "cell_type": "code",
   "execution_count": 36,
   "id": "826ac819-6532-47dd-b252-f784b2974f22",
   "metadata": {},
   "outputs": [],
   "source": [
    "files_rows_bd = chk_rules_result_bd.map(lambda row: content(et.fromstring(row)))"
   ]
  },
  {
   "cell_type": "code",
   "execution_count": 37,
   "id": "776c6edb-6244-4658-aba0-806639042db9",
   "metadata": {},
   "outputs": [
    {
     "data": {
      "text/plain": [
       "([{'name': 'Code_30381834_6434168_4179_3.java',\n",
       "   'line': '1',\n",
       "   'severity': 'error',\n",
       "   'message': 'File does not end with a newline.',\n",
       "   'source': 'com.puppycrawl.tools.checkstyle.checks.NewlineAtEndOfFileCheck'},\n",
       "  {'name': 'Code_30381834_6434168_4179_3.java',\n",
       "   'line': '1',\n",
       "   'severity': 'error',\n",
       "   'message': 'Missing package-info.java file.',\n",
       "   'source': 'com.puppycrawl.tools.checkstyle.checks.javadoc.JavadocPackageCheck'},\n",
       "  {'name': 'Code_30381834_6434168_4179_3.java',\n",
       "   'line': '1',\n",
       "   'column': '1',\n",
       "   'severity': 'error',\n",
       "   'message': 'Utility classes should not have a public or default constructor.',\n",
       "   'source': 'com.puppycrawl.tools.checkstyle.checks.design.HideUtilityClassConstructorCheck'},\n",
       "  {'name': 'Code_30381834_6434168_4179_3.java',\n",
       "   'line': '1',\n",
       "   'column': '14',\n",
       "   'severity': 'error',\n",
       "   'message': \"Name 'Code_30381834_6434168_4179_3' must match pattern '^[A-Z][a-zA-Z0-9]*$'.\",\n",
       "   'source': 'com.puppycrawl.tools.checkstyle.checks.naming.TypeNameCheck'},\n",
       "  {'name': 'Code_30381834_6434168_4179_3.java',\n",
       "   'line': '2',\n",
       "   'column': '1',\n",
       "   'severity': 'error',\n",
       "   'message': 'Missing a Javadoc comment.',\n",
       "   'source': 'com.puppycrawl.tools.checkstyle.checks.javadoc.MissingJavadocMethodCheck'},\n",
       "  {'name': 'Code_30381834_6434168_4179_3.java',\n",
       "   'line': '2',\n",
       "   'column': '25',\n",
       "   'severity': 'error',\n",
       "   'message': 'Parameter args should be final.',\n",
       "   'source': 'com.puppycrawl.tools.checkstyle.checks.FinalParametersCheck'},\n",
       "  {'name': 'Code_30381834_6434168_4179_3.java',\n",
       "   'line': '2',\n",
       "   'column': '36',\n",
       "   'severity': 'error',\n",
       "   'message': 'Array brackets at illegal position.',\n",
       "   'source': 'com.puppycrawl.tools.checkstyle.checks.ArrayTypeStyleCheck'},\n",
       "  {'name': 'Code_30381834_6434168_4179_3.java',\n",
       "   'line': '4',\n",
       "   'column': '1',\n",
       "   'severity': 'error',\n",
       "   'message': \"'{' at column 1 should be on the previous line.\",\n",
       "   'source': 'com.puppycrawl.tools.checkstyle.checks.blocks.LeftCurlyCheck'},\n",
       "  {'name': 'Code_30381834_6434168_4179_3.java',\n",
       "   'line': '8',\n",
       "   'column': '8',\n",
       "   'severity': 'error',\n",
       "   'message': \"';' is not followed by whitespace.\",\n",
       "   'source': 'com.puppycrawl.tools.checkstyle.checks.whitespace.WhitespaceAfterCheck'}],\n",
       " [{'name': 'Code_22739223_22738736_1096_0.java',\n",
       "   'line': '1',\n",
       "   'severity': 'error',\n",
       "   'message': 'File does not end with a newline.',\n",
       "   'source': 'com.puppycrawl.tools.checkstyle.checks.NewlineAtEndOfFileCheck'},\n",
       "  {'name': 'Code_22739223_22738736_1096_0.java',\n",
       "   'line': '1',\n",
       "   'column': '14',\n",
       "   'severity': 'error',\n",
       "   'message': \"Name 'Code_22739223_22738736_1096_0' must match pattern '^[A-Z][a-zA-Z0-9]*$'.\",\n",
       "   'source': 'com.puppycrawl.tools.checkstyle.checks.naming.TypeNameCheck'},\n",
       "  {'name': 'Code_22739223_22738736_1096_0.java',\n",
       "   'line': '2',\n",
       "   'column': '4',\n",
       "   'severity': 'error',\n",
       "   'message': \"Class 'Code_22739223_22738736_1096_0' looks like designed for extension (can be subclassed), but the method 'test' does not have javadoc that explains how to do that safely. If class is not designed for extension consider making the class 'Code_22739223_22738736_1096_0' final or making the method 'test' static/final/abstract/empty, or adding allowed annotation for the method.\",\n",
       "   'source': 'com.puppycrawl.tools.checkstyle.checks.design.DesignForExtensionCheck'},\n",
       "  {'name': 'Code_22739223_22738736_1096_0.java',\n",
       "   'line': '2',\n",
       "   'column': '4',\n",
       "   'severity': 'error',\n",
       "   'message': 'Missing a Javadoc comment.',\n",
       "   'source': 'com.puppycrawl.tools.checkstyle.checks.javadoc.MissingJavadocMethodCheck'},\n",
       "  {'name': 'Code_22739223_22738736_1096_0.java',\n",
       "   'line': '2',\n",
       "   'column': '20',\n",
       "   'severity': 'error',\n",
       "   'message': 'Parameter a should be final.',\n",
       "   'source': 'com.puppycrawl.tools.checkstyle.checks.FinalParametersCheck'},\n",
       "  {'name': 'Code_22739223_22738736_1096_0.java',\n",
       "   'line': '5',\n",
       "   'column': '7',\n",
       "   'severity': 'error',\n",
       "   'message': \"'}' at column 7 should be on the same line as the next part of a multi-block statement (one that directly contains multiple blocks: if/else-if/else, do/while or try/catch/finally).\",\n",
       "   'source': 'com.puppycrawl.tools.checkstyle.checks.blocks.RightCurlyCheck'}],\n",
       " [{'name': 'Code_21404019_13501142_1003_0.java',\n",
       "   'line': '3',\n",
       "   'column': '1',\n",
       "   'severity': 'error',\n",
       "   'message': 'Utility classes should not have a public or default constructor.',\n",
       "   'source': 'com.puppycrawl.tools.checkstyle.checks.design.HideUtilityClassConstructorCheck'},\n",
       "  {'name': 'Code_21404019_13501142_1003_0.java',\n",
       "   'line': '3',\n",
       "   'column': '14',\n",
       "   'severity': 'error',\n",
       "   'message': \"Name 'Code_21404019_13501142_1003_0' must match pattern '^[A-Z][a-zA-Z0-9]*$'.\",\n",
       "   'source': 'com.puppycrawl.tools.checkstyle.checks.naming.TypeNameCheck'},\n",
       "  {'name': 'Code_21404019_13501142_1003_0.java',\n",
       "   'line': '4',\n",
       "   'severity': 'error',\n",
       "   'message': 'Line is longer than 80 characters (found 90).',\n",
       "   'source': 'com.puppycrawl.tools.checkstyle.checks.sizes.LineLengthCheck'},\n",
       "  {'name': 'Code_21404019_13501142_1003_0.java',\n",
       "   'line': '4',\n",
       "   'column': '3',\n",
       "   'severity': 'error',\n",
       "   'message': 'Missing a Javadoc comment.',\n",
       "   'source': 'com.puppycrawl.tools.checkstyle.checks.javadoc.MissingJavadocMethodCheck'},\n",
       "  {'name': 'Code_21404019_13501142_1003_0.java',\n",
       "   'line': '4',\n",
       "   'column': '10',\n",
       "   'severity': 'error',\n",
       "   'message': \"'public' modifier out of order with the JLS suggestions.\",\n",
       "   'source': 'com.puppycrawl.tools.checkstyle.checks.modifier.ModifierOrderCheck'},\n",
       "  {'name': 'Code_21404019_13501142_1003_0.java',\n",
       "   'line': '4',\n",
       "   'column': '36',\n",
       "   'severity': 'error',\n",
       "   'message': 'Parameter a should be final.',\n",
       "   'source': 'com.puppycrawl.tools.checkstyle.checks.FinalParametersCheck'},\n",
       "  {'name': 'Code_21404019_13501142_1003_0.java',\n",
       "   'line': '4',\n",
       "   'column': '63',\n",
       "   'severity': 'error',\n",
       "   'message': 'Parameter b should be final.',\n",
       "   'source': 'com.puppycrawl.tools.checkstyle.checks.FinalParametersCheck'},\n",
       "  {'name': 'Code_21404019_13501142_1003_0.java',\n",
       "   'line': '5',\n",
       "   'column': '5',\n",
       "   'severity': 'error',\n",
       "   'message': \"'if' construct must use '{}'s.\",\n",
       "   'source': 'com.puppycrawl.tools.checkstyle.checks.blocks.NeedBracesCheck'},\n",
       "  {'name': 'Code_21404019_13501142_1003_0.java',\n",
       "   'line': '7',\n",
       "   'column': '5',\n",
       "   'severity': 'error',\n",
       "   'message': \"'if' construct must use '{}'s.\",\n",
       "   'source': 'com.puppycrawl.tools.checkstyle.checks.blocks.NeedBracesCheck'}],\n",
       " [{'name': 'Code_14329728_14329654_2057_0.java',\n",
       "   'line': '1',\n",
       "   'severity': 'error',\n",
       "   'message': 'File does not end with a newline.',\n",
       "   'source': 'com.puppycrawl.tools.checkstyle.checks.NewlineAtEndOfFileCheck'},\n",
       "  {'name': 'Code_14329728_14329654_2057_0.java',\n",
       "   'line': '1',\n",
       "   'column': '14',\n",
       "   'severity': 'error',\n",
       "   'message': \"Name 'Code_14329728_14329654_2057_0' must match pattern '^[A-Z][a-zA-Z0-9]*$'.\",\n",
       "   'source': 'com.puppycrawl.tools.checkstyle.checks.naming.TypeNameCheck'},\n",
       "  {'name': 'Code_14329728_14329654_2057_0.java',\n",
       "   'line': '2',\n",
       "   'severity': 'error',\n",
       "   'message': 'Line has trailing spaces.',\n",
       "   'source': 'com.puppycrawl.tools.checkstyle.checks.regexp.RegexpSinglelineCheck'},\n",
       "  {'name': 'Code_14329728_14329654_2057_0.java',\n",
       "   'line': '2',\n",
       "   'column': '5',\n",
       "   'severity': 'error',\n",
       "   'message': \"Class 'Code_14329728_14329654_2057_0' looks like designed for extension (can be subclassed), but the method 'run' does not have javadoc that explains how to do that safely. If class is not designed for extension consider making the class 'Code_14329728_14329654_2057_0' final or making the method 'run' static/final/abstract/empty, or adding allowed annotation for the method.\",\n",
       "   'source': 'com.puppycrawl.tools.checkstyle.checks.design.DesignForExtensionCheck'},\n",
       "  {'name': 'Code_14329728_14329654_2057_0.java',\n",
       "   'line': '2',\n",
       "   'column': '5',\n",
       "   'severity': 'error',\n",
       "   'message': 'Missing a Javadoc comment.',\n",
       "   'source': 'com.puppycrawl.tools.checkstyle.checks.javadoc.MissingJavadocMethodCheck'},\n",
       "  {'name': 'Code_14329728_14329654_2057_0.java',\n",
       "   'line': '3',\n",
       "   'column': '5',\n",
       "   'severity': 'error',\n",
       "   'message': \"'{' at column 5 should be on the previous line.\",\n",
       "   'source': 'com.puppycrawl.tools.checkstyle.checks.blocks.LeftCurlyCheck'},\n",
       "  {'name': 'Code_14329728_14329654_2057_0.java',\n",
       "   'line': '5',\n",
       "   'column': '5',\n",
       "   'severity': 'error',\n",
       "   'message': \"'synchronized' is not followed by whitespace.\",\n",
       "   'source': 'com.puppycrawl.tools.checkstyle.checks.whitespace.WhitespaceAroundCheck'},\n",
       "  {'name': 'Code_14329728_14329654_2057_0.java',\n",
       "   'line': '6',\n",
       "   'column': '5',\n",
       "   'severity': 'error',\n",
       "   'message': \"'{' at column 5 should be on the previous line.\",\n",
       "   'source': 'com.puppycrawl.tools.checkstyle.checks.blocks.LeftCurlyCheck'}],\n",
       " [{'name': 'Code_40956364_40956084_1745_5.java',\n",
       "   'line': '1',\n",
       "   'column': '1',\n",
       "   'severity': 'error',\n",
       "   'message': 'Utility classes should not have a public or default constructor.',\n",
       "   'source': 'com.puppycrawl.tools.checkstyle.checks.design.HideUtilityClassConstructorCheck'},\n",
       "  {'name': 'Code_40956364_40956084_1745_5.java',\n",
       "   'line': '1',\n",
       "   'column': '14',\n",
       "   'severity': 'error',\n",
       "   'message': \"Name 'Code_40956364_40956084_1745_5' must match pattern '^[A-Z][a-zA-Z0-9]*$'.\",\n",
       "   'source': 'com.puppycrawl.tools.checkstyle.checks.naming.TypeNameCheck'},\n",
       "  {'name': 'Code_40956364_40956084_1745_5.java',\n",
       "   'line': '3',\n",
       "   'column': '5',\n",
       "   'severity': 'error',\n",
       "   'message': 'Missing a Javadoc comment.',\n",
       "   'source': 'com.puppycrawl.tools.checkstyle.checks.javadoc.MissingJavadocMethodCheck'},\n",
       "  {'name': 'Code_40956364_40956084_1745_5.java',\n",
       "   'line': '3',\n",
       "   'column': '29',\n",
       "   'severity': 'error',\n",
       "   'message': 'Parameter args should be final.',\n",
       "   'source': 'com.puppycrawl.tools.checkstyle.checks.FinalParametersCheck'},\n",
       "  {'name': 'Code_40956364_40956084_1745_5.java',\n",
       "   'line': '11',\n",
       "   'column': '9',\n",
       "   'severity': 'error',\n",
       "   'message': \"'for' is not followed by whitespace.\",\n",
       "   'source': 'com.puppycrawl.tools.checkstyle.checks.whitespace.WhitespaceAfterCheck'},\n",
       "  {'name': 'Code_40956364_40956084_1745_5.java',\n",
       "   'line': '11',\n",
       "   'column': '18',\n",
       "   'severity': 'error',\n",
       "   'message': \"'=' is not followed by whitespace.\",\n",
       "   'source': 'com.puppycrawl.tools.checkstyle.checks.whitespace.WhitespaceAroundCheck'},\n",
       "  {'name': 'Code_40956364_40956084_1745_5.java',\n",
       "   'line': '11',\n",
       "   'column': '18',\n",
       "   'severity': 'error',\n",
       "   'message': \"'=' is not preceded with whitespace.\",\n",
       "   'source': 'com.puppycrawl.tools.checkstyle.checks.whitespace.WhitespaceAroundCheck'},\n",
       "  {'name': 'Code_40956364_40956084_1745_5.java',\n",
       "   'line': '11',\n",
       "   'column': '23',\n",
       "   'severity': 'error',\n",
       "   'message': \"'<' is not followed by whitespace.\",\n",
       "   'source': 'com.puppycrawl.tools.checkstyle.checks.whitespace.WhitespaceAroundCheck'},\n",
       "  {'name': 'Code_40956364_40956084_1745_5.java',\n",
       "   'line': '11',\n",
       "   'column': '23',\n",
       "   'severity': 'error',\n",
       "   'message': \"'<' is not preceded with whitespace.\",\n",
       "   'source': 'com.puppycrawl.tools.checkstyle.checks.whitespace.WhitespaceAroundCheck'},\n",
       "  {'name': 'Code_40956364_40956084_1745_5.java',\n",
       "   'line': '11',\n",
       "   'column': '24',\n",
       "   'severity': 'error',\n",
       "   'message': \"'10000' is a magic number.\",\n",
       "   'source': 'com.puppycrawl.tools.checkstyle.checks.coding.MagicNumberCheck'},\n",
       "  {'name': 'Code_40956364_40956084_1745_5.java',\n",
       "   'line': '16',\n",
       "   'column': '13',\n",
       "   'severity': 'error',\n",
       "   'message': \"'if' is not followed by whitespace.\",\n",
       "   'source': 'com.puppycrawl.tools.checkstyle.checks.whitespace.WhitespaceAfterCheck'},\n",
       "  {'name': 'Code_40956364_40956084_1745_5.java',\n",
       "   'line': '16',\n",
       "   'column': '37',\n",
       "   'severity': 'error',\n",
       "   'message': \"'3' is a magic number.\",\n",
       "   'source': 'com.puppycrawl.tools.checkstyle.checks.coding.MagicNumberCheck'},\n",
       "  {'name': 'Code_40956364_40956084_1745_5.java',\n",
       "   'line': '16',\n",
       "   'column': '50',\n",
       "   'severity': 'error',\n",
       "   'message': \"'12' is a magic number.\",\n",
       "   'source': 'com.puppycrawl.tools.checkstyle.checks.coding.MagicNumberCheck'},\n",
       "  {'name': 'Code_40956364_40956084_1745_5.java',\n",
       "   'line': '16',\n",
       "   'column': '53',\n",
       "   'severity': 'error',\n",
       "   'message': \"'{' is not preceded with whitespace.\",\n",
       "   'source': 'com.puppycrawl.tools.checkstyle.checks.whitespace.WhitespaceAroundCheck'},\n",
       "  {'name': 'Code_40956364_40956084_1745_5.java',\n",
       "   'line': '19',\n",
       "   'column': '13',\n",
       "   'severity': 'error',\n",
       "   'message': \"'}' is not followed by whitespace.\",\n",
       "   'source': 'com.puppycrawl.tools.checkstyle.checks.whitespace.WhitespaceAroundCheck'},\n",
       "  {'name': 'Code_40956364_40956084_1745_5.java',\n",
       "   'line': '19',\n",
       "   'column': '14',\n",
       "   'severity': 'error',\n",
       "   'message': \"'else' is not preceded with whitespace.\",\n",
       "   'source': 'com.puppycrawl.tools.checkstyle.checks.whitespace.WhitespaceAroundCheck'},\n",
       "  {'name': 'Code_40956364_40956084_1745_5.java',\n",
       "   'line': '19',\n",
       "   'column': '19',\n",
       "   'severity': 'error',\n",
       "   'message': \"'if' is not followed by whitespace.\",\n",
       "   'source': 'com.puppycrawl.tools.checkstyle.checks.whitespace.WhitespaceAfterCheck'},\n",
       "  {'name': 'Code_40956364_40956084_1745_5.java',\n",
       "   'line': '19',\n",
       "   'column': '30',\n",
       "   'severity': 'error',\n",
       "   'message': \"'7' is a magic number.\",\n",
       "   'source': 'com.puppycrawl.tools.checkstyle.checks.coding.MagicNumberCheck'},\n",
       "  {'name': 'Code_40956364_40956084_1745_5.java',\n",
       "   'line': '19',\n",
       "   'column': '43',\n",
       "   'severity': 'error',\n",
       "   'message': \"'11' is a magic number.\",\n",
       "   'source': 'com.puppycrawl.tools.checkstyle.checks.coding.MagicNumberCheck'},\n",
       "  {'name': 'Code_40956364_40956084_1745_5.java',\n",
       "   'line': '19',\n",
       "   'column': '46',\n",
       "   'severity': 'error',\n",
       "   'message': \"'{' is not preceded with whitespace.\",\n",
       "   'source': 'com.puppycrawl.tools.checkstyle.checks.whitespace.WhitespaceAroundCheck'},\n",
       "  {'name': 'Code_40956364_40956084_1745_5.java',\n",
       "   'line': '22',\n",
       "   'column': '13',\n",
       "   'severity': 'error',\n",
       "   'message': \"'}' is not followed by whitespace.\",\n",
       "   'source': 'com.puppycrawl.tools.checkstyle.checks.whitespace.WhitespaceAroundCheck'},\n",
       "  {'name': 'Code_40956364_40956084_1745_5.java',\n",
       "   'line': '22',\n",
       "   'column': '14',\n",
       "   'severity': 'error',\n",
       "   'message': \"'else' is not followed by whitespace.\",\n",
       "   'source': 'com.puppycrawl.tools.checkstyle.checks.whitespace.WhitespaceAfterCheck'},\n",
       "  {'name': 'Code_40956364_40956084_1745_5.java',\n",
       "   'line': '22',\n",
       "   'column': '14',\n",
       "   'severity': 'error',\n",
       "   'message': \"'else' is not preceded with whitespace.\",\n",
       "   'source': 'com.puppycrawl.tools.checkstyle.checks.whitespace.WhitespaceAroundCheck'},\n",
       "  {'name': 'Code_40956364_40956084_1745_5.java',\n",
       "   'line': '22',\n",
       "   'column': '18',\n",
       "   'severity': 'error',\n",
       "   'message': \"'{' is not preceded with whitespace.\",\n",
       "   'source': 'com.puppycrawl.tools.checkstyle.checks.whitespace.WhitespaceAroundCheck'},\n",
       "  {'name': 'Code_40956364_40956084_1745_5.java',\n",
       "   'line': '22',\n",
       "   'column': '18',\n",
       "   'severity': 'error',\n",
       "   'message': 'Must have at least one statement.',\n",
       "   'source': 'com.puppycrawl.tools.checkstyle.checks.blocks.EmptyBlockCheck'},\n",
       "  {'name': 'Code_40956364_40956084_1745_5.java',\n",
       "   'line': '30',\n",
       "   'severity': 'error',\n",
       "   'message': 'Line is longer than 80 characters (found 91).',\n",
       "   'source': 'com.puppycrawl.tools.checkstyle.checks.sizes.LineLengthCheck'},\n",
       "  {'name': 'Code_40956364_40956084_1745_5.java',\n",
       "   'line': '30',\n",
       "   'column': '66',\n",
       "   'severity': 'error',\n",
       "   'message': \"'/' is not followed by whitespace.\",\n",
       "   'source': 'com.puppycrawl.tools.checkstyle.checks.whitespace.WhitespaceAroundCheck'},\n",
       "  {'name': 'Code_40956364_40956084_1745_5.java',\n",
       "   'line': '30',\n",
       "   'column': '66',\n",
       "   'severity': 'error',\n",
       "   'message': \"'/' is not preceded with whitespace.\",\n",
       "   'source': 'com.puppycrawl.tools.checkstyle.checks.whitespace.WhitespaceAroundCheck'}])"
      ]
     },
     "execution_count": 37,
     "metadata": {},
     "output_type": "execute_result"
    }
   ],
   "source": [
    "#@@#\n",
    "files_rows_bd.take(5)\n",
    "##files_rows_bd.take(40065)"
   ]
  },
  {
   "cell_type": "markdown",
   "id": "34fcc794-899f-445f-81ba-a24418de5b02",
   "metadata": {},
   "source": [
    "## Flatten"
   ]
  },
  {
   "cell_type": "code",
   "execution_count": 38,
   "id": "026efe9c-11ec-4b40-ae20-98ebdfba4fec",
   "metadata": {},
   "outputs": [],
   "source": [
    "files_rows_bd = files_rows_bd.flatten()"
   ]
  },
  {
   "cell_type": "markdown",
   "id": "9e45a34f-a108-42b0-a669-f272ff3f9beb",
   "metadata": {},
   "source": [
    "## Convert Bags to Dataframes"
   ]
  },
  {
   "cell_type": "code",
   "execution_count": 39,
   "id": "1cb061a8-cf3d-4be3-a9ce-194c94eb4876",
   "metadata": {},
   "outputs": [],
   "source": [
    "df = files_rows_bd.to_dataframe()\n",
    "#df = files_rows_bd.to_dataframe(meta={'name':'str', 'line':'int', 'severity':'str', 'message':'str', 'source':'str'})"
   ]
  },
  {
   "cell_type": "code",
   "execution_count": 40,
   "id": "ba6af8c2-97b5-4422-9fbd-de90271924a6",
   "metadata": {},
   "outputs": [
    {
     "data": {
      "text/html": [
       "<div><strong>Dask DataFrame Structure:</strong></div>\n",
       "<div>\n",
       "<style scoped>\n",
       "    .dataframe tbody tr th:only-of-type {\n",
       "        vertical-align: middle;\n",
       "    }\n",
       "\n",
       "    .dataframe tbody tr th {\n",
       "        vertical-align: top;\n",
       "    }\n",
       "\n",
       "    .dataframe thead th {\n",
       "        text-align: right;\n",
       "    }\n",
       "</style>\n",
       "<table border=\"1\" class=\"dataframe\">\n",
       "  <thead>\n",
       "    <tr style=\"text-align: right;\">\n",
       "      <th></th>\n",
       "      <th>name</th>\n",
       "      <th>line</th>\n",
       "      <th>severity</th>\n",
       "      <th>message</th>\n",
       "      <th>source</th>\n",
       "    </tr>\n",
       "    <tr>\n",
       "      <th>npartitions=101</th>\n",
       "      <th></th>\n",
       "      <th></th>\n",
       "      <th></th>\n",
       "      <th></th>\n",
       "      <th></th>\n",
       "    </tr>\n",
       "  </thead>\n",
       "  <tbody>\n",
       "    <tr>\n",
       "      <th></th>\n",
       "      <td>object</td>\n",
       "      <td>object</td>\n",
       "      <td>object</td>\n",
       "      <td>object</td>\n",
       "      <td>object</td>\n",
       "    </tr>\n",
       "    <tr>\n",
       "      <th></th>\n",
       "      <td>...</td>\n",
       "      <td>...</td>\n",
       "      <td>...</td>\n",
       "      <td>...</td>\n",
       "      <td>...</td>\n",
       "    </tr>\n",
       "    <tr>\n",
       "      <th>...</th>\n",
       "      <td>...</td>\n",
       "      <td>...</td>\n",
       "      <td>...</td>\n",
       "      <td>...</td>\n",
       "      <td>...</td>\n",
       "    </tr>\n",
       "    <tr>\n",
       "      <th></th>\n",
       "      <td>...</td>\n",
       "      <td>...</td>\n",
       "      <td>...</td>\n",
       "      <td>...</td>\n",
       "      <td>...</td>\n",
       "    </tr>\n",
       "    <tr>\n",
       "      <th></th>\n",
       "      <td>...</td>\n",
       "      <td>...</td>\n",
       "      <td>...</td>\n",
       "      <td>...</td>\n",
       "      <td>...</td>\n",
       "    </tr>\n",
       "  </tbody>\n",
       "</table>\n",
       "</div>\n",
       "<div>Dask Name: to_dataframe, 303 tasks</div>"
      ],
      "text/plain": [
       "Dask DataFrame Structure:\n",
       "                   name    line severity message  source\n",
       "npartitions=101                                         \n",
       "                 object  object   object  object  object\n",
       "                    ...     ...      ...     ...     ...\n",
       "...                 ...     ...      ...     ...     ...\n",
       "                    ...     ...      ...     ...     ...\n",
       "                    ...     ...      ...     ...     ...\n",
       "Dask Name: to_dataframe, 303 tasks"
      ]
     },
     "execution_count": 40,
     "metadata": {},
     "output_type": "execute_result"
    }
   ],
   "source": [
    "df"
   ]
  },
  {
   "cell_type": "code",
   "execution_count": 41,
   "id": "22b503de-e35c-401e-a65c-f2be005aa6b4",
   "metadata": {},
   "outputs": [
    {
     "data": {
      "text/plain": [
       "Index(['name', 'line', 'severity', 'message', 'source'], dtype='object')"
      ]
     },
     "execution_count": 41,
     "metadata": {},
     "output_type": "execute_result"
    }
   ],
   "source": [
    "df.columns"
   ]
  },
  {
   "cell_type": "code",
   "execution_count": 42,
   "id": "bfb1b7b7-c72f-46c5-9180-242af03d0dd2",
   "metadata": {},
   "outputs": [
    {
     "data": {
      "text/plain": [
       "name        object\n",
       "line        object\n",
       "severity    object\n",
       "message     object\n",
       "source      object\n",
       "dtype: object"
      ]
     },
     "execution_count": 42,
     "metadata": {},
     "output_type": "execute_result"
    }
   ],
   "source": [
    "df.dtypes"
   ]
  },
  {
   "cell_type": "code",
   "execution_count": 43,
   "id": "12b1f16e-3235-4629-bc53-1ee8757ed745",
   "metadata": {},
   "outputs": [
    {
     "data": {
      "text/plain": [
       "101"
      ]
     },
     "execution_count": 43,
     "metadata": {},
     "output_type": "execute_result"
    }
   ],
   "source": [
    "df.npartitions"
   ]
  },
  {
   "cell_type": "raw",
   "id": "95787a6c-bf9e-43bd-9407-549ca0a4c7f9",
   "metadata": {},
   "source": [
    "df = _rebalance_ddf(df)       # re-size"
   ]
  },
  {
   "cell_type": "code",
   "execution_count": 44,
   "id": "7a4552db-b8f0-44c9-b4f7-4a2a42db0f42",
   "metadata": {},
   "outputs": [
    {
     "data": {
      "text/html": [
       "<div>\n",
       "<style scoped>\n",
       "    .dataframe tbody tr th:only-of-type {\n",
       "        vertical-align: middle;\n",
       "    }\n",
       "\n",
       "    .dataframe tbody tr th {\n",
       "        vertical-align: top;\n",
       "    }\n",
       "\n",
       "    .dataframe thead th {\n",
       "        text-align: right;\n",
       "    }\n",
       "</style>\n",
       "<table border=\"1\" class=\"dataframe\">\n",
       "  <thead>\n",
       "    <tr style=\"text-align: right;\">\n",
       "      <th></th>\n",
       "      <th>name</th>\n",
       "      <th>line</th>\n",
       "      <th>severity</th>\n",
       "      <th>message</th>\n",
       "      <th>source</th>\n",
       "    </tr>\n",
       "  </thead>\n",
       "  <tbody>\n",
       "    <tr>\n",
       "      <th>0</th>\n",
       "      <td>Code_30381834_6434168_4179_3.java</td>\n",
       "      <td>1</td>\n",
       "      <td>error</td>\n",
       "      <td>File does not end with a newline.</td>\n",
       "      <td>com.puppycrawl.tools.checkstyle.checks.Newline...</td>\n",
       "    </tr>\n",
       "    <tr>\n",
       "      <th>1</th>\n",
       "      <td>Code_30381834_6434168_4179_3.java</td>\n",
       "      <td>1</td>\n",
       "      <td>error</td>\n",
       "      <td>Missing package-info.java file.</td>\n",
       "      <td>com.puppycrawl.tools.checkstyle.checks.javadoc...</td>\n",
       "    </tr>\n",
       "    <tr>\n",
       "      <th>2</th>\n",
       "      <td>Code_30381834_6434168_4179_3.java</td>\n",
       "      <td>1</td>\n",
       "      <td>error</td>\n",
       "      <td>Utility classes should not have a public or de...</td>\n",
       "      <td>com.puppycrawl.tools.checkstyle.checks.design....</td>\n",
       "    </tr>\n",
       "    <tr>\n",
       "      <th>3</th>\n",
       "      <td>Code_30381834_6434168_4179_3.java</td>\n",
       "      <td>1</td>\n",
       "      <td>error</td>\n",
       "      <td>Name 'Code_30381834_6434168_4179_3' must match...</td>\n",
       "      <td>com.puppycrawl.tools.checkstyle.checks.naming....</td>\n",
       "    </tr>\n",
       "    <tr>\n",
       "      <th>4</th>\n",
       "      <td>Code_30381834_6434168_4179_3.java</td>\n",
       "      <td>2</td>\n",
       "      <td>error</td>\n",
       "      <td>Missing a Javadoc comment.</td>\n",
       "      <td>com.puppycrawl.tools.checkstyle.checks.javadoc...</td>\n",
       "    </tr>\n",
       "  </tbody>\n",
       "</table>\n",
       "</div>"
      ],
      "text/plain": [
       "                                name line severity  \\\n",
       "0  Code_30381834_6434168_4179_3.java    1    error   \n",
       "1  Code_30381834_6434168_4179_3.java    1    error   \n",
       "2  Code_30381834_6434168_4179_3.java    1    error   \n",
       "3  Code_30381834_6434168_4179_3.java    1    error   \n",
       "4  Code_30381834_6434168_4179_3.java    2    error   \n",
       "\n",
       "                                             message  \\\n",
       "0                  File does not end with a newline.   \n",
       "1                    Missing package-info.java file.   \n",
       "2  Utility classes should not have a public or de...   \n",
       "3  Name 'Code_30381834_6434168_4179_3' must match...   \n",
       "4                         Missing a Javadoc comment.   \n",
       "\n",
       "                                              source  \n",
       "0  com.puppycrawl.tools.checkstyle.checks.Newline...  \n",
       "1  com.puppycrawl.tools.checkstyle.checks.javadoc...  \n",
       "2  com.puppycrawl.tools.checkstyle.checks.design....  \n",
       "3  com.puppycrawl.tools.checkstyle.checks.naming....  \n",
       "4  com.puppycrawl.tools.checkstyle.checks.javadoc...  "
      ]
     },
     "execution_count": 44,
     "metadata": {},
     "output_type": "execute_result"
    }
   ],
   "source": [
    "#df.head().compute()\n",
    "df.head()"
   ]
  },
  {
   "cell_type": "code",
   "execution_count": 45,
   "id": "9d446691-39f5-4f72-bc40-87a8dfa6dbc4",
   "metadata": {},
   "outputs": [
    {
     "data": {
      "text/plain": [
       "8074616"
      ]
     },
     "execution_count": 45,
     "metadata": {},
     "output_type": "execute_result"
    }
   ],
   "source": [
    "df.shape[0].compute()"
   ]
  },
  {
   "cell_type": "markdown",
   "id": "3dab0e3e-f779-4d50-b3a8-03db32c41c26",
   "metadata": {},
   "source": [
    "## Save all the codes from the posts into a CSV file"
   ]
  },
  {
   "cell_type": "raw",
   "id": "4261ccef-02ac-4625-870f-010336218b74",
   "metadata": {},
   "source": [
    "## Save all the codes from the posts into a JSON file\n",
    "#violations_rows_bd.to_textfiles('pmdcodesnippets_json/PMDJavaCodeSnippets*.json.gz', , encoding='utf-8')\n",
    "#violations_rows_bd.to_textfiles('pmdcodesnippets_json/PMDJavaCodeSnippets*.json', encoding='utf-8')\n",
    "## Save all the codes from the posts into a CSV file\n",
    "# Save to a CSV file\n",
    "_ = df.to_csv('checkstylexmlreports_csv/checkstyleReport*.csv', sep=',', index=False)"
   ]
  },
  {
   "cell_type": "code",
   "execution_count": null,
   "id": "b4e14017-f76b-4bf2-9379-499f5b56e25c",
   "metadata": {},
   "outputs": [],
   "source": []
  },
  {
   "cell_type": "code",
   "execution_count": null,
   "id": "f7ac5baa-eb52-4c49-b664-da41db7cd323",
   "metadata": {},
   "outputs": [],
   "source": []
  }
 ],
 "metadata": {
  "kernelspec": {
   "display_name": "Python 3.9.5 (gimkl-2020a)",
   "language": "python",
   "name": "python395-gimkl-2020a"
  },
  "language_info": {
   "codemirror_mode": {
    "name": "ipython",
    "version": 3
   },
   "file_extension": ".py",
   "mimetype": "text/x-python",
   "name": "python",
   "nbconvert_exporter": "python",
   "pygments_lexer": "ipython3",
   "version": "3.9.5"
  }
 },
 "nbformat": 4,
 "nbformat_minor": 5
}
