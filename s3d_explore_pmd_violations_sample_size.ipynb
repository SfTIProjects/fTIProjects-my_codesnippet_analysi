{
 "cells": [
  {
   "cell_type": "code",
   "execution_count": 1,
   "id": "5c7001dc-f497-465a-b7ce-d60d9dc88c41",
   "metadata": {},
   "outputs": [],
   "source": [
    "import time\n",
    "from datetime import timedelta\n",
    "\n",
    "import html\n",
    "import re\n",
    "\n",
    "import os\n",
    "import ntpath\n",
    "\n",
    "import subprocess as sp\n",
    "\n",
    "import numpy as np\n",
    "import pandas as pd\n",
    "import xml.etree.ElementTree as et\n",
    "\n",
    "import dask\n",
    "import dask.dataframe as dd\n",
    "import dask.bag as bd\n",
    "from dask.distributed import Client\n",
    "from dask_jobqueue import SLURMCluster"
   ]
  },
  {
   "cell_type": "markdown",
   "id": "c3a7ffcf-b1bd-41f8-932d-672077cbfcd1",
   "metadata": {
    "tags": []
   },
   "source": [
    "## Read csv files Java Answers"
   ]
  },
  {
   "cell_type": "code",
   "execution_count": 2,
   "id": "cf20def2-c0d1-4e07-86c2-09c6fb5d9674",
   "metadata": {},
   "outputs": [],
   "source": [
    "df = dd.read_csv('pmdcodesnippetsviolation_csv/pmdCodeSnippetsViolation*.csv', engine='python', error_bad_lines=False, warn_bad_lines=False, dtype=object)"
   ]
  },
  {
   "cell_type": "markdown",
   "id": "7661c28d-b306-42b1-ab01-ec7821c8f235",
   "metadata": {
    "tags": []
   },
   "source": [
    "## Start a Dask cluster using SLURM jobs as workers"
   ]
  },
  {
   "cell_type": "code",
   "execution_count": 3,
   "id": "0216ff53-64ce-4635-923d-ba00444eed69",
   "metadata": {},
   "outputs": [
    {
     "name": "stderr",
     "output_type": "stream",
     "text": [
      "/opt/nesi/CS400_centos7_bdw/Python/3.9.5-gimkl-2020a/lib/python3.9/site-packages/distributed/node.py:151: UserWarning: Port 8787 is already in use.\n",
      "Perhaps you already have a cluster running?\n",
      "Hosting the HTTP server on port 45819 instead\n",
      "  warnings.warn(\n"
     ]
    }
   ],
   "source": [
    "#http://jobqueue.dask.org/en/latest/generated/dask_jobqueue.SLURMCluster.html\n",
    "dask.config.set(\n",
    "    {\n",
    "        \"distributed.worker.memory.target\": False,  # avoid spilling to disk\n",
    "        \"distributed.worker.memory.spill\": False,  # avoid spilling to disk\n",
    "    }\n",
    ")\n",
    "cluster = SLURMCluster(\n",
    "    cores=10, #cores=24, # we set each job to have 1 Worker, each using 10 cores (threads) and 8 GB of memory\n",
    "    processes=2,\n",
    "    memory=\"8GiB\",\n",
    "    walltime=\"0-00:30\",# walltime=\"0-00:50\",\n",
    "    log_directory=\"../dask/logs\",  # folder for SLURM logs for each worker\n",
    "    local_directory=\"../dask\",  # folder for workers data\n",
    ")"
   ]
  },
  {
   "cell_type": "markdown",
   "id": "8b7ef768-6ce6-4696-a16b-83206ffe3e41",
   "metadata": {},
   "source": [
    "Spawn between 20 to 100 workers and connect a client to be able use them."
   ]
  },
  {
   "cell_type": "code",
   "execution_count": 4,
   "id": "0ecdceec-2192-4343-ad4e-8826616caffb",
   "metadata": {},
   "outputs": [
    {
     "data": {
      "text/html": [
       "<table style=\"border: 2px solid white;\">\n",
       "<tr>\n",
       "<td style=\"vertical-align: top; border: 0px solid white\">\n",
       "<h3 style=\"text-align: left;\">Client</h3>\n",
       "<ul style=\"text-align: left; list-style: none; margin: 0; padding: 0;\">\n",
       "  <li><b>Scheduler: </b>tcp://192.168.94.163:45063</li>\n",
       "  <li><b>Dashboard: </b><a href='http://192.168.94.163:45819/status' target='_blank'>http://192.168.94.163:45819/status</a></li>\n",
       "</ul>\n",
       "</td>\n",
       "<td style=\"vertical-align: top; border: 0px solid white\">\n",
       "<h3 style=\"text-align: left;\">Cluster</h3>\n",
       "<ul style=\"text-align: left; list-style:none; margin: 0; padding: 0;\">\n",
       "  <li><b>Workers: </b>0</li>\n",
       "  <li><b>Cores: </b>0</li>\n",
       "  <li><b>Memory: </b>0 B</li>\n",
       "</ul>\n",
       "</td>\n",
       "</tr>\n",
       "</table>"
      ],
      "text/plain": [
       "<Client: 'tcp://192.168.94.163:45063' processes=0 threads=0, memory=0 B>"
      ]
     },
     "execution_count": 4,
     "metadata": {},
     "output_type": "execute_result"
    }
   ],
   "source": [
    "#cluster.scale(n=20) # ask for 20 jobs or workers\n",
    "# This also works with adaptive clusters. This automatically launches and kill workers based on load.\n",
    "# we tell our cluster to autoscale between 10 and 20 workers depending on the load\n",
    "cluster.adapt(minimum_jobs=10, maximum_jobs=200)\n",
    "#cluster.adapt(maximum_jobs=20)\n",
    "client = Client(cluster)\n",
    "client"
   ]
  },
  {
   "cell_type": "code",
   "execution_count": 5,
   "id": "21fdc20b-179f-4099-8a28-06ea4e19d786",
   "metadata": {},
   "outputs": [
    {
     "data": {
      "text/html": [
       "<div><strong>Dask DataFrame Structure:</strong></div>\n",
       "<div>\n",
       "<style scoped>\n",
       "    .dataframe tbody tr th:only-of-type {\n",
       "        vertical-align: middle;\n",
       "    }\n",
       "\n",
       "    .dataframe tbody tr th {\n",
       "        vertical-align: top;\n",
       "    }\n",
       "\n",
       "    .dataframe thead th {\n",
       "        text-align: right;\n",
       "    }\n",
       "</style>\n",
       "<table border=\"1\" class=\"dataframe\">\n",
       "  <thead>\n",
       "    <tr style=\"text-align: right;\">\n",
       "      <th></th>\n",
       "      <th>beginline</th>\n",
       "      <th>endline</th>\n",
       "      <th>begincolumn</th>\n",
       "      <th>endcolumn</th>\n",
       "      <th>rule</th>\n",
       "      <th>ruleset</th>\n",
       "      <th>class</th>\n",
       "      <th>externalInfoUrl</th>\n",
       "      <th>priority</th>\n",
       "      <th>msg</th>\n",
       "      <th>method</th>\n",
       "    </tr>\n",
       "    <tr>\n",
       "      <th>npartitions=1137</th>\n",
       "      <th></th>\n",
       "      <th></th>\n",
       "      <th></th>\n",
       "      <th></th>\n",
       "      <th></th>\n",
       "      <th></th>\n",
       "      <th></th>\n",
       "      <th></th>\n",
       "      <th></th>\n",
       "      <th></th>\n",
       "      <th></th>\n",
       "    </tr>\n",
       "  </thead>\n",
       "  <tbody>\n",
       "    <tr>\n",
       "      <th></th>\n",
       "      <td>object</td>\n",
       "      <td>object</td>\n",
       "      <td>object</td>\n",
       "      <td>object</td>\n",
       "      <td>object</td>\n",
       "      <td>object</td>\n",
       "      <td>object</td>\n",
       "      <td>object</td>\n",
       "      <td>object</td>\n",
       "      <td>object</td>\n",
       "      <td>object</td>\n",
       "    </tr>\n",
       "    <tr>\n",
       "      <th></th>\n",
       "      <td>...</td>\n",
       "      <td>...</td>\n",
       "      <td>...</td>\n",
       "      <td>...</td>\n",
       "      <td>...</td>\n",
       "      <td>...</td>\n",
       "      <td>...</td>\n",
       "      <td>...</td>\n",
       "      <td>...</td>\n",
       "      <td>...</td>\n",
       "      <td>...</td>\n",
       "    </tr>\n",
       "    <tr>\n",
       "      <th>...</th>\n",
       "      <td>...</td>\n",
       "      <td>...</td>\n",
       "      <td>...</td>\n",
       "      <td>...</td>\n",
       "      <td>...</td>\n",
       "      <td>...</td>\n",
       "      <td>...</td>\n",
       "      <td>...</td>\n",
       "      <td>...</td>\n",
       "      <td>...</td>\n",
       "      <td>...</td>\n",
       "    </tr>\n",
       "    <tr>\n",
       "      <th></th>\n",
       "      <td>...</td>\n",
       "      <td>...</td>\n",
       "      <td>...</td>\n",
       "      <td>...</td>\n",
       "      <td>...</td>\n",
       "      <td>...</td>\n",
       "      <td>...</td>\n",
       "      <td>...</td>\n",
       "      <td>...</td>\n",
       "      <td>...</td>\n",
       "      <td>...</td>\n",
       "    </tr>\n",
       "    <tr>\n",
       "      <th></th>\n",
       "      <td>...</td>\n",
       "      <td>...</td>\n",
       "      <td>...</td>\n",
       "      <td>...</td>\n",
       "      <td>...</td>\n",
       "      <td>...</td>\n",
       "      <td>...</td>\n",
       "      <td>...</td>\n",
       "      <td>...</td>\n",
       "      <td>...</td>\n",
       "      <td>...</td>\n",
       "    </tr>\n",
       "  </tbody>\n",
       "</table>\n",
       "</div>\n",
       "<div>Dask Name: read-csv, 1137 tasks</div>"
      ],
      "text/plain": [
       "Dask DataFrame Structure:\n",
       "                 beginline endline begincolumn endcolumn    rule ruleset   class externalInfoUrl priority     msg  method\n",
       "npartitions=1137                                                                                                         \n",
       "                    object  object      object    object  object  object  object          object   object  object  object\n",
       "                       ...     ...         ...       ...     ...     ...     ...             ...      ...     ...     ...\n",
       "...                    ...     ...         ...       ...     ...     ...     ...             ...      ...     ...     ...\n",
       "                       ...     ...         ...       ...     ...     ...     ...             ...      ...     ...     ...\n",
       "                       ...     ...         ...       ...     ...     ...     ...             ...      ...     ...     ...\n",
       "Dask Name: read-csv, 1137 tasks"
      ]
     },
     "execution_count": 5,
     "metadata": {},
     "output_type": "execute_result"
    }
   ],
   "source": [
    "df"
   ]
  },
  {
   "cell_type": "code",
   "execution_count": 6,
   "id": "328d170f-23e2-4ab3-a0e2-6a339505feba",
   "metadata": {},
   "outputs": [
    {
     "name": "stdout",
     "output_type": "stream",
     "text": [
      "Initial number of volations 5653002\n"
     ]
    }
   ],
   "source": [
    "pmd_codeviolations_init_len = df.shape[0].compute()\n",
    "print('Initial number of volations {}'.format(pmd_codeviolations_init_len))"
   ]
  },
  {
   "cell_type": "code",
   "execution_count": 7,
   "id": "bcb21e1c-9ae1-4d73-97b4-1888ff244c48",
   "metadata": {},
   "outputs": [],
   "source": [
    "# drop empty columns\n",
    "df = df[~df['class'].isna()] # Drop rows that have NaN in the Code column"
   ]
  },
  {
   "cell_type": "code",
   "execution_count": 8,
   "id": "045d8610-5e47-41a1-8289-a5fbbb47455e",
   "metadata": {},
   "outputs": [
    {
     "name": "stdout",
     "output_type": "stream",
     "text": [
      "Number of violations after removing the nans in the class column 5642111\n"
     ]
    }
   ],
   "source": [
    "pmd_codeviolations_nonan_len =df.shape[0].compute()\n",
    "print('Number of violations after removing the nans in the class column {}'.format(pmd_codeviolations_nonan_len))"
   ]
  },
  {
   "cell_type": "code",
   "execution_count": 9,
   "id": "55eb9360-6090-4b22-b261-5fa59851ee4d",
   "metadata": {},
   "outputs": [
    {
     "name": "stdout",
     "output_type": "stream",
     "text": [
      "Difference 10891\n"
     ]
    }
   ],
   "source": [
    "print('Difference {}'.format(pmd_codeviolations_init_len - pmd_codeviolations_nonan_len))"
   ]
  },
  {
   "cell_type": "code",
   "execution_count": 10,
   "id": "b13dc104-ac8a-4f23-adb4-015e098e860e",
   "metadata": {},
   "outputs": [],
   "source": [
    "# drop classes that do not have this pattern e.g., Code_10000096_9914015_1959_0\n",
    "#df = df[df['class'].str.contains('^Code_\\d+_\\d+_\\d+_\\d+', regex=True)]\n",
    "df = df[df['class'].str.contains('^Code_\\d+_\\d+_\\d+_\\d+$', regex=True)]"
   ]
  },
  {
   "cell_type": "code",
   "execution_count": 11,
   "id": "36e62f17-090e-495b-9023-36941aeee6d2",
   "metadata": {},
   "outputs": [
    {
     "name": "stdout",
     "output_type": "stream",
     "text": [
      "Number of violations after removing the onces caused by unknown class e.g. inner classes 5642111\n"
     ]
    }
   ],
   "source": [
    "pmd_codeviolations_unkownclass_len = df.shape[0].compute()\n",
    "print('Number of violations after removing the onces caused by unknown class e.g. inner classes {}'.format(pmd_codeviolations_nonan_len))"
   ]
  },
  {
   "cell_type": "code",
   "execution_count": 12,
   "id": "b4397c4c-c2ac-4516-b8a4-d96da752f9fa",
   "metadata": {},
   "outputs": [
    {
     "name": "stdout",
     "output_type": "stream",
     "text": [
      "Difference 585970\n"
     ]
    }
   ],
   "source": [
    "print('Difference {}'.format(pmd_codeviolations_nonan_len - pmd_codeviolations_unkownclass_len))"
   ]
  },
  {
   "cell_type": "code",
   "execution_count": null,
   "id": "98329047-38ad-4a63-8d38-b21754f52f69",
   "metadata": {},
   "outputs": [],
   "source": []
  },
  {
   "cell_type": "markdown",
   "id": "f8e66a9f-34d5-40bd-b9b8-4c981aec2935",
   "metadata": {},
   "source": [
    "#### Count the unique rulesets"
   ]
  },
  {
   "cell_type": "code",
   "execution_count": 13,
   "id": "d0000de3-e1f0-4073-b1f3-6772b5f160c9",
   "metadata": {},
   "outputs": [],
   "source": [
    "#count the unique rulesets\n",
    "#df.groupby('ruleset').count().shape[0].compute()"
   ]
  },
  {
   "cell_type": "markdown",
   "id": "db0a0a65-f456-4d53-aa04-e98b2b8b46d3",
   "metadata": {},
   "source": [
    "#### Get the unique classes dataframe"
   ]
  },
  {
   "cell_type": "code",
   "execution_count": 14,
   "id": "243cb6f3-d761-4112-a8ac-afc852a40f69",
   "metadata": {},
   "outputs": [],
   "source": [
    "# get the unique classes\n",
    "# not the values in the 1st column are where it found the 1st occurances of each unique item\n",
    "#df['ruleset'].drop_duplicates().compute()"
   ]
  },
  {
   "cell_type": "code",
   "execution_count": 15,
   "id": "78291d97-d081-4624-b6d6-15ef216fdb53",
   "metadata": {},
   "outputs": [],
   "source": [
    "ruleset_df = df[['ruleset']]\n",
    "#ruleset_df.head()"
   ]
  },
  {
   "cell_type": "code",
   "execution_count": 16,
   "id": "c7ffa1bd-ad60-4847-bb74-0a4a943e9c9b",
   "metadata": {},
   "outputs": [],
   "source": [
    "# This also counts the unique classes\n",
    "#ruleset_df.index.shape[0].compute()"
   ]
  },
  {
   "cell_type": "markdown",
   "id": "85129950-e76a-442a-9b1c-d37622326719",
   "metadata": {},
   "source": [
    "### Count the number of times each item occured"
   ]
  },
  {
   "cell_type": "code",
   "execution_count": 17,
   "id": "a3e5f24f-155e-4d9e-9527-c1a075e3c3bd",
   "metadata": {},
   "outputs": [
    {
     "data": {
      "text/html": [
       "<div>\n",
       "<style scoped>\n",
       "    .dataframe tbody tr th:only-of-type {\n",
       "        vertical-align: middle;\n",
       "    }\n",
       "\n",
       "    .dataframe tbody tr th {\n",
       "        vertical-align: top;\n",
       "    }\n",
       "\n",
       "    .dataframe thead th {\n",
       "        text-align: right;\n",
       "    }\n",
       "</style>\n",
       "<table border=\"1\" class=\"dataframe\">\n",
       "  <thead>\n",
       "    <tr style=\"text-align: right;\">\n",
       "      <th></th>\n",
       "      <th>ruleset</th>\n",
       "      <th>total</th>\n",
       "    </tr>\n",
       "  </thead>\n",
       "  <tbody>\n",
       "    <tr>\n",
       "      <th>0</th>\n",
       "      <td>Best Practices</td>\n",
       "      <td>617357</td>\n",
       "    </tr>\n",
       "    <tr>\n",
       "      <th>1</th>\n",
       "      <td>Code Style</td>\n",
       "      <td>3016771</td>\n",
       "    </tr>\n",
       "    <tr>\n",
       "      <th>2</th>\n",
       "      <td>Design</td>\n",
       "      <td>889718</td>\n",
       "    </tr>\n",
       "    <tr>\n",
       "      <th>3</th>\n",
       "      <td>Documentation</td>\n",
       "      <td>20086</td>\n",
       "    </tr>\n",
       "    <tr>\n",
       "      <th>4</th>\n",
       "      <td>Error Prone</td>\n",
       "      <td>369698</td>\n",
       "    </tr>\n",
       "    <tr>\n",
       "      <th>5</th>\n",
       "      <td>Multithreading</td>\n",
       "      <td>26941</td>\n",
       "    </tr>\n",
       "    <tr>\n",
       "      <th>6</th>\n",
       "      <td>Performance</td>\n",
       "      <td>115505</td>\n",
       "    </tr>\n",
       "    <tr>\n",
       "      <th>7</th>\n",
       "      <td>Security</td>\n",
       "      <td>65</td>\n",
       "    </tr>\n",
       "  </tbody>\n",
       "</table>\n",
       "</div>"
      ],
      "text/plain": [
       "          ruleset    total\n",
       "0  Best Practices   617357\n",
       "1      Code Style  3016771\n",
       "2          Design   889718\n",
       "3   Documentation    20086\n",
       "4     Error Prone   369698\n",
       "5  Multithreading    26941\n",
       "6     Performance   115505\n",
       "7        Security       65"
      ]
     },
     "execution_count": 17,
     "metadata": {},
     "output_type": "execute_result"
    }
   ],
   "source": [
    "#https://www.shanelynn.ie/summarising-aggregation-and-grouping-data-in-python-pandas/\n",
    "ruleset_count_df = pd.DataFrame(ruleset_df.groupby('ruleset')['ruleset'].count().compute())\n",
    "# rename the column to total\n",
    "ruleset_count_df.columns=['total']\n",
    "# drop the index level\n",
    "ruleset_count_df = ruleset_count_df.reset_index()\n",
    "ruleset_count_df"
   ]
  },
  {
   "cell_type": "markdown",
   "id": "4bb51959-480c-4e1b-adf6-1c99f68ee1da",
   "metadata": {},
   "source": [
    "### Calculate Percentage"
   ]
  },
  {
   "cell_type": "code",
   "execution_count": 18,
   "id": "2863805e-f843-48b3-afec-ecd07db0374c",
   "metadata": {},
   "outputs": [],
   "source": [
    "ruleset_count_df['percent'] = (ruleset_count_df['total']/ ruleset_count_df['total'].sum())*100"
   ]
  },
  {
   "cell_type": "code",
   "execution_count": 23,
   "id": "2fc1e5ee-d023-4ffd-9185-7d8282e39906",
   "metadata": {},
   "outputs": [
    {
     "data": {
      "text/plain": [
       "5056141"
      ]
     },
     "execution_count": 23,
     "metadata": {},
     "output_type": "execute_result"
    }
   ],
   "source": [
    "ruleset_count_df['total'].sum()"
   ]
  },
  {
   "cell_type": "code",
   "execution_count": 19,
   "id": "73e9354d-8ef2-479a-9941-8f3cfe5ac9a3",
   "metadata": {},
   "outputs": [
    {
     "data": {
      "text/html": [
       "<div>\n",
       "<style scoped>\n",
       "    .dataframe tbody tr th:only-of-type {\n",
       "        vertical-align: middle;\n",
       "    }\n",
       "\n",
       "    .dataframe tbody tr th {\n",
       "        vertical-align: top;\n",
       "    }\n",
       "\n",
       "    .dataframe thead th {\n",
       "        text-align: right;\n",
       "    }\n",
       "</style>\n",
       "<table border=\"1\" class=\"dataframe\">\n",
       "  <thead>\n",
       "    <tr style=\"text-align: right;\">\n",
       "      <th></th>\n",
       "      <th>ruleset</th>\n",
       "      <th>total</th>\n",
       "      <th>percent</th>\n",
       "    </tr>\n",
       "  </thead>\n",
       "  <tbody>\n",
       "    <tr>\n",
       "      <th>0</th>\n",
       "      <td>Best Practices</td>\n",
       "      <td>617357</td>\n",
       "      <td>12.210043</td>\n",
       "    </tr>\n",
       "    <tr>\n",
       "      <th>1</th>\n",
       "      <td>Code Style</td>\n",
       "      <td>3016771</td>\n",
       "      <td>59.665484</td>\n",
       "    </tr>\n",
       "    <tr>\n",
       "      <th>2</th>\n",
       "      <td>Design</td>\n",
       "      <td>889718</td>\n",
       "      <td>17.596780</td>\n",
       "    </tr>\n",
       "    <tr>\n",
       "      <th>3</th>\n",
       "      <td>Documentation</td>\n",
       "      <td>20086</td>\n",
       "      <td>0.397259</td>\n",
       "    </tr>\n",
       "    <tr>\n",
       "      <th>4</th>\n",
       "      <td>Error Prone</td>\n",
       "      <td>369698</td>\n",
       "      <td>7.311861</td>\n",
       "    </tr>\n",
       "    <tr>\n",
       "      <th>5</th>\n",
       "      <td>Multithreading</td>\n",
       "      <td>26941</td>\n",
       "      <td>0.532837</td>\n",
       "    </tr>\n",
       "    <tr>\n",
       "      <th>6</th>\n",
       "      <td>Performance</td>\n",
       "      <td>115505</td>\n",
       "      <td>2.284450</td>\n",
       "    </tr>\n",
       "    <tr>\n",
       "      <th>7</th>\n",
       "      <td>Security</td>\n",
       "      <td>65</td>\n",
       "      <td>0.001286</td>\n",
       "    </tr>\n",
       "  </tbody>\n",
       "</table>\n",
       "</div>"
      ],
      "text/plain": [
       "          ruleset    total    percent\n",
       "0  Best Practices   617357  12.210043\n",
       "1      Code Style  3016771  59.665484\n",
       "2          Design   889718  17.596780\n",
       "3   Documentation    20086   0.397259\n",
       "4     Error Prone   369698   7.311861\n",
       "5  Multithreading    26941   0.532837\n",
       "6     Performance   115505   2.284450\n",
       "7        Security       65   0.001286"
      ]
     },
     "execution_count": 19,
     "metadata": {},
     "output_type": "execute_result"
    }
   ],
   "source": [
    "ruleset_count_df"
   ]
  },
  {
   "cell_type": "markdown",
   "id": "e12b2f7f-a39c-4ad4-96ab-6adbc83de256",
   "metadata": {},
   "source": [
    "### Calculate number to be sampled per ruleset"
   ]
  },
  {
   "cell_type": "code",
   "execution_count": 20,
   "id": "1882d4b5-c6c8-4b50-bf6c-4d89de3ef001",
   "metadata": {},
   "outputs": [],
   "source": [
    "# https://www.surveysystem.com/sscalc.htm\n",
    "# put 4887262 into the sample size calculator at 5% confidence interval\n",
    "#ruleset_count_df['perc384'] = round((ruleset_count_df['percent']/ 100)*384, 0)\n",
    "#ruleset_count_df"
   ]
  },
  {
   "cell_type": "code",
   "execution_count": 21,
   "id": "7e106b4f-d4b2-4e1e-ba6d-8b34b7ef3748",
   "metadata": {},
   "outputs": [
    {
     "ename": "NameError",
     "evalue": "name 'nn' is not defined",
     "output_type": "error",
     "traceback": [
      "\u001b[0;31m---------------------------------------------------------------------------\u001b[0m",
      "\u001b[0;31mNameError\u001b[0m                                 Traceback (most recent call last)",
      "\u001b[0;32m<ipython-input-21-e7bd55e9bf39>\u001b[0m in \u001b[0;36m<module>\u001b[0;34m\u001b[0m\n\u001b[0;32m----> 1\u001b[0;31m \u001b[0mnn\u001b[0m\u001b[0;34m\u001b[0m\u001b[0;34m\u001b[0m\u001b[0m\n\u001b[0m",
      "\u001b[0;31mNameError\u001b[0m: name 'nn' is not defined"
     ]
    }
   ],
   "source": [
    "nn"
   ]
  },
  {
   "cell_type": "code",
   "execution_count": null,
   "id": "91462945-4a5b-4ee4-9607-14a633cc9459",
   "metadata": {},
   "outputs": [],
   "source": [
    "#### Better computation\n",
    "import math\n",
    "\n",
    "def comp_smpl_no(x):\n",
    "    x = round((x/100)*384)\n",
    "    if x < 1:\n",
    "        x = 1\n",
    "    return x\n",
    "ruleset_count_df['sample_size_384'] = ruleset_count_df['percent'].apply(comp_smpl_no)\n",
    "ruleset_count_df"
   ]
  },
  {
   "cell_type": "markdown",
   "id": "66a2870a-e91a-45a4-b6b6-3160b11ffe80",
   "metadata": {},
   "source": [
    "### Group by Ruleset"
   ]
  },
  {
   "cell_type": "code",
   "execution_count": null,
   "id": "e3626d40-dd61-4e13-b93b-4bfbe01bfa9a",
   "metadata": {},
   "outputs": [],
   "source": [
    "grp_df = df.groupby('ruleset')"
   ]
  },
  {
   "cell_type": "code",
   "execution_count": null,
   "id": "d8da5d82-14d1-418e-a508-3a1ea886b5af",
   "metadata": {},
   "outputs": [],
   "source": [
    "grp_dfs = []"
   ]
  },
  {
   "cell_type": "code",
   "execution_count": null,
   "id": "41090a45-cf32-4283-85b1-99444621e6e8",
   "metadata": {},
   "outputs": [],
   "source": [
    "for vio, sample_size in zip(ruleset_count_df['ruleset'], ruleset_count_df['sample_size_384']): # e.g., Best Practices, Coding Style, Design\n",
    "    # Get all the values belonging to, say Best Practices\n",
    "    vio_grp = grp_df.get_group(vio)\n",
    "    vio_grp = vio_grp.reset_index(drop=True).compute()\n",
    "    #vio_grp.head()\n",
    "    \n",
    "    # Randomly select that number\n",
    "    #https://datatofish.com/random-rows-pandas-dataframe/\n",
    "    vio_grp_ran = vio_grp.sample(n=sample_size, random_state=10)\n",
    "    # add the subfolder to get java file\n",
    "    vio_grp_ran['sample_subfolder'] = subfolder\n",
    "    # append the data frame to a list\n",
    "    grp_dfs.append(vio_grp_ran)\n",
    "    \n",
    "    ## Make a folder in that directory\n",
    "    folder = 'sample_pmd'\n",
    "    # output: path/to/Post.csv => path/to\n",
    "    mkdir_cmd = 'mkdir {}'.format(folder)\n",
    "    cmd = sp.run(\n",
    "        mkdir_cmd, # command\n",
    "        capture_output=True,\n",
    "        text=True,\n",
    "        shell=True\n",
    "    )\n",
    "    \n",
    "    ## Make a folder in that directory\n",
    "    folder = 'sample_pmd/{}'.format(re.sub(r'\\s+', '_', ruleset.lower()))\n",
    "    # output: path/to/Post.csv => path/to\n",
    "    mkdir_cmd = 'mkdir {}'.format(folder)\n",
    "    cmd = sp.run(\n",
    "        mkdir_cmd, # command\n",
    "        capture_output=True,\n",
    "        text=True,\n",
    "        shell=True\n",
    "    )\n",
    "    \n",
    "    # copy list of sample java files into the destination \n",
    "    for filename_to_copy in vio_grp_ran['class']:\n",
    "        file_to_copy = '{}.java'.format(filename_to_copy)\n",
    "        copy_file_cmd = 'cp codesnippets_java/{} {}'.format(file_to_copy, folder)\n",
    "        cmd = sp.run(\n",
    "            copy_file_cmd, # command\n",
    "            capture_output=True,\n",
    "            text=True,\n",
    "            shell=True\n",
    "        )\n",
    "    "
   ]
  },
  {
   "cell_type": "markdown",
   "id": "15ecf8c1-caa9-4cb4-931d-753ffe537cac",
   "metadata": {},
   "source": [
    "### Observed Test"
   ]
  },
  {
   "cell_type": "code",
   "execution_count": null,
   "id": "8d358e0e-6a2c-4016-b0de-b01ba883a39f",
   "metadata": {},
   "outputs": [],
   "source": [
    "# Combine all the group dataframe\n",
    "com_grp_dfs = pd.concat(grp_dfs)\n",
    "com_grp_dfs.head()"
   ]
  },
  {
   "cell_type": "markdown",
   "id": "6b9dcf3a-66a1-4ed3-9162-92a3ad243ce8",
   "metadata": {},
   "source": [
    "### Sort them in order"
   ]
  },
  {
   "cell_type": "code",
   "execution_count": null,
   "id": "c82dbd83-11f3-44fc-b6e7-1c000914e6b7",
   "metadata": {},
   "outputs": [],
   "source": [
    "#com_grp_dfs.sort_values('sourcefile', ascending=True, inplace=True)\n",
    "com_grp_dfs.sort_values(['sample_subfolder','sourcefile'], ascending=[True, True], inplace=True)"
   ]
  },
  {
   "cell_type": "code",
   "execution_count": null,
   "id": "2a21cde7-9730-4bc6-96d1-b749b07d94e3",
   "metadata": {},
   "outputs": [],
   "source": [
    "com_grp_dfs.head()"
   ]
  },
  {
   "cell_type": "code",
   "execution_count": null,
   "id": "6dd25c43-1407-477b-8749-b54614703307",
   "metadata": {},
   "outputs": [],
   "source": [
    "for subfol, name, ln, msg in zip(com_grp_dfs['sample_subfolder'], com_grp_dfs['sourcefile'], com_grp_dfs['bugline'], com_grp_dfs['shortMsg']):\n",
    "    print('sample_ckstyl/{}/{} : {} ==> {}'.format(subfol, name, ln, msg))"
   ]
  },
  {
   "cell_type": "code",
   "execution_count": null,
   "id": "f5e90e4f-bd6b-4a64-922c-4fc9d6198fa3",
   "metadata": {},
   "outputs": [],
   "source": []
  }
 ],
 "metadata": {
  "kernelspec": {
   "display_name": "Python 3.9.5 (gimkl-2020a)",
   "language": "python",
   "name": "python395-gimkl-2020a"
  },
  "language_info": {
   "codemirror_mode": {
    "name": "ipython",
    "version": 3
   },
   "file_extension": ".py",
   "mimetype": "text/x-python",
   "name": "python",
   "nbconvert_exporter": "python",
   "pygments_lexer": "ipython3",
   "version": "3.9.5"
  }
 },
 "nbformat": 4,
 "nbformat_minor": 5
}
