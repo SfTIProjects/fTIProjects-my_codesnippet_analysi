{
 "cells": [
  {
   "cell_type": "code",
   "execution_count": 1,
   "id": "f7f4ccb5-1d92-4622-a471-40b735920801",
   "metadata": {},
   "outputs": [],
   "source": [
    "import time\n",
    "from datetime import timedelta\n",
    "\n",
    "import html\n",
    "import re\n",
    "\n",
    "import os\n",
    "import ntpath\n",
    "\n",
    "import subprocess as sp\n",
    "\n",
    "import numpy as np\n",
    "import pandas as pd\n",
    "import xml.etree.ElementTree as et\n",
    "\n",
    "import dask\n",
    "import dask.dataframe as dd\n",
    "import dask.bag as bd\n",
    "from dask.distributed import Client\n",
    "from dask_jobqueue import SLURMCluster"
   ]
  },
  {
   "cell_type": "markdown",
   "id": "e87162db-45a6-4527-b63b-ca047ee14bf0",
   "metadata": {},
   "source": [
    "## Enter full path to xml file"
   ]
  },
  {
   "cell_type": "code",
   "execution_count": 2,
   "id": "3a79a605-8a8e-4842-9d73-65b419a70487",
   "metadata": {},
   "outputs": [],
   "source": [
    "xml_file = 'pmd1/pmdxmlreports_xml/pmd*.xml'"
   ]
  },
  {
   "cell_type": "markdown",
   "id": "9addd5ec-eff8-416e-8f67-cb9d7f673450",
   "metadata": {},
   "source": [
    "## Read xml file in block sizes"
   ]
  },
  {
   "cell_type": "code",
   "execution_count": 3,
   "id": "2c8be781-3abf-4b73-ba5f-1f0233e390e8",
   "metadata": {},
   "outputs": [],
   "source": [
    "## Read xml file in block sizes\n",
    "bg = bd.read_text(xml_file, blocksize='10MB', linedelimiter='</error>\\n')"
   ]
  },
  {
   "cell_type": "code",
   "execution_count": 4,
   "id": "ab1eb7c8-9173-45e7-89ce-857c8ea0e0bb",
   "metadata": {},
   "outputs": [
    {
     "data": {
      "text/plain": [
       "dask.bag<bag-from-delayed, npartitions=577>"
      ]
     },
     "execution_count": 4,
     "metadata": {},
     "output_type": "execute_result"
    }
   ],
   "source": [
    "bg"
   ]
  },
  {
   "cell_type": "code",
   "execution_count": 5,
   "id": "cd5b4c65-86d4-47b2-9f34-69a16fc07121",
   "metadata": {},
   "outputs": [],
   "source": [
    "#bg.take(1)"
   ]
  },
  {
   "cell_type": "markdown",
   "id": "1bd12c8a-6c50-42ea-b68a-e54c09c91700",
   "metadata": {},
   "source": [
    "## Replace the xml header with empty string '<xml ...>' => ''"
   ]
  },
  {
   "cell_type": "code",
   "execution_count": 6,
   "id": "c9abe2cc-efc1-4c8d-b5cf-87c749fc1381",
   "metadata": {},
   "outputs": [],
   "source": [
    "## Replace the xml header with empty string '<xml ...>' => ''\n",
    "bg = bg.map(lambda line: re.sub(r'\\s*<\\s*\\?xml.*\\?>\\n', '', line)) "
   ]
  },
  {
   "cell_type": "code",
   "execution_count": 7,
   "id": "112faa41-6158-4bd4-9398-ea3249d5e364",
   "metadata": {},
   "outputs": [],
   "source": [
    "#bg.take(1)"
   ]
  },
  {
   "cell_type": "markdown",
   "id": "ee71c664-cd60-48ef-82e2-842a9a3f9aec",
   "metadata": {},
   "source": [
    "## Replace the pmd header with empty string '<pmd  ...>' => ''"
   ]
  },
  {
   "cell_type": "code",
   "execution_count": 8,
   "id": "c145f166-9c94-4071-a6a9-7746750991b0",
   "metadata": {},
   "outputs": [],
   "source": [
    "## Replace the xml header with empty string '<xml ...>' => ''\n",
    "bg = bg.map(lambda line: re.sub(r'\\s*<\\s*pmd.*>\\n', '', line)) "
   ]
  },
  {
   "cell_type": "code",
   "execution_count": 9,
   "id": "afa7e8b7-3dbb-4a36-a331-8407a8566e16",
   "metadata": {},
   "outputs": [],
   "source": [
    "#bg.take(1)"
   ]
  },
  {
   "cell_type": "raw",
   "id": "b6a85edf-5fbf-488c-bcc8-b58097f17423",
   "metadata": {},
   "source": [
    "### Drop wherever the file tage occurs"
   ]
  },
  {
   "cell_type": "code",
   "execution_count": 10,
   "id": "919e18b0-6e54-4508-bda7-f3d738e1b97a",
   "metadata": {},
   "outputs": [],
   "source": [
    "# replace all the '<file>' with '</file>' so that we can access it using xml.etree.ElementTree\n",
    "bg = bg.map(lambda line: re.sub(r'\\s*<\\s*file.*>|.*/file>', '', line))"
   ]
  },
  {
   "cell_type": "code",
   "execution_count": 11,
   "id": "c18ab308-8b4a-4b0c-9bd7-bbe2008d7ea0",
   "metadata": {},
   "outputs": [],
   "source": [
    "#bg.take(1)"
   ]
  },
  {
   "cell_type": "markdown",
   "id": "ac0b923e-56a1-473e-b9f6-b7c724540ae9",
   "metadata": {},
   "source": [
    "### Drop wherever the violation tage occurs and the content within violation tag"
   ]
  },
  {
   "cell_type": "code",
   "execution_count": 12,
   "id": "287da2a6-3467-4a1a-abaa-88fc52d774d7",
   "metadata": {},
   "outputs": [],
   "source": [
    "# replace all the '<violation>' with '</violation>' so that we can access it using xml.etree.ElementTree\n",
    "#bg = bg.map(lambda line: re.sub(r'\\s*<\\s*violation.*>|.*/violation>', '', line))\n",
    "bg = bg.map(lambda line: re.sub(r'\\s*<\\s*violation.*>\\n(.*?)\\n</violation>', '', line))"
   ]
  },
  {
   "cell_type": "code",
   "execution_count": 13,
   "id": "81c79a68-195f-40a8-ba4e-199645fa249d",
   "metadata": {},
   "outputs": [
    {
     "data": {
      "text/plain": [
       "('\\n\\n<error filename=\"/scale_wlg_nobackup/filesets/nobackup/uoo03396/SfTI_project_nobackup/SfTI_Projects/StackOverflow_project/my_codesnippet_analysis/pmd1/mvn_apps/my-javacodeanalysis-app0/src/main/java/myjavacodeanalysis/Code_10022570_10022548_382_1.java\" msg=\"PMDException: Error while parsing /scale_wlg_nobackup/filesets/nobackup/uoo03396/SfTI_project_nobackup/SfTI_Projects/StackOverflow_project/my_codesnippet_analysis/pmd1/mvn_apps/my-javacodeanalysis-app0/src/main/java/myjavacodeanalysis/Code_10022570_10022548_382_1.java\">\\n<![CDATA[net.sourceforge.pmd.PMDException: Error while parsing /scale_wlg_nobackup/filesets/nobackup/uoo03396/SfTI_project_nobackup/SfTI_Projects/StackOverflow_project/my_codesnippet_analysis/pmd1/mvn_apps/my-javacodeanalysis-app0/src/main/java/myjavacodeanalysis/Code_10022570_10022548_382_1.java\\n\\tat net.sourceforge.pmd.SourceCodeProcessor.processSourceCodeWithoutCache(SourceCodeProcessor.java:124)\\n\\tat net.sourceforge.pmd.SourceCodeProcessor.processSourceCode(SourceCodeProcessor.java:100)\\n\\tat net.sourceforge.pmd.SourceCodeProcessor.processSourceCode(SourceCodeProcessor.java:62)\\n\\tat net.sourceforge.pmd.processor.PmdRunnable.call(PmdRunnable.java:85)\\n\\tat net.sourceforge.pmd.processor.PmdRunnable.call(PmdRunnable.java:29)\\n\\tat java.util.concurrent.FutureTask.run(FutureTask.java:266)\\n\\tat java.util.concurrent.Executors$RunnableAdapter.call(Executors.java:511)\\n\\tat java.util.concurrent.FutureTask.run(FutureTask.java:266)\\n\\tat java.util.concurrent.ThreadPoolExecutor.runWorker(ThreadPoolExecutor.java:1149)\\n\\tat java.util.concurrent.ThreadPoolExecutor$Worker.run(ThreadPoolExecutor.java:624)\\n\\tat java.lang.Thread.run(Thread.java:748)\\nCaused by: net.sourceforge.pmd.lang.java.ast.ParseException: Encountered \" \"for\" \"for \"\" at line 2, column 1.\\nWas expecting:\\n    \"}\" ...\\n    \\n\\tat net.sourceforge.pmd.lang.java.ast.JavaParser.generateParseException(JavaParser.java:13532)\\n\\tat net.sourceforge.pmd.lang.java.ast.JavaParser.jj_consume_token(JavaParser.java:13416)\\n\\tat net.sourceforge.pmd.lang.java.ast.JavaParser.ClassOrInterfaceBody(JavaParser.java:1766)\\n\\tat net.sourceforge.pmd.lang.java.ast.JavaParser.ClassOrInterfaceDeclaration(JavaParser.java:905)\\n\\tat net.sourceforge.pmd.lang.java.ast.JavaParser.TypeDeclaration(JavaParser.java:807)\\n\\tat net.sourceforge.pmd.lang.java.ast.JavaParser.CompilationUnit(JavaParser.java:527)\\n\\tat net.sourceforge.pmd.lang.java.AbstractJavaParser.parse(AbstractJavaParser.java:62)\\n\\tat net.sourceforge.pmd.lang.AbstractParser.doParse(AbstractParser.java:44)\\n\\tat net.sourceforge.pmd.SourceCodeProcessor.parse(SourceCodeProcessor.java:136)\\n\\tat net.sourceforge.pmd.SourceCodeProcessor.processSource(SourceCodeProcessor.java:200)\\n\\tat net.sourceforge.pmd.SourceCodeProcessor.processSourceCodeWithoutCache(SourceCodeProcessor.java:118)\\n\\t... 10 more\\n]]>\\n</error>\\n',)"
      ]
     },
     "execution_count": 13,
     "metadata": {},
     "output_type": "execute_result"
    }
   ],
   "source": [
    "bg.take(1)"
   ]
  },
  {
   "cell_type": "markdown",
   "id": "c4a5f641-68d9-4637-8538-6ffce9f8582b",
   "metadata": {},
   "source": [
    "### Drop wherever the \\n occurs"
   ]
  },
  {
   "cell_type": "code",
   "execution_count": 14,
   "id": "ffd29f12-386f-4a51-aa56-2c42f10e2efd",
   "metadata": {},
   "outputs": [],
   "source": [
    "# replace all the '<violation>' with '</violation>' so that we can access it using xml.etree.ElementTree\n",
    "bg = bg.map(lambda line: re.sub(r'\\n+', '', line))"
   ]
  },
  {
   "cell_type": "code",
   "execution_count": 15,
   "id": "88ef1f86-6108-4a9f-b74f-feff3ed3952d",
   "metadata": {},
   "outputs": [
    {
     "data": {
      "text/plain": [
       "('<error filename=\"/scale_wlg_nobackup/filesets/nobackup/uoo03396/SfTI_project_nobackup/SfTI_Projects/StackOverflow_project/my_codesnippet_analysis/pmd1/mvn_apps/my-javacodeanalysis-app0/src/main/java/myjavacodeanalysis/Code_10022570_10022548_382_1.java\" msg=\"PMDException: Error while parsing /scale_wlg_nobackup/filesets/nobackup/uoo03396/SfTI_project_nobackup/SfTI_Projects/StackOverflow_project/my_codesnippet_analysis/pmd1/mvn_apps/my-javacodeanalysis-app0/src/main/java/myjavacodeanalysis/Code_10022570_10022548_382_1.java\"><![CDATA[net.sourceforge.pmd.PMDException: Error while parsing /scale_wlg_nobackup/filesets/nobackup/uoo03396/SfTI_project_nobackup/SfTI_Projects/StackOverflow_project/my_codesnippet_analysis/pmd1/mvn_apps/my-javacodeanalysis-app0/src/main/java/myjavacodeanalysis/Code_10022570_10022548_382_1.java\\tat net.sourceforge.pmd.SourceCodeProcessor.processSourceCodeWithoutCache(SourceCodeProcessor.java:124)\\tat net.sourceforge.pmd.SourceCodeProcessor.processSourceCode(SourceCodeProcessor.java:100)\\tat net.sourceforge.pmd.SourceCodeProcessor.processSourceCode(SourceCodeProcessor.java:62)\\tat net.sourceforge.pmd.processor.PmdRunnable.call(PmdRunnable.java:85)\\tat net.sourceforge.pmd.processor.PmdRunnable.call(PmdRunnable.java:29)\\tat java.util.concurrent.FutureTask.run(FutureTask.java:266)\\tat java.util.concurrent.Executors$RunnableAdapter.call(Executors.java:511)\\tat java.util.concurrent.FutureTask.run(FutureTask.java:266)\\tat java.util.concurrent.ThreadPoolExecutor.runWorker(ThreadPoolExecutor.java:1149)\\tat java.util.concurrent.ThreadPoolExecutor$Worker.run(ThreadPoolExecutor.java:624)\\tat java.lang.Thread.run(Thread.java:748)Caused by: net.sourceforge.pmd.lang.java.ast.ParseException: Encountered \" \"for\" \"for \"\" at line 2, column 1.Was expecting:    \"}\" ...    \\tat net.sourceforge.pmd.lang.java.ast.JavaParser.generateParseException(JavaParser.java:13532)\\tat net.sourceforge.pmd.lang.java.ast.JavaParser.jj_consume_token(JavaParser.java:13416)\\tat net.sourceforge.pmd.lang.java.ast.JavaParser.ClassOrInterfaceBody(JavaParser.java:1766)\\tat net.sourceforge.pmd.lang.java.ast.JavaParser.ClassOrInterfaceDeclaration(JavaParser.java:905)\\tat net.sourceforge.pmd.lang.java.ast.JavaParser.TypeDeclaration(JavaParser.java:807)\\tat net.sourceforge.pmd.lang.java.ast.JavaParser.CompilationUnit(JavaParser.java:527)\\tat net.sourceforge.pmd.lang.java.AbstractJavaParser.parse(AbstractJavaParser.java:62)\\tat net.sourceforge.pmd.lang.AbstractParser.doParse(AbstractParser.java:44)\\tat net.sourceforge.pmd.SourceCodeProcessor.parse(SourceCodeProcessor.java:136)\\tat net.sourceforge.pmd.SourceCodeProcessor.processSource(SourceCodeProcessor.java:200)\\tat net.sourceforge.pmd.SourceCodeProcessor.processSourceCodeWithoutCache(SourceCodeProcessor.java:118)\\t... 10 more]]></error>',)"
      ]
     },
     "execution_count": 15,
     "metadata": {},
     "output_type": "execute_result"
    }
   ],
   "source": [
    "bg.take(1)"
   ]
  },
  {
   "cell_type": "markdown",
   "id": "9b944890-0d22-4c37-b196-827e04f4a250",
   "metadata": {},
   "source": [
    "### Filter out just the error"
   ]
  },
  {
   "cell_type": "code",
   "execution_count": 16,
   "id": "ba5c457a-dd0f-49e5-9770-cdc9b5f4b926",
   "metadata": {},
   "outputs": [],
   "source": [
    "## Filter out just the rows\n",
    "bg = bg.filter(lambda line: line.find('<error') >= 0)"
   ]
  },
  {
   "cell_type": "code",
   "execution_count": 17,
   "id": "e8574d13-ce52-495d-9d44-b53b9cf066b4",
   "metadata": {},
   "outputs": [
    {
     "data": {
      "text/plain": [
       "('<error filename=\"/scale_wlg_nobackup/filesets/nobackup/uoo03396/SfTI_project_nobackup/SfTI_Projects/StackOverflow_project/my_codesnippet_analysis/pmd1/mvn_apps/my-javacodeanalysis-app0/src/main/java/myjavacodeanalysis/Code_10022570_10022548_382_1.java\" msg=\"PMDException: Error while parsing /scale_wlg_nobackup/filesets/nobackup/uoo03396/SfTI_project_nobackup/SfTI_Projects/StackOverflow_project/my_codesnippet_analysis/pmd1/mvn_apps/my-javacodeanalysis-app0/src/main/java/myjavacodeanalysis/Code_10022570_10022548_382_1.java\"><![CDATA[net.sourceforge.pmd.PMDException: Error while parsing /scale_wlg_nobackup/filesets/nobackup/uoo03396/SfTI_project_nobackup/SfTI_Projects/StackOverflow_project/my_codesnippet_analysis/pmd1/mvn_apps/my-javacodeanalysis-app0/src/main/java/myjavacodeanalysis/Code_10022570_10022548_382_1.java\\tat net.sourceforge.pmd.SourceCodeProcessor.processSourceCodeWithoutCache(SourceCodeProcessor.java:124)\\tat net.sourceforge.pmd.SourceCodeProcessor.processSourceCode(SourceCodeProcessor.java:100)\\tat net.sourceforge.pmd.SourceCodeProcessor.processSourceCode(SourceCodeProcessor.java:62)\\tat net.sourceforge.pmd.processor.PmdRunnable.call(PmdRunnable.java:85)\\tat net.sourceforge.pmd.processor.PmdRunnable.call(PmdRunnable.java:29)\\tat java.util.concurrent.FutureTask.run(FutureTask.java:266)\\tat java.util.concurrent.Executors$RunnableAdapter.call(Executors.java:511)\\tat java.util.concurrent.FutureTask.run(FutureTask.java:266)\\tat java.util.concurrent.ThreadPoolExecutor.runWorker(ThreadPoolExecutor.java:1149)\\tat java.util.concurrent.ThreadPoolExecutor$Worker.run(ThreadPoolExecutor.java:624)\\tat java.lang.Thread.run(Thread.java:748)Caused by: net.sourceforge.pmd.lang.java.ast.ParseException: Encountered \" \"for\" \"for \"\" at line 2, column 1.Was expecting:    \"}\" ...    \\tat net.sourceforge.pmd.lang.java.ast.JavaParser.generateParseException(JavaParser.java:13532)\\tat net.sourceforge.pmd.lang.java.ast.JavaParser.jj_consume_token(JavaParser.java:13416)\\tat net.sourceforge.pmd.lang.java.ast.JavaParser.ClassOrInterfaceBody(JavaParser.java:1766)\\tat net.sourceforge.pmd.lang.java.ast.JavaParser.ClassOrInterfaceDeclaration(JavaParser.java:905)\\tat net.sourceforge.pmd.lang.java.ast.JavaParser.TypeDeclaration(JavaParser.java:807)\\tat net.sourceforge.pmd.lang.java.ast.JavaParser.CompilationUnit(JavaParser.java:527)\\tat net.sourceforge.pmd.lang.java.AbstractJavaParser.parse(AbstractJavaParser.java:62)\\tat net.sourceforge.pmd.lang.AbstractParser.doParse(AbstractParser.java:44)\\tat net.sourceforge.pmd.SourceCodeProcessor.parse(SourceCodeProcessor.java:136)\\tat net.sourceforge.pmd.SourceCodeProcessor.processSource(SourceCodeProcessor.java:200)\\tat net.sourceforge.pmd.SourceCodeProcessor.processSourceCodeWithoutCache(SourceCodeProcessor.java:118)\\t... 10 more]]></error>',\n",
       " '<error filename=\"/scale_wlg_nobackup/filesets/nobackup/uoo03396/SfTI_project_nobackup/SfTI_Projects/StackOverflow_project/my_codesnippet_analysis/pmd1/mvn_apps/my-javacodeanalysis-app0/src/main/java/myjavacodeanalysis/Code_10051644_10051084_113_0.java\" msg=\"PMDException: Error while parsing /scale_wlg_nobackup/filesets/nobackup/uoo03396/SfTI_project_nobackup/SfTI_Projects/StackOverflow_project/my_codesnippet_analysis/pmd1/mvn_apps/my-javacodeanalysis-app0/src/main/java/myjavacodeanalysis/Code_10051644_10051084_113_0.java\"><![CDATA[net.sourceforge.pmd.PMDException: Error while parsing /scale_wlg_nobackup/filesets/nobackup/uoo03396/SfTI_project_nobackup/SfTI_Projects/StackOverflow_project/my_codesnippet_analysis/pmd1/mvn_apps/my-javacodeanalysis-app0/src/main/java/myjavacodeanalysis/Code_10051644_10051084_113_0.java\\tat net.sourceforge.pmd.SourceCodeProcessor.processSourceCodeWithoutCache(SourceCodeProcessor.java:124)\\tat net.sourceforge.pmd.SourceCodeProcessor.processSourceCode(SourceCodeProcessor.java:100)\\tat net.sourceforge.pmd.SourceCodeProcessor.processSourceCode(SourceCodeProcessor.java:62)\\tat net.sourceforge.pmd.processor.PmdRunnable.call(PmdRunnable.java:85)\\tat net.sourceforge.pmd.processor.PmdRunnable.call(PmdRunnable.java:29)\\tat java.util.concurrent.FutureTask.run(FutureTask.java:266)\\tat java.util.concurrent.Executors$RunnableAdapter.call(Executors.java:511)\\tat java.util.concurrent.FutureTask.run(FutureTask.java:266)\\tat java.util.concurrent.ThreadPoolExecutor.runWorker(ThreadPoolExecutor.java:1149)\\tat java.util.concurrent.ThreadPoolExecutor$Worker.run(ThreadPoolExecutor.java:624)\\tat java.lang.Thread.run(Thread.java:748)Caused by: net.sourceforge.pmd.lang.java.ast.ParseException: Encountered \"\" at line 2, column 1.Was expecting one of:    \\tat net.sourceforge.pmd.lang.java.ast.JavaParser.generateParseException(JavaParser.java:13532)\\tat net.sourceforge.pmd.lang.java.ast.JavaParser.jj_consume_token(JavaParser.java:13416)\\tat net.sourceforge.pmd.lang.java.ast.JavaParser.ClassOrInterfaceBodyDeclaration(JavaParser.java:1815)\\tat net.sourceforge.pmd.lang.java.ast.JavaParser.ClassOrInterfaceBody(JavaParser.java:1764)\\tat net.sourceforge.pmd.lang.java.ast.JavaParser.ClassOrInterfaceDeclaration(JavaParser.java:905)\\tat net.sourceforge.pmd.lang.java.ast.JavaParser.TypeDeclaration(JavaParser.java:807)\\tat net.sourceforge.pmd.lang.java.ast.JavaParser.CompilationUnit(JavaParser.java:527)\\tat net.sourceforge.pmd.lang.java.AbstractJavaParser.parse(AbstractJavaParser.java:62)\\tat net.sourceforge.pmd.lang.AbstractParser.doParse(AbstractParser.java:44)\\tat net.sourceforge.pmd.SourceCodeProcessor.parse(SourceCodeProcessor.java:136)\\tat net.sourceforge.pmd.SourceCodeProcessor.processSource(SourceCodeProcessor.java:200)\\tat net.sourceforge.pmd.SourceCodeProcessor.processSourceCodeWithoutCache(SourceCodeProcessor.java:118)\\t... 10 more]]></error>',\n",
       " '<error filename=\"/scale_wlg_nobackup/filesets/nobackup/uoo03396/SfTI_project_nobackup/SfTI_Projects/StackOverflow_project/my_codesnippet_analysis/pmd1/mvn_apps/my-javacodeanalysis-app0/src/main/java/myjavacodeanalysis/Code_10059662_9994872_109_3.java\" msg=\"PMDException: Error while parsing /scale_wlg_nobackup/filesets/nobackup/uoo03396/SfTI_project_nobackup/SfTI_Projects/StackOverflow_project/my_codesnippet_analysis/pmd1/mvn_apps/my-javacodeanalysis-app0/src/main/java/myjavacodeanalysis/Code_10059662_9994872_109_3.java\"><![CDATA[net.sourceforge.pmd.PMDException: Error while parsing /scale_wlg_nobackup/filesets/nobackup/uoo03396/SfTI_project_nobackup/SfTI_Projects/StackOverflow_project/my_codesnippet_analysis/pmd1/mvn_apps/my-javacodeanalysis-app0/src/main/java/myjavacodeanalysis/Code_10059662_9994872_109_3.java\\tat net.sourceforge.pmd.SourceCodeProcessor.processSourceCodeWithoutCache(SourceCodeProcessor.java:124)\\tat net.sourceforge.pmd.SourceCodeProcessor.processSourceCode(SourceCodeProcessor.java:100)\\tat net.sourceforge.pmd.SourceCodeProcessor.processSourceCode(SourceCodeProcessor.java:62)\\tat net.sourceforge.pmd.processor.PmdRunnable.call(PmdRunnable.java:85)\\tat net.sourceforge.pmd.processor.PmdRunnable.call(PmdRunnable.java:29)\\tat java.util.concurrent.FutureTask.run(FutureTask.java:266)\\tat java.util.concurrent.Executors$RunnableAdapter.call(Executors.java:511)\\tat java.util.concurrent.FutureTask.run(FutureTask.java:266)\\tat java.util.concurrent.ThreadPoolExecutor.runWorker(ThreadPoolExecutor.java:1149)\\tat java.util.concurrent.ThreadPoolExecutor$Worker.run(ThreadPoolExecutor.java:624)\\tat java.lang.Thread.run(Thread.java:748)Caused by: net.sourceforge.pmd.lang.java.ast.ParseException: Encountered \" \"if\" \"if \"\" at line 7, column 5.Was expecting:    \"}\" ...    \\tat net.sourceforge.pmd.lang.java.ast.JavaParser.generateParseException(JavaParser.java:13532)\\tat net.sourceforge.pmd.lang.java.ast.JavaParser.jj_consume_token(JavaParser.java:13416)\\tat net.sourceforge.pmd.lang.java.ast.JavaParser.ClassOrInterfaceBody(JavaParser.java:1766)\\tat net.sourceforge.pmd.lang.java.ast.JavaParser.ClassOrInterfaceDeclaration(JavaParser.java:905)\\tat net.sourceforge.pmd.lang.java.ast.JavaParser.TypeDeclaration(JavaParser.java:807)\\tat net.sourceforge.pmd.lang.java.ast.JavaParser.CompilationUnit(JavaParser.java:527)\\tat net.sourceforge.pmd.lang.java.AbstractJavaParser.parse(AbstractJavaParser.java:62)\\tat net.sourceforge.pmd.lang.AbstractParser.doParse(AbstractParser.java:44)\\tat net.sourceforge.pmd.SourceCodeProcessor.parse(SourceCodeProcessor.java:136)\\tat net.sourceforge.pmd.SourceCodeProcessor.processSource(SourceCodeProcessor.java:200)\\tat net.sourceforge.pmd.SourceCodeProcessor.processSourceCodeWithoutCache(SourceCodeProcessor.java:118)\\t... 10 more]]></error>',\n",
       " '<error filename=\"/scale_wlg_nobackup/filesets/nobackup/uoo03396/SfTI_project_nobackup/SfTI_Projects/StackOverflow_project/my_codesnippet_analysis/pmd1/mvn_apps/my-javacodeanalysis-app0/src/main/java/myjavacodeanalysis/Code_10104389_10103834_274_0.java\" msg=\"PMDException: Error while parsing /scale_wlg_nobackup/filesets/nobackup/uoo03396/SfTI_project_nobackup/SfTI_Projects/StackOverflow_project/my_codesnippet_analysis/pmd1/mvn_apps/my-javacodeanalysis-app0/src/main/java/myjavacodeanalysis/Code_10104389_10103834_274_0.java\"><![CDATA[net.sourceforge.pmd.PMDException: Error while parsing /scale_wlg_nobackup/filesets/nobackup/uoo03396/SfTI_project_nobackup/SfTI_Projects/StackOverflow_project/my_codesnippet_analysis/pmd1/mvn_apps/my-javacodeanalysis-app0/src/main/java/myjavacodeanalysis/Code_10104389_10103834_274_0.java\\tat net.sourceforge.pmd.SourceCodeProcessor.processSourceCodeWithoutCache(SourceCodeProcessor.java:124)\\tat net.sourceforge.pmd.SourceCodeProcessor.processSourceCode(SourceCodeProcessor.java:100)\\tat net.sourceforge.pmd.SourceCodeProcessor.processSourceCode(SourceCodeProcessor.java:62)\\tat net.sourceforge.pmd.processor.PmdRunnable.call(PmdRunnable.java:85)\\tat net.sourceforge.pmd.processor.PmdRunnable.call(PmdRunnable.java:29)\\tat java.util.concurrent.FutureTask.run(FutureTask.java:266)\\tat java.util.concurrent.Executors$RunnableAdapter.call(Executors.java:511)\\tat java.util.concurrent.FutureTask.run(FutureTask.java:266)\\tat java.util.concurrent.ThreadPoolExecutor.runWorker(ThreadPoolExecutor.java:1149)\\tat java.util.concurrent.ThreadPoolExecutor$Worker.run(ThreadPoolExecutor.java:624)\\tat java.lang.Thread.run(Thread.java:748)Caused by: net.sourceforge.pmd.lang.java.ast.ParseException: Encountered \" \")\" \") \"\" at line 2, column 16.Was expecting one of:    \"this\" ...    <IDENTIFIER> ...    \"@\" ...    \"|\" ...    \"...\" ...    <IDENTIFIER> ...    <IDENTIFIER> ...    <IDENTIFIER> ...    <IDENTIFIER> ...    <IDENTIFIER> ...    <IDENTIFIER> ...    <IDENTIFIER> ...    <IDENTIFIER> ...    <IDENTIFIER> ...    <IDENTIFIER> ...    \"@\" ...    \"@\" ...    \"@\" ...    \\tat net.sourceforge.pmd.lang.java.ast.JavaParser.generateParseException(JavaParser.java:13532)\\tat net.sourceforge.pmd.lang.java.ast.JavaParser.jj_consume_token(JavaParser.java:13416)\\tat net.sourceforge.pmd.lang.java.ast.JavaParser.VariableDeclaratorId(JavaParser.java:1974)\\tat net.sourceforge.pmd.lang.java.ast.JavaParser.FormalParameter(JavaParser.java:2328)\\tat net.sourceforge.pmd.lang.java.ast.JavaParser.FormalParameters(JavaParser.java:2229)\\tat net.sourceforge.pmd.lang.java.ast.JavaParser.ConstructorDeclaration(JavaParser.java:2369)\\tat net.sourceforge.pmd.lang.java.ast.JavaParser.ClassOrInterfaceBodyDeclaration(JavaParser.java:1807)\\tat net.sourceforge.pmd.lang.java.ast.JavaParser.ClassOrInterfaceBody(JavaParser.java:1764)\\tat net.sourceforge.pmd.lang.java.ast.JavaParser.ClassOrInterfaceDeclaration(JavaParser.java:905)\\tat net.sourceforge.pmd.lang.java.ast.JavaParser.TypeDeclaration(JavaParser.java:807)\\tat net.sourceforge.pmd.lang.java.ast.JavaParser.CompilationUnit(JavaParser.java:527)\\tat net.sourceforge.pmd.lang.java.AbstractJavaParser.parse(AbstractJavaParser.java:62)\\tat net.sourceforge.pmd.lang.AbstractParser.doParse(AbstractParser.java:44)\\tat net.sourceforge.pmd.SourceCodeProcessor.parse(SourceCodeProcessor.java:136)\\tat net.sourceforge.pmd.SourceCodeProcessor.processSource(SourceCodeProcessor.java:200)\\tat net.sourceforge.pmd.SourceCodeProcessor.processSourceCodeWithoutCache(SourceCodeProcessor.java:118)\\t... 10 more]]></error>',\n",
       " '<error filename=\"/scale_wlg_nobackup/filesets/nobackup/uoo03396/SfTI_project_nobackup/SfTI_Projects/StackOverflow_project/my_codesnippet_analysis/pmd1/mvn_apps/my-javacodeanalysis-app0/src/main/java/myjavacodeanalysis/Code_10109082_10109035_54_0.java\" msg=\"PMDException: Error while parsing /scale_wlg_nobackup/filesets/nobackup/uoo03396/SfTI_project_nobackup/SfTI_Projects/StackOverflow_project/my_codesnippet_analysis/pmd1/mvn_apps/my-javacodeanalysis-app0/src/main/java/myjavacodeanalysis/Code_10109082_10109035_54_0.java\"><![CDATA[net.sourceforge.pmd.PMDException: Error while parsing /scale_wlg_nobackup/filesets/nobackup/uoo03396/SfTI_project_nobackup/SfTI_Projects/StackOverflow_project/my_codesnippet_analysis/pmd1/mvn_apps/my-javacodeanalysis-app0/src/main/java/myjavacodeanalysis/Code_10109082_10109035_54_0.java\\tat net.sourceforge.pmd.SourceCodeProcessor.processSourceCodeWithoutCache(SourceCodeProcessor.java:124)\\tat net.sourceforge.pmd.SourceCodeProcessor.processSourceCode(SourceCodeProcessor.java:100)\\tat net.sourceforge.pmd.SourceCodeProcessor.processSourceCode(SourceCodeProcessor.java:62)\\tat net.sourceforge.pmd.processor.PmdRunnable.call(PmdRunnable.java:85)\\tat net.sourceforge.pmd.processor.PmdRunnable.call(PmdRunnable.java:29)\\tat java.util.concurrent.FutureTask.run(FutureTask.java:266)\\tat java.util.concurrent.Executors$RunnableAdapter.call(Executors.java:511)\\tat java.util.concurrent.FutureTask.run(FutureTask.java:266)\\tat java.util.concurrent.ThreadPoolExecutor.runWorker(ThreadPoolExecutor.java:1149)\\tat java.util.concurrent.ThreadPoolExecutor$Worker.run(ThreadPoolExecutor.java:624)\\tat java.lang.Thread.run(Thread.java:748)Caused by: net.sourceforge.pmd.lang.java.ast.ParseException: Encountered \" \"if\" \"if \"\" at line 2, column 1.Was expecting:    \"}\" ...    \\tat net.sourceforge.pmd.lang.java.ast.JavaParser.generateParseException(JavaParser.java:13532)\\tat net.sourceforge.pmd.lang.java.ast.JavaParser.jj_consume_token(JavaParser.java:13416)\\tat net.sourceforge.pmd.lang.java.ast.JavaParser.ClassOrInterfaceBody(JavaParser.java:1766)\\tat net.sourceforge.pmd.lang.java.ast.JavaParser.ClassOrInterfaceDeclaration(JavaParser.java:905)\\tat net.sourceforge.pmd.lang.java.ast.JavaParser.TypeDeclaration(JavaParser.java:807)\\tat net.sourceforge.pmd.lang.java.ast.JavaParser.CompilationUnit(JavaParser.java:527)\\tat net.sourceforge.pmd.lang.java.AbstractJavaParser.parse(AbstractJavaParser.java:62)\\tat net.sourceforge.pmd.lang.AbstractParser.doParse(AbstractParser.java:44)\\tat net.sourceforge.pmd.SourceCodeProcessor.parse(SourceCodeProcessor.java:136)\\tat net.sourceforge.pmd.SourceCodeProcessor.processSource(SourceCodeProcessor.java:200)\\tat net.sourceforge.pmd.SourceCodeProcessor.processSourceCodeWithoutCache(SourceCodeProcessor.java:118)\\t... 10 more]]></error>')"
      ]
     },
     "execution_count": 17,
     "metadata": {},
     "output_type": "execute_result"
    }
   ],
   "source": [
    "bg.take(5)"
   ]
  },
  {
   "cell_type": "markdown",
   "id": "486cd470-a6de-46c3-b737-284ebd8c8ce5",
   "metadata": {},
   "source": [
    "### Use ElementTree to get all the attrbutes and text in xmlor html tags"
   ]
  },
  {
   "cell_type": "code",
   "execution_count": 18,
   "id": "cd972e2f-1f1e-4a4c-b025-f561c52832bf",
   "metadata": {},
   "outputs": [],
   "source": [
    "# This will give us just the attributes in the violation tag: <violation ...>\n",
    "#violations_rows_bd = violations_rows_bd.map(lambda row: et.fromstring(row).attrib)"
   ]
  },
  {
   "cell_type": "code",
   "execution_count": 19,
   "id": "e9d03511-3894-4bb1-867e-cfeb15da0e4f",
   "metadata": {},
   "outputs": [],
   "source": [
    "# This will give us just the text enclosed in the violation tag: <violation ...>\n",
    "#violations_rows_bd = violations_rows_bd.map(lambda row: {'text':et.fromstring(row).text})"
   ]
  },
  {
   "cell_type": "markdown",
   "id": "5b363c58-35bc-47c5-ad04-1bae250226d8",
   "metadata": {},
   "source": [
    "- To get both the the attrbutes and text in the violation tag \n",
    "    - We use add_text_to_dict_attrb() to achieve that"
   ]
  },
  {
   "cell_type": "code",
   "execution_count": 20,
   "id": "3c032ce7-bfa0-4910-a5bd-58fefeddcca5",
   "metadata": {},
   "outputs": [],
   "source": [
    "# Convert text in tag to key/value\n",
    "def update_dict_key_wt_text_as_value(tag, value):\n",
    "    _str = ''\n",
    "    if tag == 'error': \n",
    "        _str = value\n",
    "   \n",
    "    return _str"
   ]
  },
  {
   "cell_type": "code",
   "execution_count": 21,
   "id": "97e69762-03dd-4b84-8cc4-d3b701dabeb8",
   "metadata": {},
   "outputs": [],
   "source": [
    "#https://stackoverflow.com/questions/43921237/access-nested-children-in-xml-file-parsed-with-elementtree\n",
    "def content(root):\n",
    "    _str = ''\n",
    "    for child in root.iter():\n",
    "        # update dict with text as values\n",
    "        _str = update_dict_key_wt_text_as_value(child.tag, child.text)\n",
    "        \n",
    "    return _str"
   ]
  },
  {
   "cell_type": "code",
   "execution_count": 22,
   "id": "758a24a3-2076-4232-80e2-d68a591bf340",
   "metadata": {},
   "outputs": [],
   "source": [
    "## Use ElementTree to get all the attrbutes in xml tags\n",
    "#bg = bg.map(lambda row: et.fromstring(row).attrib)\n",
    "bg = bg.map(lambda row: content(et.fromstring(row)))"
   ]
  },
  {
   "cell_type": "code",
   "execution_count": 23,
   "id": "e33373ea-a613-41d1-9e4e-341c424a9194",
   "metadata": {},
   "outputs": [
    {
     "data": {
      "text/plain": [
       "('net.sourceforge.pmd.PMDException: Error while parsing /scale_wlg_nobackup/filesets/nobackup/uoo03396/SfTI_project_nobackup/SfTI_Projects/StackOverflow_project/my_codesnippet_analysis/pmd1/mvn_apps/my-javacodeanalysis-app0/src/main/java/myjavacodeanalysis/Code_10022570_10022548_382_1.java\\tat net.sourceforge.pmd.SourceCodeProcessor.processSourceCodeWithoutCache(SourceCodeProcessor.java:124)\\tat net.sourceforge.pmd.SourceCodeProcessor.processSourceCode(SourceCodeProcessor.java:100)\\tat net.sourceforge.pmd.SourceCodeProcessor.processSourceCode(SourceCodeProcessor.java:62)\\tat net.sourceforge.pmd.processor.PmdRunnable.call(PmdRunnable.java:85)\\tat net.sourceforge.pmd.processor.PmdRunnable.call(PmdRunnable.java:29)\\tat java.util.concurrent.FutureTask.run(FutureTask.java:266)\\tat java.util.concurrent.Executors$RunnableAdapter.call(Executors.java:511)\\tat java.util.concurrent.FutureTask.run(FutureTask.java:266)\\tat java.util.concurrent.ThreadPoolExecutor.runWorker(ThreadPoolExecutor.java:1149)\\tat java.util.concurrent.ThreadPoolExecutor$Worker.run(ThreadPoolExecutor.java:624)\\tat java.lang.Thread.run(Thread.java:748)Caused by: net.sourceforge.pmd.lang.java.ast.ParseException: Encountered \" \"for\" \"for \"\" at line 2, column 1.Was expecting:    \"}\" ...    \\tat net.sourceforge.pmd.lang.java.ast.JavaParser.generateParseException(JavaParser.java:13532)\\tat net.sourceforge.pmd.lang.java.ast.JavaParser.jj_consume_token(JavaParser.java:13416)\\tat net.sourceforge.pmd.lang.java.ast.JavaParser.ClassOrInterfaceBody(JavaParser.java:1766)\\tat net.sourceforge.pmd.lang.java.ast.JavaParser.ClassOrInterfaceDeclaration(JavaParser.java:905)\\tat net.sourceforge.pmd.lang.java.ast.JavaParser.TypeDeclaration(JavaParser.java:807)\\tat net.sourceforge.pmd.lang.java.ast.JavaParser.CompilationUnit(JavaParser.java:527)\\tat net.sourceforge.pmd.lang.java.AbstractJavaParser.parse(AbstractJavaParser.java:62)\\tat net.sourceforge.pmd.lang.AbstractParser.doParse(AbstractParser.java:44)\\tat net.sourceforge.pmd.SourceCodeProcessor.parse(SourceCodeProcessor.java:136)\\tat net.sourceforge.pmd.SourceCodeProcessor.processSource(SourceCodeProcessor.java:200)\\tat net.sourceforge.pmd.SourceCodeProcessor.processSourceCodeWithoutCache(SourceCodeProcessor.java:118)\\t... 10 more',\n",
       " 'net.sourceforge.pmd.PMDException: Error while parsing /scale_wlg_nobackup/filesets/nobackup/uoo03396/SfTI_project_nobackup/SfTI_Projects/StackOverflow_project/my_codesnippet_analysis/pmd1/mvn_apps/my-javacodeanalysis-app0/src/main/java/myjavacodeanalysis/Code_10051644_10051084_113_0.java\\tat net.sourceforge.pmd.SourceCodeProcessor.processSourceCodeWithoutCache(SourceCodeProcessor.java:124)\\tat net.sourceforge.pmd.SourceCodeProcessor.processSourceCode(SourceCodeProcessor.java:100)\\tat net.sourceforge.pmd.SourceCodeProcessor.processSourceCode(SourceCodeProcessor.java:62)\\tat net.sourceforge.pmd.processor.PmdRunnable.call(PmdRunnable.java:85)\\tat net.sourceforge.pmd.processor.PmdRunnable.call(PmdRunnable.java:29)\\tat java.util.concurrent.FutureTask.run(FutureTask.java:266)\\tat java.util.concurrent.Executors$RunnableAdapter.call(Executors.java:511)\\tat java.util.concurrent.FutureTask.run(FutureTask.java:266)\\tat java.util.concurrent.ThreadPoolExecutor.runWorker(ThreadPoolExecutor.java:1149)\\tat java.util.concurrent.ThreadPoolExecutor$Worker.run(ThreadPoolExecutor.java:624)\\tat java.lang.Thread.run(Thread.java:748)Caused by: net.sourceforge.pmd.lang.java.ast.ParseException: Encountered \"\" at line 2, column 1.Was expecting one of:    \\tat net.sourceforge.pmd.lang.java.ast.JavaParser.generateParseException(JavaParser.java:13532)\\tat net.sourceforge.pmd.lang.java.ast.JavaParser.jj_consume_token(JavaParser.java:13416)\\tat net.sourceforge.pmd.lang.java.ast.JavaParser.ClassOrInterfaceBodyDeclaration(JavaParser.java:1815)\\tat net.sourceforge.pmd.lang.java.ast.JavaParser.ClassOrInterfaceBody(JavaParser.java:1764)\\tat net.sourceforge.pmd.lang.java.ast.JavaParser.ClassOrInterfaceDeclaration(JavaParser.java:905)\\tat net.sourceforge.pmd.lang.java.ast.JavaParser.TypeDeclaration(JavaParser.java:807)\\tat net.sourceforge.pmd.lang.java.ast.JavaParser.CompilationUnit(JavaParser.java:527)\\tat net.sourceforge.pmd.lang.java.AbstractJavaParser.parse(AbstractJavaParser.java:62)\\tat net.sourceforge.pmd.lang.AbstractParser.doParse(AbstractParser.java:44)\\tat net.sourceforge.pmd.SourceCodeProcessor.parse(SourceCodeProcessor.java:136)\\tat net.sourceforge.pmd.SourceCodeProcessor.processSource(SourceCodeProcessor.java:200)\\tat net.sourceforge.pmd.SourceCodeProcessor.processSourceCodeWithoutCache(SourceCodeProcessor.java:118)\\t... 10 more')"
      ]
     },
     "execution_count": 23,
     "metadata": {},
     "output_type": "execute_result"
    }
   ],
   "source": [
    "bg.take(2)"
   ]
  },
  {
   "cell_type": "markdown",
   "id": "1d631801-9d43-4e5f-bea0-1d9626fa71b7",
   "metadata": {},
   "source": [
    "## Start a Dask cluster using SLURM jobs as workers.\n",
    "\n",
    "There are a couple of things we need to configure here:\n",
    "\n",
    "disabling the mechanism to write on disk when workers run out of memory,\n",
    "memory, CPUs, maximum time and number of workers per SLURM job,\n",
    "dask folders for log files and workers data.\n",
    "We recommend putting the log folder and workers data folders in your /nesi/nobackup/<project_code> folder, most indicated for temporary files (see NeSI File Systems and Quotas).\n",
    "\n",
    "All of these options can be set in configuration files, see Dask configuration and Dask jobqueue configuration for more information."
   ]
  },
  {
   "cell_type": "code",
   "execution_count": 24,
   "id": "7beabb20-b517-4de8-8c44-281a600e07ce",
   "metadata": {},
   "outputs": [],
   "source": [
    "#http://jobqueue.dask.org/en/latest/generated/dask_jobqueue.SLURMCluster.html\n",
    "dask.config.set(\n",
    "    {\n",
    "        \"distributed.worker.memory.target\": False,  # avoid spilling to disk\n",
    "        \"distributed.worker.memory.spill\": False,  # avoid spilling to disk\n",
    "    }\n",
    ")\n",
    "cluster = SLURMCluster(\n",
    "    cores=10, #cores=24, # we set each job to have 1 Worker, each using 10 cores (threads) and 8 GB of memory\n",
    "    processes=2,\n",
    "    memory=\"8GiB\",\n",
    "    walltime=\"0-30:30\",# walltime=\"0-00:30\",\n",
    "    log_directory=\"../dask/logs\",  # folder for SLURM logs for each worker\n",
    "    local_directory=\"../dask\",  # folder for workers data\n",
    ")"
   ]
  },
  {
   "cell_type": "code",
   "execution_count": 25,
   "id": "9ef2770d-6ffe-478b-8b5d-e23d44fd3140",
   "metadata": {},
   "outputs": [
    {
     "data": {
      "text/html": [
       "<table style=\"border: 2px solid white;\">\n",
       "<tr>\n",
       "<td style=\"vertical-align: top; border: 0px solid white\">\n",
       "<h3 style=\"text-align: left;\">Client</h3>\n",
       "<ul style=\"text-align: left; list-style: none; margin: 0; padding: 0;\">\n",
       "  <li><b>Scheduler: </b>tcp://192.168.94.156:46074</li>\n",
       "  <li><b>Dashboard: </b><a href='http://192.168.94.156:8787/status' target='_blank'>http://192.168.94.156:8787/status</a></li>\n",
       "</ul>\n",
       "</td>\n",
       "<td style=\"vertical-align: top; border: 0px solid white\">\n",
       "<h3 style=\"text-align: left;\">Cluster</h3>\n",
       "<ul style=\"text-align: left; list-style:none; margin: 0; padding: 0;\">\n",
       "  <li><b>Workers: </b>0</li>\n",
       "  <li><b>Cores: </b>0</li>\n",
       "  <li><b>Memory: </b>0 B</li>\n",
       "</ul>\n",
       "</td>\n",
       "</tr>\n",
       "</table>"
      ],
      "text/plain": [
       "<Client: 'tcp://192.168.94.156:46074' processes=0 threads=0, memory=0 B>"
      ]
     },
     "execution_count": 25,
     "metadata": {},
     "output_type": "execute_result"
    }
   ],
   "source": [
    "#cluster.adapt(minimum_jobs=20, maximum_jobs=200)\n",
    "cluster.adapt(minimum_jobs=10, maximum_jobs=200)\n",
    "client = Client(cluster)\n",
    "client"
   ]
  },
  {
   "cell_type": "markdown",
   "id": "34bf11d1-39fa-4c8d-93c6-936d2f1f05fb",
   "metadata": {},
   "source": [
    "## Flatten"
   ]
  },
  {
   "cell_type": "code",
   "execution_count": 26,
   "id": "5309720d-25ad-4d44-b0c1-3012353a96bb",
   "metadata": {},
   "outputs": [],
   "source": [
    "# you do not need to flatten\n",
    "# bg = bg.flatten()"
   ]
  },
  {
   "cell_type": "markdown",
   "id": "e3512ae0-74e1-4b2c-8dc6-c79dd9068014",
   "metadata": {},
   "source": [
    "## Convert Bags to Dataframes"
   ]
  },
  {
   "cell_type": "code",
   "execution_count": 27,
   "id": "631c9d6e-82d6-4e82-acb2-2fcd734b2623",
   "metadata": {},
   "outputs": [],
   "source": [
    "#convert from bags to dataframe\n",
    "#ddf = bg.to_dataframe(meta={'name':'str', 'line':'int', 'severity':'str', 'message':'str', 'source':'str'})\n",
    "ddf = bg.to_dataframe()"
   ]
  },
  {
   "cell_type": "code",
   "execution_count": 28,
   "id": "156efd59-8474-489f-8205-3dc6787dee5a",
   "metadata": {},
   "outputs": [
    {
     "data": {
      "text/html": [
       "<div><strong>Dask DataFrame Structure:</strong></div>\n",
       "<div>\n",
       "<style scoped>\n",
       "    .dataframe tbody tr th:only-of-type {\n",
       "        vertical-align: middle;\n",
       "    }\n",
       "\n",
       "    .dataframe tbody tr th {\n",
       "        vertical-align: top;\n",
       "    }\n",
       "\n",
       "    .dataframe thead th {\n",
       "        text-align: right;\n",
       "    }\n",
       "</style>\n",
       "<table border=\"1\" class=\"dataframe\">\n",
       "  <thead>\n",
       "    <tr style=\"text-align: right;\">\n",
       "      <th></th>\n",
       "      <th>0</th>\n",
       "    </tr>\n",
       "    <tr>\n",
       "      <th>npartitions=577</th>\n",
       "      <th></th>\n",
       "    </tr>\n",
       "  </thead>\n",
       "  <tbody>\n",
       "    <tr>\n",
       "      <th></th>\n",
       "      <td>object</td>\n",
       "    </tr>\n",
       "    <tr>\n",
       "      <th></th>\n",
       "      <td>...</td>\n",
       "    </tr>\n",
       "    <tr>\n",
       "      <th>...</th>\n",
       "      <td>...</td>\n",
       "    </tr>\n",
       "    <tr>\n",
       "      <th></th>\n",
       "      <td>...</td>\n",
       "    </tr>\n",
       "    <tr>\n",
       "      <th></th>\n",
       "      <td>...</td>\n",
       "    </tr>\n",
       "  </tbody>\n",
       "</table>\n",
       "</div>\n",
       "<div>Dask Name: to_dataframe, 1731 tasks</div>"
      ],
      "text/plain": [
       "Dask DataFrame Structure:\n",
       "                      0\n",
       "npartitions=577        \n",
       "                 object\n",
       "                    ...\n",
       "...                 ...\n",
       "                    ...\n",
       "                    ...\n",
       "Dask Name: to_dataframe, 1731 tasks"
      ]
     },
     "execution_count": 28,
     "metadata": {},
     "output_type": "execute_result"
    }
   ],
   "source": [
    "ddf"
   ]
  },
  {
   "cell_type": "code",
   "execution_count": 29,
   "id": "2e0841b0-6377-4983-9da7-9e0a0cb1abb3",
   "metadata": {},
   "outputs": [
    {
     "data": {
      "text/plain": [
       "RangeIndex(start=0, stop=1, step=1)"
      ]
     },
     "execution_count": 29,
     "metadata": {},
     "output_type": "execute_result"
    }
   ],
   "source": [
    "ddf.columns"
   ]
  },
  {
   "cell_type": "code",
   "execution_count": 30,
   "id": "d18e401b-93cd-4267-b331-9e411ae5251f",
   "metadata": {},
   "outputs": [
    {
     "data": {
      "text/html": [
       "<div>\n",
       "<style scoped>\n",
       "    .dataframe tbody tr th:only-of-type {\n",
       "        vertical-align: middle;\n",
       "    }\n",
       "\n",
       "    .dataframe tbody tr th {\n",
       "        vertical-align: top;\n",
       "    }\n",
       "\n",
       "    .dataframe thead th {\n",
       "        text-align: right;\n",
       "    }\n",
       "</style>\n",
       "<table border=\"1\" class=\"dataframe\">\n",
       "  <thead>\n",
       "    <tr style=\"text-align: right;\">\n",
       "      <th></th>\n",
       "      <th>0</th>\n",
       "    </tr>\n",
       "  </thead>\n",
       "  <tbody>\n",
       "    <tr>\n",
       "      <th>0</th>\n",
       "      <td>net.sourceforge.pmd.PMDException: Error while ...</td>\n",
       "    </tr>\n",
       "    <tr>\n",
       "      <th>1</th>\n",
       "      <td>net.sourceforge.pmd.PMDException: Error while ...</td>\n",
       "    </tr>\n",
       "    <tr>\n",
       "      <th>2</th>\n",
       "      <td>net.sourceforge.pmd.PMDException: Error while ...</td>\n",
       "    </tr>\n",
       "    <tr>\n",
       "      <th>3</th>\n",
       "      <td>net.sourceforge.pmd.PMDException: Error while ...</td>\n",
       "    </tr>\n",
       "    <tr>\n",
       "      <th>4</th>\n",
       "      <td>net.sourceforge.pmd.PMDException: Error while ...</td>\n",
       "    </tr>\n",
       "  </tbody>\n",
       "</table>\n",
       "</div>"
      ],
      "text/plain": [
       "                                                   0\n",
       "0  net.sourceforge.pmd.PMDException: Error while ...\n",
       "1  net.sourceforge.pmd.PMDException: Error while ...\n",
       "2  net.sourceforge.pmd.PMDException: Error while ...\n",
       "3  net.sourceforge.pmd.PMDException: Error while ...\n",
       "4  net.sourceforge.pmd.PMDException: Error while ..."
      ]
     },
     "execution_count": 30,
     "metadata": {},
     "output_type": "execute_result"
    }
   ],
   "source": [
    "ddf.head()"
   ]
  },
  {
   "cell_type": "code",
   "execution_count": 31,
   "id": "b34ce5a3-4310-40a7-a494-f52a936e85ed",
   "metadata": {},
   "outputs": [
    {
     "data": {
      "text/html": [
       "<div>\n",
       "<style scoped>\n",
       "    .dataframe tbody tr th:only-of-type {\n",
       "        vertical-align: middle;\n",
       "    }\n",
       "\n",
       "    .dataframe tbody tr th {\n",
       "        vertical-align: top;\n",
       "    }\n",
       "\n",
       "    .dataframe thead th {\n",
       "        text-align: right;\n",
       "    }\n",
       "</style>\n",
       "<table border=\"1\" class=\"dataframe\">\n",
       "  <thead>\n",
       "    <tr style=\"text-align: right;\">\n",
       "      <th></th>\n",
       "      <th>0</th>\n",
       "    </tr>\n",
       "  </thead>\n",
       "  <tbody>\n",
       "    <tr>\n",
       "      <th>2480</th>\n",
       "      <td>net.sourceforge.pmd.PMDException: Error while ...</td>\n",
       "    </tr>\n",
       "    <tr>\n",
       "      <th>2481</th>\n",
       "      <td>net.sourceforge.pmd.PMDException: Error while ...</td>\n",
       "    </tr>\n",
       "    <tr>\n",
       "      <th>2482</th>\n",
       "      <td>net.sourceforge.pmd.PMDException: Error while ...</td>\n",
       "    </tr>\n",
       "    <tr>\n",
       "      <th>2483</th>\n",
       "      <td>net.sourceforge.pmd.PMDException: Error while ...</td>\n",
       "    </tr>\n",
       "    <tr>\n",
       "      <th>2484</th>\n",
       "      <td>net.sourceforge.pmd.PMDException: Error while ...</td>\n",
       "    </tr>\n",
       "  </tbody>\n",
       "</table>\n",
       "</div>"
      ],
      "text/plain": [
       "                                                      0\n",
       "2480  net.sourceforge.pmd.PMDException: Error while ...\n",
       "2481  net.sourceforge.pmd.PMDException: Error while ...\n",
       "2482  net.sourceforge.pmd.PMDException: Error while ...\n",
       "2483  net.sourceforge.pmd.PMDException: Error while ...\n",
       "2484  net.sourceforge.pmd.PMDException: Error while ..."
      ]
     },
     "execution_count": 31,
     "metadata": {},
     "output_type": "execute_result"
    }
   ],
   "source": [
    "ddf.tail()"
   ]
  },
  {
   "cell_type": "code",
   "execution_count": 32,
   "id": "e80e1790-3215-4cf1-b049-59bdc363da35",
   "metadata": {},
   "outputs": [
    {
     "data": {
      "text/plain": [
       "1005519"
      ]
     },
     "execution_count": 32,
     "metadata": {},
     "output_type": "execute_result"
    }
   ],
   "source": [
    "# 1005519 errors\n",
    "ddf.shape[0].compute()"
   ]
  },
  {
   "cell_type": "code",
   "execution_count": 34,
   "id": "3a5e5770-6be8-4eee-a464-afd9dc7ff657",
   "metadata": {},
   "outputs": [
    {
     "ename": "KilledWorker",
     "evalue": "(\"('bag-from-delayed-decode-filter-lambda-read-block-lambda-lambda-to_dataframe-0e69b25cf1593fd5e7905756c7ad2198', 455)\", <Worker 'tcp://10.65.4.42:37276', name: 347-1, memory: 0, processing: 10>)",
     "output_type": "error",
     "traceback": [
      "\u001b[0;31m---------------------------------------------------------------------------\u001b[0m",
      "\u001b[0;31mKilledWorker\u001b[0m                              Traceback (most recent call last)",
      "\u001b[0;32m<ipython-input-34-93782ecde195>\u001b[0m in \u001b[0;36m<module>\u001b[0;34m\u001b[0m\n\u001b[1;32m      1\u001b[0m \u001b[0;31m# Save to a CSV file\u001b[0m\u001b[0;34m\u001b[0m\u001b[0;34m\u001b[0m\u001b[0;34m\u001b[0m\u001b[0m\n\u001b[0;32m----> 2\u001b[0;31m \u001b[0m_\u001b[0m \u001b[0;34m=\u001b[0m \u001b[0mddf\u001b[0m\u001b[0;34m.\u001b[0m\u001b[0mto_csv\u001b[0m\u001b[0;34m(\u001b[0m\u001b[0;34m'pmdcodesnippeterrors_csv1/pmdCodeSnippetErrors*.csv'\u001b[0m\u001b[0;34m,\u001b[0m \u001b[0msep\u001b[0m\u001b[0;34m=\u001b[0m\u001b[0;34m','\u001b[0m\u001b[0;34m,\u001b[0m \u001b[0mindex\u001b[0m\u001b[0;34m=\u001b[0m\u001b[0;32mFalse\u001b[0m\u001b[0;34m)\u001b[0m\u001b[0;34m\u001b[0m\u001b[0;34m\u001b[0m\u001b[0m\n\u001b[0m",
      "\u001b[0;32m/opt/nesi/CS400_centos7_bdw/Python/3.9.5-gimkl-2020a/lib/python3.9/site-packages/dask/dataframe/core.py\u001b[0m in \u001b[0;36mto_csv\u001b[0;34m(self, filename, **kwargs)\u001b[0m\n\u001b[1;32m   1465\u001b[0m         \u001b[0;32mfrom\u001b[0m \u001b[0;34m.\u001b[0m\u001b[0mio\u001b[0m \u001b[0;32mimport\u001b[0m \u001b[0mto_csv\u001b[0m\u001b[0;34m\u001b[0m\u001b[0;34m\u001b[0m\u001b[0m\n\u001b[1;32m   1466\u001b[0m \u001b[0;34m\u001b[0m\u001b[0m\n\u001b[0;32m-> 1467\u001b[0;31m         \u001b[0;32mreturn\u001b[0m \u001b[0mto_csv\u001b[0m\u001b[0;34m(\u001b[0m\u001b[0mself\u001b[0m\u001b[0;34m,\u001b[0m \u001b[0mfilename\u001b[0m\u001b[0;34m,\u001b[0m \u001b[0;34m**\u001b[0m\u001b[0mkwargs\u001b[0m\u001b[0;34m)\u001b[0m\u001b[0;34m\u001b[0m\u001b[0;34m\u001b[0m\u001b[0m\n\u001b[0m\u001b[1;32m   1468\u001b[0m \u001b[0;34m\u001b[0m\u001b[0m\n\u001b[1;32m   1469\u001b[0m     def to_sql(\n",
      "\u001b[0;32m/opt/nesi/CS400_centos7_bdw/Python/3.9.5-gimkl-2020a/lib/python3.9/site-packages/dask/dataframe/io/csv.py\u001b[0m in \u001b[0;36mto_csv\u001b[0;34m(df, filename, single_file, encoding, mode, name_function, compression, compute, scheduler, storage_options, header_first_partition_only, compute_kwargs, **kwargs)\u001b[0m\n\u001b[1;32m    862\u001b[0m             \u001b[0mcompute_kwargs\u001b[0m\u001b[0;34m[\u001b[0m\u001b[0;34m\"scheduler\"\u001b[0m\u001b[0;34m]\u001b[0m \u001b[0;34m=\u001b[0m \u001b[0mscheduler\u001b[0m\u001b[0;34m\u001b[0m\u001b[0;34m\u001b[0m\u001b[0m\n\u001b[1;32m    863\u001b[0m \u001b[0;34m\u001b[0m\u001b[0m\n\u001b[0;32m--> 864\u001b[0;31m         \u001b[0mdelayed\u001b[0m\u001b[0;34m(\u001b[0m\u001b[0mvalues\u001b[0m\u001b[0;34m)\u001b[0m\u001b[0;34m.\u001b[0m\u001b[0mcompute\u001b[0m\u001b[0;34m(\u001b[0m\u001b[0;34m**\u001b[0m\u001b[0mcompute_kwargs\u001b[0m\u001b[0;34m)\u001b[0m\u001b[0;34m\u001b[0m\u001b[0;34m\u001b[0m\u001b[0m\n\u001b[0m\u001b[1;32m    865\u001b[0m         \u001b[0;32mreturn\u001b[0m \u001b[0;34m[\u001b[0m\u001b[0mf\u001b[0m\u001b[0;34m.\u001b[0m\u001b[0mpath\u001b[0m \u001b[0;32mfor\u001b[0m \u001b[0mf\u001b[0m \u001b[0;32min\u001b[0m \u001b[0mfiles\u001b[0m\u001b[0;34m]\u001b[0m\u001b[0;34m\u001b[0m\u001b[0;34m\u001b[0m\u001b[0m\n\u001b[1;32m    866\u001b[0m     \u001b[0;32melse\u001b[0m\u001b[0;34m:\u001b[0m\u001b[0;34m\u001b[0m\u001b[0;34m\u001b[0m\u001b[0m\n",
      "\u001b[0;32m/opt/nesi/CS400_centos7_bdw/Python/3.9.5-gimkl-2020a/lib/python3.9/site-packages/dask/base.py\u001b[0m in \u001b[0;36mcompute\u001b[0;34m(self, **kwargs)\u001b[0m\n\u001b[1;32m    283\u001b[0m         \u001b[0mdask\u001b[0m\u001b[0;34m.\u001b[0m\u001b[0mbase\u001b[0m\u001b[0;34m.\u001b[0m\u001b[0mcompute\u001b[0m\u001b[0;34m\u001b[0m\u001b[0;34m\u001b[0m\u001b[0m\n\u001b[1;32m    284\u001b[0m         \"\"\"\n\u001b[0;32m--> 285\u001b[0;31m         \u001b[0;34m(\u001b[0m\u001b[0mresult\u001b[0m\u001b[0;34m,\u001b[0m\u001b[0;34m)\u001b[0m \u001b[0;34m=\u001b[0m \u001b[0mcompute\u001b[0m\u001b[0;34m(\u001b[0m\u001b[0mself\u001b[0m\u001b[0;34m,\u001b[0m \u001b[0mtraverse\u001b[0m\u001b[0;34m=\u001b[0m\u001b[0;32mFalse\u001b[0m\u001b[0;34m,\u001b[0m \u001b[0;34m**\u001b[0m\u001b[0mkwargs\u001b[0m\u001b[0;34m)\u001b[0m\u001b[0;34m\u001b[0m\u001b[0;34m\u001b[0m\u001b[0m\n\u001b[0m\u001b[1;32m    286\u001b[0m         \u001b[0;32mreturn\u001b[0m \u001b[0mresult\u001b[0m\u001b[0;34m\u001b[0m\u001b[0;34m\u001b[0m\u001b[0m\n\u001b[1;32m    287\u001b[0m \u001b[0;34m\u001b[0m\u001b[0m\n",
      "\u001b[0;32m/opt/nesi/CS400_centos7_bdw/Python/3.9.5-gimkl-2020a/lib/python3.9/site-packages/dask/base.py\u001b[0m in \u001b[0;36mcompute\u001b[0;34m(*args, **kwargs)\u001b[0m\n\u001b[1;32m    565\u001b[0m         \u001b[0mpostcomputes\u001b[0m\u001b[0;34m.\u001b[0m\u001b[0mappend\u001b[0m\u001b[0;34m(\u001b[0m\u001b[0mx\u001b[0m\u001b[0;34m.\u001b[0m\u001b[0m__dask_postcompute__\u001b[0m\u001b[0;34m(\u001b[0m\u001b[0;34m)\u001b[0m\u001b[0;34m)\u001b[0m\u001b[0;34m\u001b[0m\u001b[0;34m\u001b[0m\u001b[0m\n\u001b[1;32m    566\u001b[0m \u001b[0;34m\u001b[0m\u001b[0m\n\u001b[0;32m--> 567\u001b[0;31m     \u001b[0mresults\u001b[0m \u001b[0;34m=\u001b[0m \u001b[0mschedule\u001b[0m\u001b[0;34m(\u001b[0m\u001b[0mdsk\u001b[0m\u001b[0;34m,\u001b[0m \u001b[0mkeys\u001b[0m\u001b[0;34m,\u001b[0m \u001b[0;34m**\u001b[0m\u001b[0mkwargs\u001b[0m\u001b[0;34m)\u001b[0m\u001b[0;34m\u001b[0m\u001b[0;34m\u001b[0m\u001b[0m\n\u001b[0m\u001b[1;32m    568\u001b[0m     \u001b[0;32mreturn\u001b[0m \u001b[0mrepack\u001b[0m\u001b[0;34m(\u001b[0m\u001b[0;34m[\u001b[0m\u001b[0mf\u001b[0m\u001b[0;34m(\u001b[0m\u001b[0mr\u001b[0m\u001b[0;34m,\u001b[0m \u001b[0;34m*\u001b[0m\u001b[0ma\u001b[0m\u001b[0;34m)\u001b[0m \u001b[0;32mfor\u001b[0m \u001b[0mr\u001b[0m\u001b[0;34m,\u001b[0m \u001b[0;34m(\u001b[0m\u001b[0mf\u001b[0m\u001b[0;34m,\u001b[0m \u001b[0ma\u001b[0m\u001b[0;34m)\u001b[0m \u001b[0;32min\u001b[0m \u001b[0mzip\u001b[0m\u001b[0;34m(\u001b[0m\u001b[0mresults\u001b[0m\u001b[0;34m,\u001b[0m \u001b[0mpostcomputes\u001b[0m\u001b[0;34m)\u001b[0m\u001b[0;34m]\u001b[0m\u001b[0;34m)\u001b[0m\u001b[0;34m\u001b[0m\u001b[0;34m\u001b[0m\u001b[0m\n\u001b[1;32m    569\u001b[0m \u001b[0;34m\u001b[0m\u001b[0m\n",
      "\u001b[0;32m/opt/nesi/CS400_centos7_bdw/Python/3.9.5-gimkl-2020a/lib/python3.9/site-packages/distributed/client.py\u001b[0m in \u001b[0;36mget\u001b[0;34m(self, dsk, keys, workers, allow_other_workers, resources, sync, asynchronous, direct, retries, priority, fifo_timeout, actors, **kwargs)\u001b[0m\n\u001b[1;32m   2664\u001b[0m                     \u001b[0mshould_rejoin\u001b[0m \u001b[0;34m=\u001b[0m \u001b[0;32mFalse\u001b[0m\u001b[0;34m\u001b[0m\u001b[0;34m\u001b[0m\u001b[0m\n\u001b[1;32m   2665\u001b[0m             \u001b[0;32mtry\u001b[0m\u001b[0;34m:\u001b[0m\u001b[0;34m\u001b[0m\u001b[0;34m\u001b[0m\u001b[0m\n\u001b[0;32m-> 2666\u001b[0;31m                 \u001b[0mresults\u001b[0m \u001b[0;34m=\u001b[0m \u001b[0mself\u001b[0m\u001b[0;34m.\u001b[0m\u001b[0mgather\u001b[0m\u001b[0;34m(\u001b[0m\u001b[0mpacked\u001b[0m\u001b[0;34m,\u001b[0m \u001b[0masynchronous\u001b[0m\u001b[0;34m=\u001b[0m\u001b[0masynchronous\u001b[0m\u001b[0;34m,\u001b[0m \u001b[0mdirect\u001b[0m\u001b[0;34m=\u001b[0m\u001b[0mdirect\u001b[0m\u001b[0;34m)\u001b[0m\u001b[0;34m\u001b[0m\u001b[0;34m\u001b[0m\u001b[0m\n\u001b[0m\u001b[1;32m   2667\u001b[0m             \u001b[0;32mfinally\u001b[0m\u001b[0;34m:\u001b[0m\u001b[0;34m\u001b[0m\u001b[0;34m\u001b[0m\u001b[0m\n\u001b[1;32m   2668\u001b[0m                 \u001b[0;32mfor\u001b[0m \u001b[0mf\u001b[0m \u001b[0;32min\u001b[0m \u001b[0mfutures\u001b[0m\u001b[0;34m.\u001b[0m\u001b[0mvalues\u001b[0m\u001b[0;34m(\u001b[0m\u001b[0;34m)\u001b[0m\u001b[0;34m:\u001b[0m\u001b[0;34m\u001b[0m\u001b[0;34m\u001b[0m\u001b[0m\n",
      "\u001b[0;32m/opt/nesi/CS400_centos7_bdw/Python/3.9.5-gimkl-2020a/lib/python3.9/site-packages/distributed/client.py\u001b[0m in \u001b[0;36mgather\u001b[0;34m(self, futures, errors, direct, asynchronous)\u001b[0m\n\u001b[1;32m   1973\u001b[0m             \u001b[0;32melse\u001b[0m\u001b[0;34m:\u001b[0m\u001b[0;34m\u001b[0m\u001b[0;34m\u001b[0m\u001b[0m\n\u001b[1;32m   1974\u001b[0m                 \u001b[0mlocal_worker\u001b[0m \u001b[0;34m=\u001b[0m \u001b[0;32mNone\u001b[0m\u001b[0;34m\u001b[0m\u001b[0;34m\u001b[0m\u001b[0m\n\u001b[0;32m-> 1975\u001b[0;31m             return self.sync(\n\u001b[0m\u001b[1;32m   1976\u001b[0m                 \u001b[0mself\u001b[0m\u001b[0;34m.\u001b[0m\u001b[0m_gather\u001b[0m\u001b[0;34m,\u001b[0m\u001b[0;34m\u001b[0m\u001b[0;34m\u001b[0m\u001b[0m\n\u001b[1;32m   1977\u001b[0m                 \u001b[0mfutures\u001b[0m\u001b[0;34m,\u001b[0m\u001b[0;34m\u001b[0m\u001b[0;34m\u001b[0m\u001b[0m\n",
      "\u001b[0;32m/opt/nesi/CS400_centos7_bdw/Python/3.9.5-gimkl-2020a/lib/python3.9/site-packages/distributed/client.py\u001b[0m in \u001b[0;36msync\u001b[0;34m(self, func, asynchronous, callback_timeout, *args, **kwargs)\u001b[0m\n\u001b[1;32m    841\u001b[0m             \u001b[0;32mreturn\u001b[0m \u001b[0mfuture\u001b[0m\u001b[0;34m\u001b[0m\u001b[0;34m\u001b[0m\u001b[0m\n\u001b[1;32m    842\u001b[0m         \u001b[0;32melse\u001b[0m\u001b[0;34m:\u001b[0m\u001b[0;34m\u001b[0m\u001b[0;34m\u001b[0m\u001b[0m\n\u001b[0;32m--> 843\u001b[0;31m             return sync(\n\u001b[0m\u001b[1;32m    844\u001b[0m                 \u001b[0mself\u001b[0m\u001b[0;34m.\u001b[0m\u001b[0mloop\u001b[0m\u001b[0;34m,\u001b[0m \u001b[0mfunc\u001b[0m\u001b[0;34m,\u001b[0m \u001b[0;34m*\u001b[0m\u001b[0margs\u001b[0m\u001b[0;34m,\u001b[0m \u001b[0mcallback_timeout\u001b[0m\u001b[0;34m=\u001b[0m\u001b[0mcallback_timeout\u001b[0m\u001b[0;34m,\u001b[0m \u001b[0;34m**\u001b[0m\u001b[0mkwargs\u001b[0m\u001b[0;34m\u001b[0m\u001b[0;34m\u001b[0m\u001b[0m\n\u001b[1;32m    845\u001b[0m             )\n",
      "\u001b[0;32m/opt/nesi/CS400_centos7_bdw/Python/3.9.5-gimkl-2020a/lib/python3.9/site-packages/distributed/utils.py\u001b[0m in \u001b[0;36msync\u001b[0;34m(loop, func, callback_timeout, *args, **kwargs)\u001b[0m\n\u001b[1;32m    351\u001b[0m     \u001b[0;32mif\u001b[0m \u001b[0merror\u001b[0m\u001b[0;34m[\u001b[0m\u001b[0;36m0\u001b[0m\u001b[0;34m]\u001b[0m\u001b[0;34m:\u001b[0m\u001b[0;34m\u001b[0m\u001b[0;34m\u001b[0m\u001b[0m\n\u001b[1;32m    352\u001b[0m         \u001b[0mtyp\u001b[0m\u001b[0;34m,\u001b[0m \u001b[0mexc\u001b[0m\u001b[0;34m,\u001b[0m \u001b[0mtb\u001b[0m \u001b[0;34m=\u001b[0m \u001b[0merror\u001b[0m\u001b[0;34m[\u001b[0m\u001b[0;36m0\u001b[0m\u001b[0;34m]\u001b[0m\u001b[0;34m\u001b[0m\u001b[0;34m\u001b[0m\u001b[0m\n\u001b[0;32m--> 353\u001b[0;31m         \u001b[0;32mraise\u001b[0m \u001b[0mexc\u001b[0m\u001b[0;34m.\u001b[0m\u001b[0mwith_traceback\u001b[0m\u001b[0;34m(\u001b[0m\u001b[0mtb\u001b[0m\u001b[0;34m)\u001b[0m\u001b[0;34m\u001b[0m\u001b[0;34m\u001b[0m\u001b[0m\n\u001b[0m\u001b[1;32m    354\u001b[0m     \u001b[0;32melse\u001b[0m\u001b[0;34m:\u001b[0m\u001b[0;34m\u001b[0m\u001b[0;34m\u001b[0m\u001b[0m\n\u001b[1;32m    355\u001b[0m         \u001b[0;32mreturn\u001b[0m \u001b[0mresult\u001b[0m\u001b[0;34m[\u001b[0m\u001b[0;36m0\u001b[0m\u001b[0;34m]\u001b[0m\u001b[0;34m\u001b[0m\u001b[0;34m\u001b[0m\u001b[0m\n",
      "\u001b[0;32m/opt/nesi/CS400_centos7_bdw/Python/3.9.5-gimkl-2020a/lib/python3.9/site-packages/distributed/utils.py\u001b[0m in \u001b[0;36mf\u001b[0;34m()\u001b[0m\n\u001b[1;32m    334\u001b[0m             \u001b[0;32mif\u001b[0m \u001b[0mcallback_timeout\u001b[0m \u001b[0;32mis\u001b[0m \u001b[0;32mnot\u001b[0m \u001b[0;32mNone\u001b[0m\u001b[0;34m:\u001b[0m\u001b[0;34m\u001b[0m\u001b[0;34m\u001b[0m\u001b[0m\n\u001b[1;32m    335\u001b[0m                 \u001b[0mfuture\u001b[0m \u001b[0;34m=\u001b[0m \u001b[0masyncio\u001b[0m\u001b[0;34m.\u001b[0m\u001b[0mwait_for\u001b[0m\u001b[0;34m(\u001b[0m\u001b[0mfuture\u001b[0m\u001b[0;34m,\u001b[0m \u001b[0mcallback_timeout\u001b[0m\u001b[0;34m)\u001b[0m\u001b[0;34m\u001b[0m\u001b[0;34m\u001b[0m\u001b[0m\n\u001b[0;32m--> 336\u001b[0;31m             \u001b[0mresult\u001b[0m\u001b[0;34m[\u001b[0m\u001b[0;36m0\u001b[0m\u001b[0;34m]\u001b[0m \u001b[0;34m=\u001b[0m \u001b[0;32myield\u001b[0m \u001b[0mfuture\u001b[0m\u001b[0;34m\u001b[0m\u001b[0;34m\u001b[0m\u001b[0m\n\u001b[0m\u001b[1;32m    337\u001b[0m         \u001b[0;32mexcept\u001b[0m \u001b[0mException\u001b[0m \u001b[0;32mas\u001b[0m \u001b[0mexc\u001b[0m\u001b[0;34m:\u001b[0m\u001b[0;34m\u001b[0m\u001b[0;34m\u001b[0m\u001b[0m\n\u001b[1;32m    338\u001b[0m             \u001b[0merror\u001b[0m\u001b[0;34m[\u001b[0m\u001b[0;36m0\u001b[0m\u001b[0;34m]\u001b[0m \u001b[0;34m=\u001b[0m \u001b[0msys\u001b[0m\u001b[0;34m.\u001b[0m\u001b[0mexc_info\u001b[0m\u001b[0;34m(\u001b[0m\u001b[0;34m)\u001b[0m\u001b[0;34m\u001b[0m\u001b[0;34m\u001b[0m\u001b[0m\n",
      "\u001b[0;32m/opt/nesi/CS400_centos7_bdw/Python/3.9.5-gimkl-2020a/lib/python3.9/site-packages/tornado/gen.py\u001b[0m in \u001b[0;36mrun\u001b[0;34m(self)\u001b[0m\n\u001b[1;32m    760\u001b[0m \u001b[0;34m\u001b[0m\u001b[0m\n\u001b[1;32m    761\u001b[0m                     \u001b[0;32mtry\u001b[0m\u001b[0;34m:\u001b[0m\u001b[0;34m\u001b[0m\u001b[0;34m\u001b[0m\u001b[0m\n\u001b[0;32m--> 762\u001b[0;31m                         \u001b[0mvalue\u001b[0m \u001b[0;34m=\u001b[0m \u001b[0mfuture\u001b[0m\u001b[0;34m.\u001b[0m\u001b[0mresult\u001b[0m\u001b[0;34m(\u001b[0m\u001b[0;34m)\u001b[0m\u001b[0;34m\u001b[0m\u001b[0;34m\u001b[0m\u001b[0m\n\u001b[0m\u001b[1;32m    763\u001b[0m                     \u001b[0;32mexcept\u001b[0m \u001b[0mException\u001b[0m\u001b[0;34m:\u001b[0m\u001b[0;34m\u001b[0m\u001b[0;34m\u001b[0m\u001b[0m\n\u001b[1;32m    764\u001b[0m                         \u001b[0mexc_info\u001b[0m \u001b[0;34m=\u001b[0m \u001b[0msys\u001b[0m\u001b[0;34m.\u001b[0m\u001b[0mexc_info\u001b[0m\u001b[0;34m(\u001b[0m\u001b[0;34m)\u001b[0m\u001b[0;34m\u001b[0m\u001b[0;34m\u001b[0m\u001b[0m\n",
      "\u001b[0;32m/opt/nesi/CS400_centos7_bdw/Python/3.9.5-gimkl-2020a/lib/python3.9/site-packages/distributed/client.py\u001b[0m in \u001b[0;36m_gather\u001b[0;34m(self, futures, errors, direct, local_worker)\u001b[0m\n\u001b[1;32m   1838\u001b[0m                             \u001b[0mexc\u001b[0m \u001b[0;34m=\u001b[0m \u001b[0mCancelledError\u001b[0m\u001b[0;34m(\u001b[0m\u001b[0mkey\u001b[0m\u001b[0;34m)\u001b[0m\u001b[0;34m\u001b[0m\u001b[0;34m\u001b[0m\u001b[0m\n\u001b[1;32m   1839\u001b[0m                         \u001b[0;32melse\u001b[0m\u001b[0;34m:\u001b[0m\u001b[0;34m\u001b[0m\u001b[0;34m\u001b[0m\u001b[0m\n\u001b[0;32m-> 1840\u001b[0;31m                             \u001b[0;32mraise\u001b[0m \u001b[0mexception\u001b[0m\u001b[0;34m.\u001b[0m\u001b[0mwith_traceback\u001b[0m\u001b[0;34m(\u001b[0m\u001b[0mtraceback\u001b[0m\u001b[0;34m)\u001b[0m\u001b[0;34m\u001b[0m\u001b[0;34m\u001b[0m\u001b[0m\n\u001b[0m\u001b[1;32m   1841\u001b[0m                         \u001b[0;32mraise\u001b[0m \u001b[0mexc\u001b[0m\u001b[0;34m\u001b[0m\u001b[0;34m\u001b[0m\u001b[0m\n\u001b[1;32m   1842\u001b[0m                     \u001b[0;32mif\u001b[0m \u001b[0merrors\u001b[0m \u001b[0;34m==\u001b[0m \u001b[0;34m\"skip\"\u001b[0m\u001b[0;34m:\u001b[0m\u001b[0;34m\u001b[0m\u001b[0;34m\u001b[0m\u001b[0m\n",
      "\u001b[0;31mKilledWorker\u001b[0m: (\"('bag-from-delayed-decode-filter-lambda-read-block-lambda-lambda-to_dataframe-0e69b25cf1593fd5e7905756c7ad2198', 455)\", <Worker 'tcp://10.65.4.42:37276', name: 347-1, memory: 0, processing: 10>)"
     ]
    }
   ],
   "source": [
    "# Save to a CSV file\n",
    "_ = ddf.to_csv('pmdcodesnippeterrors_csv1/pmdCodeSnippetErrors*.csv', sep=',', index=False)"
   ]
  },
  {
   "cell_type": "code",
   "execution_count": null,
   "id": "bb1787d8-3749-47ce-8138-62d414e33f5e",
   "metadata": {},
   "outputs": [],
   "source": []
  }
 ],
 "metadata": {
  "kernelspec": {
   "display_name": "Python 3.9.5 (gimkl-2020a)",
   "language": "python",
   "name": "python395-gimkl-2020a"
  },
  "language_info": {
   "codemirror_mode": {
    "name": "ipython",
    "version": 3
   },
   "file_extension": ".py",
   "mimetype": "text/x-python",
   "name": "python",
   "nbconvert_exporter": "python",
   "pygments_lexer": "ipython3",
   "version": "3.9.5"
  }
 },
 "nbformat": 4,
 "nbformat_minor": 5
}
