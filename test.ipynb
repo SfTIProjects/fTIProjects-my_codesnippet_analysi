{
 "cells": [
  {
   "cell_type": "code",
   "execution_count": 1,
   "id": "f7f4ccb5-1d92-4622-a471-40b735920801",
   "metadata": {},
   "outputs": [],
   "source": [
    "import time\n",
    "from datetime import timedelta\n",
    "\n",
    "import html\n",
    "import re\n",
    "\n",
    "import numpy as np\n",
    "import pandas as pd\n",
    "import xml.etree.ElementTree as et\n",
    "\n",
    "import dask\n",
    "import dask.dataframe as dd\n",
    "import dask.bag as bd\n",
    "from dask.distributed import Client\n",
    "from dask_jobqueue import SLURMCluster"
   ]
  },
  {
   "cell_type": "code",
   "execution_count": 2,
   "id": "804db691-e344-47cc-965c-c46bcf0e4063",
   "metadata": {},
   "outputs": [],
   "source": [
    "##########################################################\n",
    "#Step 1. Format 'pmd_rules_results.xml' from Linux terminal#\n",
    "##########################################################\n",
    "# -'pmd_rules_results.xml' is not properly formated\n",
    "# -We used linux format command to format 'pmd_rules_results.xml' to save it in 'pmd_rules_results_fmt.xml'\n",
    "# $  xmllint --format pmd_rules_results.xml > pmd_rules_results_fmt.xml\n",
    "##############################################################################\n",
    "#Step2. Remove some lines in 'test_flaws_rem_sm_tags_fmt' from Linux terminal#\n",
    "##############################################################################\n",
    "# remove lines 1 to 2 and the last line of the 'pmd_rules_results_fmt.xml'\n",
    "# MacOS $  sed -i '' '1,2d;$d' pmd_rules_results_fmt.xml \n",
    "# Linux  $  sed -i '1,2d;$d' pmd_rules_results_fmt.xml \n",
    "# blocksize breaks it into partitions\n",
    "#pmd_rules_result_bd = bd.read_text('pmd_rules_results_fmt.xml', blocksize='10MB')\n",
    "#Use '</violation>\\n' as linedelimiter\n",
    "pmd_rules_result_bd = bd.read_text('pmd_rules_results_fmt.xml', blocksize='5MB')\n",
    "#pmd_rules_result_bd = bd.read_text('pmd_rules_results_fmt.xml', blocksize=1e8, linedelimiter='</violation>\\n')\n",
    "#pmd_rules_result_bd = bd.read_text('pmd_rules_results_fmt.xml', blocksize=None, linedelimiter='</violation>\\n')\n",
    "#pmd_rules_result_bd = bd.read_text('pmd_rules_results.xml', linedelimiter='</violation>\\n')"
   ]
  },
  {
   "cell_type": "code",
   "execution_count": 3,
   "id": "ecf8ce3f-2087-49f5-add5-c0d0028fa2aa",
   "metadata": {},
   "outputs": [
    {
     "data": {
      "text/plain": [
       "dask.bag<bag-from-delayed, npartitions=1116>"
      ]
     },
     "execution_count": 3,
     "metadata": {},
     "output_type": "execute_result"
    }
   ],
   "source": [
    "pmd_rules_result_bd"
   ]
  },
  {
   "cell_type": "code",
   "execution_count": 4,
   "id": "fed49c3a-8d87-4b3b-953b-fcbb7f662eaa",
   "metadata": {},
   "outputs": [
    {
     "data": {
      "text/plain": [
       "('  <file name=\"/scale_wlg_nobackup/filesets/nobackup/uoo03396/SfTI_project_nobackup/SfTI_Projects/StackOverflow_project/my_codesnippet_analysis/codesnippets_java/Code_10000096_9914015_1959_0.java\">\\n',)"
      ]
     },
     "execution_count": 4,
     "metadata": {},
     "output_type": "execute_result"
    }
   ],
   "source": [
    "# look at the first row\n",
    "pmd_rules_result_bd.take(1)"
   ]
  },
  {
   "cell_type": "code",
   "execution_count": null,
   "id": "fc0e6a08-8aca-4c44-be1b-470f3c2414c2",
   "metadata": {},
   "outputs": [],
   "source": []
  },
  {
   "cell_type": "markdown",
   "id": "b73c4cb7-54db-413c-b511-d902aa644306",
   "metadata": {
    "tags": []
   },
   "source": [
    "## Start a Dask cluster using SLURM jobs as workers.\n",
    "\n",
    "There are a couple of things we need to configure here:\n",
    "\n",
    "disabling the mechanism to write on disk when workers run out of memory,\n",
    "memory, CPUs, maximum time and number of workers per SLURM job,\n",
    "dask folders for log files and workers data.\n",
    "We recommend putting the log folder and workers data folders in your /nesi/nobackup/<project_code> folder, most indicated for temporary files (see NeSI File Systems and Quotas).\n",
    "\n",
    "All of these options can be set in configuration files, see Dask configuration and Dask jobqueue configuration for more information."
   ]
  },
  {
   "cell_type": "code",
   "execution_count": 5,
   "id": "773c4cd3-c33e-418a-bdec-bf1fcd82077d",
   "metadata": {},
   "outputs": [],
   "source": [
    "#http://jobqueue.dask.org/en/latest/generated/dask_jobqueue.SLURMCluster.html\n",
    "dask.config.set(\n",
    "    {\n",
    "        \"distributed.worker.memory.target\": False,  # avoid spilling to disk\n",
    "        \"distributed.worker.memory.spill\": False,  # avoid spilling to disk\n",
    "    }\n",
    ")\n",
    "cluster = SLURMCluster(\n",
    "    cores=10, #cores=24, # we set each job to have 1 Worker, each using 10 cores (threads) and 8 GB of memory\n",
    "    processes=2,\n",
    "    memory=\"8GiB\",\n",
    "    walltime=\"0-00:30\",# walltime=\"0-00:50\",\n",
    "    log_directory=\"../dask/logs\",  # folder for SLURM logs for each worker\n",
    "    local_directory=\"../dask\",  # folder for workers data\n",
    ")"
   ]
  },
  {
   "cell_type": "code",
   "execution_count": 6,
   "id": "e29f24fb-1cd3-47c5-8b39-37591d172a6f",
   "metadata": {},
   "outputs": [
    {
     "data": {
      "text/html": [
       "<table style=\"border: 2px solid white;\">\n",
       "<tr>\n",
       "<td style=\"vertical-align: top; border: 0px solid white\">\n",
       "<h3 style=\"text-align: left;\">Client</h3>\n",
       "<ul style=\"text-align: left; list-style: none; margin: 0; padding: 0;\">\n",
       "  <li><b>Scheduler: </b>tcp://192.168.94.167:45211</li>\n",
       "  <li><b>Dashboard: </b><a href='http://192.168.94.167:8787/status' target='_blank'>http://192.168.94.167:8787/status</a></li>\n",
       "</ul>\n",
       "</td>\n",
       "<td style=\"vertical-align: top; border: 0px solid white\">\n",
       "<h3 style=\"text-align: left;\">Cluster</h3>\n",
       "<ul style=\"text-align: left; list-style:none; margin: 0; padding: 0;\">\n",
       "  <li><b>Workers: </b>0</li>\n",
       "  <li><b>Cores: </b>0</li>\n",
       "  <li><b>Memory: </b>0 B</li>\n",
       "</ul>\n",
       "</td>\n",
       "</tr>\n",
       "</table>"
      ],
      "text/plain": [
       "<Client: 'tcp://192.168.94.167:45211' processes=0 threads=0, memory=0 B>"
      ]
     },
     "execution_count": 6,
     "metadata": {},
     "output_type": "execute_result"
    }
   ],
   "source": [
    "#cluster.adapt(minimum_jobs=20, maximum_jobs=200)\n",
    "cluster.adapt(minimum_jobs=10, maximum_jobs=200)\n",
    "client = Client(cluster)\n",
    "client"
   ]
  },
  {
   "cell_type": "markdown",
   "id": "b7681a08-eebf-4093-ba16-0fa94ae8f572",
   "metadata": {},
   "source": [
    "## Convert Bags to Dataframes"
   ]
  },
  {
   "cell_type": "code",
   "execution_count": 7,
   "id": "56448e2f-603d-41a3-b566-6215090b90cb",
   "metadata": {},
   "outputs": [],
   "source": [
    "df = pmd_rules_result_bd.to_dataframe()"
   ]
  },
  {
   "cell_type": "code",
   "execution_count": 8,
   "id": "d2e866fd-99a4-4ace-8de2-8b88c5b5392b",
   "metadata": {},
   "outputs": [
    {
     "data": {
      "text/html": [
       "<div><strong>Dask DataFrame Structure:</strong></div>\n",
       "<div>\n",
       "<style scoped>\n",
       "    .dataframe tbody tr th:only-of-type {\n",
       "        vertical-align: middle;\n",
       "    }\n",
       "\n",
       "    .dataframe tbody tr th {\n",
       "        vertical-align: top;\n",
       "    }\n",
       "\n",
       "    .dataframe thead th {\n",
       "        text-align: right;\n",
       "    }\n",
       "</style>\n",
       "<table border=\"1\" class=\"dataframe\">\n",
       "  <thead>\n",
       "    <tr style=\"text-align: right;\">\n",
       "      <th></th>\n",
       "      <th>0</th>\n",
       "    </tr>\n",
       "    <tr>\n",
       "      <th>npartitions=1116</th>\n",
       "      <th></th>\n",
       "    </tr>\n",
       "  </thead>\n",
       "  <tbody>\n",
       "    <tr>\n",
       "      <th></th>\n",
       "      <td>object</td>\n",
       "    </tr>\n",
       "    <tr>\n",
       "      <th></th>\n",
       "      <td>...</td>\n",
       "    </tr>\n",
       "    <tr>\n",
       "      <th>...</th>\n",
       "      <td>...</td>\n",
       "    </tr>\n",
       "    <tr>\n",
       "      <th></th>\n",
       "      <td>...</td>\n",
       "    </tr>\n",
       "    <tr>\n",
       "      <th></th>\n",
       "      <td>...</td>\n",
       "    </tr>\n",
       "  </tbody>\n",
       "</table>\n",
       "</div>\n",
       "<div>Dask Name: to_dataframe, 3348 tasks</div>"
      ],
      "text/plain": [
       "Dask DataFrame Structure:\n",
       "                       0\n",
       "npartitions=1116        \n",
       "                  object\n",
       "                     ...\n",
       "...                  ...\n",
       "                     ...\n",
       "                     ...\n",
       "Dask Name: to_dataframe, 3348 tasks"
      ]
     },
     "execution_count": 8,
     "metadata": {},
     "output_type": "execute_result"
    }
   ],
   "source": [
    "# View Stucture\n",
    "df"
   ]
  },
  {
   "cell_type": "code",
   "execution_count": 9,
   "id": "12252bff-93ac-4eac-a0fc-180dca1a6db2",
   "metadata": {},
   "outputs": [
    {
     "data": {
      "text/html": [
       "<div>\n",
       "<style scoped>\n",
       "    .dataframe tbody tr th:only-of-type {\n",
       "        vertical-align: middle;\n",
       "    }\n",
       "\n",
       "    .dataframe tbody tr th {\n",
       "        vertical-align: top;\n",
       "    }\n",
       "\n",
       "    .dataframe thead th {\n",
       "        text-align: right;\n",
       "    }\n",
       "</style>\n",
       "<table border=\"1\" class=\"dataframe\">\n",
       "  <thead>\n",
       "    <tr style=\"text-align: right;\">\n",
       "      <th></th>\n",
       "      <th>0</th>\n",
       "    </tr>\n",
       "  </thead>\n",
       "  <tbody>\n",
       "    <tr>\n",
       "      <th>0</th>\n",
       "      <td>Do not start a literal by 0 unless its an octa...</td>\n",
       "    </tr>\n",
       "    <tr>\n",
       "      <th>1</th>\n",
       "      <td>&lt;/violation&gt;\\n</td>\n",
       "    </tr>\n",
       "    <tr>\n",
       "      <th>2</th>\n",
       "      <td>&lt;violation beginline=\"2\" endline=\"2\" begin...</td>\n",
       "    </tr>\n",
       "    <tr>\n",
       "      <th>3</th>\n",
       "      <td>Do not start a literal by 0 unless its an octa...</td>\n",
       "    </tr>\n",
       "    <tr>\n",
       "      <th>4</th>\n",
       "      <td>&lt;/violation&gt;\\n</td>\n",
       "    </tr>\n",
       "    <tr>\n",
       "      <th>...</th>\n",
       "      <td>...</td>\n",
       "    </tr>\n",
       "    <tr>\n",
       "      <th>39822</th>\n",
       "      <td>&lt;/violation&gt;\\n</td>\n",
       "    </tr>\n",
       "    <tr>\n",
       "      <th>39823</th>\n",
       "      <td>&lt;violation beginline=\"3\" endline=\"6\" begin...</td>\n",
       "    </tr>\n",
       "    <tr>\n",
       "      <th>39824</th>\n",
       "      <td>Do not use non-final non-private static fields\\n</td>\n",
       "    </tr>\n",
       "    <tr>\n",
       "      <th>39825</th>\n",
       "      <td>&lt;/violation&gt;\\n</td>\n",
       "    </tr>\n",
       "    <tr>\n",
       "      <th>39826</th>\n",
       "      <td>&lt;violation beginline=\"8\" endline=\"8\" begin...</td>\n",
       "    </tr>\n",
       "  </tbody>\n",
       "</table>\n",
       "<p>39827 rows × 1 columns</p>\n",
       "</div>"
      ],
      "text/plain": [
       "                                                       0\n",
       "0      Do not start a literal by 0 unless its an octa...\n",
       "1                                         </violation>\\n\n",
       "2          <violation beginline=\"2\" endline=\"2\" begin...\n",
       "3      Do not start a literal by 0 unless its an octa...\n",
       "4                                         </violation>\\n\n",
       "...                                                  ...\n",
       "39822                                     </violation>\\n\n",
       "39823      <violation beginline=\"3\" endline=\"6\" begin...\n",
       "39824   Do not use non-final non-private static fields\\n\n",
       "39825                                     </violation>\\n\n",
       "39826      <violation beginline=\"8\" endline=\"8\" begin...\n",
       "\n",
       "[39827 rows x 1 columns]"
      ]
     },
     "execution_count": 9,
     "metadata": {},
     "output_type": "execute_result"
    }
   ],
   "source": [
    "df.partitions[1].compute()"
   ]
  },
  {
   "cell_type": "code",
   "execution_count": 10,
   "id": "e0cd2641-173d-42b9-9db3-0c0c346a287d",
   "metadata": {},
   "outputs": [
    {
     "data": {
      "text/plain": [
       "RangeIndex(start=0, stop=1, step=1)"
      ]
     },
     "execution_count": 10,
     "metadata": {},
     "output_type": "execute_result"
    }
   ],
   "source": [
    "df.columns"
   ]
  },
  {
   "cell_type": "code",
   "execution_count": 11,
   "id": "4a7f35d8-3bae-48fb-9d5b-41fe0f4a9e24",
   "metadata": {},
   "outputs": [
    {
     "data": {
      "text/plain": [
       "Dask Index Structure:\n",
       "npartitions=1116\n",
       "    int64\n",
       "      ...\n",
       "    ...  \n",
       "      ...\n",
       "      ...\n",
       "dtype: int64\n",
       "Dask Name: to_dataframe, 4464 tasks"
      ]
     },
     "execution_count": 11,
     "metadata": {},
     "output_type": "execute_result"
    }
   ],
   "source": [
    "#Index will not be particularly meaningful. Use reindex afterwards if necessary.\n",
    "df.index"
   ]
  },
  {
   "cell_type": "code",
   "execution_count": 12,
   "id": "594ace34-e8d1-466f-b1c7-c210f1effba4",
   "metadata": {},
   "outputs": [
    {
     "data": {
      "text/plain": [
       "0    object\n",
       "dtype: object"
      ]
     },
     "execution_count": 12,
     "metadata": {},
     "output_type": "execute_result"
    }
   ],
   "source": [
    "df.dtypes"
   ]
  },
  {
   "cell_type": "code",
   "execution_count": 13,
   "id": "8e5f4caf-f516-43e0-babb-01b4a9575546",
   "metadata": {},
   "outputs": [
    {
     "data": {
      "text/plain": [
       "1116"
      ]
     },
     "execution_count": 13,
     "metadata": {},
     "output_type": "execute_result"
    }
   ],
   "source": [
    "df.npartitions"
   ]
  },
  {
   "cell_type": "code",
   "execution_count": 14,
   "id": "b4e14017-f76b-4bf2-9379-499f5b56e25c",
   "metadata": {},
   "outputs": [
    {
     "data": {
      "text/plain": [
       "57390191"
      ]
     },
     "execution_count": 14,
     "metadata": {},
     "output_type": "execute_result"
    },
    {
     "name": "stderr",
     "output_type": "stream",
     "text": [
      "distributed.utils - ERROR - int() argument must be a string, a bytes-like object or a number, not 'NoneType'\n",
      "Traceback (most recent call last):\n",
      "  File \"/opt/nesi/CS400_centos7_bdw/Python/3.9.5-gimkl-2020a/lib/python3.9/site-packages/distributed/utils.py\", line 668, in log_errors\n",
      "    yield\n",
      "  File \"/opt/nesi/CS400_centos7_bdw/Python/3.9.5-gimkl-2020a/lib/python3.9/site-packages/distributed/dashboard/components/scheduler.py\", line 1112, in update\n",
      "    cpu = [int(ws.metrics[\"cpu\"]) for ws in workers]\n",
      "  File \"/opt/nesi/CS400_centos7_bdw/Python/3.9.5-gimkl-2020a/lib/python3.9/site-packages/distributed/dashboard/components/scheduler.py\", line 1112, in <listcomp>\n",
      "    cpu = [int(ws.metrics[\"cpu\"]) for ws in workers]\n",
      "TypeError: int() argument must be a string, a bytes-like object or a number, not 'NoneType'\n",
      "distributed.utils - ERROR - int() argument must be a string, a bytes-like object or a number, not 'NoneType'\n",
      "Traceback (most recent call last):\n",
      "  File \"/opt/nesi/CS400_centos7_bdw/Python/3.9.5-gimkl-2020a/lib/python3.9/site-packages/distributed/utils.py\", line 668, in log_errors\n",
      "    yield\n",
      "  File \"/opt/nesi/CS400_centos7_bdw/Python/3.9.5-gimkl-2020a/lib/python3.9/site-packages/distributed/dashboard/components/scheduler.py\", line 2279, in status_doc\n",
      "    processing.update()\n",
      "  File \"/opt/nesi/CS400_centos7_bdw/Python/3.9.5-gimkl-2020a/lib/python3.9/site-packages/bokeh/core/property/validation.py\", line 93, in func\n",
      "    return input_function(*args, **kwargs)\n",
      "  File \"/opt/nesi/CS400_centos7_bdw/Python/3.9.5-gimkl-2020a/lib/python3.9/site-packages/distributed/dashboard/components/scheduler.py\", line 1112, in update\n",
      "    cpu = [int(ws.metrics[\"cpu\"]) for ws in workers]\n",
      "  File \"/opt/nesi/CS400_centos7_bdw/Python/3.9.5-gimkl-2020a/lib/python3.9/site-packages/distributed/dashboard/components/scheduler.py\", line 1112, in <listcomp>\n",
      "    cpu = [int(ws.metrics[\"cpu\"]) for ws in workers]\n",
      "TypeError: int() argument must be a string, a bytes-like object or a number, not 'NoneType'\n",
      "tornado.application - ERROR - Uncaught exception GET /status (127.0.0.1)\n",
      "HTTPServerRequest(protocol='http', host='jupyter.nesi.org.nz', method='GET', uri='/status', version='HTTP/1.1', remote_ip='127.0.0.1')\n",
      "Traceback (most recent call last):\n",
      "  File \"/opt/nesi/CS400_centos7_bdw/Python/3.9.5-gimkl-2020a/lib/python3.9/site-packages/tornado/web.py\", line 1704, in _execute\n",
      "    result = await result\n",
      "  File \"/opt/nesi/CS400_centos7_bdw/Python/3.9.5-gimkl-2020a/lib/python3.9/site-packages/bokeh/server/views/doc_handler.py\", line 52, in get\n",
      "    session = await self.get_session()\n",
      "  File \"/opt/nesi/CS400_centos7_bdw/Python/3.9.5-gimkl-2020a/lib/python3.9/site-packages/bokeh/server/views/session_handler.py\", line 120, in get_session\n",
      "    session = await self.application_context.create_session_if_needed(session_id, self.request, token)\n",
      "  File \"/opt/nesi/CS400_centos7_bdw/Python/3.9.5-gimkl-2020a/lib/python3.9/site-packages/bokeh/server/contexts.py\", line 218, in create_session_if_needed\n",
      "    self._application.initialize_document(doc)\n",
      "  File \"/opt/nesi/CS400_centos7_bdw/Python/3.9.5-gimkl-2020a/lib/python3.9/site-packages/bokeh/application/application.py\", line 171, in initialize_document\n",
      "    h.modify_document(doc)\n",
      "  File \"/opt/nesi/CS400_centos7_bdw/Python/3.9.5-gimkl-2020a/lib/python3.9/site-packages/bokeh/application/handlers/function.py\", line 132, in modify_document\n",
      "    self._func(doc)\n",
      "  File \"/opt/nesi/CS400_centos7_bdw/Python/3.9.5-gimkl-2020a/lib/python3.9/site-packages/distributed/dashboard/components/scheduler.py\", line 2279, in status_doc\n",
      "    processing.update()\n",
      "  File \"/opt/nesi/CS400_centos7_bdw/Python/3.9.5-gimkl-2020a/lib/python3.9/site-packages/bokeh/core/property/validation.py\", line 93, in func\n",
      "    return input_function(*args, **kwargs)\n",
      "  File \"/opt/nesi/CS400_centos7_bdw/Python/3.9.5-gimkl-2020a/lib/python3.9/site-packages/distributed/dashboard/components/scheduler.py\", line 1112, in update\n",
      "    cpu = [int(ws.metrics[\"cpu\"]) for ws in workers]\n",
      "  File \"/opt/nesi/CS400_centos7_bdw/Python/3.9.5-gimkl-2020a/lib/python3.9/site-packages/distributed/dashboard/components/scheduler.py\", line 1112, in <listcomp>\n",
      "    cpu = [int(ws.metrics[\"cpu\"]) for ws in workers]\n",
      "TypeError: int() argument must be a string, a bytes-like object or a number, not 'NoneType'\n",
      "distributed.utils - ERROR - int() argument must be a string, a bytes-like object or a number, not 'NoneType'\n",
      "Traceback (most recent call last):\n",
      "  File \"/opt/nesi/CS400_centos7_bdw/Python/3.9.5-gimkl-2020a/lib/python3.9/site-packages/distributed/utils.py\", line 668, in log_errors\n",
      "    yield\n",
      "  File \"/opt/nesi/CS400_centos7_bdw/Python/3.9.5-gimkl-2020a/lib/python3.9/site-packages/distributed/dashboard/components/scheduler.py\", line 1112, in update\n",
      "    cpu = [int(ws.metrics[\"cpu\"]) for ws in workers]\n",
      "  File \"/opt/nesi/CS400_centos7_bdw/Python/3.9.5-gimkl-2020a/lib/python3.9/site-packages/distributed/dashboard/components/scheduler.py\", line 1112, in <listcomp>\n",
      "    cpu = [int(ws.metrics[\"cpu\"]) for ws in workers]\n",
      "TypeError: int() argument must be a string, a bytes-like object or a number, not 'NoneType'\n",
      "distributed.utils - ERROR - int() argument must be a string, a bytes-like object or a number, not 'NoneType'\n",
      "Traceback (most recent call last):\n",
      "  File \"/opt/nesi/CS400_centos7_bdw/Python/3.9.5-gimkl-2020a/lib/python3.9/site-packages/distributed/utils.py\", line 668, in log_errors\n",
      "    yield\n",
      "  File \"/opt/nesi/CS400_centos7_bdw/Python/3.9.5-gimkl-2020a/lib/python3.9/site-packages/distributed/dashboard/components/scheduler.py\", line 2279, in status_doc\n",
      "    processing.update()\n",
      "  File \"/opt/nesi/CS400_centos7_bdw/Python/3.9.5-gimkl-2020a/lib/python3.9/site-packages/bokeh/core/property/validation.py\", line 93, in func\n",
      "    return input_function(*args, **kwargs)\n",
      "  File \"/opt/nesi/CS400_centos7_bdw/Python/3.9.5-gimkl-2020a/lib/python3.9/site-packages/distributed/dashboard/components/scheduler.py\", line 1112, in update\n",
      "    cpu = [int(ws.metrics[\"cpu\"]) for ws in workers]\n",
      "  File \"/opt/nesi/CS400_centos7_bdw/Python/3.9.5-gimkl-2020a/lib/python3.9/site-packages/distributed/dashboard/components/scheduler.py\", line 1112, in <listcomp>\n",
      "    cpu = [int(ws.metrics[\"cpu\"]) for ws in workers]\n",
      "TypeError: int() argument must be a string, a bytes-like object or a number, not 'NoneType'\n",
      "tornado.application - ERROR - Uncaught exception GET /status (127.0.0.1)\n",
      "HTTPServerRequest(protocol='http', host='jupyter.nesi.org.nz', method='GET', uri='/status', version='HTTP/1.1', remote_ip='127.0.0.1')\n",
      "Traceback (most recent call last):\n",
      "  File \"/opt/nesi/CS400_centos7_bdw/Python/3.9.5-gimkl-2020a/lib/python3.9/site-packages/tornado/web.py\", line 1704, in _execute\n",
      "    result = await result\n",
      "  File \"/opt/nesi/CS400_centos7_bdw/Python/3.9.5-gimkl-2020a/lib/python3.9/site-packages/bokeh/server/views/doc_handler.py\", line 52, in get\n",
      "    session = await self.get_session()\n",
      "  File \"/opt/nesi/CS400_centos7_bdw/Python/3.9.5-gimkl-2020a/lib/python3.9/site-packages/bokeh/server/views/session_handler.py\", line 120, in get_session\n",
      "    session = await self.application_context.create_session_if_needed(session_id, self.request, token)\n",
      "  File \"/opt/nesi/CS400_centos7_bdw/Python/3.9.5-gimkl-2020a/lib/python3.9/site-packages/bokeh/server/contexts.py\", line 218, in create_session_if_needed\n",
      "    self._application.initialize_document(doc)\n",
      "  File \"/opt/nesi/CS400_centos7_bdw/Python/3.9.5-gimkl-2020a/lib/python3.9/site-packages/bokeh/application/application.py\", line 171, in initialize_document\n",
      "    h.modify_document(doc)\n",
      "  File \"/opt/nesi/CS400_centos7_bdw/Python/3.9.5-gimkl-2020a/lib/python3.9/site-packages/bokeh/application/handlers/function.py\", line 132, in modify_document\n",
      "    self._func(doc)\n",
      "  File \"/opt/nesi/CS400_centos7_bdw/Python/3.9.5-gimkl-2020a/lib/python3.9/site-packages/distributed/dashboard/components/scheduler.py\", line 2279, in status_doc\n",
      "    processing.update()\n",
      "  File \"/opt/nesi/CS400_centos7_bdw/Python/3.9.5-gimkl-2020a/lib/python3.9/site-packages/bokeh/core/property/validation.py\", line 93, in func\n",
      "    return input_function(*args, **kwargs)\n",
      "  File \"/opt/nesi/CS400_centos7_bdw/Python/3.9.5-gimkl-2020a/lib/python3.9/site-packages/distributed/dashboard/components/scheduler.py\", line 1112, in update\n",
      "    cpu = [int(ws.metrics[\"cpu\"]) for ws in workers]\n",
      "  File \"/opt/nesi/CS400_centos7_bdw/Python/3.9.5-gimkl-2020a/lib/python3.9/site-packages/distributed/dashboard/components/scheduler.py\", line 1112, in <listcomp>\n",
      "    cpu = [int(ws.metrics[\"cpu\"]) for ws in workers]\n",
      "TypeError: int() argument must be a string, a bytes-like object or a number, not 'NoneType'\n"
     ]
    }
   ],
   "source": [
    "df.shape[0].compute()"
   ]
  },
  {
   "cell_type": "code",
   "execution_count": null,
   "id": "3e302f9a-a79d-4d86-9aa0-dbe2aafa8c06",
   "metadata": {},
   "outputs": [],
   "source": []
  }
 ],
 "metadata": {
  "kernelspec": {
   "display_name": "Python 3.9.5 (gimkl-2020a)",
   "language": "python",
   "name": "python395-gimkl-2020a"
  },
  "language_info": {
   "codemirror_mode": {
    "name": "ipython",
    "version": 3
   },
   "file_extension": ".py",
   "mimetype": "text/x-python",
   "name": "python",
   "nbconvert_exporter": "python",
   "pygments_lexer": "ipython3",
   "version": "3.9.5"
  }
 },
 "nbformat": 4,
 "nbformat_minor": 5
}
